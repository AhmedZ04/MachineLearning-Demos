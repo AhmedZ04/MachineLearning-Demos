{
  "cells": [
    {
      "cell_type": "markdown",
      "metadata": {
        "id": "view-in-github",
        "colab_type": "text"
      },
      "source": [
        "<a href=\"https://colab.research.google.com/github/AhmedZ04/MachineLearning-Demos/blob/main/Copy_of_ass4.ipynb\" target=\"_parent\"><img src=\"https://colab.research.google.com/assets/colab-badge.svg\" alt=\"Open In Colab\"/></a>"
      ]
    },
    {
      "cell_type": "code",
      "execution_count": null,
      "metadata": {
        "id": "x8xSS1aA64MZ"
      },
      "outputs": [],
      "source": [
        "# Install otter-grader\n",
        "%pip install -q otter-grader\n",
        "\n",
        "# Download the tests directory from the course website (this will be used by otter-grader)\n",
        "!wget -q https://vladtkachuk4.github.io/machinelearning1/assignments/Fall2024/ass4/tests.zip -O tests.zip\n",
        "\n",
        "# Unzip the tests directory, forcing overwriting of existing files\n",
        "!unzip -qo tests.zip -d ."
      ]
    },
    {
      "cell_type": "code",
      "execution_count": null,
      "metadata": {
        "deletable": false,
        "editable": false,
        "id": "HK_Bcc8q64Ma"
      },
      "outputs": [],
      "source": [
        "# Initialize Otter\n",
        "import otter\n",
        "grader = otter.Notebook(colab=True)"
      ]
    },
    {
      "cell_type": "markdown",
      "metadata": {
        "id": "148Fxs2z64Ma"
      },
      "source": [
        "# CMPUT 267 - Machine Learning I\n",
        "# Assignment 4 - Optimization for Regression"
      ]
    },
    {
      "cell_type": "markdown",
      "metadata": {
        "id": "1S6iyNQ064Mb"
      },
      "source": [
        "## Assignment Instructions and Information\n",
        "For this assignment, we will be using Google Colab. If you are new to Google Colab, you can find a brief introduction at the following link: [Google Colab Introduction](https://colab.research.google.com/notebooks/intro.ipynb).\n",
        "\n",
        "**Important:** Before you start working on this notebook, make sure to save a copy to your own Google Drive. To do this, go to `File` -> `Save a copy in Drive`.\n",
        "\n",
        "If you do not save a copy, you will not be able to save any changes you make.\n"
      ]
    },
    {
      "cell_type": "markdown",
      "metadata": {
        "id": "dVSbSyyM64Mb"
      },
      "source": [
        "### Submitting your assignment\n",
        "Once you have completed the assignment, please submit your work as a `.ipynb` file on eClass in the \"Assignment 4\" section. To download your Colab notebook in the required format, follow these steps:\n",
        "\n",
        "1. Save your notebook to ensure all changes are preserved.\n",
        "2. Navigate to `File` -> `Download` -> `Download .ipynb`.\n",
        "\n",
        "Make sure to save your notebook before downloading it!"
      ]
    },
    {
      "cell_type": "markdown",
      "metadata": {
        "id": "7kp6lSue64Mc"
      },
      "source": [
        "### Questions and Autograding\n",
        "\n",
        "Each section contains questions for you to solve, marked with the subsection heading \"Question X.Y\" (ex: the first problem is \"Question 2.1\").\n",
        "\n",
        "For each question your solution must go within the following designated code block:\n",
        "\n",
        "```python\n",
        "### YOUR CODE HERE ###\n",
        "\n",
        "######################\n",
        "```\n",
        "\n",
        "All questions will be autograded using [Otter-Grader](https://otter-grader.readthedocs.io/en/latest/).\n",
        "The first two code cells in this notebook install the Otter-Grader package and download the test cases.\n",
        "You should run these cells, otherwise the autograder will not work.\n",
        "\n",
        "At the end of each question there is code that runs the autograder. For example, in question Question 2.1 the code `grader.check(\"q2.1\")` runs the autograder.\n",
        "If you pass all the test cases for a question (ex: Question 2.1), you will see the following output:\n",
        "\n",
        "**q2_1** passed!\n",
        "\n",
        "If you do not pass all the test cases for a question, you will see which test cases you did not pass along with their corresponding error messages.\n",
        "\n",
        "There are both public and private test cases. You only have access to the public test cases. This means that if you pass all the test cases in this notebook, you have passed all the public test cases.\n",
        "\n",
        "After you submit the assignment, we will also run the private test cases. The public test cases account for 50% of the total mark, while the private test cases make up the remaining 50%. Therefore, if you pass all the test cases in the notebook, you are guaranteed a mark of at least 50%.\n",
        "\n",
        "After each question description, the number of points (marks) the question is worth is indicated.\n",
        "This is the total number of points for both the public and private test cases.\n",
        "For each question, the public test cases are worth 50% of the points.\n"
      ]
    },
    {
      "cell_type": "markdown",
      "metadata": {
        "id": "8IH_C7HD64Mc"
      },
      "source": [
        "## Introduction\n",
        "\n",
        "Welcome to Assignment 4! In this assignment, you will explore optimization techniques in the context of linear regression.\n",
        "You will be implementing various optimization algorithms as described in Chapter 6 of the [course notes](https://vladtkachuk4.github.io/machinelearning1/notes.pdf).\n",
        "\n",
        "This assignment will guide you through the following sections:\n",
        "\n",
        "1. [Understanding the Dataset](#part-1-understanding-the-dataset)\n",
        "2. [Closed Form Solution](#part-2-closed-form-solution)\n",
        "3. [Batch Gradient Descent](#part-3-batch-gradient-descent)\n",
        "6. [Polynomial Regression](#part-4-polynomial-regression)\n",
        "5. [Mini-Batch Gradient Descent](#part-5-mini-batch-gradient-descent)\n",
        "4. [Step Sizes](#part-6-step-sizes)\n",
        "\n",
        "You can quickly navigate to each section by opening the table of contents on the left side of the screen.\n",
        "\n",
        "In class we learned that Empirical Risk Minimization (ERM) is a Learner that has two steps:\n",
        "1. Estimation: $\\hat L(f)$ is an estimate of the true loss $L(f)$ for each $f \\in \\mathcal{F}$.\n",
        "2. Optimization: Find $f \\in \\mathcal{F}$ that minimizes $\\hat L(f)$.\n",
        "\n",
        "In this assignment, we will focus on implementing the ERM learner using various optimization techniques.\n",
        "\n",
        "We will **not** discuss how to evaluate the learner.\n",
        "In particular, recall that our objective in supervised learning was to minimize the expected loss $L(f)$, which captures how well the learner generalizes to unseen data.\n",
        "In this assignment we will assume that $\\hat L(f)$ is a good estimate of $L(f)$, and we will focus on the optimization step.\n",
        "How well the `predictor` $\\hat f$ output by our learner does at predicting unseen data will be the focus of the next coding assignment.\n",
        "\n",
        "Let's get started!\n"
      ]
    },
    {
      "cell_type": "markdown",
      "metadata": {
        "id": "PjVuEbrk64Mc"
      },
      "source": [
        "# Part 1: Understanding the Dataset\n",
        "\n",
        "In this assignment, we will use the **California Housing Prices dataset**, which is a classic dataset often used for linear regression tasks. It contains information about various features of houses in California, such as median income (in tens of thousands of dollars), average number of rooms, and the location of the houses, among others, with the targets (labels) being the median house price.\n",
        "\n",
        "The dataset is from the **1990 California census**.\n",
        "\n",
        "Let's begin by loading the dataset and taking a closer look at what it contains."
      ]
    },
    {
      "cell_type": "markdown",
      "metadata": {
        "id": "SwX3ftOf64Md"
      },
      "source": [
        "### Load the Dataset\n",
        "\n",
        "First, lets import all the necessary libraries for this assignment."
      ]
    },
    {
      "cell_type": "code",
      "execution_count": null,
      "metadata": {
        "id": "IT5cIFP_64Md"
      },
      "outputs": [],
      "source": [
        "# Import necessary libraries\n",
        "import numpy as np\n",
        "import pandas as pd\n",
        "import matplotlib.pyplot as plt\n",
        "from sklearn.datasets import fetch_california_housing\n",
        "from mpl_toolkits.mplot3d import Axes3D\n",
        "from ipywidgets import interactive_output\n",
        "import ipywidgets as widgets\n",
        "from IPython.display import display, clear_output\n",
        "\n",
        "# Set a fixed random seed for reproducibility\n",
        "random_seed = 42"
      ]
    },
    {
      "cell_type": "markdown",
      "metadata": {
        "id": "NcrXOgGG64Md"
      },
      "source": [
        "We will use the `fetch_california_housing` dataset from the `sklearn.datasets` module.\n",
        "Let's load the dataset and examine the features for the first few datapoints.\n",
        "You should see that the dataset contains 8 features and a target value (price)."
      ]
    },
    {
      "cell_type": "code",
      "execution_count": null,
      "metadata": {
        "id": "hsaVA9K-64Me",
        "colab": {
          "base_uri": "https://localhost:8080/",
          "height": 206
        },
        "outputId": "e9183980-f658-48bf-980b-4adf414079a1"
      },
      "outputs": [
        {
          "output_type": "execute_result",
          "data": {
            "text/plain": [
              "   MedInc  HouseAge  AveRooms  AveBedrms  Population  AveOccup  Latitude  \\\n",
              "0  8.3252      41.0  6.984127   1.023810       322.0  2.555556     37.88   \n",
              "1  8.3014      21.0  6.238137   0.971880      2401.0  2.109842     37.86   \n",
              "2  7.2574      52.0  8.288136   1.073446       496.0  2.802260     37.85   \n",
              "3  5.6431      52.0  5.817352   1.073059       558.0  2.547945     37.85   \n",
              "4  3.8462      52.0  6.281853   1.081081       565.0  2.181467     37.85   \n",
              "\n",
              "   Longitude  Price  \n",
              "0    -122.23  4.526  \n",
              "1    -122.22  3.585  \n",
              "2    -122.24  3.521  \n",
              "3    -122.25  3.413  \n",
              "4    -122.25  3.422  "
            ],
            "text/html": [
              "\n",
              "  <div id=\"df-a5404525-582b-47cd-927c-30713c3b9af9\" class=\"colab-df-container\">\n",
              "    <div>\n",
              "<style scoped>\n",
              "    .dataframe tbody tr th:only-of-type {\n",
              "        vertical-align: middle;\n",
              "    }\n",
              "\n",
              "    .dataframe tbody tr th {\n",
              "        vertical-align: top;\n",
              "    }\n",
              "\n",
              "    .dataframe thead th {\n",
              "        text-align: right;\n",
              "    }\n",
              "</style>\n",
              "<table border=\"1\" class=\"dataframe\">\n",
              "  <thead>\n",
              "    <tr style=\"text-align: right;\">\n",
              "      <th></th>\n",
              "      <th>MedInc</th>\n",
              "      <th>HouseAge</th>\n",
              "      <th>AveRooms</th>\n",
              "      <th>AveBedrms</th>\n",
              "      <th>Population</th>\n",
              "      <th>AveOccup</th>\n",
              "      <th>Latitude</th>\n",
              "      <th>Longitude</th>\n",
              "      <th>Price</th>\n",
              "    </tr>\n",
              "  </thead>\n",
              "  <tbody>\n",
              "    <tr>\n",
              "      <th>0</th>\n",
              "      <td>8.3252</td>\n",
              "      <td>41.0</td>\n",
              "      <td>6.984127</td>\n",
              "      <td>1.023810</td>\n",
              "      <td>322.0</td>\n",
              "      <td>2.555556</td>\n",
              "      <td>37.88</td>\n",
              "      <td>-122.23</td>\n",
              "      <td>4.526</td>\n",
              "    </tr>\n",
              "    <tr>\n",
              "      <th>1</th>\n",
              "      <td>8.3014</td>\n",
              "      <td>21.0</td>\n",
              "      <td>6.238137</td>\n",
              "      <td>0.971880</td>\n",
              "      <td>2401.0</td>\n",
              "      <td>2.109842</td>\n",
              "      <td>37.86</td>\n",
              "      <td>-122.22</td>\n",
              "      <td>3.585</td>\n",
              "    </tr>\n",
              "    <tr>\n",
              "      <th>2</th>\n",
              "      <td>7.2574</td>\n",
              "      <td>52.0</td>\n",
              "      <td>8.288136</td>\n",
              "      <td>1.073446</td>\n",
              "      <td>496.0</td>\n",
              "      <td>2.802260</td>\n",
              "      <td>37.85</td>\n",
              "      <td>-122.24</td>\n",
              "      <td>3.521</td>\n",
              "    </tr>\n",
              "    <tr>\n",
              "      <th>3</th>\n",
              "      <td>5.6431</td>\n",
              "      <td>52.0</td>\n",
              "      <td>5.817352</td>\n",
              "      <td>1.073059</td>\n",
              "      <td>558.0</td>\n",
              "      <td>2.547945</td>\n",
              "      <td>37.85</td>\n",
              "      <td>-122.25</td>\n",
              "      <td>3.413</td>\n",
              "    </tr>\n",
              "    <tr>\n",
              "      <th>4</th>\n",
              "      <td>3.8462</td>\n",
              "      <td>52.0</td>\n",
              "      <td>6.281853</td>\n",
              "      <td>1.081081</td>\n",
              "      <td>565.0</td>\n",
              "      <td>2.181467</td>\n",
              "      <td>37.85</td>\n",
              "      <td>-122.25</td>\n",
              "      <td>3.422</td>\n",
              "    </tr>\n",
              "  </tbody>\n",
              "</table>\n",
              "</div>\n",
              "    <div class=\"colab-df-buttons\">\n",
              "\n",
              "  <div class=\"colab-df-container\">\n",
              "    <button class=\"colab-df-convert\" onclick=\"convertToInteractive('df-a5404525-582b-47cd-927c-30713c3b9af9')\"\n",
              "            title=\"Convert this dataframe to an interactive table.\"\n",
              "            style=\"display:none;\">\n",
              "\n",
              "  <svg xmlns=\"http://www.w3.org/2000/svg\" height=\"24px\" viewBox=\"0 -960 960 960\">\n",
              "    <path d=\"M120-120v-720h720v720H120Zm60-500h600v-160H180v160Zm220 220h160v-160H400v160Zm0 220h160v-160H400v160ZM180-400h160v-160H180v160Zm440 0h160v-160H620v160ZM180-180h160v-160H180v160Zm440 0h160v-160H620v160Z\"/>\n",
              "  </svg>\n",
              "    </button>\n",
              "\n",
              "  <style>\n",
              "    .colab-df-container {\n",
              "      display:flex;\n",
              "      gap: 12px;\n",
              "    }\n",
              "\n",
              "    .colab-df-convert {\n",
              "      background-color: #E8F0FE;\n",
              "      border: none;\n",
              "      border-radius: 50%;\n",
              "      cursor: pointer;\n",
              "      display: none;\n",
              "      fill: #1967D2;\n",
              "      height: 32px;\n",
              "      padding: 0 0 0 0;\n",
              "      width: 32px;\n",
              "    }\n",
              "\n",
              "    .colab-df-convert:hover {\n",
              "      background-color: #E2EBFA;\n",
              "      box-shadow: 0px 1px 2px rgba(60, 64, 67, 0.3), 0px 1px 3px 1px rgba(60, 64, 67, 0.15);\n",
              "      fill: #174EA6;\n",
              "    }\n",
              "\n",
              "    .colab-df-buttons div {\n",
              "      margin-bottom: 4px;\n",
              "    }\n",
              "\n",
              "    [theme=dark] .colab-df-convert {\n",
              "      background-color: #3B4455;\n",
              "      fill: #D2E3FC;\n",
              "    }\n",
              "\n",
              "    [theme=dark] .colab-df-convert:hover {\n",
              "      background-color: #434B5C;\n",
              "      box-shadow: 0px 1px 3px 1px rgba(0, 0, 0, 0.15);\n",
              "      filter: drop-shadow(0px 1px 2px rgba(0, 0, 0, 0.3));\n",
              "      fill: #FFFFFF;\n",
              "    }\n",
              "  </style>\n",
              "\n",
              "    <script>\n",
              "      const buttonEl =\n",
              "        document.querySelector('#df-a5404525-582b-47cd-927c-30713c3b9af9 button.colab-df-convert');\n",
              "      buttonEl.style.display =\n",
              "        google.colab.kernel.accessAllowed ? 'block' : 'none';\n",
              "\n",
              "      async function convertToInteractive(key) {\n",
              "        const element = document.querySelector('#df-a5404525-582b-47cd-927c-30713c3b9af9');\n",
              "        const dataTable =\n",
              "          await google.colab.kernel.invokeFunction('convertToInteractive',\n",
              "                                                    [key], {});\n",
              "        if (!dataTable) return;\n",
              "\n",
              "        const docLinkHtml = 'Like what you see? Visit the ' +\n",
              "          '<a target=\"_blank\" href=https://colab.research.google.com/notebooks/data_table.ipynb>data table notebook</a>'\n",
              "          + ' to learn more about interactive tables.';\n",
              "        element.innerHTML = '';\n",
              "        dataTable['output_type'] = 'display_data';\n",
              "        await google.colab.output.renderOutput(dataTable, element);\n",
              "        const docLink = document.createElement('div');\n",
              "        docLink.innerHTML = docLinkHtml;\n",
              "        element.appendChild(docLink);\n",
              "      }\n",
              "    </script>\n",
              "  </div>\n",
              "\n",
              "\n",
              "<div id=\"df-87f725f0-27bf-407e-aa29-4846a0461c8d\">\n",
              "  <button class=\"colab-df-quickchart\" onclick=\"quickchart('df-87f725f0-27bf-407e-aa29-4846a0461c8d')\"\n",
              "            title=\"Suggest charts\"\n",
              "            style=\"display:none;\">\n",
              "\n",
              "<svg xmlns=\"http://www.w3.org/2000/svg\" height=\"24px\"viewBox=\"0 0 24 24\"\n",
              "     width=\"24px\">\n",
              "    <g>\n",
              "        <path d=\"M19 3H5c-1.1 0-2 .9-2 2v14c0 1.1.9 2 2 2h14c1.1 0 2-.9 2-2V5c0-1.1-.9-2-2-2zM9 17H7v-7h2v7zm4 0h-2V7h2v10zm4 0h-2v-4h2v4z\"/>\n",
              "    </g>\n",
              "</svg>\n",
              "  </button>\n",
              "\n",
              "<style>\n",
              "  .colab-df-quickchart {\n",
              "      --bg-color: #E8F0FE;\n",
              "      --fill-color: #1967D2;\n",
              "      --hover-bg-color: #E2EBFA;\n",
              "      --hover-fill-color: #174EA6;\n",
              "      --disabled-fill-color: #AAA;\n",
              "      --disabled-bg-color: #DDD;\n",
              "  }\n",
              "\n",
              "  [theme=dark] .colab-df-quickchart {\n",
              "      --bg-color: #3B4455;\n",
              "      --fill-color: #D2E3FC;\n",
              "      --hover-bg-color: #434B5C;\n",
              "      --hover-fill-color: #FFFFFF;\n",
              "      --disabled-bg-color: #3B4455;\n",
              "      --disabled-fill-color: #666;\n",
              "  }\n",
              "\n",
              "  .colab-df-quickchart {\n",
              "    background-color: var(--bg-color);\n",
              "    border: none;\n",
              "    border-radius: 50%;\n",
              "    cursor: pointer;\n",
              "    display: none;\n",
              "    fill: var(--fill-color);\n",
              "    height: 32px;\n",
              "    padding: 0;\n",
              "    width: 32px;\n",
              "  }\n",
              "\n",
              "  .colab-df-quickchart:hover {\n",
              "    background-color: var(--hover-bg-color);\n",
              "    box-shadow: 0 1px 2px rgba(60, 64, 67, 0.3), 0 1px 3px 1px rgba(60, 64, 67, 0.15);\n",
              "    fill: var(--button-hover-fill-color);\n",
              "  }\n",
              "\n",
              "  .colab-df-quickchart-complete:disabled,\n",
              "  .colab-df-quickchart-complete:disabled:hover {\n",
              "    background-color: var(--disabled-bg-color);\n",
              "    fill: var(--disabled-fill-color);\n",
              "    box-shadow: none;\n",
              "  }\n",
              "\n",
              "  .colab-df-spinner {\n",
              "    border: 2px solid var(--fill-color);\n",
              "    border-color: transparent;\n",
              "    border-bottom-color: var(--fill-color);\n",
              "    animation:\n",
              "      spin 1s steps(1) infinite;\n",
              "  }\n",
              "\n",
              "  @keyframes spin {\n",
              "    0% {\n",
              "      border-color: transparent;\n",
              "      border-bottom-color: var(--fill-color);\n",
              "      border-left-color: var(--fill-color);\n",
              "    }\n",
              "    20% {\n",
              "      border-color: transparent;\n",
              "      border-left-color: var(--fill-color);\n",
              "      border-top-color: var(--fill-color);\n",
              "    }\n",
              "    30% {\n",
              "      border-color: transparent;\n",
              "      border-left-color: var(--fill-color);\n",
              "      border-top-color: var(--fill-color);\n",
              "      border-right-color: var(--fill-color);\n",
              "    }\n",
              "    40% {\n",
              "      border-color: transparent;\n",
              "      border-right-color: var(--fill-color);\n",
              "      border-top-color: var(--fill-color);\n",
              "    }\n",
              "    60% {\n",
              "      border-color: transparent;\n",
              "      border-right-color: var(--fill-color);\n",
              "    }\n",
              "    80% {\n",
              "      border-color: transparent;\n",
              "      border-right-color: var(--fill-color);\n",
              "      border-bottom-color: var(--fill-color);\n",
              "    }\n",
              "    90% {\n",
              "      border-color: transparent;\n",
              "      border-bottom-color: var(--fill-color);\n",
              "    }\n",
              "  }\n",
              "</style>\n",
              "\n",
              "  <script>\n",
              "    async function quickchart(key) {\n",
              "      const quickchartButtonEl =\n",
              "        document.querySelector('#' + key + ' button');\n",
              "      quickchartButtonEl.disabled = true;  // To prevent multiple clicks.\n",
              "      quickchartButtonEl.classList.add('colab-df-spinner');\n",
              "      try {\n",
              "        const charts = await google.colab.kernel.invokeFunction(\n",
              "            'suggestCharts', [key], {});\n",
              "      } catch (error) {\n",
              "        console.error('Error during call to suggestCharts:', error);\n",
              "      }\n",
              "      quickchartButtonEl.classList.remove('colab-df-spinner');\n",
              "      quickchartButtonEl.classList.add('colab-df-quickchart-complete');\n",
              "    }\n",
              "    (() => {\n",
              "      let quickchartButtonEl =\n",
              "        document.querySelector('#df-87f725f0-27bf-407e-aa29-4846a0461c8d button');\n",
              "      quickchartButtonEl.style.display =\n",
              "        google.colab.kernel.accessAllowed ? 'block' : 'none';\n",
              "    })();\n",
              "  </script>\n",
              "</div>\n",
              "\n",
              "    </div>\n",
              "  </div>\n"
            ],
            "application/vnd.google.colaboratory.intrinsic+json": {
              "type": "dataframe",
              "variable_name": "df",
              "summary": "{\n  \"name\": \"df\",\n  \"rows\": 20640,\n  \"fields\": [\n    {\n      \"column\": \"MedInc\",\n      \"properties\": {\n        \"dtype\": \"number\",\n        \"std\": 1.8998217179452732,\n        \"min\": 0.4999,\n        \"max\": 15.0001,\n        \"num_unique_values\": 12928,\n        \"samples\": [\n          5.0286,\n          2.0433,\n          6.1228\n        ],\n        \"semantic_type\": \"\",\n        \"description\": \"\"\n      }\n    },\n    {\n      \"column\": \"HouseAge\",\n      \"properties\": {\n        \"dtype\": \"number\",\n        \"std\": 12.585557612111637,\n        \"min\": 1.0,\n        \"max\": 52.0,\n        \"num_unique_values\": 52,\n        \"samples\": [\n          35.0,\n          25.0,\n          7.0\n        ],\n        \"semantic_type\": \"\",\n        \"description\": \"\"\n      }\n    },\n    {\n      \"column\": \"AveRooms\",\n      \"properties\": {\n        \"dtype\": \"number\",\n        \"std\": 2.4741731394243205,\n        \"min\": 0.8461538461538461,\n        \"max\": 141.9090909090909,\n        \"num_unique_values\": 19392,\n        \"samples\": [\n          6.111269614835948,\n          5.912820512820513,\n          5.7924528301886795\n        ],\n        \"semantic_type\": \"\",\n        \"description\": \"\"\n      }\n    },\n    {\n      \"column\": \"AveBedrms\",\n      \"properties\": {\n        \"dtype\": \"number\",\n        \"std\": 0.47391085679546435,\n        \"min\": 0.3333333333333333,\n        \"max\": 34.06666666666667,\n        \"num_unique_values\": 14233,\n        \"samples\": [\n          0.9906542056074766,\n          1.112099644128114,\n          1.0398230088495575\n        ],\n        \"semantic_type\": \"\",\n        \"description\": \"\"\n      }\n    },\n    {\n      \"column\": \"Population\",\n      \"properties\": {\n        \"dtype\": \"number\",\n        \"std\": 1132.4621217653375,\n        \"min\": 3.0,\n        \"max\": 35682.0,\n        \"num_unique_values\": 3888,\n        \"samples\": [\n          4169.0,\n          636.0,\n          3367.0\n        ],\n        \"semantic_type\": \"\",\n        \"description\": \"\"\n      }\n    },\n    {\n      \"column\": \"AveOccup\",\n      \"properties\": {\n        \"dtype\": \"number\",\n        \"std\": 10.386049562213591,\n        \"min\": 0.6923076923076923,\n        \"max\": 1243.3333333333333,\n        \"num_unique_values\": 18841,\n        \"samples\": [\n          2.6939799331103678,\n          3.559375,\n          3.297082228116711\n        ],\n        \"semantic_type\": \"\",\n        \"description\": \"\"\n      }\n    },\n    {\n      \"column\": \"Latitude\",\n      \"properties\": {\n        \"dtype\": \"number\",\n        \"std\": 2.1359523974571117,\n        \"min\": 32.54,\n        \"max\": 41.95,\n        \"num_unique_values\": 862,\n        \"samples\": [\n          33.7,\n          34.41,\n          38.24\n        ],\n        \"semantic_type\": \"\",\n        \"description\": \"\"\n      }\n    },\n    {\n      \"column\": \"Longitude\",\n      \"properties\": {\n        \"dtype\": \"number\",\n        \"std\": 2.003531723502581,\n        \"min\": -124.35,\n        \"max\": -114.31,\n        \"num_unique_values\": 844,\n        \"samples\": [\n          -118.63,\n          -119.86,\n          -121.26\n        ],\n        \"semantic_type\": \"\",\n        \"description\": \"\"\n      }\n    },\n    {\n      \"column\": \"Price\",\n      \"properties\": {\n        \"dtype\": \"number\",\n        \"std\": 1.1539561587441483,\n        \"min\": 0.14999,\n        \"max\": 5.00001,\n        \"num_unique_values\": 3842,\n        \"samples\": [\n          1.943,\n          3.79,\n          2.301\n        ],\n        \"semantic_type\": \"\",\n        \"description\": \"\"\n      }\n    }\n  ]\n}"
            }
          },
          "metadata": {},
          "execution_count": 1564
        }
      ],
      "source": [
        "# Load the California housing dataset\n",
        "data = fetch_california_housing()\n",
        "\n",
        "# Convert to a DataFrame\n",
        "df = pd.DataFrame(data.data, columns=data.feature_names)\n",
        "df['Price'] = data.target\n",
        "\n",
        "# Display the first few rows of the dataset\n",
        "df.head()"
      ]
    },
    {
      "cell_type": "markdown",
      "metadata": {
        "id": "lbiWvTLh64Me"
      },
      "source": [
        "### Data Preprocessing\n",
        "\n",
        "In the California Housing Prices dataset, houses with prices over $500,000 were capped at $500,000. This capping can cause some undesirable behaviors when learning a good predictor because it introduces a ceiling effect, where the true variability of house prices above $500,000 is not captured. As a result, the model might not learn the true relationship between the features and the target variable for high-priced houses.\n",
        "\n",
        "To address this issue, we will remove any datapoints from our dataset that have a price of exactly $500,000. This will help ensure that our model learns a more accurate relationship between the features and the target variable.\n",
        "\n",
        "Additionally, to make it easier to visualize and work with the data, we will only use the first 500 datapoints in this assignment. This will allow us to create more manageable plots and computations.\n",
        "\n",
        "Here is the code to preprocess the dataset:\n"
      ]
    },
    {
      "cell_type": "code",
      "execution_count": null,
      "metadata": {
        "id": "Dt7L7UCY64Me"
      },
      "outputs": [],
      "source": [
        "# Filter out houses with prices of $500k and above\n",
        "df = df[df['Price'] < 5]\n",
        "\n",
        "# Select the first 500 data points\n",
        "df_small = df.iloc[:500]"
      ]
    },
    {
      "cell_type": "markdown",
      "metadata": {
        "id": "RcNG0ytP64Me"
      },
      "source": [
        "Now that we have loaded and filtered the dataset, we need to prepare it for use in our linear regression models.\n",
        "We will store all the features in a matrix $\\mathbf{X}$ where each row represents a data point and each column represents a feature.\n",
        "Additionally, we will append a column of 1s as the first column of $\\mathbf{X}$, which will be used to multiply the bias term in the weights.\n",
        "We will also store the target values (house prices) in a vector $\\mathbf{Y}$.\n",
        "\n",
        "For implementation reasons, it is usually preferred to store all the features in a matrix $\\mathbf{X}$ with each row being a data point and each column being a feature. This allows for efficient matrix operations and simplifies the implementation of algorithms.\n",
        "\n",
        "We will also *normalize* the features.\n",
        "Normalization is the process of scaling the features so that they have a mean of 0 and a standard deviation of 1. This is important because it ensures that all features contribute equally to the model and prevents features with larger scales from dominating the learning process. In machine learning, normalization is commonly done to improve the convergence of gradient-based optimization algorithms and to ensure that the model's performance is not biased towards features with larger numerical ranges.\n",
        "\n",
        "For example, consider two features: Population and HouseAge. The Population feature might have values ranging from hundreds to thousands, while HouseAge might have values ranging from 0 to 100. Without normalization, the Population feature could dominate the learning process because of its larger numerical range. Normalization ensures that both features contribute equally to the model, regardless of their original scales.\n",
        "\n",
        "Below, we preprocess the data in this way."
      ]
    },
    {
      "cell_type": "code",
      "execution_count": null,
      "metadata": {
        "id": "TSStOfwX64Me"
      },
      "outputs": [],
      "source": [
        "# Extract features and target\n",
        "X = df_small.drop(columns=['Price']).values\n",
        "Y = df_small['Price'].values\n",
        "\n",
        "# Append a column of 1s to X for the bias term\n",
        "X = np.hstack([np.ones((X.shape[0], 1)), X])\n",
        "\n",
        "# Normalize the features in X, excluding the first column\n",
        "X_mean = X[:, 1:].mean(axis=0)\n",
        "X_std = X[:, 1:].std(axis=0)\n",
        "X = np.hstack([X[:, :1], (X[:, 1:] - X_mean) / X_std])"
      ]
    },
    {
      "cell_type": "markdown",
      "metadata": {
        "id": "L66pmZem64Me"
      },
      "source": [
        "### Visualizing the Data\n",
        "\n",
        "To start understanding our dataset better, let's visualize the relationship between the **median income** feature (`MedInc`) and the **house price** (`Price`). This can help us get an initial sense of how one of the key features relates to the target variable.\n",
        "\n",
        "You should notice a positive correlation between the median income and the house price, which is expected since houses in areas with higher median incomes tend to be more expensive.\n",
        "It also looks like a line might be a good fit for this data.\n",
        "\n",
        "To view this and all future plots you must click the \"Show plot\" checkbox."
      ]
    },
    {
      "cell_type": "code",
      "execution_count": null,
      "metadata": {
        "id": "AjXR_mSR64Me",
        "colab": {
          "base_uri": "https://localhost:8080/",
          "height": 49,
          "referenced_widgets": [
            "0cf35f4487e849cbb730f4868c9ae1c9",
            "ecf044390d534ccbb63252d7283e1cad",
            "c831e75479684e55a68f7a5745006e35"
          ]
        },
        "outputId": "f201c16f-ae59-4764-af18-6bc89f7d98c7"
      },
      "outputs": [
        {
          "output_type": "display_data",
          "data": {
            "text/plain": [
              "Checkbox(value=False, description='Show Plot')"
            ],
            "application/vnd.jupyter.widget-view+json": {
              "version_major": 2,
              "version_minor": 0,
              "model_id": "0cf35f4487e849cbb730f4868c9ae1c9"
            }
          },
          "metadata": {}
        }
      ],
      "source": [
        "# @title Plot\n",
        "\n",
        "# Create a checkbox widget\n",
        "show_plot_checkbox_medinc = widgets.Checkbox(\n",
        "    value=False,\n",
        "    description='Show Plot',\n",
        "    disabled=False\n",
        ")\n",
        "\n",
        "# Function to plot the data\n",
        "def plot_data_medinc(change):\n",
        "    clear_output(wait=True)  # Clear the output before plotting or closing the plot\n",
        "    display(show_plot_checkbox_medinc)  # Re-display the checkbox after clearing\n",
        "\n",
        "    if show_plot_checkbox_medinc.value:\n",
        "        plt.figure(figsize=(10, 5))\n",
        "        plt.scatter(df_small['MedInc'], df_small['Price'], alpha=0.3)\n",
        "        plt.xlabel('Median Income (in tens of thousands)')\n",
        "        plt.ylabel('Median House Price (in hundreds of thousands)')\n",
        "        plt.title('Median Income vs House Price')\n",
        "        plt.xlim(0, 12)\n",
        "        plt.show()\n",
        "\n",
        "# Attach the function to the checkbox\n",
        "show_plot_checkbox_medinc.observe(plot_data_medinc, names='value')\n",
        "\n",
        "# Display the checkbox\n",
        "display(show_plot_checkbox_medinc)"
      ]
    },
    {
      "cell_type": "markdown",
      "metadata": {
        "id": "gwFvkXbY64Me"
      },
      "source": [
        "Now lets visualize the relationship between the number of rooms (`AveRooms`) and the house price (`Price`).\n",
        "\n",
        "For this plot you should notice a weaker relationship between the number of rooms and the house price compared to the median income.\n",
        "The relationship is not as clear, and in the [Polynomial Regression](#part-4-polynomial-regression) section, we will see that a quadratic function might be a better fit for this data."
      ]
    },
    {
      "cell_type": "code",
      "execution_count": null,
      "metadata": {
        "id": "TFVGL2mn64Mf",
        "colab": {
          "base_uri": "https://localhost:8080/",
          "height": 49,
          "referenced_widgets": [
            "efad4963001a447fb82dcb77426793fc",
            "af279cb3fb9d41a5a9f7679f16666310",
            "71144908e2104f23bb5a4a9cd532caa9"
          ]
        },
        "outputId": "78f3320d-ac34-481b-e64d-30ec9d264598"
      },
      "outputs": [
        {
          "output_type": "display_data",
          "data": {
            "text/plain": [
              "Checkbox(value=False, description='Show Plot')"
            ],
            "application/vnd.jupyter.widget-view+json": {
              "version_major": 2,
              "version_minor": 0,
              "model_id": "efad4963001a447fb82dcb77426793fc"
            }
          },
          "metadata": {}
        }
      ],
      "source": [
        "# @title Plot\n",
        "\n",
        "# Create a checkbox widget\n",
        "show_plot_checkbox_rooms = widgets.Checkbox(\n",
        "    value=False,\n",
        "    description='Show Plot',\n",
        "    disabled=False\n",
        ")\n",
        "\n",
        "# Function to plot the data\n",
        "def plot_data_rooms(change):\n",
        "    clear_output(wait=True)  # Clear the output before plotting or closing the plot\n",
        "    display(show_plot_checkbox_rooms)  # Re-display the checkbox after clearing\n",
        "\n",
        "    if show_plot_checkbox_rooms.value:\n",
        "        plt.figure(figsize=(10, 5))\n",
        "        plt.scatter(df_small['AveRooms'], df_small['Price'], alpha=0.3)\n",
        "        plt.xlabel('Average Number of Rooms')\n",
        "        plt.ylabel('Median House Price (in hundreds of thousands)')\n",
        "        plt.title('Average Number of Rooms vs House Price')\n",
        "        plt.xlim(1, 10)\n",
        "        plt.show()\n",
        "\n",
        "# Attach the function to the checkbox\n",
        "show_plot_checkbox_rooms.observe(plot_data_rooms, names='value')\n",
        "\n",
        "# Display the checkbox\n",
        "display(show_plot_checkbox_rooms)"
      ]
    },
    {
      "cell_type": "markdown",
      "metadata": {
        "id": "zis6QCyt64Mf"
      },
      "source": [
        "Lets plot one more feature, the longitude (`Longitude`) against the house price (`Price`).\n",
        "\n",
        "In this plot you should see that there is no clear relationship between the longitude and the house price."
      ]
    },
    {
      "cell_type": "code",
      "execution_count": null,
      "metadata": {
        "id": "isIChZ8v64Mf",
        "cellView": "form",
        "colab": {
          "base_uri": "https://localhost:8080/",
          "height": 49,
          "referenced_widgets": [
            "73f06f9b43cb4c3abf7179023cf63a38",
            "6835031d81204f25a8ce35196431eea9",
            "e017e082744e4669b40dde1752e2fb80"
          ]
        },
        "outputId": "eb06cfd1-4b35-4ea9-ed81-2680af45e948"
      },
      "outputs": [
        {
          "output_type": "display_data",
          "data": {
            "text/plain": [
              "Checkbox(value=False, description='Show Plot')"
            ],
            "application/vnd.jupyter.widget-view+json": {
              "version_major": 2,
              "version_minor": 0,
              "model_id": "73f06f9b43cb4c3abf7179023cf63a38"
            }
          },
          "metadata": {}
        }
      ],
      "source": [
        "# @title Plot\n",
        "\n",
        "# Create a checkbox widget\n",
        "show_plot_checkbox_longitude = widgets.Checkbox(\n",
        "    value=False,\n",
        "    description='Show Plot',\n",
        "    disabled=False\n",
        ")\n",
        "\n",
        "# Function to plot the data\n",
        "def plot_data_longitude(change):\n",
        "    clear_output(wait=True)  # Clear the output before plotting or closing the plot\n",
        "    display(show_plot_checkbox_longitude)  # Re-display the checkbox after clearing\n",
        "\n",
        "    if show_plot_checkbox_longitude.value:\n",
        "        plt.figure(figsize=(10, 5))\n",
        "        plt.scatter(df_small['Longitude'], df_small['Price'], alpha=0.3)\n",
        "        plt.xlabel('Longitude')\n",
        "        plt.ylabel('Median House Price (in hundreds of thousands)')\n",
        "        plt.title('Longitude vs House Price')\n",
        "        plt.xlim(-122.35, -122.1)\n",
        "        plt.show()\n",
        "\n",
        "# Attach the function to the checkbox\n",
        "show_plot_checkbox_longitude.observe(plot_data_longitude, names='value')\n",
        "\n",
        "# Display the checkbox\n",
        "display(show_plot_checkbox_longitude)"
      ]
    },
    {
      "cell_type": "markdown",
      "metadata": {
        "id": "40GxufSy64Mf"
      },
      "source": [
        "What we wanted to highlight with these plots is that not all features will have a strong linear relationship with the target variable, and in some cases, a linear model might not be the best fit for the data.\n",
        "\n",
        "Now that we have a better understanding of the dataset, we can move on to implementing some learning algorithms, beginning with the closed-form solution."
      ]
    },
    {
      "cell_type": "markdown",
      "metadata": {
        "id": "5ZOTTlG564Mf"
      },
      "source": [
        "\n",
        "# Part 2: Closed Form Solution\n",
        "\n",
        "In this section, you will implement the closed form solution for linear regression.\n",
        "\n",
        "In class we learned that the closed form linear regression learner is defined as:\n",
        "\n",
        "\n",
        "$$\\mathcal{A}(\\mathcal{D}) = \\hat f \\quad \\text{where} \\quad \\hat f = \\mathbf{x}^\\top \\hat{\\mathbf{w}}$$\n",
        "\n",
        "and\n",
        "\n",
        "$$\\hat{\\mathbf{w}} = \\mathbf{A}^{-1} \\mathbf{b}, \\quad \\text{where} \\quad \\mathbf{A} = \\sum_{i=1}^n \\mathbf{x}_i \\mathbf{x}_i^\\top, \\quad \\mathbf{b} = \\sum_{i=1}^n \\mathbf{x}_i y_i$$\n",
        "\n",
        "In Question 2.1 your goal is to define the learner $\\mathcal{A}$ as a function `closed_form_learner` that takes as input `X` and `Y` (which is our dataset $\\mathcal{D}$) and returns the function `predictor`, which represents $\\hat f$.\n",
        "\n",
        "Note that `closed_form_learner` also returns `w_hat` because we will use it for plotting purposes later."
      ]
    },
    {
      "cell_type": "markdown",
      "metadata": {
        "id": "gwSz0Wyl64Mf"
      },
      "source": [
        "**A note on implementation:**\n",
        "Some helpful functions and syntax for this question are:\n",
        "- `*` for scalar multiplication (e.g. `2 * x` is the scalar product of `x` with 2).\n",
        "- `@` for matrix multiplication (e.g. `A @ B` is the matrix product of `A` and `B`, and `A @ x` is the matrix-vector product of `A` and `x`).\n",
        "- `.T` for the transpose of a matrix (e.g. `A.T` is the transpose of `A`).\n",
        "- `.shape` to get the shape of a matrix (e.g. if `A` is a matrix, `A.shape` is a tuple containing the number of rows and columns of `A`).\n",
        "- `np.outer` for the outer product of two vectors (e.g. `np.outer(x, x)` is the outer product of `x` with itself).\n",
        "- `np.linalg.pinv` for the inverse of a matrix (e.g. `np.linalg.pinv(A)` is the inverse of `A`).\n",
        "\n",
        "You can implement the above sums using a for loop; however, it is much more common to use matrix operations to compute these sums.\n",
        "This is because matrix operations are much faster and more efficient than using for loops.\n",
        "\n",
        "To see how this can be done, notice that $\\mathbf{X}, \\mathbf{X}^\\top$ and $\\mathbf{Y}$ can be visualized as follows:\n",
        "$$\n",
        "\\mathbf{X} = \\begin{bmatrix}\n",
        "\\mathbf{x}_1^\\top \\\\\n",
        "\\mathbf{x}_2^\\top \\\\\n",
        "\\vdots \\\\\n",
        "\\mathbf{x}_n^\\top \\\\\n",
        "\\end{bmatrix}, \\quad\n",
        "\\mathbf{X}^\\top = \\begin{bmatrix}\n",
        "\\mathbf{x}_1 & \\mathbf{x}_2 & \\cdots & \\mathbf{x}_n\n",
        "\\end{bmatrix}, \\quad\n",
        "\\mathbf{Y} = \\begin{bmatrix}\n",
        "y_1 \\\\\n",
        "y_2 \\\\\n",
        "\\vdots \\\\\n",
        "y_n \\\\\n",
        "\\end{bmatrix}\n",
        "$$\n",
        "Now, if we calculate $\\mathbf{X}^\\top \\mathbf{Y}$ we would get:\n",
        "$$\n",
        "\\mathbf{X}^\\top \\mathbf{Y} = \\begin{bmatrix}\n",
        "\\mathbf{x}_1 & \\mathbf{x}_2 & \\cdots & \\mathbf{x}_n\n",
        "\\end{bmatrix}\n",
        "\\begin{bmatrix}\n",
        "y_1 \\\\\n",
        "y_2 \\\\\n",
        "\\vdots \\\\\n",
        "y_n \\\\\n",
        "\\end{bmatrix}\n",
        "= \\mathbf{x}_1 y_1 + \\mathbf{x}_2 y_2 + \\cdots + \\mathbf{x}_n y_n\n",
        "= \\sum_{i=1}^n \\mathbf{x}_i y_i\n",
        "$$\n",
        "Notice how this is exactly equal to $\\mathbf{b}$.\n",
        "On a similar note, if we calculate $\\mathbf{X}^\\top \\mathbf{X}$ we would get (I don't expect you to know why the last equality holds):\n",
        "$$\n",
        "\\mathbf{X}^\\top \\mathbf{X} = \\begin{bmatrix}\n",
        "\\mathbf{x}_1 & \\mathbf{x}_2 & \\cdots & \\mathbf{x}_n\n",
        "\\end{bmatrix}\n",
        "\\begin{bmatrix}\n",
        "\\mathbf{x}_1^\\top \\\\\n",
        "\\mathbf{x}_2^\\top \\\\\n",
        "\\vdots \\\\\n",
        "\\mathbf{x}_n^\\top \\\\\n",
        "\\end{bmatrix}\n",
        "= \\sum_{i=1}^n \\mathbf{x}_i \\mathbf{x}_i^\\top\n",
        "$$\n",
        "\n",
        "Notice how this is exactly equal to $\\mathbf{A}$.\n",
        "\n",
        "\n",
        "\n",
        "\n",
        "\n",
        "\n"
      ]
    },
    {
      "cell_type": "markdown",
      "metadata": {
        "deletable": false,
        "editable": false,
        "id": "_Kpj4d6D64Mf"
      },
      "source": [
        "### Question 2.1\n",
        "Implement `closed_form_learner`.\n",
        "In particular your code should set `w_hat` as $\\hat{\\mathbf{w}}$ is defined above.\n",
        "\n",
        "_Points:_ 8"
      ]
    },
    {
      "cell_type": "code",
      "execution_count": null,
      "metadata": {
        "tags": [],
        "id": "d6hs6AUp64Mf"
      },
      "outputs": [],
      "source": [
        "def closed_form_learner(X, Y):\n",
        "    '''\n",
        "    Solves linear regression using the closed form solution.\n",
        "\n",
        "    Parameters:\n",
        "    X (numpy array): Feature matrix of size (n, d+1), where n is the number of samples\n",
        "                     and d is the number of features. The first column should be all 1s.\n",
        "    Y (numpy array): Target vector of size (n, 1).\n",
        "\n",
        "    Returns:\n",
        "    predictor (function): A function that takes a feature vector and returns a predicted value.\n",
        "    w_hat (numpy array): The weights calculated using the closed form solution.\n",
        "    '''\n",
        "    ### YOUR CODE HERE ###\n",
        "    b = X.T @ Y\n",
        "    A = X.T @ X\n",
        "\n",
        "    A_inverse = np.linalg.pinv(A)\n",
        "\n",
        "    w_hat = A_inverse @ b\n",
        "\n",
        "    ######################\n",
        "\n",
        "    def predictor(x):\n",
        "        return x @ w_hat\n",
        "\n",
        "    return predictor, w_hat\n"
      ]
    },
    {
      "cell_type": "code",
      "execution_count": null,
      "metadata": {
        "deletable": false,
        "editable": false,
        "id": "h_-trPhc64Mf",
        "colab": {
          "base_uri": "https://localhost:8080/",
          "height": 47
        },
        "outputId": "35f67f3a-533f-4445-a7e4-83591b5a5be2"
      },
      "outputs": [
        {
          "output_type": "execute_result",
          "data": {
            "text/plain": [
              "q2_1 results: All test cases passed!"
            ],
            "text/html": [
              "<p><strong><pre style='display: inline;'>q2_1</pre></strong> passed! 🌟</p>"
            ]
          },
          "metadata": {},
          "execution_count": 1571
        }
      ],
      "source": [
        "grader.check(\"q2_1\")"
      ]
    },
    {
      "cell_type": "markdown",
      "metadata": {
        "id": "nzyabxKq64Mg"
      },
      "source": [
        "## Visualizing the Predictor"
      ]
    },
    {
      "cell_type": "markdown",
      "metadata": {
        "id": "qIQTZzjJ64Mg"
      },
      "source": [
        "To get an sense of the quality of the predictor our learner outputs, we will plot the predicted house prices against the true house prices.\n",
        "To help us visualize things we will only use one feature, the median income, to make the plot.\n",
        "First lets define a new matrix `X_MedInc` that only contains two columns, the first columns contains all 1s and the second column contains the median income feature."
      ]
    },
    {
      "cell_type": "code",
      "execution_count": null,
      "metadata": {
        "id": "yEjuFCK864Mg"
      },
      "outputs": [],
      "source": [
        "X_MedInc = np.hstack([np.ones((X.shape[0], 1)), X[:, 1].reshape(-1, 1)])"
      ]
    },
    {
      "cell_type": "markdown",
      "metadata": {
        "id": "bQ5bisVL64Mg"
      },
      "source": [
        "Now we can pass `X_MedInc` and `Y` to the `closed_form_learner` to get the predictor and plot it against the true house prices.\n",
        "\n",
        "You should see the predictor is a line that fits the data well."
      ]
    },
    {
      "cell_type": "code",
      "execution_count": null,
      "metadata": {
        "id": "vc_dRXBL64Mg",
        "colab": {
          "base_uri": "https://localhost:8080/",
          "height": 49,
          "referenced_widgets": [
            "1472dafdda9f473c9042140de0c7c11b",
            "b1f3868d344a42859cf7689f9db8d582",
            "dd3d614720534f408b0bc967962a6b9c"
          ]
        },
        "outputId": "992e4664-d907-4c5b-946f-617bc2bffaea"
      },
      "outputs": [
        {
          "output_type": "display_data",
          "data": {
            "text/plain": [
              "Checkbox(value=False, description='Show Plot')"
            ],
            "application/vnd.jupyter.widget-view+json": {
              "version_major": 2,
              "version_minor": 0,
              "model_id": "1472dafdda9f473c9042140de0c7c11b"
            }
          },
          "metadata": {}
        }
      ],
      "source": [
        "# @title Plot\n",
        "\n",
        "# Create a checkbox widget\n",
        "show_plot_checkbox_cf = widgets.Checkbox(\n",
        "    value=False,\n",
        "    description='Show Plot',\n",
        "    disabled=False\n",
        ")\n",
        "\n",
        "# Function to plot the data\n",
        "def plot_data_cf(change):\n",
        "    clear_output(wait=True)  # Clear the output before plotting or closing the plot\n",
        "    display(show_plot_checkbox_cf)  # Re-display the checkbox after clearing\n",
        "\n",
        "    # Step 1: Call the closed_form_learner to get the predictor function and weights trained on X_MedInc.\n",
        "    predictor_cf, w_hat_cf = closed_form_learner(X_MedInc, Y)\n",
        "\n",
        "    # Step 2: Generate predicted values using the predictor function.\n",
        "    Y_pred_cf = predictor_cf(X_MedInc)\n",
        "\n",
        "    if show_plot_checkbox_cf.value:\n",
        "       # Step 4: Plot the original data points and the predicted line, with the desired style.\n",
        "        plt.figure(figsize=(10, 5))  # Set figure size as in the previous plot.\n",
        "        plt.scatter(X_MedInc[:, 1:], Y, alpha=0.3)  # Plot actual data with 30% opacity.\n",
        "        plt.plot(X_MedInc[:, 1:], Y_pred_cf, color='red', label='Closed Form Predictor')  # Plot the predicted line.\n",
        "        plt.xlabel('Median Income (in tens of thousands)')  # Change the x-axis label.\n",
        "        plt.ylabel('Median House Price (in hundreds of thousands)')  # Change the y-axis label.\n",
        "        plt.legend()  # Show the legend.\n",
        "\n",
        "        # Show the plot.\n",
        "        plt.show()\n",
        "\n",
        "# Attach the function to the checkbox\n",
        "show_plot_checkbox_cf.observe(plot_data_cf, names='value')\n",
        "\n",
        "# Display the checkbox\n",
        "display(show_plot_checkbox_cf)\n"
      ]
    },
    {
      "cell_type": "markdown",
      "metadata": {
        "id": "0V45FMx464Mg"
      },
      "source": [
        "# Part 3: Batch Gradient Descent"
      ]
    },
    {
      "cell_type": "markdown",
      "metadata": {
        "id": "0uVtmbE764Mg"
      },
      "source": [
        "Lets now implement the batch gradient descent learner for linear regression.\n",
        "In class we learned that the batch gradient descent learner is defined as:\n",
        "\n",
        "$$\\mathcal{A}(\\mathcal{D}) = \\hat f \\quad \\text{where} \\quad \\hat f = \\mathbf{x}^\\top \\mathbf{w}^{(T)}, \\quad T \\in \\mathbb{N}$$\n",
        "\n",
        "and\n",
        "\n",
        "$$\\mathbf{w}^{(t+1)} = \\mathbf{w}^{(t)} - \\eta^{(t)} \\frac{2}{n} \\sum_{i=1}^n (\\mathbf{x}_i^\\top \\mathbf{w}^{(t)} - y_i) \\mathbf{x}_i$$\n",
        "\n",
        "In Question 3.1 your goal is to define the learner $\\mathcal{A}$ as a function `batch_gradient_descent_learner` that takes as input:\n",
        "- `X` and `Y` (which is the dataset $\\mathcal{D}$),\n",
        "- `step_size` which is a constant learning rate, representing $\\eta^{(t)} = \\eta$,\n",
        "- `epochs` which is the number of steps to take, representing $T$,\n",
        "- `random_seed` which is the random seed used for reproducibility when initializing the weights randomly,\n",
        "\n",
        "and returns the function `predictor`, which represents $\\hat f$.\n",
        "Note that we are assuming a constant learning rate $\\eta^{(t)} = \\eta$ for this implementation.\n",
        "\n",
        "**A note on implementation:**\n",
        "Similar to the closed form solution, you can implement the above sum using a for loop; however, it is much more common to use matrix operations to compute these sums.\n",
        "To see how this can be done, first notice that\n",
        "$$\n",
        "\\sum_{i=1}^n (\\mathbf{x}_i^\\top \\mathbf{w}^{(t)} - y_i) \\mathbf{x}_i\n",
        "= \\sum_{i=1}^n \\mathbf{x}_i (\\mathbf{x}_i^\\top \\mathbf{w}^{(t)} - y_i)\n",
        "= \\sum_{i=1}^n \\mathbf{x}_i (\\mathbf{x}_i^\\top \\mathbf{w}^{(t)}) - \\sum_{i=1}^n \\mathbf{x}_i y_i\n",
        "$$\n",
        "We already learned in the previous section that $\\mathbf{X}^\\top \\mathbf{Y} = \\sum_{i=1}^n \\mathbf{x}_i y_i$.\n",
        "For the first sum, notice that if we calculate $\\mathbf{X}^\\top \\mathbf{X} \\mathbf{w}$ we get:\n",
        "$$\n",
        "\\mathbf{X}^\\top \\mathbf{X} \\mathbf{w} = \\left( \\sum_{i=1}^n \\mathbf{x}_i \\mathbf{x}_i^\\top \\right) \\mathbf{w}\n",
        "= \\sum_{i=1}^n \\mathbf{x}_i (\\mathbf{x}_i^\\top \\mathbf{w})\n",
        "$$\n"
      ]
    },
    {
      "cell_type": "markdown",
      "metadata": {
        "deletable": false,
        "editable": false,
        "id": "p72pI8nZ64Mg"
      },
      "source": [
        "### Question 3.1\n",
        "Implement `batch_gradient_descent_learner`.\n",
        "In particular your code should set `w` as $\\mathbf{w}^{(t+1)}$ is defined above.\n",
        "\n",
        "_Points:_ 8"
      ]
    },
    {
      "cell_type": "code",
      "execution_count": null,
      "metadata": {
        "tags": [],
        "id": "dAoFa0sa64Mg"
      },
      "outputs": [],
      "source": [
        "def batch_gradient_descent_learner(X, Y, step_size=0.01, epochs=10, random_seed=42):\n",
        "    '''\n",
        "    Solves linear regression using batch gradient descent.\n",
        "\n",
        "    Parameters:\n",
        "    X (numpy array): Feature matrix of size (n, d+1), where n is the number of samples\n",
        "                     and d is the number of features. The first column should be all 1s.\n",
        "    Y (numpy array): Target vector of size (n, 1).\n",
        "    step_size (float): The step size for gradient descent.\n",
        "    epochs (int): The number of iterations to run gradient descent.\n",
        "    random_seed (int, optional): The seed for the random number generator.\n",
        "\n",
        "    Returns:\n",
        "    predictor (function): A function that takes a feature vector and returns a predicted value.\n",
        "    w (numpy array): The final weights after applying gradient descent for the specified epochs.\n",
        "    '''\n",
        "    n, d = X[:,1:].shape\n",
        "    np.random.seed(random_seed)\n",
        "    w = np.random.randn(d+1) # initialize the weights randomly\n",
        "\n",
        "    ### YOUR CODE HERE ###\n",
        "\n",
        "    for epoch in range(epochs):\n",
        "        first_sum = (X.T @ X @ w) - (X.T @ Y)\n",
        "\n",
        "        w = w - step_size * (2/n) * first_sum\n",
        "\n",
        "\n",
        "\n",
        "    ######################\n",
        "\n",
        "    def predictor(x):\n",
        "        return x @ w\n",
        "\n",
        "    return predictor, w\n"
      ]
    },
    {
      "cell_type": "code",
      "execution_count": null,
      "metadata": {
        "deletable": false,
        "editable": false,
        "id": "Xpw97KNj64Mg",
        "colab": {
          "base_uri": "https://localhost:8080/",
          "height": 47
        },
        "outputId": "7ac9a941-1de5-4222-bb1a-56b56eeb10cc"
      },
      "outputs": [
        {
          "output_type": "execute_result",
          "data": {
            "text/plain": [
              "q3_1 results: All test cases passed!"
            ],
            "text/html": [
              "<p><strong><pre style='display: inline;'>q3_1</pre></strong> passed! 🌟</p>"
            ]
          },
          "metadata": {},
          "execution_count": 1575
        }
      ],
      "source": [
        "grader.check(\"q3_1\")"
      ]
    },
    {
      "cell_type": "markdown",
      "metadata": {
        "id": "zKb63w8864Mg"
      },
      "source": [
        "## Visualizing the Predictor"
      ]
    },
    {
      "cell_type": "markdown",
      "metadata": {
        "id": "lgoTqMrA64Mh"
      },
      "source": [
        "Similar to the previous section, we will plot the predicted house prices against the true house prices using the median income feature.\n",
        "\n",
        "You should notice that as the number of epochs increases, the predictor gets closer to the closed form predictor.\n",
        "This makes sense, because the $\\hat{\\textbf{w}}$ used by the closed form predictor is\n",
        "$$\\hat{\\textbf{w}} = \\text{arg} \\min_{\\textbf{w}} \\hat L(\\textbf{w})$$\n",
        "and the $\\textbf{w}$ used by the batch gradient descent learner approaches this $\\hat{\\textbf{w}}$ as the number of epochs increases.\n",
        "\n",
        "You can use the slider to change the number of `epochs` that the `batch_gradient_descent_learner` runs for."
      ]
    },
    {
      "cell_type": "code",
      "execution_count": null,
      "metadata": {
        "id": "qA7Jdv2-64Mh",
        "colab": {
          "base_uri": "https://localhost:8080/",
          "height": 79,
          "referenced_widgets": [
            "9386829ad50946e2ab3527eddc01186a",
            "d94ad596354d4748a22f76bd1108eca0",
            "cae4905c9ebd4b8c86bedebaea4f2615",
            "7cfc9bfb2a20437d84ac0a43598bfc8b",
            "c8f39952a2a740e68b5814b4b61d8c66",
            "4c924690eca643b299802f0acbd9ed67",
            "c48fc564c24249a8a1cc2601c2b60f2c",
            "88f10cc2deb34c8a907471c3a496b7f3"
          ]
        },
        "outputId": "b96c2dd3-758f-4a66-c3e2-11b3918cc0bd"
      },
      "outputs": [
        {
          "output_type": "display_data",
          "data": {
            "text/plain": [
              "IntSlider(value=3, description='Epochs:', max=300, min=1)"
            ],
            "application/vnd.jupyter.widget-view+json": {
              "version_major": 2,
              "version_minor": 0,
              "model_id": "9386829ad50946e2ab3527eddc01186a"
            }
          },
          "metadata": {}
        },
        {
          "output_type": "display_data",
          "data": {
            "text/plain": [
              "Checkbox(value=False, description='Show Plot')"
            ],
            "application/vnd.jupyter.widget-view+json": {
              "version_major": 2,
              "version_minor": 0,
              "model_id": "7cfc9bfb2a20437d84ac0a43598bfc8b"
            }
          },
          "metadata": {}
        },
        {
          "output_type": "display_data",
          "data": {
            "text/plain": [
              "Output()"
            ],
            "application/vnd.jupyter.widget-view+json": {
              "version_major": 2,
              "version_minor": 0,
              "model_id": "c48fc564c24249a8a1cc2601c2b60f2c"
            }
          },
          "metadata": {}
        }
      ],
      "source": [
        "# @title Plot\n",
        "# Create a slider widget for selecting the number of epochs\n",
        "epochs_slider = widgets.IntSlider(\n",
        "    value=3,\n",
        "    min=1,\n",
        "    max=300,\n",
        "    step=1,\n",
        "    description='Epochs:',\n",
        "    continuous_update=True  # Enable continuous updates for smoother interaction\n",
        ")\n",
        "\n",
        "# Create a checkbox widget\n",
        "show_plot_checkbox_bgd = widgets.Checkbox(\n",
        "    value=False,\n",
        "    description='Show Plot',\n",
        "    disabled=False\n",
        ")\n",
        "\n",
        "# Step 1: Call the closed_form_learner to get the predictor function and weights trained on X_MedInc.\n",
        "predictor_cf, w_hat_cf = closed_form_learner(X_MedInc, Y)\n",
        "\n",
        "# Step 2: Generate predicted values using the predictor function.\n",
        "Y_pred_cf = predictor_cf(X_MedInc)\n",
        "\n",
        "# Function to update the plot based on the selected number of epochs\n",
        "def update_plot_scatter_bgd(epochs, show_plot):\n",
        "    if show_plot:\n",
        "        # Step 1: Call the batch_gradient_descent_learner to get the predictor function and weights trained on X_MedInc.\n",
        "        bgd_predictor, bgd_weights = batch_gradient_descent_learner(X_MedInc, Y, step_size=0.01, epochs=epochs)\n",
        "\n",
        "        # Step 2: Generate predicted values using the BGD predictor function.\n",
        "        Y_pred_bgd = bgd_predictor(X_MedInc)\n",
        "\n",
        "        # Step 3: Plot the original data points, the closed form predictor line, and the BGD predictor line.\n",
        "        plt.figure(figsize=(10, 5))  # Set figure size as in the previous plot.\n",
        "        plt.scatter(X_MedInc[:, 1:], Y, alpha=0.3, label='Actual Data')  # Plot actual data with 30% opacity.\n",
        "        plt.plot(X_MedInc[:, 1:], Y_pred_cf, color='red', label='Closed Form Predictor')  # Plot the closed form predicted line.\n",
        "        plt.plot(X_MedInc[:, 1:], Y_pred_bgd, color='blue', label=f'BGD Predictor ({epochs} epochs)')  # Plot the BGD predicted line.\n",
        "        plt.xlabel('Median Income (in tens of thousands)')  # Change the x-axis label.\n",
        "        plt.ylabel('Median House Price (in hundreds of thousands)')  # Change the y-axis label.\n",
        "        plt.ylim(0.4, 5.4)\n",
        "        plt.legend()  # Show the legend.\n",
        "\n",
        "        # Show the plot.\n",
        "        plt.show()\n",
        "    else:\n",
        "        # Clear the output to hide the plot when \"Show Plot\" is unchecked\n",
        "        clear_output()\n",
        "\n",
        "# Use interactive_output to update the plot interactively\n",
        "interactive_plot_scatter_bgd = interactive_output(update_plot_scatter_bgd, {'epochs': epochs_slider, 'show_plot': show_plot_checkbox_bgd})\n",
        "\n",
        "# Display the slider, checkbox, and interactive plot\n",
        "display(epochs_slider, show_plot_checkbox_bgd, interactive_plot_scatter_bgd)\n"
      ]
    },
    {
      "cell_type": "markdown",
      "metadata": {
        "id": "T5q2Y8PE64Mh"
      },
      "source": [
        "We can also visualize the estimated loss $\\hat L(\\mathbf{w})$ over the epochs.\n",
        "Lets define a function `calculate_loss` that takes in `X`, `Y`, and `w` and returns the estimated loss $\\hat L(\\mathbf{w})$."
      ]
    },
    {
      "cell_type": "code",
      "execution_count": null,
      "metadata": {
        "id": "u1-hghXt64Mh"
      },
      "outputs": [],
      "source": [
        "def calculate_loss(X, Y, w):\n",
        "    return np.mean((X @ w - Y) ** 2)"
      ]
    },
    {
      "cell_type": "markdown",
      "metadata": {
        "id": "rAl4dnXF64Mi"
      },
      "source": [
        "Since we are only using one feature, the weight vector $\\mathbf{w}$ is a 2-dimensional vector, where the first element is the bias term and the second element is the weight for the median income feature.\n",
        "Thus we can plot the estimated loss as a function of the 2-dimensional weight vector $\\mathbf{w}$.\n",
        "\n",
        "In the plot you should see that the $\\hat{\\textbf{w}}$ used by the closed form solution is the minimizer of the estimated loss.\n",
        "You should also see that the estimated loss for batch gradient descent weight vector $\\textbf{w}$ approaches $\\hat{\\textbf{w}}$ as the number of epochs increases.\n",
        "\n",
        "You can use the sliders to change the viewing angle of the plot."
      ]
    },
    {
      "cell_type": "code",
      "execution_count": null,
      "metadata": {
        "id": "FO5vLv6564Mi",
        "colab": {
          "base_uri": "https://localhost:8080/",
          "height": 109,
          "referenced_widgets": [
            "168342a8260e4dca8b31dcfcaabd8eb7",
            "82cbe2e8195648d6aebc22d5d0cc1759",
            "710e99ea37aa4aa9a79cea81e59a4fcc",
            "e7f977571f584c56b3fa9b94cfa74938",
            "d0d54583d817402987514c69639f20c6",
            "289505ffb50346cc8793207d5b92cbff",
            "50d9c278a8b04d51abbf0d28565eef15",
            "0754149e2ea7415585091ec70b4e84cb",
            "7adc1d26d5684038b6427b6123c65876",
            "ae7fa1b126a445528b386827f40818fe",
            "eb36733ce5b24dff9634dc03f3a66089"
          ]
        },
        "outputId": "59d5338c-c2d6-45b3-8728-12078f098dbb"
      },
      "outputs": [
        {
          "output_type": "display_data",
          "data": {
            "text/plain": [
              "IntSlider(value=15, description='Elev:', max=90)"
            ],
            "application/vnd.jupyter.widget-view+json": {
              "version_major": 2,
              "version_minor": 0,
              "model_id": "168342a8260e4dca8b31dcfcaabd8eb7"
            }
          },
          "metadata": {}
        },
        {
          "output_type": "display_data",
          "data": {
            "text/plain": [
              "IntSlider(value=70, description='Azim:', max=360)"
            ],
            "application/vnd.jupyter.widget-view+json": {
              "version_major": 2,
              "version_minor": 0,
              "model_id": "e7f977571f584c56b3fa9b94cfa74938"
            }
          },
          "metadata": {}
        },
        {
          "output_type": "display_data",
          "data": {
            "text/plain": [
              "Checkbox(value=False, description='Show Plot')"
            ],
            "application/vnd.jupyter.widget-view+json": {
              "version_major": 2,
              "version_minor": 0,
              "model_id": "50d9c278a8b04d51abbf0d28565eef15"
            }
          },
          "metadata": {}
        },
        {
          "output_type": "display_data",
          "data": {
            "text/plain": [
              "Output()"
            ],
            "application/vnd.jupyter.widget-view+json": {
              "version_major": 2,
              "version_minor": 0,
              "model_id": "ae7fa1b126a445528b386827f40818fe"
            }
          },
          "metadata": {}
        }
      ],
      "source": [
        "# @title Plot\n",
        "# Create sliders for elev and azim\n",
        "elev_slider = widgets.IntSlider(\n",
        "    value=15,\n",
        "    min=0,\n",
        "    max=90,\n",
        "    step=1,\n",
        "    description='Elev:',\n",
        "    continuous_update=True  # Enable continuous updates for smoother interaction\n",
        ")\n",
        "\n",
        "azim_slider = widgets.IntSlider(\n",
        "    value=70,\n",
        "    min=0,\n",
        "    max=360,\n",
        "    step=1,\n",
        "    description='Azim:',\n",
        "    continuous_update=True  # Enable continuous updates for smoother interaction\n",
        ")\n",
        "\n",
        "# Create a checkbox widget\n",
        "show_plot_checkbox_mesh = widgets.Checkbox(\n",
        "    value=False,\n",
        "    description='Show Plot',\n",
        "    disabled=False\n",
        ")\n",
        "\n",
        "# Run batch gradient descent for different epochs\n",
        "bgd_predictor_1, bgd_weights_1 = batch_gradient_descent_learner(X_MedInc, Y, step_size=0.01, epochs=1)\n",
        "bgd_predictor_10, bgd_weights_10 = batch_gradient_descent_learner(X_MedInc, Y, step_size=0.01, epochs=10)\n",
        "bgd_predictor_50, bgd_weights_50 = batch_gradient_descent_learner(X_MedInc, Y, step_size=0.01, epochs=50)\n",
        "\n",
        "# Compute the loss values for each set of weights\n",
        "bgd_loss_1 = calculate_loss(X_MedInc, Y, bgd_weights_1)\n",
        "bgd_loss_10 = calculate_loss(X_MedInc, Y, bgd_weights_10)\n",
        "bgd_loss_50 = calculate_loss(X_MedInc, Y, bgd_weights_50)\n",
        "\n",
        "# Get the closed form solution weights and loss\n",
        "closed_form_predictor, closed_form_weights = closed_form_learner(X_MedInc, Y)\n",
        "closed_form_loss = calculate_loss(X_MedInc, Y, closed_form_weights)\n",
        "\n",
        "# Create a grid of weight values for plotting the loss surface\n",
        "W0, W1 = np.meshgrid(np.linspace(-0.2, 2.5, 100), np.linspace(-0.5, 1.2, 100))\n",
        "loss_values = np.zeros_like(W0)\n",
        "\n",
        "# Compute the loss for each combination of weights\n",
        "for i in range(W0.shape[0]):\n",
        "    for j in range(W0.shape[1]):\n",
        "        w = np.array([W0[i, j], W1[i, j]])\n",
        "        loss_values[i, j] = calculate_loss(X_MedInc, Y, w)\n",
        "\n",
        "# Function to update the plot based on the slider values\n",
        "def update_plot_mesh(elev, azim, show_plot):\n",
        "    if show_plot:\n",
        "        # Create a new figure and 3D plot\n",
        "        fig = plt.figure(figsize=(12, 8))\n",
        "        ax = fig.add_subplot(111, projection='3d')\n",
        "        ax.plot_surface(W0, W1, loss_values, cmap='viridis', alpha=0.6)\n",
        "        ax.scatter(bgd_weights_1[0], bgd_weights_1[1], bgd_loss_1, color='blue', label='BGD Predictor (1 epoch)', s=100)\n",
        "        ax.scatter(bgd_weights_10[0], bgd_weights_10[1], bgd_loss_10, color='orange', label='BGD Predictor (10 epochs)', s=100)\n",
        "        ax.scatter(bgd_weights_50[0], bgd_weights_50[1], bgd_loss_50, color='red', label='BGD Predictor (50 epochs)', s=100)\n",
        "        ax.scatter(closed_form_weights[0], closed_form_weights[1], closed_form_loss, color='green', label='Closed Form Predictor', s=100)\n",
        "        ax.set_xlabel('Weight w0')\n",
        "        ax.set_ylabel('Weight w1')\n",
        "        ax.set_zlabel('Estimated Loss')\n",
        "        ax.view_init(elev=elev, azim=azim)\n",
        "        ax.set_title('Estimated Loss as a Function of Weight')\n",
        "        ax.legend()\n",
        "\n",
        "        # Display the updated plot\n",
        "        plt.show()\n",
        "    else:\n",
        "        # Clear the output to hide the plot when \"Show Plot\" is unchecked\n",
        "        clear_output()\n",
        "\n",
        "# Use interactive_output to update the plot interactively\n",
        "interactive_plot_mesh = interactive_output(update_plot_mesh, {'elev': elev_slider, 'azim': azim_slider, 'show_plot': show_plot_checkbox_mesh})\n",
        "\n",
        "# Display the sliders, checkbox, and interactive plot\n",
        "display(elev_slider, azim_slider, show_plot_checkbox_mesh, interactive_plot_mesh)\n"
      ]
    },
    {
      "cell_type": "markdown",
      "metadata": {
        "id": "zrwNn8hl64Mi"
      },
      "source": [
        "We can also visualize the estimated loss $\\hat L(\\mathbf{w})$ over the epochs in a 2D plot.\n",
        "Here we use a heatmap to represent the estimated loss value.\n",
        "The darkest blue represents the minimum estimated loss.\n",
        "You should see that the $\\hat{\\textbf{w}}$ used by the closed form solution is at the darkest blue region.\n",
        "You should also see that the estimated loss for the batch gradient descent weight vector $\\textbf{w}$ gets closer to $\\hat{\\textbf{w}}$ after each gradient descent step.\n",
        "The gradient steps are indicated by the red arrows."
      ]
    },
    {
      "cell_type": "code",
      "execution_count": null,
      "metadata": {
        "id": "P7O6og1t64Mi",
        "cellView": "form",
        "colab": {
          "base_uri": "https://localhost:8080/",
          "height": 49,
          "referenced_widgets": [
            "63484b3dc4884f3c96072163525b60ec",
            "70b1e1839041464e95e59cad8edfd22b",
            "624f9c7421f74e44b3f8bb38a13cda37"
          ]
        },
        "outputId": "405895d1-e725-4d51-8f6f-a57f1b3a6616"
      },
      "outputs": [
        {
          "output_type": "display_data",
          "data": {
            "text/plain": [
              "Checkbox(value=False, description='Show Plot')"
            ],
            "application/vnd.jupyter.widget-view+json": {
              "version_major": 2,
              "version_minor": 0,
              "model_id": "63484b3dc4884f3c96072163525b60ec"
            }
          },
          "metadata": {}
        }
      ],
      "source": [
        "# @title Plot\n",
        "# Create a checkbox widget\n",
        "show_plot_checkbox_loss = widgets.Checkbox(\n",
        "    value=False,\n",
        "    description='Show Plot',\n",
        "    disabled=False\n",
        ")\n",
        "\n",
        "# Function to plot the data\n",
        "def plot_data_loss(change):\n",
        "    clear_output(wait=True)  # Clear the output before plotting or closing the plot\n",
        "    display(show_plot_checkbox_loss)  # Re-display the checkbox after clearing\n",
        "\n",
        "    if show_plot_checkbox_loss.value:\n",
        "        # Get the closed form solution weights and loss\n",
        "        closed_form_predictor, closed_form_weights = closed_form_learner(X_MedInc, Y)\n",
        "        closed_form_loss = calculate_loss(X_MedInc, Y, closed_form_weights)\n",
        "\n",
        "        # Define the range of weight values to evaluate\n",
        "        w0_values = np.linspace(-0.2, 2.5, 100)\n",
        "        w1_values = np.linspace(-0.5, 1.2, 100)\n",
        "\n",
        "        # Create a meshgrid for the weight values\n",
        "        W0, W1 = np.meshgrid(w0_values, w1_values)\n",
        "\n",
        "        # Calculate the estimated loss for each pair of weight values\n",
        "        loss_values = np.zeros_like(W0)\n",
        "        for i in range(W0.shape[0]):\n",
        "            for j in range(W0.shape[1]):\n",
        "                w = np.array([W0[i, j], W1[i, j]])\n",
        "                loss = calculate_loss(X_MedInc, Y, w)\n",
        "                loss_values[i, j] = loss\n",
        "\n",
        "        # Get the weight values from the BGD predictor for different epochs\n",
        "        bgd_weights = []\n",
        "        _, bgd_weight = batch_gradient_descent_learner(X_MedInc, Y, step_size=0.01, epochs=1)\n",
        "        bgd_weights.append(bgd_weight)\n",
        "        for epoch in range(5, 100, 5):\n",
        "            _, bgd_weight = batch_gradient_descent_learner(X_MedInc, Y, step_size=0.01, epochs=epoch)\n",
        "            bgd_weights.append(bgd_weight)\n",
        "\n",
        "        bgd_weights = np.array(bgd_weights)\n",
        "\n",
        "        # Get the weight values from the closed form predictor\n",
        "        _, closed_form_weight = closed_form_learner(X_MedInc, Y)\n",
        "\n",
        "        # Plot the estimated loss as a function of the weight vector in 2D\n",
        "        plt.figure(figsize=(12, 8))\n",
        "        plt.contourf(W0, W1, loss_values, levels=50, cmap='viridis')\n",
        "        plt.colorbar(label='Estimated Loss')\n",
        "        plt.scatter(closed_form_weight[0], closed_form_weight[1], color='green', s=100, label='Closed Form Predictor')\n",
        "        plt.plot(bgd_weights[:, 0], bgd_weights[:, 1], marker='o', color='red', label='BGD Path')\n",
        "        for i in range(len(bgd_weights) - 1):\n",
        "            plt.arrow(bgd_weights[i, 0], bgd_weights[i, 1],\n",
        "                      bgd_weights[i+1, 0] - bgd_weights[i, 0],\n",
        "                      bgd_weights[i+1, 1] - bgd_weights[i, 1],\n",
        "                      head_width=0.045, head_length=0.045, fc='red', ec='red')  # Arrows in red\n",
        "        plt.xlabel('Weight w0')\n",
        "        plt.ylabel('Weight w1')\n",
        "        plt.title('Estimated Loss as a Function of Weight with Gradient Descent Path')\n",
        "        plt.legend()\n",
        "        plt.show()\n",
        "\n",
        "# Attach the function to the checkbox\n",
        "show_plot_checkbox_loss.observe(plot_data_loss, names='value')\n",
        "\n",
        "# Display the checkbox\n",
        "display(show_plot_checkbox_loss)\n"
      ]
    },
    {
      "cell_type": "markdown",
      "metadata": {
        "id": "DwaLXpsT64Mi"
      },
      "source": [
        "One last way we can visualize the estimated loss is by plotting the estimated loss as a function of the number of epochs.\n",
        "This is sometimes called a learning curve, or a loss curve, and is perhaps the most commonly used way to visualize the performance of a learner in machine learning.\n",
        "\n",
        "For this kind of plot we are not limited to visualizing a predictor that only uses a single feature.\n",
        "In particular, now we can use all of the features in the dataset `X` instead of just the median income feature data `X_MedInc` to learn a predictor.\n",
        "We plot the estimated loss as a function of the number of epochs for the predictor output by the batch gradient descent learner using only the median income feature data `X_MedInc`, and all the features in the dataset `X`.\n",
        "\n",
        "What you should see is that the estimated loss decreases as the number of epochs increases for both cases.\n",
        "You should also find that the estimated loss for the predictor output by the learner using all the features in the dataset `X` reached a lower value compared to the predictor output by the learner using only the matrix containing the median income feature `X_MedInc`.\n",
        "This makes sense, since the learner has access to more information (features) and thus should be able to learn a predictor that better fits the data."
      ]
    },
    {
      "cell_type": "code",
      "execution_count": null,
      "metadata": {
        "id": "9PKNwavx64Mi",
        "cellView": "form",
        "colab": {
          "base_uri": "https://localhost:8080/",
          "height": 49,
          "referenced_widgets": [
            "1b31dd549ebb46aa9b3afa7644bb8a8c",
            "4eef3aaca4e04ce2964dbe07edb9e788",
            "9a47d2902f984235ac66b067308caf1d"
          ]
        },
        "outputId": "0dfa5db6-750f-438a-d3d2-f5666ef36fa5"
      },
      "outputs": [
        {
          "output_type": "display_data",
          "data": {
            "text/plain": [
              "Checkbox(value=False, description='Show Plot')"
            ],
            "application/vnd.jupyter.widget-view+json": {
              "version_major": 2,
              "version_minor": 0,
              "model_id": "1b31dd549ebb46aa9b3afa7644bb8a8c"
            }
          },
          "metadata": {}
        }
      ],
      "source": [
        "# @title Plot\n",
        "\n",
        "# Create a checkbox widget\n",
        "show_plot_checkbox_loss_curve = widgets.Checkbox(\n",
        "    value=False,\n",
        "    description='Show Plot',\n",
        "    disabled=False\n",
        ")\n",
        "\n",
        "# Function to plot the data\n",
        "def plot_data_loss_curve(change):\n",
        "    clear_output(wait=True)  # Clear the output before plotting or closing the plot\n",
        "    display(show_plot_checkbox_loss_curve)  # Re-display the checkbox after clearing\n",
        "\n",
        "    if show_plot_checkbox_loss_curve.value:\n",
        "        # Define the number of epochs to evaluate\n",
        "        epochs = range(1, 501)\n",
        "\n",
        "        # Initialize empty lists to store the loss values for each dataset\n",
        "        loss_values_X_MedInc = []\n",
        "        loss_values_X = []\n",
        "\n",
        "        # Train the model for each number of epochs and calculate the loss for each dataset\n",
        "        for epoch in epochs:\n",
        "            # For X_MedInc\n",
        "            _, w_X_MedInc = batch_gradient_descent_learner(X_MedInc, Y, step_size=0.01, epochs=epoch)\n",
        "            loss_X_MedInc = calculate_loss(X_MedInc, Y, w_X_MedInc)\n",
        "            loss_values_X_MedInc.append(loss_X_MedInc)\n",
        "\n",
        "            # For all features X\n",
        "            _, w_X = batch_gradient_descent_learner(X, Y, step_size=0.01, epochs=epoch)\n",
        "            loss_X = calculate_loss(X, Y, w_X)\n",
        "            loss_values_X.append(loss_X)\n",
        "\n",
        "        # Plot the loss as a function of the number of epochs for each dataset\n",
        "        plt.figure(figsize=(10, 5))\n",
        "        plt.plot(epochs, loss_values_X_MedInc, label='X_MedInc')\n",
        "        plt.plot(epochs, loss_values_X, label='All Features X')\n",
        "        plt.xlabel('Number of Epochs')\n",
        "        plt.ylabel('Loss')\n",
        "        plt.title('Loss as a Function of Number of Epochs for Different Feature Sets')\n",
        "        plt.yscale('log')\n",
        "        plt.legend()\n",
        "        plt.show()\n",
        "\n",
        "# Attach the function to the checkbox\n",
        "show_plot_checkbox_loss_curve.observe(plot_data_loss_curve, names='value')\n",
        "\n",
        "# Display the checkbox\n",
        "display(show_plot_checkbox_loss_curve)\n"
      ]
    },
    {
      "cell_type": "markdown",
      "metadata": {
        "id": "VPmwnT_q64Mi"
      },
      "source": [
        "# Part 4: Polynomial Regression\n",
        "\n",
        "Now we would like to explore how polynomial regression can be used to fit our data.\n",
        "To do this you will need to implement a polynomial feature map.\n",
        "We will keep things simply and only ask you to implement a degree 2 polynomial feature map.\n",
        "\n",
        "In Question 4.1 your goal is to implement `phi_2` (representing $\\phi_2$ from the course notes) which takes in a feature vector `x` and returns a new feature vector `poly_features` where `poly_features` is the degree 2 polynomial feature map of `x`.\n",
        "The input `x` is of dimension $d+1$, since the first element is always 1 (to account for the bias term in the weights).\n",
        "You should use the implementation of $\\phi_2$ from the course notes as a reference."
      ]
    },
    {
      "cell_type": "markdown",
      "metadata": {
        "deletable": false,
        "editable": false,
        "id": "CmAyhNfO64Mi"
      },
      "source": [
        "### Question 4.1\n",
        "\n",
        "Implement `phi_2`.\n",
        "\n",
        "_Points:_ 8"
      ]
    },
    {
      "cell_type": "code",
      "execution_count": null,
      "metadata": {
        "tags": [],
        "id": "nsluCWwE64Mi"
      },
      "outputs": [],
      "source": [
        "def phi_2(x):\n",
        "    \"\"\"\n",
        "    Transforms a single feature vector into a polynomial of degree 2 feature vector.\n",
        "\n",
        "    Parameters:\n",
        "    x (numpy array): A single feature vector of size d+1.\n",
        "\n",
        "    Returns:\n",
        "    poly_features (numpy array): A transformed feature vector of size (d+1)*(d+2)/2.\n",
        "    \"\"\"\n",
        "    # Calculate the size of the transformed feature vector\n",
        "    d = len(x) - 1\n",
        "    size = (d+1) * (d+2) // 2\n",
        "\n",
        "    # Initialize the transformed feature vector with zeros\n",
        "    poly_features = np.zeros(size)\n",
        "    j = 0\n",
        "\n",
        "    ### YOUR CODE HERE ###\n",
        "    for k in range(d+1):\n",
        "      for l in range(k,d+1):\n",
        "        poly_features[j] = x[k]*x[l]\n",
        "        j += 1\n",
        "\n",
        "\n",
        "\n",
        "    ######################\n",
        "\n",
        "    return poly_features\n"
      ]
    },
    {
      "cell_type": "code",
      "execution_count": null,
      "metadata": {
        "deletable": false,
        "editable": false,
        "id": "TQPRk3DS64Mi",
        "colab": {
          "base_uri": "https://localhost:8080/",
          "height": 47
        },
        "outputId": "81ff5226-b8ce-44e6-9085-8e7146bab950"
      },
      "outputs": [
        {
          "output_type": "execute_result",
          "data": {
            "text/plain": [
              "q4_1 results: All test cases passed!"
            ],
            "text/html": [
              "<p><strong><pre style='display: inline;'>q4_1</pre></strong> passed! 🌈</p>"
            ]
          },
          "metadata": {},
          "execution_count": 1582
        }
      ],
      "source": [
        "grader.check(\"q4_1\")"
      ]
    },
    {
      "cell_type": "markdown",
      "metadata": {
        "id": "MeN6AkVT64Mj"
      },
      "source": [
        "### Visualizing and Comparing the Polynomial Predictor\n",
        "\n",
        "We would like to use the polynomial feature map to transform the features of all the data points, however `phi_2` is only defined for a single feature vector `x`.\n",
        "To apply the polynomial feature map to a matrix of features `X` we have implemented the function `transform_and_normalize`.\n",
        "This function also normalizes the features after applying the polynomial feature map, which is important step as we discussed in [Understanding the Dataset](#part-1-understanding-the-dataset).\n"
      ]
    },
    {
      "cell_type": "code",
      "execution_count": null,
      "metadata": {
        "id": "bV9RdyY364Mj"
      },
      "outputs": [],
      "source": [
        "def transform_and_normalize(X):\n",
        "    \"\"\"\n",
        "    Transforms the feature matrix X using the given polynomial feature map function phi\n",
        "    and normalizes the polynomial features.\n",
        "\n",
        "    Parameters:\n",
        "    X (numpy array): The feature matrix of size (n, d+1).\n",
        "    phi (function): The polynomial feature map function to apply to each row of X.\n",
        "\n",
        "    Returns:\n",
        "    X_poly (numpy array): The transformed and normalized feature matrix.\n",
        "    \"\"\"\n",
        "    # Apply the phi function to each row of X\n",
        "    X_poly = np.array([phi_2(x) for x in X])\n",
        "\n",
        "    # Normalize the polynomial features, excluding the first column\n",
        "    X_poly_mean = X_poly[:, 1:].mean(axis=0)\n",
        "    X_poly_std = X_poly[:, 1:].std(axis=0)\n",
        "    X_poly[:, 1:] = (X_poly[:, 1:] - X_poly_mean) / X_poly_std\n",
        "\n",
        "    return X_poly"
      ]
    },
    {
      "cell_type": "markdown",
      "metadata": {
        "id": "BmVHGDg_64Mj"
      },
      "source": [
        "So that we can visualize the polynomial predictor, we will again only use a single feature.\n",
        "However, now we will use the feature describing the median number of rooms instead of the median income as we did in the previous sections.\n",
        "This is because, as we will see in the plot, a quadratic function might be a better fit for this data.\n",
        "\n",
        "Below we define the matrix `X_AveRooms` that only contains two columns, the first columns contains all 1s and the second column contains the average number of rooms feature.\n",
        "We also define the matrix `X_AveRooms_poly` which is the polynomial feature map of `X_AveRooms`."
      ]
    },
    {
      "cell_type": "code",
      "execution_count": null,
      "metadata": {
        "id": "1u5BTSjD64Mj"
      },
      "outputs": [],
      "source": [
        "X_AveRooms = np.hstack([np.ones((X.shape[0], 1)), X[:, 3].reshape(-1, 1)])\n",
        "X_AveRooms_poly = transform_and_normalize(X_AveRooms)"
      ]
    },
    {
      "cell_type": "markdown",
      "metadata": {
        "id": "1zzhO0zB64Mj"
      },
      "source": [
        "Now we can pass `X_AveRooms_poly` and `Y` to the `closed_form_learner` to get the polynomial predictor and plot it against the true house prices.\n",
        "We also include the linear predictor (produced by passing `X_AveRooms` to `Y` to the `closed_form_learner`) for comparison.\n",
        "\n",
        "You should see two functions plotted, one that is a line (linear predictor) and one that is a quadratic (polynomial predictor).\n",
        "The quadratic function should fit the data slightly better than the line."
      ]
    },
    {
      "cell_type": "code",
      "execution_count": null,
      "metadata": {
        "id": "4dEzRBJL64Mj",
        "cellView": "form",
        "colab": {
          "base_uri": "https://localhost:8080/",
          "height": 49,
          "referenced_widgets": [
            "89a8ad636ab0483c9ff81dc4b19ee47f",
            "e1dc59362b634bd1b23c31632c8d5e91",
            "799c3d450ebf47efb9f5f6fcd536ea16"
          ]
        },
        "outputId": "f9903b1b-d4f4-4733-8191-a4c75e799c54"
      },
      "outputs": [
        {
          "output_type": "display_data",
          "data": {
            "text/plain": [
              "Checkbox(value=False, description='Show Plot')"
            ],
            "application/vnd.jupyter.widget-view+json": {
              "version_major": 2,
              "version_minor": 0,
              "model_id": "89a8ad636ab0483c9ff81dc4b19ee47f"
            }
          },
          "metadata": {}
        }
      ],
      "source": [
        "# @title Plot\n",
        "\n",
        "# Create a checkbox to control the display of the plot\n",
        "show_plot_checkbox_scatter_poly = widgets.Checkbox(value=False, description='Show Plot')\n",
        "\n",
        "# Function to update the plot based on the checkbox value\n",
        "def plot_scatter_poly(change):\n",
        "    clear_output(wait=True)\n",
        "    display(show_plot_checkbox_scatter_poly)\n",
        "\n",
        "    if show_plot_checkbox_scatter_poly.value:\n",
        "        X_AveRooms_plot = X_AveRooms[:, 1]\n",
        "\n",
        "        # Sort the x-axis and the Y predictions using the same indices\n",
        "        sorted_indices = np.argsort(X_AveRooms_plot)\n",
        "        X_AveRooms_plot_sorted = X_AveRooms_plot[sorted_indices]\n",
        "\n",
        "        # Scatter plot of X_AveRooms vs Y\n",
        "        plt.figure(figsize=(10, 5))\n",
        "        plt.scatter(X_AveRooms_plot, Y, alpha=0.3, label='Actual Data')\n",
        "\n",
        "        # Closed form predictor for X_AveRooms\n",
        "        closed_form_predictor_AveRooms, closed_form_weights_AveRooms = closed_form_learner(X_AveRooms, Y)\n",
        "        Y_pred_AveRooms = closed_form_predictor_AveRooms(X_AveRooms)\n",
        "        Y_pred_AveRooms_sorted = Y_pred_AveRooms[sorted_indices]\n",
        "        plt.plot(X_AveRooms_plot_sorted, Y_pred_AveRooms_sorted, color='red', label='Closed Form Predictor (X_AveRooms)')\n",
        "\n",
        "        # Closed form predictor for X_AveRooms_poly\n",
        "        closed_form_predictor_AveRooms_poly, closed_form_weights_AveRooms_poly = closed_form_learner(X_AveRooms_poly, Y)\n",
        "        Y_pred_AveRooms_poly = closed_form_predictor_AveRooms_poly(X_AveRooms_poly)\n",
        "        Y_pred_AveRooms_poly_sorted = Y_pred_AveRooms_poly[sorted_indices]\n",
        "        plt.plot(X_AveRooms_plot_sorted, Y_pred_AveRooms_poly_sorted, color='blue', label='Closed Form Predictor (X_AveRooms_poly)')\n",
        "\n",
        "        # Labels and legend\n",
        "        plt.xlabel('Average Rooms')\n",
        "        plt.ylabel('Median House Price')\n",
        "        plt.legend()\n",
        "        plt.show()\n",
        "\n",
        "# Attach the function to the checkbox\n",
        "show_plot_checkbox_scatter_poly.observe(plot_scatter_poly, names='value')\n",
        "\n",
        "# Initial display\n",
        "display(show_plot_checkbox_scatter_poly)"
      ]
    },
    {
      "cell_type": "markdown",
      "metadata": {
        "id": "bPJGZXbq64Mj"
      },
      "source": [
        "If you were not convinced by the previous plots that a quadratic function might be a better fit for the data, we can compute the estimated loss $\\hat L(\\hat{\\mathbf{w}})$ of the linear and polynomial predictors.\n",
        "This gives us a single number that quantifies how well the predictor fits the data.\n",
        "Intuitively, this number tells us on average how far off the predictor is from the true house prices (in terms of a the squared distance).\n",
        "\n",
        "Below you should see a bar plot containing two bars, one for the linear predictor and one for the polynomial predictor.\n",
        "You should also see that the estimated loss for the polynomial predictor is lower than the estimated loss for the linear predictor.\n",
        "This makes sense, since the polynomial features contain all the linear features, but also include all the quadratic features, which means the polynomial predictor always has at least as much information as the linear predictor."
      ]
    },
    {
      "cell_type": "code",
      "execution_count": null,
      "metadata": {
        "id": "zfIzBy7n64Mj",
        "cellView": "form",
        "colab": {
          "base_uri": "https://localhost:8080/",
          "height": 49,
          "referenced_widgets": [
            "a7ed83b02c374b2ab407cc9dd8b915d1",
            "fb19b588a26044c9a3b28157e66461e4",
            "a4af349cbd2e4b8bbc2bc4966d5131cb"
          ]
        },
        "outputId": "e3db275e-a2ab-4cb9-bb9e-990d61649d1e"
      },
      "outputs": [
        {
          "output_type": "display_data",
          "data": {
            "text/plain": [
              "Checkbox(value=False, description='Show Plot')"
            ],
            "application/vnd.jupyter.widget-view+json": {
              "version_major": 2,
              "version_minor": 0,
              "model_id": "a7ed83b02c374b2ab407cc9dd8b915d1"
            }
          },
          "metadata": {}
        }
      ],
      "source": [
        "# @title Plot\n",
        "\n",
        "# Create a checkbox to control the display of the plot\n",
        "show_plot_checkbox_loss_comparison_poly = widgets.Checkbox(value=False, description='Show Plot')\n",
        "\n",
        "\n",
        "# Function to update the plot based on the checkbox value\n",
        "def plot_loss_comparison_poly(change):\n",
        "    clear_output(wait=True)\n",
        "    display(show_plot_checkbox_loss_comparison_poly)\n",
        "\n",
        "    # Define closed_form_weights_AveRooms and closed_form_weights_AveRooms_poly\n",
        "    closed_form_predictor_AveRooms, closed_form_weights_AveRooms = closed_form_learner(X_AveRooms, Y)\n",
        "    closed_form_predictor_AveRooms_poly, closed_form_weights_AveRooms_poly = closed_form_learner(X_AveRooms_poly, Y)\n",
        "\n",
        "    if show_plot_checkbox_loss_comparison_poly.value:\n",
        "        # Calculate the loss for the closed form predictor using X_AveRooms\n",
        "        loss_AveRooms = calculate_loss(X_AveRooms, Y, closed_form_weights_AveRooms)\n",
        "\n",
        "        # Calculate the loss for the closed form predictor using X_AveRooms_poly\n",
        "        loss_AveRooms_poly = calculate_loss(X_AveRooms_poly, Y, closed_form_weights_AveRooms_poly)\n",
        "\n",
        "        # Create a bar plot of the loss for the two predictors with softer colors\n",
        "        plt.figure(figsize=(8, 5))\n",
        "        plt.bar(['X_AveRooms', 'X_AveRooms_poly'], [loss_AveRooms, loss_AveRooms_poly], color=['#87CEEB', '#FFB6C1'])\n",
        "        plt.xlabel('Features')\n",
        "        plt.ylabel('Loss')\n",
        "        plt.title('Loss for Closed Form Predictors')\n",
        "        plt.show()\n",
        "\n",
        "# Attach the function to the checkbox\n",
        "show_plot_checkbox_loss_comparison_poly.observe(plot_loss_comparison_poly, names='value')\n",
        "\n",
        "# Initial display\n",
        "display(show_plot_checkbox_loss_comparison_poly)"
      ]
    },
    {
      "cell_type": "markdown",
      "metadata": {
        "id": "K_6JEVBd64Mj"
      },
      "source": [
        "We can also use the bar plot to compare the estimated loss of the linear and polynomial predictors obtained when `closed_form_learner` uses the matrix of all the features in the dataset `X` instead of the matrix containing just the average number of rooms feature `X_AveRooms`.\n",
        "\n",
        "In the next code cell we transform the features in `X` into polynomial features `X_poly`."
      ]
    },
    {
      "cell_type": "code",
      "execution_count": null,
      "metadata": {
        "id": "xQkVxOAP64Mj"
      },
      "outputs": [],
      "source": [
        "X_poly = transform_and_normalize(X)"
      ]
    },
    {
      "cell_type": "markdown",
      "metadata": {
        "id": "oAH_nafP64Mj"
      },
      "source": [
        "In the plotting section of [Batch Gradient Descent](#part-3-batch-gradient-descent), we discussed how if the learner has access to more features, it should be able to learn a predictor that better fits the data.\n",
        "We verify this by using a bar plot, but now include the estimated loss for the linear and polynomial predictors obtained when `closed_form_learner` is trained on all the features in the dataset `X` or `X_poly` instead of just the average number of rooms feature `X_AveRooms`.\n",
        "\n",
        "You shold see that when all the features `X` or `X_poly` are used, the estimated loss for the predictors is lower than when only the average number of rooms feature `X_AveRooms` or `X_AveRooms_poly` is used.\n",
        "You should also see that the predictor trained of `X_poly` has a lower estimated loss than the predictor trained on `X`."
      ]
    },
    {
      "cell_type": "code",
      "execution_count": null,
      "metadata": {
        "id": "dciMgG6S64Mj",
        "cellView": "form",
        "colab": {
          "base_uri": "https://localhost:8080/",
          "height": 49,
          "referenced_widgets": [
            "a855df4833164c03b6a8a635365f3f4e",
            "5969d42a3e7e49f1a45188ee69e8d05c",
            "63865cfba90c45c6ba19e09bf2ac190b"
          ]
        },
        "outputId": "3f838a2d-9bae-4a33-cbb7-75a7722d41e9"
      },
      "outputs": [
        {
          "output_type": "display_data",
          "data": {
            "text/plain": [
              "Checkbox(value=False, description='Show Plot')"
            ],
            "application/vnd.jupyter.widget-view+json": {
              "version_major": 2,
              "version_minor": 0,
              "model_id": "a855df4833164c03b6a8a635365f3f4e"
            }
          },
          "metadata": {}
        }
      ],
      "source": [
        "# @title Plot\n",
        "\n",
        "# Create a checkbox to control the display of the plot\n",
        "show_plot_checkbox_loss_comparison_poly_full = widgets.Checkbox(value=False, description='Show Plot')\n",
        "\n",
        "# Function to update the plot based on the checkbox value\n",
        "def plot_loss_comparison_poly_full(change):\n",
        "    clear_output(wait=True)\n",
        "    display(show_plot_checkbox_loss_comparison_poly_full)\n",
        "\n",
        "    # Define closed_form_weights_AveRooms and closed_form_weights_AveRooms_poly\n",
        "    closed_form_predictor_AveRooms, closed_form_weights_AveRooms = closed_form_learner(X_AveRooms, Y)\n",
        "    closed_form_predictor_AveRooms_poly, closed_form_weights_AveRooms_poly = closed_form_learner(X_AveRooms_poly, Y)\n",
        "    closed_form_predictor_X, closed_form_weights_X = closed_form_learner(X, Y)\n",
        "    closed_form_predictor_X_poly, closed_form_weights_X_poly = closed_form_learner(X_poly, Y)\n",
        "\n",
        "    if show_plot_checkbox_loss_comparison_poly_full.value:\n",
        "        # Calculate the loss for the closed form predictor using X_AveRooms\n",
        "        loss_AveRooms = calculate_loss(X_AveRooms, Y, closed_form_weights_AveRooms)\n",
        "\n",
        "        # Calculate the loss for the closed form predictor using X_AveRooms_poly\n",
        "        loss_AveRooms_poly = calculate_loss(X_AveRooms_poly, Y, closed_form_weights_AveRooms_poly)\n",
        "\n",
        "        # Calculate the loss for the closed form predictor using X\n",
        "        loss_X = calculate_loss(X, Y, closed_form_weights_X)\n",
        "\n",
        "        # Calculate the loss for the closed form predictor using X_poly\n",
        "        loss_X_poly = calculate_loss(X_poly, Y, closed_form_weights_X_poly)\n",
        "\n",
        "        # Create a bar plot of the loss for the four predictors with softer colors\n",
        "        plt.figure(figsize=(10, 5))\n",
        "        plt.bar(['X_AveRooms', 'X_AveRooms_poly', 'X', 'X_poly'],\n",
        "                [loss_AveRooms, loss_AveRooms_poly, loss_X, loss_X_poly],\n",
        "                color=['#87CEEB', '#FFB6C1', '#90EE90', '#FFD700'])\n",
        "        plt.xlabel('Features')\n",
        "        plt.ylabel('Loss')\n",
        "        plt.title('Loss for Closed Form Predictors')\n",
        "        plt.show()\n",
        "\n",
        "# Attach the function to the checkbox\n",
        "show_plot_checkbox_loss_comparison_poly_full.observe(plot_loss_comparison_poly_full, names='value')\n",
        "\n",
        "# Initial display\n",
        "display(show_plot_checkbox_loss_comparison_poly_full)"
      ]
    },
    {
      "cell_type": "markdown",
      "metadata": {
        "id": "mPs7pB5o64Mk"
      },
      "source": [
        "# Part 5: Mini-Batch Gradient Descent\n",
        "\n",
        "Lets now implement the mini-batch gradient descent learner for linear regression.\n",
        "In Question 5.1 your goal is to implement `minibatch_gradient_descent_learner` which takes all the same inputs as `batch_gradient_descent_learner` but also takes an additional parameter `batch_size` which is the size of the mini-batches.\n",
        "You should use a constant step size `step_size` for this implementation.\n",
        "Your implementation should be based on the MBGD Linear Regression learner from the course notes.\n",
        "\n",
        "**A note on implementation:**\n",
        "You should use `np.random.permutation` to help you shuffle the dataset `X` and `Y`.\n",
        "This function returns a random permutation of the integers from 0 to `n` - 1, where `n` is the number of data points in the dataset.\n",
        "For example, `np.random.permutation(5)` might return `[2, 0, 4, 1, 3]`.\n",
        "You can use this permutation to shuffle the dataset by indexing the dataset with the permutation (e.g. `X[permutation]` will return a shuffled version of `X`)."
      ]
    },
    {
      "cell_type": "markdown",
      "metadata": {
        "deletable": false,
        "editable": false,
        "id": "gjsJ2JSm64Mk"
      },
      "source": [
        "### Question 5.1\n",
        "\n",
        "Implement `minibatch_gradient_descent_learner`.\n",
        "\n",
        "_Points:_ 8"
      ]
    },
    {
      "cell_type": "code",
      "execution_count": null,
      "metadata": {
        "tags": [],
        "id": "gjYyIs3W64Mk"
      },
      "outputs": [],
      "source": [
        "def minibatch_gradient_descent_learner(X, Y, step_size=0.01, epochs=10, batch_size=32, random_seed=42):\n",
        "    '''\n",
        "    Solves linear regression using mini-batch gradient descent with a fixed step size.\n",
        "\n",
        "    Parameters:\n",
        "    X (numpy array): Feature matrix of size (n, d+1), where n is the number of samples\n",
        "                     and d is the number of features. The first column should be all 1s.\n",
        "    Y (numpy array): Target vector of size (n, 1).\n",
        "    step_size (float): The step size for gradient descent.\n",
        "    epochs (int): The number of iterations to run gradient descent.\n",
        "    batch_size (int): The size of each mini-batch.\n",
        "    random_seed (int): The seed for the random number generator.\n",
        "\n",
        "    Returns:\n",
        "    predictor (function): A function that takes a feature vector and returns a predicted value.\n",
        "    w (numpy array): The final weights after applying gradient descent for the specified epochs.\n",
        "    '''\n",
        "    np.random.seed(random_seed)  # Set the random seed for reproducibility\n",
        "    n, d = X[:, 1:].shape\n",
        "    w = np.random.randn(d+1) # initialize the weights randomly\n",
        "    M = np.floor(n / batch_size).astype(int)  # Number of mini-batches\n",
        "\n",
        "    ### YOUR CODE GOES HERE ###\n",
        "    for t in range(epochs):\n",
        "\n",
        "        permutation = np.random.permutation(n)\n",
        "        X_shuffled = X[permutation]\n",
        "        Y_shuffled = Y[permutation]\n",
        "\n",
        "        for m in range(1, M+1):\n",
        "\n",
        "            start_index = (m-1) * batch_size + 1\n",
        "            end_index = m * batch_size\n",
        "            X_batch = X_shuffled[start_index-1:end_index]\n",
        "            Y_batch = Y_shuffled[start_index-1:end_index]\n",
        "\n",
        "            gradient = (2 / batch_size) * X_batch.T @ (X_batch @ w - Y_batch)\n",
        "            w = w - step_size * gradient\n",
        "\n",
        "    ########################\n",
        "\n",
        "    def predictor(x):\n",
        "        return x @ w\n",
        "\n",
        "    return predictor, w\n"
      ]
    },
    {
      "cell_type": "code",
      "execution_count": null,
      "metadata": {
        "deletable": false,
        "editable": false,
        "id": "j_ioozl764Mk",
        "colab": {
          "base_uri": "https://localhost:8080/",
          "height": 47
        },
        "outputId": "f0712988-8567-41b0-a3a0-96742633a51b"
      },
      "outputs": [
        {
          "output_type": "execute_result",
          "data": {
            "text/plain": [
              "q5_1 results: All test cases passed!"
            ],
            "text/html": [
              "<p><strong><pre style='display: inline;'>q5_1</pre></strong> passed! ✨</p>"
            ]
          },
          "metadata": {},
          "execution_count": 1590
        }
      ],
      "source": [
        "grader.check(\"q5_1\")"
      ]
    },
    {
      "cell_type": "markdown",
      "metadata": {
        "id": "3q4lCAT964Mk"
      },
      "source": [
        "## Comparing Different Batch Sizes\n",
        "\n",
        "Lets continue with the example from the [Polynomial Regression](#part-4-polynomial-regression) section where we used the matrix `X_poly` containing all the features in the dataset `X` transformed into polynomial features.\n",
        "Recall that the `closed_form_learner` outputs the predictor that exactly minimizes the estimated loss $\\hat L(\\mathbf{w})$.\n",
        "Thus, a good way to evaluate the performance of the `minibatch_gradient_descent_learner` is to compare the estimated loss of the predictor it outputs to the estimated loss of the predictor output by the `closed_form_learner`.\n",
        "We will do this for different batch sizes: $1, 32$ and $n$ (which is the full batch and is equivalent to the batch gradient descent learner).\n",
        "We also run the `minibatch_gradient_descent_learner` for 1000 epochs, which should be more than enough epochs for the predictor to converge to a good solution.\n",
        "\n",
        "We show a bar plot of the results. You should see that the estimated loss for the closed form predictor has the smallest value, and that the estimated loss for the mini-batch gradient descent predictor approaches the estimated loss for the closed form predictor as the batch size decreases.\n",
        "This gives us some practical verification that indeed using a smaller batch size can be a good idea.\n",
        "In particular for this dataset, using a batch size of 1 seems to be the best."
      ]
    },
    {
      "cell_type": "code",
      "execution_count": null,
      "metadata": {
        "id": "zdqoICGy64Mk",
        "cellView": "form",
        "colab": {
          "base_uri": "https://localhost:8080/",
          "height": 49,
          "referenced_widgets": [
            "e56da45093a94a5aa20ec551c0733985",
            "e1321509e48244c697eca42d5962d583",
            "ac5ab60205d4472daad36eedfc7ee8d6"
          ]
        },
        "outputId": "d0ab81ff-edec-49ce-db99-2d7403a4b532"
      },
      "outputs": [
        {
          "output_type": "display_data",
          "data": {
            "text/plain": [
              "Checkbox(value=False, description='Show Plot')"
            ],
            "application/vnd.jupyter.widget-view+json": {
              "version_major": 2,
              "version_minor": 0,
              "model_id": "e56da45093a94a5aa20ec551c0733985"
            }
          },
          "metadata": {}
        }
      ],
      "source": [
        "# @title Plot\n",
        "\n",
        "# Create a checkbox to control the display of the plot\n",
        "show_plot_checkbox_minibatch = widgets.Checkbox(value=False, description='Show Plot')\n",
        "\n",
        "# Function to update the plot based on the checkbox value\n",
        "def plot_minibatch(change):\n",
        "    clear_output(wait=True)\n",
        "    display(show_plot_checkbox_minibatch)\n",
        "\n",
        "    # Define the number of epochs\n",
        "    epochs = 1000\n",
        "\n",
        "    # Closed form predictors\n",
        "    closed_form_predictor_X_poly, closed_form_weights_X_poly = closed_form_learner(X_poly, Y)\n",
        "\n",
        "    # Calculate the loss for the closed form predictors\n",
        "    loss_X_poly = calculate_loss(X_poly, Y, closed_form_weights_X_poly)\n",
        "\n",
        "    # Minibatch gradient descent with batch size 32\n",
        "    _, w_mb_32_poly = minibatch_gradient_descent_learner(X_poly, Y, step_size=0.001, epochs=epochs, batch_size=32)\n",
        "    loss_mb_32_poly = calculate_loss(X_poly, Y, w_mb_32_poly)\n",
        "\n",
        "    # Minibatch gradient descent with batch size 1\n",
        "    _, w_mb_1_poly = minibatch_gradient_descent_learner(X_poly, Y, step_size=0.0001, epochs=epochs, batch_size=1)\n",
        "    loss_mb_1_poly = calculate_loss(X_poly, Y, w_mb_1_poly)\n",
        "\n",
        "    # Batch gradient descent (batch size = n)\n",
        "    _, w_bgd_poly = batch_gradient_descent_learner(X_poly, Y, step_size=0.01, epochs=epochs)\n",
        "    loss_bgd_poly = calculate_loss(X_poly, Y, w_bgd_poly)\n",
        "\n",
        "    # Create a bar plot of the losses\n",
        "    labels = ['Closed Form (X_poly)', 'MBGD (Batch 1, X_poly)', 'MBGD (Batch 32, X_poly)', 'BGD (X_poly)']\n",
        "    losses = [loss_X_poly, loss_mb_1_poly, loss_mb_32_poly, loss_bgd_poly]\n",
        "\n",
        "    # Define a more visually appealing color palette\n",
        "    colors = ['#4E79A7', '#F28E2B', '#E15759', '#76B7B2']\n",
        "\n",
        "    if show_plot_checkbox_minibatch.value:\n",
        "        plt.figure(figsize=(12, 6))\n",
        "        plt.bar(labels, losses, color=colors)\n",
        "        plt.xlabel('Predictors')\n",
        "        plt.ylabel('Loss')\n",
        "        plt.title('Loss for Different Predictors (Gradient Descent run for 1000 epochs)')\n",
        "        plt.xticks(rotation=0)\n",
        "        plt.show()\n",
        "\n",
        "# Attach the function to the checkbox\n",
        "show_plot_checkbox_minibatch.observe(plot_minibatch, names='value')\n",
        "\n",
        "# Initial display\n",
        "display(show_plot_checkbox_minibatch)\n"
      ]
    },
    {
      "cell_type": "markdown",
      "metadata": {
        "id": "C6_G_fJx64Mk"
      },
      "source": [
        "# Part 6: Step Sizes\n",
        "\n",
        "So far we have been using a constant step size $\\eta^{(t)} = \\eta$.\n",
        "However, in class we learned that the step size can be chosen in a variety of ways.\n",
        "In this section we will explore how different step sizes can affect the performance of the batch gradient descent learner.\n",
        "\n",
        "To do this, you will need to implement the different step size functions described in class.\n",
        "To keep the inputs consistent for all the step size functions, we will assume the input is a dictionary `state` that contains the following keys:\n",
        "- `eta` which is the initial step size,\n",
        "- `lambda_` which is the decay rate,\n",
        "- `epoch` which is the current epoch,\n",
        "- `gradient` which is the gradient at the current epoch,\n",
        "- `eps` which is a small constant to prevent division by zero.\n",
        "\n",
        "You can access the values of the dictionary using the keys, for example `state['eta']` will return the initial step size.\n",
        "As an example, we implement the constant step size function `constant_step_size` below, which is defined as $\\eta^{(t)} = \\eta$."
      ]
    },
    {
      "cell_type": "code",
      "execution_count": null,
      "metadata": {
        "id": "nvBtaX-b64Mk"
      },
      "outputs": [],
      "source": [
        "def constant_step_size(state):\n",
        "    \"\"\"\n",
        "    Returns a constant step size.\n",
        "\n",
        "    Parameters:\n",
        "    state (dict): A dictionary containing the state variables, including 'eta'.\n",
        "\n",
        "    Returns:\n",
        "    float: The constant step size.\n",
        "    \"\"\"\n",
        "    step_size = state['eta']\n",
        "    return step_size"
      ]
    },
    {
      "cell_type": "markdown",
      "metadata": {
        "deletable": false,
        "editable": false,
        "id": "2_UWyzMT64Mk"
      },
      "source": [
        "### Question 6.1\n",
        "\n",
        "Implement `inverse_decaying_step_size` which is defined as\n",
        "$$\\eta^{(t)} = \\frac{\\eta}{1 + \\lambda t}$$\n",
        "\n",
        "_Points:_ 4"
      ]
    },
    {
      "cell_type": "code",
      "execution_count": null,
      "metadata": {
        "tags": [],
        "id": "l29l0ovF64Mk"
      },
      "outputs": [],
      "source": [
        "def inverse_decaying_step_size(state):\n",
        "    \"\"\"\n",
        "    Returns an inverse decaying step size.\n",
        "\n",
        "    Parameters:\n",
        "    state (dict): A dictionary containing the state variables, including 'eta', 'lambda_', and 'epoch'.\n",
        "\n",
        "    Returns:\n",
        "    step_size (float): The step size for the given epoch.\n",
        "    \"\"\"\n",
        "    ### YOUR CODE HERE ###\n",
        "\n",
        "    eta = state['eta']\n",
        "    lambda_ = state['lambda_']\n",
        "    epoch = state['epoch']\n",
        "    step_size = eta/(1+lambda_*epoch)\n",
        "\n",
        "    ######################\n",
        "    return step_size"
      ]
    },
    {
      "cell_type": "code",
      "execution_count": null,
      "metadata": {
        "deletable": false,
        "editable": false,
        "id": "L5qibZWU64Mk",
        "colab": {
          "base_uri": "https://localhost:8080/",
          "height": 47
        },
        "outputId": "049e2121-6abf-426a-cabc-9ebe9276c88a"
      },
      "outputs": [
        {
          "output_type": "execute_result",
          "data": {
            "text/plain": [
              "q6_1 results: All test cases passed!"
            ],
            "text/html": [
              "<p><strong><pre style='display: inline;'>q6_1</pre></strong> passed! 🌟</p>"
            ]
          },
          "metadata": {},
          "execution_count": 1594
        }
      ],
      "source": [
        "grader.check(\"q6_1\")"
      ]
    },
    {
      "cell_type": "markdown",
      "metadata": {
        "deletable": false,
        "editable": false,
        "id": "pG9sULOX64Ml"
      },
      "source": [
        "### Question 6.2\n",
        "\n",
        "Implement `exponential_decaying_step_size` which is defined as\n",
        "$$\\eta^{(t)} = \\eta \\exp(-\\lambda t).$$\n",
        "You can use `np.exp` to implement the exponential function.\n",
        "\n",
        "_Points:_ 4"
      ]
    },
    {
      "cell_type": "code",
      "execution_count": null,
      "metadata": {
        "tags": [],
        "id": "FRzegfZQ64Ml"
      },
      "outputs": [],
      "source": [
        "def exponential_decaying_step_size(state):\n",
        "    \"\"\"\n",
        "    Returns an exponentially decaying step size.\n",
        "\n",
        "    Parameters:\n",
        "    state (dict): A dictionary containing the state variables, including 'eta', 'lambda_', and 'epoch'.\n",
        "\n",
        "    Returns:\n",
        "    step_size (float): The step size for the given epoch.\n",
        "    \"\"\"\n",
        "    ### YOUR CODE HERE ###\n",
        "\n",
        "    eta = state['eta']\n",
        "    lambda_ = state['lambda_']\n",
        "    epoch = state['epoch']\n",
        "    step_size = eta * np.exp(-lambda_ * epoch)\n",
        "\n",
        "    ######################\n",
        "    return step_size"
      ]
    },
    {
      "cell_type": "code",
      "execution_count": null,
      "metadata": {
        "deletable": false,
        "editable": false,
        "id": "ISVSgTq164Ml",
        "colab": {
          "base_uri": "https://localhost:8080/",
          "height": 47
        },
        "outputId": "589790a0-d0e0-4a4b-8772-74f49c3d1267"
      },
      "outputs": [
        {
          "output_type": "execute_result",
          "data": {
            "text/plain": [
              "q6_2 results: All test cases passed!"
            ],
            "text/html": [
              "<p><strong><pre style='display: inline;'>q6_2</pre></strong> passed! 🎉</p>"
            ]
          },
          "metadata": {},
          "execution_count": 1596
        }
      ],
      "source": [
        "grader.check(\"q6_2\")"
      ]
    },
    {
      "cell_type": "markdown",
      "metadata": {
        "deletable": false,
        "editable": false,
        "id": "qpj2Q6kI64Ml"
      },
      "source": [
        "### Question 6.3\n",
        "\n",
        "Implement `normalized_gradient_step_size` which is defined as\n",
        "$$\\eta^{(t)} = \\frac{\\eta}{\\epsilon + \\| \\text{gradient} \\|}.$$\n",
        "You can use `np.linalg.norm` to calculate the 2-norm of the gradient\n",
        "\n",
        "_Points:_ 4"
      ]
    },
    {
      "cell_type": "code",
      "execution_count": null,
      "metadata": {
        "tags": [],
        "id": "LRy50Rva64Ml"
      },
      "outputs": [],
      "source": [
        "def normalized_gradient_step_size(state):\n",
        "    \"\"\"\n",
        "    Returns a normalized step size based on the gradient.\n",
        "\n",
        "    Parameters:\n",
        "    state (dict): A dictionary containing the state variables, including 'eta', 'gradient', and 'eps'.\n",
        "\n",
        "    Returns:\n",
        "    step_size (float): The normalized step size.\n",
        "    \"\"\"\n",
        "\n",
        "    ### YOUR CODE HERE ###\n",
        "\n",
        "    eta = state['eta']\n",
        "    gradient = state['gradient']\n",
        "    eps = state['eps']\n",
        "    step_size = eta/(eps + np.linalg.norm(gradient))\n",
        "\n",
        "    ######################\n",
        "    return step_size"
      ]
    },
    {
      "cell_type": "code",
      "execution_count": null,
      "metadata": {
        "deletable": false,
        "editable": false,
        "id": "WIkFBwSQ64Ml",
        "colab": {
          "base_uri": "https://localhost:8080/",
          "height": 47
        },
        "outputId": "ddc44fa1-346e-4f1f-edb7-6e935e97e3b4"
      },
      "outputs": [
        {
          "output_type": "execute_result",
          "data": {
            "text/plain": [
              "q6_3 results: All test cases passed!"
            ],
            "text/html": [
              "<p><strong><pre style='display: inline;'>q6_3</pre></strong> passed! 🚀</p>"
            ]
          },
          "metadata": {},
          "execution_count": 1598
        }
      ],
      "source": [
        "grader.check(\"q6_3\")"
      ]
    },
    {
      "cell_type": "markdown",
      "metadata": {
        "deletable": false,
        "editable": false,
        "id": "q40DQRnN64Ml"
      },
      "source": [
        "### Question 6.4\n",
        "\n",
        "Now that you have implemented the different step size functions, you have to modify the `batch_gradient_descent_learner` to accept a `step_size_func` parameter.\n",
        "We will call this new learner `batch_gradient_descent_learner_ss` (ss stands for step size).\n",
        "Compared to the previous `batch_gradient_descent_learner`, the new learner takes as input the additional parameters:\n",
        "- `step_size_func` which is the step size function to use,\n",
        "- `eta` which is the initial step size (previously we called this `step_size`),\n",
        "- `lambda_` which is the decay rate\n",
        "- `eps` which is a small constant to prevent division by zero.\n",
        "\n",
        "We have already started the implementation for you by defining the `state` dictionary.\n",
        "Your implementation of `batch_gradient_descent_learner_ss` should look similar to your implementation of `batch_gradient_descent_learner`, but with the step size being calculated using the `step_size_func` function.\n",
        "Also, make sure to update the `epoch` and `gradient` values in the `state` dictionary before calling the `step_size_func`.\n",
        "\n",
        "_Points:_ 4"
      ]
    },
    {
      "cell_type": "code",
      "execution_count": null,
      "metadata": {
        "tags": [],
        "id": "dPaIzXsE64Ml"
      },
      "outputs": [],
      "source": [
        "def batch_gradient_descent_learner_ss(X, Y, step_size_func, eta=0.01, lambda_=0.01, epochs=10, eps=1e-8, random_seed=42):\n",
        "    '''\n",
        "    Solves linear regression using batch gradient descent with a custom step size function.\n",
        "\n",
        "    Parameters:\n",
        "    X (numpy array): Feature matrix of size (n, d+1), where n is the number of samples\n",
        "                     and d is the number of features. The first column should be all 1s.\n",
        "    Y (numpy array): Target vector of size (n, 1).\n",
        "    step_size_func (function): A function that takes a state dictionary and returns the step size.\n",
        "    eta (float): The initial step size for gradient descent.\n",
        "    lambda_ (float): The decay rate for the step size functions that require it.\n",
        "    epochs (int): The number of iterations to run gradient descent.\n",
        "    eps (float): A small value to prevent division by zero in the normalized gradient step size function.\n",
        "    random_seed (int, optional): A random seed for initializing the weights.\n",
        "\n",
        "    Returns:\n",
        "    predictor (function): A function that takes a feature vector and returns a predicted value.\n",
        "    w (numpy array): The final weights after applying gradient descent for the specified epochs.\n",
        "    '''\n",
        "    n, d = X[:, 1:].shape\n",
        "    np.random.seed(random_seed)\n",
        "    w = np.random.randn(d+1) # initialize the weights randomly\n",
        "\n",
        "    # Initialize the state dictionary\n",
        "    state = {\n",
        "        'eta': eta,\n",
        "        'lambda_': lambda_,\n",
        "        'epoch': 1,\n",
        "        'gradient': np.zeros(d+1),\n",
        "        'eps': eps\n",
        "    }\n",
        "\n",
        "\n",
        "    ### YOUR CODE HERE ###\n",
        "    for epoch in range(epochs):\n",
        "        gradient = 2/n * ((X.T @ X @ w) - (X.T @ Y))\n",
        "        state['epoch'] = epoch\n",
        "        state['gradient'] = gradient\n",
        "        step_size = step_size_func(state)\n",
        "        w = w - step_size * gradient\n",
        "\n",
        "\n",
        "    ######################\n",
        "\n",
        "    def predictor(x):\n",
        "        return x @ w\n",
        "\n",
        "    return predictor, w"
      ]
    },
    {
      "cell_type": "code",
      "execution_count": null,
      "metadata": {
        "deletable": false,
        "editable": false,
        "id": "UMCLTu8b64Ml",
        "colab": {
          "base_uri": "https://localhost:8080/",
          "height": 47
        },
        "outputId": "bb377226-d912-4a71-9330-ae535c0fd720"
      },
      "outputs": [
        {
          "output_type": "execute_result",
          "data": {
            "text/plain": [
              "q6_4 results: All test cases passed!"
            ],
            "text/html": [
              "<p><strong><pre style='display: inline;'>q6_4</pre></strong> passed! 🌈</p>"
            ]
          },
          "metadata": {},
          "execution_count": 1600
        }
      ],
      "source": [
        "grader.check(\"q6_4\")"
      ]
    },
    {
      "cell_type": "markdown",
      "metadata": {
        "id": "0TfzIjCK64Ml"
      },
      "source": [
        "### Learning Curves for Different Step Sizes\n",
        "\n",
        "We can once again continue with using `X_poly` and `Y` as the dataset.\n",
        "We will compare the performance of the different step size functions by plotting the estimated loss $\\hat L(\\mathbf{w})$ as a function of the number of epochs for each step size function.\n",
        "\n",
        "You can use the sliders to change the different parameters of the step size functions.\n",
        "\n",
        "You should see that when you make `eta` too large the estimated loss can actually increase.\n",
        "This is the case we saw in class where the step size is too large and the learner overshoots the minimum more and more after each step, causing for gradient descent to diverge."
      ]
    },
    {
      "cell_type": "code",
      "execution_count": null,
      "metadata": {
        "id": "pnI9M9_664Ml",
        "cellView": "form",
        "colab": {
          "base_uri": "https://localhost:8080/",
          "height": 583,
          "referenced_widgets": [
            "066a78d079944cdc8596f7841bbf566d",
            "b51cb56a5f3241f796eff0618199a154",
            "b81451309490469788b029693ad3ae70",
            "cd9ecfee1ea14fdeae4a95a99d521fe6",
            "2834a842cb344715bf6b1315494b248b",
            "74bd0ec233334ef79731dc3a3e7b83a3",
            "fc3ce147535049f083140f0cdcccc431",
            "76820eb21ead4cb3be7df3180cdcc965",
            "ef8d76045e9a41e2abde4907e57a7d7f",
            "430df723fd544c9090a951a12676a6e2",
            "27fb6c2ed7a84638836d5e8382585f63",
            "f265d228dea846b88dde1fbb5d77c3e2",
            "7ba881a8a24f439082e084c0792864b3",
            "37384eac18104c5d9dfb9848b1c22d97",
            "fb60bc546d6a47f095a66ca9937369b9",
            "14858334b71743759add6e915ea2561d",
            "37fe244db4f846038f708ff8c7296b91",
            "4ec9986c16894a439bb63f78a6a957af",
            "7f98314ce1d1443b9aee45a6e16c4a74",
            "32d2e467c1464faab6e73530aaedfc6c",
            "80397dc5e6e34982ae76b0b143081a09",
            "90f149230dd04ce0b139e41c5004dd51",
            "10f997c5468940e0bc5bad3c3587f0f2",
            "1044f8f780494fe9b265aa06d7a0276c",
            "17a8550c752e4c198cc472b42aba9637",
            "2f11d61f34a84bcab595c90ab993c57b",
            "bdfe51c24d214ca0a7aa66c798fb6cfc",
            "ec8c502980bc4b62a5d01eedf2632146",
            "d67a672e0dff4b99b2950b71d327443a",
            "b657d151b8c8472f8d388562b57f08a2",
            "3bed834116f841bfaf1d05ed842e5bef",
            "db59a4a09b374512a95b47467d61cfb7",
            "ec5b41d278d247b4ab9be98fa4262cfc"
          ]
        },
        "outputId": "ca1b41ab-8f7a-4c21-eddf-09406b27c33c"
      },
      "outputs": [
        {
          "output_type": "display_data",
          "data": {
            "text/plain": [
              "HBox(children=(VBox(children=(FloatSlider(value=0.2, description='Eta (Const):', max=0.4, step=0.01),)), VBox(…"
            ],
            "application/vnd.jupyter.widget-view+json": {
              "version_major": 2,
              "version_minor": 0,
              "model_id": "066a78d079944cdc8596f7841bbf566d"
            }
          },
          "metadata": {}
        },
        {
          "output_type": "display_data",
          "data": {
            "text/plain": [
              "Checkbox(value=False, description='Show Plot')"
            ],
            "application/vnd.jupyter.widget-view+json": {
              "version_major": 2,
              "version_minor": 0,
              "model_id": "d67a672e0dff4b99b2950b71d327443a"
            }
          },
          "metadata": {}
        },
        {
          "output_type": "display_data",
          "data": {
            "text/plain": [
              "Output()"
            ],
            "application/vnd.jupyter.widget-view+json": {
              "version_major": 2,
              "version_minor": 0,
              "model_id": "db59a4a09b374512a95b47467d61cfb7"
            }
          },
          "metadata": {}
        }
      ],
      "source": [
        "# @title Plot\n",
        "\n",
        "# Define the number of epochs to evaluate\n",
        "epochs_lr = range(0, 50)\n",
        "\n",
        "# Create sliders for each step size function\n",
        "eta_slider_constant = widgets.FloatSlider(value=0.2, min=0.00, max=0.4, step=0.01, description='Eta (Const):')\n",
        "eta_slider_inverse = widgets.FloatSlider(value=0.10, min=0.000, max=0.4, step=0.001, description='Eta (Inv):')\n",
        "lambda_slider_inverse = widgets.FloatSlider(value=0.01, min=0.000, max=1.0, step=0.001, description='Lambda (Inv):')\n",
        "eta_slider_exponential = widgets.FloatSlider(value=0.25, min=0.000, max=0.4, step=0.001, description='Eta (Exp):')\n",
        "lambda_slider_exponential = widgets.FloatSlider(value=0.01, min=0.000, max=1.0, step=0.001, description='Lambda (Exp):')\n",
        "eta_slider_normalized = widgets.FloatSlider(value=0.30, min=0.000, max=1.0, step=0.001, description='Eta (Norm):')\n",
        "\n",
        "# Create a checkbox to control the display of the plot\n",
        "show_plot_checkbox_lr = widgets.Checkbox(value=False, description='Show Plot')\n",
        "\n",
        "# Arrange sliders in 4 columns\n",
        "column1 = widgets.VBox([eta_slider_constant])\n",
        "column2 = widgets.VBox([eta_slider_inverse, lambda_slider_inverse])\n",
        "column3 = widgets.VBox([eta_slider_exponential, lambda_slider_exponential])\n",
        "column4 = widgets.VBox([eta_slider_normalized])\n",
        "slider_layout = widgets.HBox([column1, column2, column3, column4])\n",
        "\n",
        "# Function to update the plot based on the slider values\n",
        "def update_plot_lr(eta_constant, eta_inverse, lambda_inverse, eta_exponential, lambda_exponential, eta_normalized, show_plot):\n",
        "    # # Clear the output before plotting or closing the plot\n",
        "    # clear_output(wait=True)\n",
        "\n",
        "    # # Re-display the sliders and checkbox\n",
        "    # display(slider_layout, show_plot_checkbox_lr)\n",
        "\n",
        "    # Initialize empty lists to store the loss values for each step size function\n",
        "    loss_values_constant = []\n",
        "    loss_values_inverse = []\n",
        "    loss_values_exponential = []\n",
        "    loss_values_normalized = []\n",
        "\n",
        "    # Train the model for each number of epochs and calculate the loss for each step size function\n",
        "    for epoch in epochs_lr:\n",
        "        # Constant step size\n",
        "        _, w_constant = batch_gradient_descent_learner_ss(X_poly, Y, step_size_func=constant_step_size, eta=eta_constant, epochs=epoch)\n",
        "        loss_constant = calculate_loss(X_poly, Y, w_constant)\n",
        "        loss_values_constant.append(loss_constant)\n",
        "\n",
        "        # Inverse decaying step size\n",
        "        _, w_inverse = batch_gradient_descent_learner_ss(X_poly, Y, step_size_func=inverse_decaying_step_size, eta=eta_inverse, lambda_=lambda_inverse, epochs=epoch)\n",
        "        loss_inverse = calculate_loss(X_poly, Y, w_inverse)\n",
        "        loss_values_inverse.append(loss_inverse)\n",
        "\n",
        "        # Exponential decaying step size\n",
        "        _, w_exponential = batch_gradient_descent_learner_ss(X_poly, Y, step_size_func=exponential_decaying_step_size, eta=eta_exponential, lambda_=lambda_exponential, epochs=epoch)\n",
        "        loss_exponential = calculate_loss(X_poly, Y, w_exponential)\n",
        "        loss_values_exponential.append(loss_exponential)\n",
        "\n",
        "        # Normalized gradient step size\n",
        "        _, w_normalized = batch_gradient_descent_learner_ss(X_poly, Y, step_size_func=normalized_gradient_step_size, eta=eta_normalized, epochs=epoch)\n",
        "        loss_normalized = calculate_loss(X_poly, Y, w_normalized)\n",
        "        loss_values_normalized.append(loss_normalized)\n",
        "\n",
        "    # Plot the loss as a function of the number of epochs for each step size function if the checkbox is checked\n",
        "    if show_plot:\n",
        "        plt.figure(figsize=(10, 5))\n",
        "        plt.plot(epochs_lr, loss_values_constant, label='Constant Step Size')\n",
        "        plt.plot(epochs_lr, loss_values_inverse, label='Inverse Decaying Step Size')\n",
        "        plt.plot(epochs_lr, loss_values_exponential, label='Exponential Decaying Step Size')\n",
        "        plt.plot(epochs_lr, loss_values_normalized, label='Normalized Gradient Step Size')\n",
        "        plt.xlabel('Number of Epochs')\n",
        "        plt.ylabel('Loss')\n",
        "        plt.title('Loss as a Function of Number of Epochs for Different Step Size Functions')\n",
        "        plt.yscale('log')\n",
        "        plt.legend()\n",
        "        plt.show()\n",
        "    else:\n",
        "        # Clear the output to hide the plot when \"Show Plot\" is unchecked\n",
        "        clear_output()\n",
        "\n",
        "\n",
        "# Use interactive_output to link the sliders and checkbox to the update_plot_lr function\n",
        "interactive_plot_lr = interactive_output(update_plot_lr, {\n",
        "    'eta_constant': eta_slider_constant,\n",
        "    'eta_inverse': eta_slider_inverse,\n",
        "    'lambda_inverse': lambda_slider_inverse,\n",
        "    'eta_exponential': eta_slider_exponential,\n",
        "    'lambda_exponential': lambda_slider_exponential,\n",
        "    'eta_normalized': eta_slider_normalized,\n",
        "    'show_plot': show_plot_checkbox_lr\n",
        "})\n",
        "\n",
        "# Initial display\n",
        "display(slider_layout, show_plot_checkbox_lr, interactive_plot_lr)\n"
      ]
    },
    {
      "cell_type": "markdown",
      "metadata": {
        "id": "BGAMiIwF64Mm"
      },
      "source": [
        "# The End, I hope you had fun :)"
      ]
    },
    {
      "cell_type": "markdown",
      "metadata": {
        "deletable": false,
        "editable": false,
        "id": "XlTNEm4t64Mm"
      },
      "source": [
        "---\n",
        "\n",
        "To double-check your work, the cell below will rerun all of the autograder tests."
      ]
    },
    {
      "cell_type": "code",
      "execution_count": null,
      "metadata": {
        "deletable": false,
        "editable": false,
        "id": "xIX6DGvz64Mm",
        "colab": {
          "base_uri": "https://localhost:8080/"
        },
        "outputId": "bd9e56a7-393e-46e2-f90d-542d7521140d"
      },
      "outputs": [
        {
          "output_type": "execute_result",
          "data": {
            "text/plain": [
              "q2_1 results: All test cases passed!\n",
              "\n",
              "q3_1 results: All test cases passed!\n",
              "\n",
              "q4_1 results: All test cases passed!\n",
              "\n",
              "q5_1 results: All test cases passed!\n",
              "\n",
              "q6_1 results: All test cases passed!\n",
              "\n",
              "q6_2 results: All test cases passed!\n",
              "\n",
              "q6_3 results: All test cases passed!\n",
              "\n",
              "q6_4 results: All test cases passed!"
            ]
          },
          "metadata": {},
          "execution_count": 1602
        }
      ],
      "source": [
        "grader.check_all()"
      ]
    }
  ],
  "metadata": {
    "kernelspec": {
      "display_name": "ml1-new2",
      "language": "python",
      "name": "python3"
    },
    "language_info": {
      "codemirror_mode": {
        "name": "ipython",
        "version": 3
      },
      "file_extension": ".py",
      "mimetype": "text/x-python",
      "name": "python",
      "nbconvert_exporter": "python",
      "pygments_lexer": "ipython3",
      "version": "3.12.7"
    },
    "colab": {
      "provenance": [],
      "include_colab_link": true
    },
    "widgets": {
      "application/vnd.jupyter.widget-state+json": {
        "0cf35f4487e849cbb730f4868c9ae1c9": {
          "model_module": "@jupyter-widgets/controls",
          "model_name": "CheckboxModel",
          "model_module_version": "1.5.0",
          "state": {
            "_dom_classes": [],
            "_model_module": "@jupyter-widgets/controls",
            "_model_module_version": "1.5.0",
            "_model_name": "CheckboxModel",
            "_view_count": null,
            "_view_module": "@jupyter-widgets/controls",
            "_view_module_version": "1.5.0",
            "_view_name": "CheckboxView",
            "description": "Show Plot",
            "description_tooltip": null,
            "disabled": false,
            "indent": true,
            "layout": "IPY_MODEL_ecf044390d534ccbb63252d7283e1cad",
            "style": "IPY_MODEL_c831e75479684e55a68f7a5745006e35",
            "value": false
          }
        },
        "ecf044390d534ccbb63252d7283e1cad": {
          "model_module": "@jupyter-widgets/base",
          "model_name": "LayoutModel",
          "model_module_version": "1.2.0",
          "state": {
            "_model_module": "@jupyter-widgets/base",
            "_model_module_version": "1.2.0",
            "_model_name": "LayoutModel",
            "_view_count": null,
            "_view_module": "@jupyter-widgets/base",
            "_view_module_version": "1.2.0",
            "_view_name": "LayoutView",
            "align_content": null,
            "align_items": null,
            "align_self": null,
            "border": null,
            "bottom": null,
            "display": null,
            "flex": null,
            "flex_flow": null,
            "grid_area": null,
            "grid_auto_columns": null,
            "grid_auto_flow": null,
            "grid_auto_rows": null,
            "grid_column": null,
            "grid_gap": null,
            "grid_row": null,
            "grid_template_areas": null,
            "grid_template_columns": null,
            "grid_template_rows": null,
            "height": null,
            "justify_content": null,
            "justify_items": null,
            "left": null,
            "margin": null,
            "max_height": null,
            "max_width": null,
            "min_height": null,
            "min_width": null,
            "object_fit": null,
            "object_position": null,
            "order": null,
            "overflow": null,
            "overflow_x": null,
            "overflow_y": null,
            "padding": null,
            "right": null,
            "top": null,
            "visibility": null,
            "width": null
          }
        },
        "c831e75479684e55a68f7a5745006e35": {
          "model_module": "@jupyter-widgets/controls",
          "model_name": "DescriptionStyleModel",
          "model_module_version": "1.5.0",
          "state": {
            "_model_module": "@jupyter-widgets/controls",
            "_model_module_version": "1.5.0",
            "_model_name": "DescriptionStyleModel",
            "_view_count": null,
            "_view_module": "@jupyter-widgets/base",
            "_view_module_version": "1.2.0",
            "_view_name": "StyleView",
            "description_width": ""
          }
        },
        "efad4963001a447fb82dcb77426793fc": {
          "model_module": "@jupyter-widgets/controls",
          "model_name": "CheckboxModel",
          "model_module_version": "1.5.0",
          "state": {
            "_dom_classes": [],
            "_model_module": "@jupyter-widgets/controls",
            "_model_module_version": "1.5.0",
            "_model_name": "CheckboxModel",
            "_view_count": null,
            "_view_module": "@jupyter-widgets/controls",
            "_view_module_version": "1.5.0",
            "_view_name": "CheckboxView",
            "description": "Show Plot",
            "description_tooltip": null,
            "disabled": false,
            "indent": true,
            "layout": "IPY_MODEL_af279cb3fb9d41a5a9f7679f16666310",
            "style": "IPY_MODEL_71144908e2104f23bb5a4a9cd532caa9",
            "value": false
          }
        },
        "af279cb3fb9d41a5a9f7679f16666310": {
          "model_module": "@jupyter-widgets/base",
          "model_name": "LayoutModel",
          "model_module_version": "1.2.0",
          "state": {
            "_model_module": "@jupyter-widgets/base",
            "_model_module_version": "1.2.0",
            "_model_name": "LayoutModel",
            "_view_count": null,
            "_view_module": "@jupyter-widgets/base",
            "_view_module_version": "1.2.0",
            "_view_name": "LayoutView",
            "align_content": null,
            "align_items": null,
            "align_self": null,
            "border": null,
            "bottom": null,
            "display": null,
            "flex": null,
            "flex_flow": null,
            "grid_area": null,
            "grid_auto_columns": null,
            "grid_auto_flow": null,
            "grid_auto_rows": null,
            "grid_column": null,
            "grid_gap": null,
            "grid_row": null,
            "grid_template_areas": null,
            "grid_template_columns": null,
            "grid_template_rows": null,
            "height": null,
            "justify_content": null,
            "justify_items": null,
            "left": null,
            "margin": null,
            "max_height": null,
            "max_width": null,
            "min_height": null,
            "min_width": null,
            "object_fit": null,
            "object_position": null,
            "order": null,
            "overflow": null,
            "overflow_x": null,
            "overflow_y": null,
            "padding": null,
            "right": null,
            "top": null,
            "visibility": null,
            "width": null
          }
        },
        "71144908e2104f23bb5a4a9cd532caa9": {
          "model_module": "@jupyter-widgets/controls",
          "model_name": "DescriptionStyleModel",
          "model_module_version": "1.5.0",
          "state": {
            "_model_module": "@jupyter-widgets/controls",
            "_model_module_version": "1.5.0",
            "_model_name": "DescriptionStyleModel",
            "_view_count": null,
            "_view_module": "@jupyter-widgets/base",
            "_view_module_version": "1.2.0",
            "_view_name": "StyleView",
            "description_width": ""
          }
        },
        "73f06f9b43cb4c3abf7179023cf63a38": {
          "model_module": "@jupyter-widgets/controls",
          "model_name": "CheckboxModel",
          "model_module_version": "1.5.0",
          "state": {
            "_dom_classes": [],
            "_model_module": "@jupyter-widgets/controls",
            "_model_module_version": "1.5.0",
            "_model_name": "CheckboxModel",
            "_view_count": null,
            "_view_module": "@jupyter-widgets/controls",
            "_view_module_version": "1.5.0",
            "_view_name": "CheckboxView",
            "description": "Show Plot",
            "description_tooltip": null,
            "disabled": false,
            "indent": true,
            "layout": "IPY_MODEL_6835031d81204f25a8ce35196431eea9",
            "style": "IPY_MODEL_e017e082744e4669b40dde1752e2fb80",
            "value": false
          }
        },
        "6835031d81204f25a8ce35196431eea9": {
          "model_module": "@jupyter-widgets/base",
          "model_name": "LayoutModel",
          "model_module_version": "1.2.0",
          "state": {
            "_model_module": "@jupyter-widgets/base",
            "_model_module_version": "1.2.0",
            "_model_name": "LayoutModel",
            "_view_count": null,
            "_view_module": "@jupyter-widgets/base",
            "_view_module_version": "1.2.0",
            "_view_name": "LayoutView",
            "align_content": null,
            "align_items": null,
            "align_self": null,
            "border": null,
            "bottom": null,
            "display": null,
            "flex": null,
            "flex_flow": null,
            "grid_area": null,
            "grid_auto_columns": null,
            "grid_auto_flow": null,
            "grid_auto_rows": null,
            "grid_column": null,
            "grid_gap": null,
            "grid_row": null,
            "grid_template_areas": null,
            "grid_template_columns": null,
            "grid_template_rows": null,
            "height": null,
            "justify_content": null,
            "justify_items": null,
            "left": null,
            "margin": null,
            "max_height": null,
            "max_width": null,
            "min_height": null,
            "min_width": null,
            "object_fit": null,
            "object_position": null,
            "order": null,
            "overflow": null,
            "overflow_x": null,
            "overflow_y": null,
            "padding": null,
            "right": null,
            "top": null,
            "visibility": null,
            "width": null
          }
        },
        "e017e082744e4669b40dde1752e2fb80": {
          "model_module": "@jupyter-widgets/controls",
          "model_name": "DescriptionStyleModel",
          "model_module_version": "1.5.0",
          "state": {
            "_model_module": "@jupyter-widgets/controls",
            "_model_module_version": "1.5.0",
            "_model_name": "DescriptionStyleModel",
            "_view_count": null,
            "_view_module": "@jupyter-widgets/base",
            "_view_module_version": "1.2.0",
            "_view_name": "StyleView",
            "description_width": ""
          }
        },
        "1472dafdda9f473c9042140de0c7c11b": {
          "model_module": "@jupyter-widgets/controls",
          "model_name": "CheckboxModel",
          "model_module_version": "1.5.0",
          "state": {
            "_dom_classes": [],
            "_model_module": "@jupyter-widgets/controls",
            "_model_module_version": "1.5.0",
            "_model_name": "CheckboxModel",
            "_view_count": null,
            "_view_module": "@jupyter-widgets/controls",
            "_view_module_version": "1.5.0",
            "_view_name": "CheckboxView",
            "description": "Show Plot",
            "description_tooltip": null,
            "disabled": false,
            "indent": true,
            "layout": "IPY_MODEL_b1f3868d344a42859cf7689f9db8d582",
            "style": "IPY_MODEL_dd3d614720534f408b0bc967962a6b9c",
            "value": false
          }
        },
        "b1f3868d344a42859cf7689f9db8d582": {
          "model_module": "@jupyter-widgets/base",
          "model_name": "LayoutModel",
          "model_module_version": "1.2.0",
          "state": {
            "_model_module": "@jupyter-widgets/base",
            "_model_module_version": "1.2.0",
            "_model_name": "LayoutModel",
            "_view_count": null,
            "_view_module": "@jupyter-widgets/base",
            "_view_module_version": "1.2.0",
            "_view_name": "LayoutView",
            "align_content": null,
            "align_items": null,
            "align_self": null,
            "border": null,
            "bottom": null,
            "display": null,
            "flex": null,
            "flex_flow": null,
            "grid_area": null,
            "grid_auto_columns": null,
            "grid_auto_flow": null,
            "grid_auto_rows": null,
            "grid_column": null,
            "grid_gap": null,
            "grid_row": null,
            "grid_template_areas": null,
            "grid_template_columns": null,
            "grid_template_rows": null,
            "height": null,
            "justify_content": null,
            "justify_items": null,
            "left": null,
            "margin": null,
            "max_height": null,
            "max_width": null,
            "min_height": null,
            "min_width": null,
            "object_fit": null,
            "object_position": null,
            "order": null,
            "overflow": null,
            "overflow_x": null,
            "overflow_y": null,
            "padding": null,
            "right": null,
            "top": null,
            "visibility": null,
            "width": null
          }
        },
        "dd3d614720534f408b0bc967962a6b9c": {
          "model_module": "@jupyter-widgets/controls",
          "model_name": "DescriptionStyleModel",
          "model_module_version": "1.5.0",
          "state": {
            "_model_module": "@jupyter-widgets/controls",
            "_model_module_version": "1.5.0",
            "_model_name": "DescriptionStyleModel",
            "_view_count": null,
            "_view_module": "@jupyter-widgets/base",
            "_view_module_version": "1.2.0",
            "_view_name": "StyleView",
            "description_width": ""
          }
        },
        "9386829ad50946e2ab3527eddc01186a": {
          "model_module": "@jupyter-widgets/controls",
          "model_name": "IntSliderModel",
          "model_module_version": "1.5.0",
          "state": {
            "_dom_classes": [],
            "_model_module": "@jupyter-widgets/controls",
            "_model_module_version": "1.5.0",
            "_model_name": "IntSliderModel",
            "_view_count": null,
            "_view_module": "@jupyter-widgets/controls",
            "_view_module_version": "1.5.0",
            "_view_name": "IntSliderView",
            "continuous_update": true,
            "description": "Epochs:",
            "description_tooltip": null,
            "disabled": false,
            "layout": "IPY_MODEL_d94ad596354d4748a22f76bd1108eca0",
            "max": 300,
            "min": 1,
            "orientation": "horizontal",
            "readout": true,
            "readout_format": "d",
            "step": 1,
            "style": "IPY_MODEL_cae4905c9ebd4b8c86bedebaea4f2615",
            "value": 3
          }
        },
        "d94ad596354d4748a22f76bd1108eca0": {
          "model_module": "@jupyter-widgets/base",
          "model_name": "LayoutModel",
          "model_module_version": "1.2.0",
          "state": {
            "_model_module": "@jupyter-widgets/base",
            "_model_module_version": "1.2.0",
            "_model_name": "LayoutModel",
            "_view_count": null,
            "_view_module": "@jupyter-widgets/base",
            "_view_module_version": "1.2.0",
            "_view_name": "LayoutView",
            "align_content": null,
            "align_items": null,
            "align_self": null,
            "border": null,
            "bottom": null,
            "display": null,
            "flex": null,
            "flex_flow": null,
            "grid_area": null,
            "grid_auto_columns": null,
            "grid_auto_flow": null,
            "grid_auto_rows": null,
            "grid_column": null,
            "grid_gap": null,
            "grid_row": null,
            "grid_template_areas": null,
            "grid_template_columns": null,
            "grid_template_rows": null,
            "height": null,
            "justify_content": null,
            "justify_items": null,
            "left": null,
            "margin": null,
            "max_height": null,
            "max_width": null,
            "min_height": null,
            "min_width": null,
            "object_fit": null,
            "object_position": null,
            "order": null,
            "overflow": null,
            "overflow_x": null,
            "overflow_y": null,
            "padding": null,
            "right": null,
            "top": null,
            "visibility": null,
            "width": null
          }
        },
        "cae4905c9ebd4b8c86bedebaea4f2615": {
          "model_module": "@jupyter-widgets/controls",
          "model_name": "SliderStyleModel",
          "model_module_version": "1.5.0",
          "state": {
            "_model_module": "@jupyter-widgets/controls",
            "_model_module_version": "1.5.0",
            "_model_name": "SliderStyleModel",
            "_view_count": null,
            "_view_module": "@jupyter-widgets/base",
            "_view_module_version": "1.2.0",
            "_view_name": "StyleView",
            "description_width": "",
            "handle_color": null
          }
        },
        "7cfc9bfb2a20437d84ac0a43598bfc8b": {
          "model_module": "@jupyter-widgets/controls",
          "model_name": "CheckboxModel",
          "model_module_version": "1.5.0",
          "state": {
            "_dom_classes": [],
            "_model_module": "@jupyter-widgets/controls",
            "_model_module_version": "1.5.0",
            "_model_name": "CheckboxModel",
            "_view_count": null,
            "_view_module": "@jupyter-widgets/controls",
            "_view_module_version": "1.5.0",
            "_view_name": "CheckboxView",
            "description": "Show Plot",
            "description_tooltip": null,
            "disabled": false,
            "indent": true,
            "layout": "IPY_MODEL_c8f39952a2a740e68b5814b4b61d8c66",
            "style": "IPY_MODEL_4c924690eca643b299802f0acbd9ed67",
            "value": false
          }
        },
        "c8f39952a2a740e68b5814b4b61d8c66": {
          "model_module": "@jupyter-widgets/base",
          "model_name": "LayoutModel",
          "model_module_version": "1.2.0",
          "state": {
            "_model_module": "@jupyter-widgets/base",
            "_model_module_version": "1.2.0",
            "_model_name": "LayoutModel",
            "_view_count": null,
            "_view_module": "@jupyter-widgets/base",
            "_view_module_version": "1.2.0",
            "_view_name": "LayoutView",
            "align_content": null,
            "align_items": null,
            "align_self": null,
            "border": null,
            "bottom": null,
            "display": null,
            "flex": null,
            "flex_flow": null,
            "grid_area": null,
            "grid_auto_columns": null,
            "grid_auto_flow": null,
            "grid_auto_rows": null,
            "grid_column": null,
            "grid_gap": null,
            "grid_row": null,
            "grid_template_areas": null,
            "grid_template_columns": null,
            "grid_template_rows": null,
            "height": null,
            "justify_content": null,
            "justify_items": null,
            "left": null,
            "margin": null,
            "max_height": null,
            "max_width": null,
            "min_height": null,
            "min_width": null,
            "object_fit": null,
            "object_position": null,
            "order": null,
            "overflow": null,
            "overflow_x": null,
            "overflow_y": null,
            "padding": null,
            "right": null,
            "top": null,
            "visibility": null,
            "width": null
          }
        },
        "4c924690eca643b299802f0acbd9ed67": {
          "model_module": "@jupyter-widgets/controls",
          "model_name": "DescriptionStyleModel",
          "model_module_version": "1.5.0",
          "state": {
            "_model_module": "@jupyter-widgets/controls",
            "_model_module_version": "1.5.0",
            "_model_name": "DescriptionStyleModel",
            "_view_count": null,
            "_view_module": "@jupyter-widgets/base",
            "_view_module_version": "1.2.0",
            "_view_name": "StyleView",
            "description_width": ""
          }
        },
        "c48fc564c24249a8a1cc2601c2b60f2c": {
          "model_module": "@jupyter-widgets/output",
          "model_name": "OutputModel",
          "model_module_version": "1.0.0",
          "state": {
            "_dom_classes": [],
            "_model_module": "@jupyter-widgets/output",
            "_model_module_version": "1.0.0",
            "_model_name": "OutputModel",
            "_view_count": null,
            "_view_module": "@jupyter-widgets/output",
            "_view_module_version": "1.0.0",
            "_view_name": "OutputView",
            "layout": "IPY_MODEL_88f10cc2deb34c8a907471c3a496b7f3",
            "msg_id": "",
            "outputs": []
          }
        },
        "88f10cc2deb34c8a907471c3a496b7f3": {
          "model_module": "@jupyter-widgets/base",
          "model_name": "LayoutModel",
          "model_module_version": "1.2.0",
          "state": {
            "_model_module": "@jupyter-widgets/base",
            "_model_module_version": "1.2.0",
            "_model_name": "LayoutModel",
            "_view_count": null,
            "_view_module": "@jupyter-widgets/base",
            "_view_module_version": "1.2.0",
            "_view_name": "LayoutView",
            "align_content": null,
            "align_items": null,
            "align_self": null,
            "border": null,
            "bottom": null,
            "display": null,
            "flex": null,
            "flex_flow": null,
            "grid_area": null,
            "grid_auto_columns": null,
            "grid_auto_flow": null,
            "grid_auto_rows": null,
            "grid_column": null,
            "grid_gap": null,
            "grid_row": null,
            "grid_template_areas": null,
            "grid_template_columns": null,
            "grid_template_rows": null,
            "height": null,
            "justify_content": null,
            "justify_items": null,
            "left": null,
            "margin": null,
            "max_height": null,
            "max_width": null,
            "min_height": null,
            "min_width": null,
            "object_fit": null,
            "object_position": null,
            "order": null,
            "overflow": null,
            "overflow_x": null,
            "overflow_y": null,
            "padding": null,
            "right": null,
            "top": null,
            "visibility": null,
            "width": null
          }
        },
        "168342a8260e4dca8b31dcfcaabd8eb7": {
          "model_module": "@jupyter-widgets/controls",
          "model_name": "IntSliderModel",
          "model_module_version": "1.5.0",
          "state": {
            "_dom_classes": [],
            "_model_module": "@jupyter-widgets/controls",
            "_model_module_version": "1.5.0",
            "_model_name": "IntSliderModel",
            "_view_count": null,
            "_view_module": "@jupyter-widgets/controls",
            "_view_module_version": "1.5.0",
            "_view_name": "IntSliderView",
            "continuous_update": true,
            "description": "Elev:",
            "description_tooltip": null,
            "disabled": false,
            "layout": "IPY_MODEL_82cbe2e8195648d6aebc22d5d0cc1759",
            "max": 90,
            "min": 0,
            "orientation": "horizontal",
            "readout": true,
            "readout_format": "d",
            "step": 1,
            "style": "IPY_MODEL_710e99ea37aa4aa9a79cea81e59a4fcc",
            "value": 15
          }
        },
        "82cbe2e8195648d6aebc22d5d0cc1759": {
          "model_module": "@jupyter-widgets/base",
          "model_name": "LayoutModel",
          "model_module_version": "1.2.0",
          "state": {
            "_model_module": "@jupyter-widgets/base",
            "_model_module_version": "1.2.0",
            "_model_name": "LayoutModel",
            "_view_count": null,
            "_view_module": "@jupyter-widgets/base",
            "_view_module_version": "1.2.0",
            "_view_name": "LayoutView",
            "align_content": null,
            "align_items": null,
            "align_self": null,
            "border": null,
            "bottom": null,
            "display": null,
            "flex": null,
            "flex_flow": null,
            "grid_area": null,
            "grid_auto_columns": null,
            "grid_auto_flow": null,
            "grid_auto_rows": null,
            "grid_column": null,
            "grid_gap": null,
            "grid_row": null,
            "grid_template_areas": null,
            "grid_template_columns": null,
            "grid_template_rows": null,
            "height": null,
            "justify_content": null,
            "justify_items": null,
            "left": null,
            "margin": null,
            "max_height": null,
            "max_width": null,
            "min_height": null,
            "min_width": null,
            "object_fit": null,
            "object_position": null,
            "order": null,
            "overflow": null,
            "overflow_x": null,
            "overflow_y": null,
            "padding": null,
            "right": null,
            "top": null,
            "visibility": null,
            "width": null
          }
        },
        "710e99ea37aa4aa9a79cea81e59a4fcc": {
          "model_module": "@jupyter-widgets/controls",
          "model_name": "SliderStyleModel",
          "model_module_version": "1.5.0",
          "state": {
            "_model_module": "@jupyter-widgets/controls",
            "_model_module_version": "1.5.0",
            "_model_name": "SliderStyleModel",
            "_view_count": null,
            "_view_module": "@jupyter-widgets/base",
            "_view_module_version": "1.2.0",
            "_view_name": "StyleView",
            "description_width": "",
            "handle_color": null
          }
        },
        "e7f977571f584c56b3fa9b94cfa74938": {
          "model_module": "@jupyter-widgets/controls",
          "model_name": "IntSliderModel",
          "model_module_version": "1.5.0",
          "state": {
            "_dom_classes": [],
            "_model_module": "@jupyter-widgets/controls",
            "_model_module_version": "1.5.0",
            "_model_name": "IntSliderModel",
            "_view_count": null,
            "_view_module": "@jupyter-widgets/controls",
            "_view_module_version": "1.5.0",
            "_view_name": "IntSliderView",
            "continuous_update": true,
            "description": "Azim:",
            "description_tooltip": null,
            "disabled": false,
            "layout": "IPY_MODEL_d0d54583d817402987514c69639f20c6",
            "max": 360,
            "min": 0,
            "orientation": "horizontal",
            "readout": true,
            "readout_format": "d",
            "step": 1,
            "style": "IPY_MODEL_289505ffb50346cc8793207d5b92cbff",
            "value": 70
          }
        },
        "d0d54583d817402987514c69639f20c6": {
          "model_module": "@jupyter-widgets/base",
          "model_name": "LayoutModel",
          "model_module_version": "1.2.0",
          "state": {
            "_model_module": "@jupyter-widgets/base",
            "_model_module_version": "1.2.0",
            "_model_name": "LayoutModel",
            "_view_count": null,
            "_view_module": "@jupyter-widgets/base",
            "_view_module_version": "1.2.0",
            "_view_name": "LayoutView",
            "align_content": null,
            "align_items": null,
            "align_self": null,
            "border": null,
            "bottom": null,
            "display": null,
            "flex": null,
            "flex_flow": null,
            "grid_area": null,
            "grid_auto_columns": null,
            "grid_auto_flow": null,
            "grid_auto_rows": null,
            "grid_column": null,
            "grid_gap": null,
            "grid_row": null,
            "grid_template_areas": null,
            "grid_template_columns": null,
            "grid_template_rows": null,
            "height": null,
            "justify_content": null,
            "justify_items": null,
            "left": null,
            "margin": null,
            "max_height": null,
            "max_width": null,
            "min_height": null,
            "min_width": null,
            "object_fit": null,
            "object_position": null,
            "order": null,
            "overflow": null,
            "overflow_x": null,
            "overflow_y": null,
            "padding": null,
            "right": null,
            "top": null,
            "visibility": null,
            "width": null
          }
        },
        "289505ffb50346cc8793207d5b92cbff": {
          "model_module": "@jupyter-widgets/controls",
          "model_name": "SliderStyleModel",
          "model_module_version": "1.5.0",
          "state": {
            "_model_module": "@jupyter-widgets/controls",
            "_model_module_version": "1.5.0",
            "_model_name": "SliderStyleModel",
            "_view_count": null,
            "_view_module": "@jupyter-widgets/base",
            "_view_module_version": "1.2.0",
            "_view_name": "StyleView",
            "description_width": "",
            "handle_color": null
          }
        },
        "50d9c278a8b04d51abbf0d28565eef15": {
          "model_module": "@jupyter-widgets/controls",
          "model_name": "CheckboxModel",
          "model_module_version": "1.5.0",
          "state": {
            "_dom_classes": [],
            "_model_module": "@jupyter-widgets/controls",
            "_model_module_version": "1.5.0",
            "_model_name": "CheckboxModel",
            "_view_count": null,
            "_view_module": "@jupyter-widgets/controls",
            "_view_module_version": "1.5.0",
            "_view_name": "CheckboxView",
            "description": "Show Plot",
            "description_tooltip": null,
            "disabled": false,
            "indent": true,
            "layout": "IPY_MODEL_0754149e2ea7415585091ec70b4e84cb",
            "style": "IPY_MODEL_7adc1d26d5684038b6427b6123c65876",
            "value": false
          }
        },
        "0754149e2ea7415585091ec70b4e84cb": {
          "model_module": "@jupyter-widgets/base",
          "model_name": "LayoutModel",
          "model_module_version": "1.2.0",
          "state": {
            "_model_module": "@jupyter-widgets/base",
            "_model_module_version": "1.2.0",
            "_model_name": "LayoutModel",
            "_view_count": null,
            "_view_module": "@jupyter-widgets/base",
            "_view_module_version": "1.2.0",
            "_view_name": "LayoutView",
            "align_content": null,
            "align_items": null,
            "align_self": null,
            "border": null,
            "bottom": null,
            "display": null,
            "flex": null,
            "flex_flow": null,
            "grid_area": null,
            "grid_auto_columns": null,
            "grid_auto_flow": null,
            "grid_auto_rows": null,
            "grid_column": null,
            "grid_gap": null,
            "grid_row": null,
            "grid_template_areas": null,
            "grid_template_columns": null,
            "grid_template_rows": null,
            "height": null,
            "justify_content": null,
            "justify_items": null,
            "left": null,
            "margin": null,
            "max_height": null,
            "max_width": null,
            "min_height": null,
            "min_width": null,
            "object_fit": null,
            "object_position": null,
            "order": null,
            "overflow": null,
            "overflow_x": null,
            "overflow_y": null,
            "padding": null,
            "right": null,
            "top": null,
            "visibility": null,
            "width": null
          }
        },
        "7adc1d26d5684038b6427b6123c65876": {
          "model_module": "@jupyter-widgets/controls",
          "model_name": "DescriptionStyleModel",
          "model_module_version": "1.5.0",
          "state": {
            "_model_module": "@jupyter-widgets/controls",
            "_model_module_version": "1.5.0",
            "_model_name": "DescriptionStyleModel",
            "_view_count": null,
            "_view_module": "@jupyter-widgets/base",
            "_view_module_version": "1.2.0",
            "_view_name": "StyleView",
            "description_width": ""
          }
        },
        "ae7fa1b126a445528b386827f40818fe": {
          "model_module": "@jupyter-widgets/output",
          "model_name": "OutputModel",
          "model_module_version": "1.0.0",
          "state": {
            "_dom_classes": [],
            "_model_module": "@jupyter-widgets/output",
            "_model_module_version": "1.0.0",
            "_model_name": "OutputModel",
            "_view_count": null,
            "_view_module": "@jupyter-widgets/output",
            "_view_module_version": "1.0.0",
            "_view_name": "OutputView",
            "layout": "IPY_MODEL_eb36733ce5b24dff9634dc03f3a66089",
            "msg_id": "",
            "outputs": []
          }
        },
        "eb36733ce5b24dff9634dc03f3a66089": {
          "model_module": "@jupyter-widgets/base",
          "model_name": "LayoutModel",
          "model_module_version": "1.2.0",
          "state": {
            "_model_module": "@jupyter-widgets/base",
            "_model_module_version": "1.2.0",
            "_model_name": "LayoutModel",
            "_view_count": null,
            "_view_module": "@jupyter-widgets/base",
            "_view_module_version": "1.2.0",
            "_view_name": "LayoutView",
            "align_content": null,
            "align_items": null,
            "align_self": null,
            "border": null,
            "bottom": null,
            "display": null,
            "flex": null,
            "flex_flow": null,
            "grid_area": null,
            "grid_auto_columns": null,
            "grid_auto_flow": null,
            "grid_auto_rows": null,
            "grid_column": null,
            "grid_gap": null,
            "grid_row": null,
            "grid_template_areas": null,
            "grid_template_columns": null,
            "grid_template_rows": null,
            "height": null,
            "justify_content": null,
            "justify_items": null,
            "left": null,
            "margin": null,
            "max_height": null,
            "max_width": null,
            "min_height": null,
            "min_width": null,
            "object_fit": null,
            "object_position": null,
            "order": null,
            "overflow": null,
            "overflow_x": null,
            "overflow_y": null,
            "padding": null,
            "right": null,
            "top": null,
            "visibility": null,
            "width": null
          }
        },
        "63484b3dc4884f3c96072163525b60ec": {
          "model_module": "@jupyter-widgets/controls",
          "model_name": "CheckboxModel",
          "model_module_version": "1.5.0",
          "state": {
            "_dom_classes": [],
            "_model_module": "@jupyter-widgets/controls",
            "_model_module_version": "1.5.0",
            "_model_name": "CheckboxModel",
            "_view_count": null,
            "_view_module": "@jupyter-widgets/controls",
            "_view_module_version": "1.5.0",
            "_view_name": "CheckboxView",
            "description": "Show Plot",
            "description_tooltip": null,
            "disabled": false,
            "indent": true,
            "layout": "IPY_MODEL_70b1e1839041464e95e59cad8edfd22b",
            "style": "IPY_MODEL_624f9c7421f74e44b3f8bb38a13cda37",
            "value": false
          }
        },
        "70b1e1839041464e95e59cad8edfd22b": {
          "model_module": "@jupyter-widgets/base",
          "model_name": "LayoutModel",
          "model_module_version": "1.2.0",
          "state": {
            "_model_module": "@jupyter-widgets/base",
            "_model_module_version": "1.2.0",
            "_model_name": "LayoutModel",
            "_view_count": null,
            "_view_module": "@jupyter-widgets/base",
            "_view_module_version": "1.2.0",
            "_view_name": "LayoutView",
            "align_content": null,
            "align_items": null,
            "align_self": null,
            "border": null,
            "bottom": null,
            "display": null,
            "flex": null,
            "flex_flow": null,
            "grid_area": null,
            "grid_auto_columns": null,
            "grid_auto_flow": null,
            "grid_auto_rows": null,
            "grid_column": null,
            "grid_gap": null,
            "grid_row": null,
            "grid_template_areas": null,
            "grid_template_columns": null,
            "grid_template_rows": null,
            "height": null,
            "justify_content": null,
            "justify_items": null,
            "left": null,
            "margin": null,
            "max_height": null,
            "max_width": null,
            "min_height": null,
            "min_width": null,
            "object_fit": null,
            "object_position": null,
            "order": null,
            "overflow": null,
            "overflow_x": null,
            "overflow_y": null,
            "padding": null,
            "right": null,
            "top": null,
            "visibility": null,
            "width": null
          }
        },
        "624f9c7421f74e44b3f8bb38a13cda37": {
          "model_module": "@jupyter-widgets/controls",
          "model_name": "DescriptionStyleModel",
          "model_module_version": "1.5.0",
          "state": {
            "_model_module": "@jupyter-widgets/controls",
            "_model_module_version": "1.5.0",
            "_model_name": "DescriptionStyleModel",
            "_view_count": null,
            "_view_module": "@jupyter-widgets/base",
            "_view_module_version": "1.2.0",
            "_view_name": "StyleView",
            "description_width": ""
          }
        },
        "1b31dd549ebb46aa9b3afa7644bb8a8c": {
          "model_module": "@jupyter-widgets/controls",
          "model_name": "CheckboxModel",
          "model_module_version": "1.5.0",
          "state": {
            "_dom_classes": [],
            "_model_module": "@jupyter-widgets/controls",
            "_model_module_version": "1.5.0",
            "_model_name": "CheckboxModel",
            "_view_count": null,
            "_view_module": "@jupyter-widgets/controls",
            "_view_module_version": "1.5.0",
            "_view_name": "CheckboxView",
            "description": "Show Plot",
            "description_tooltip": null,
            "disabled": false,
            "indent": true,
            "layout": "IPY_MODEL_4eef3aaca4e04ce2964dbe07edb9e788",
            "style": "IPY_MODEL_9a47d2902f984235ac66b067308caf1d",
            "value": false
          }
        },
        "4eef3aaca4e04ce2964dbe07edb9e788": {
          "model_module": "@jupyter-widgets/base",
          "model_name": "LayoutModel",
          "model_module_version": "1.2.0",
          "state": {
            "_model_module": "@jupyter-widgets/base",
            "_model_module_version": "1.2.0",
            "_model_name": "LayoutModel",
            "_view_count": null,
            "_view_module": "@jupyter-widgets/base",
            "_view_module_version": "1.2.0",
            "_view_name": "LayoutView",
            "align_content": null,
            "align_items": null,
            "align_self": null,
            "border": null,
            "bottom": null,
            "display": null,
            "flex": null,
            "flex_flow": null,
            "grid_area": null,
            "grid_auto_columns": null,
            "grid_auto_flow": null,
            "grid_auto_rows": null,
            "grid_column": null,
            "grid_gap": null,
            "grid_row": null,
            "grid_template_areas": null,
            "grid_template_columns": null,
            "grid_template_rows": null,
            "height": null,
            "justify_content": null,
            "justify_items": null,
            "left": null,
            "margin": null,
            "max_height": null,
            "max_width": null,
            "min_height": null,
            "min_width": null,
            "object_fit": null,
            "object_position": null,
            "order": null,
            "overflow": null,
            "overflow_x": null,
            "overflow_y": null,
            "padding": null,
            "right": null,
            "top": null,
            "visibility": null,
            "width": null
          }
        },
        "9a47d2902f984235ac66b067308caf1d": {
          "model_module": "@jupyter-widgets/controls",
          "model_name": "DescriptionStyleModel",
          "model_module_version": "1.5.0",
          "state": {
            "_model_module": "@jupyter-widgets/controls",
            "_model_module_version": "1.5.0",
            "_model_name": "DescriptionStyleModel",
            "_view_count": null,
            "_view_module": "@jupyter-widgets/base",
            "_view_module_version": "1.2.0",
            "_view_name": "StyleView",
            "description_width": ""
          }
        },
        "89a8ad636ab0483c9ff81dc4b19ee47f": {
          "model_module": "@jupyter-widgets/controls",
          "model_name": "CheckboxModel",
          "model_module_version": "1.5.0",
          "state": {
            "_dom_classes": [],
            "_model_module": "@jupyter-widgets/controls",
            "_model_module_version": "1.5.0",
            "_model_name": "CheckboxModel",
            "_view_count": null,
            "_view_module": "@jupyter-widgets/controls",
            "_view_module_version": "1.5.0",
            "_view_name": "CheckboxView",
            "description": "Show Plot",
            "description_tooltip": null,
            "disabled": false,
            "indent": true,
            "layout": "IPY_MODEL_e1dc59362b634bd1b23c31632c8d5e91",
            "style": "IPY_MODEL_799c3d450ebf47efb9f5f6fcd536ea16",
            "value": false
          }
        },
        "e1dc59362b634bd1b23c31632c8d5e91": {
          "model_module": "@jupyter-widgets/base",
          "model_name": "LayoutModel",
          "model_module_version": "1.2.0",
          "state": {
            "_model_module": "@jupyter-widgets/base",
            "_model_module_version": "1.2.0",
            "_model_name": "LayoutModel",
            "_view_count": null,
            "_view_module": "@jupyter-widgets/base",
            "_view_module_version": "1.2.0",
            "_view_name": "LayoutView",
            "align_content": null,
            "align_items": null,
            "align_self": null,
            "border": null,
            "bottom": null,
            "display": null,
            "flex": null,
            "flex_flow": null,
            "grid_area": null,
            "grid_auto_columns": null,
            "grid_auto_flow": null,
            "grid_auto_rows": null,
            "grid_column": null,
            "grid_gap": null,
            "grid_row": null,
            "grid_template_areas": null,
            "grid_template_columns": null,
            "grid_template_rows": null,
            "height": null,
            "justify_content": null,
            "justify_items": null,
            "left": null,
            "margin": null,
            "max_height": null,
            "max_width": null,
            "min_height": null,
            "min_width": null,
            "object_fit": null,
            "object_position": null,
            "order": null,
            "overflow": null,
            "overflow_x": null,
            "overflow_y": null,
            "padding": null,
            "right": null,
            "top": null,
            "visibility": null,
            "width": null
          }
        },
        "799c3d450ebf47efb9f5f6fcd536ea16": {
          "model_module": "@jupyter-widgets/controls",
          "model_name": "DescriptionStyleModel",
          "model_module_version": "1.5.0",
          "state": {
            "_model_module": "@jupyter-widgets/controls",
            "_model_module_version": "1.5.0",
            "_model_name": "DescriptionStyleModel",
            "_view_count": null,
            "_view_module": "@jupyter-widgets/base",
            "_view_module_version": "1.2.0",
            "_view_name": "StyleView",
            "description_width": ""
          }
        },
        "a7ed83b02c374b2ab407cc9dd8b915d1": {
          "model_module": "@jupyter-widgets/controls",
          "model_name": "CheckboxModel",
          "model_module_version": "1.5.0",
          "state": {
            "_dom_classes": [],
            "_model_module": "@jupyter-widgets/controls",
            "_model_module_version": "1.5.0",
            "_model_name": "CheckboxModel",
            "_view_count": null,
            "_view_module": "@jupyter-widgets/controls",
            "_view_module_version": "1.5.0",
            "_view_name": "CheckboxView",
            "description": "Show Plot",
            "description_tooltip": null,
            "disabled": false,
            "indent": true,
            "layout": "IPY_MODEL_fb19b588a26044c9a3b28157e66461e4",
            "style": "IPY_MODEL_a4af349cbd2e4b8bbc2bc4966d5131cb",
            "value": false
          }
        },
        "fb19b588a26044c9a3b28157e66461e4": {
          "model_module": "@jupyter-widgets/base",
          "model_name": "LayoutModel",
          "model_module_version": "1.2.0",
          "state": {
            "_model_module": "@jupyter-widgets/base",
            "_model_module_version": "1.2.0",
            "_model_name": "LayoutModel",
            "_view_count": null,
            "_view_module": "@jupyter-widgets/base",
            "_view_module_version": "1.2.0",
            "_view_name": "LayoutView",
            "align_content": null,
            "align_items": null,
            "align_self": null,
            "border": null,
            "bottom": null,
            "display": null,
            "flex": null,
            "flex_flow": null,
            "grid_area": null,
            "grid_auto_columns": null,
            "grid_auto_flow": null,
            "grid_auto_rows": null,
            "grid_column": null,
            "grid_gap": null,
            "grid_row": null,
            "grid_template_areas": null,
            "grid_template_columns": null,
            "grid_template_rows": null,
            "height": null,
            "justify_content": null,
            "justify_items": null,
            "left": null,
            "margin": null,
            "max_height": null,
            "max_width": null,
            "min_height": null,
            "min_width": null,
            "object_fit": null,
            "object_position": null,
            "order": null,
            "overflow": null,
            "overflow_x": null,
            "overflow_y": null,
            "padding": null,
            "right": null,
            "top": null,
            "visibility": null,
            "width": null
          }
        },
        "a4af349cbd2e4b8bbc2bc4966d5131cb": {
          "model_module": "@jupyter-widgets/controls",
          "model_name": "DescriptionStyleModel",
          "model_module_version": "1.5.0",
          "state": {
            "_model_module": "@jupyter-widgets/controls",
            "_model_module_version": "1.5.0",
            "_model_name": "DescriptionStyleModel",
            "_view_count": null,
            "_view_module": "@jupyter-widgets/base",
            "_view_module_version": "1.2.0",
            "_view_name": "StyleView",
            "description_width": ""
          }
        },
        "a855df4833164c03b6a8a635365f3f4e": {
          "model_module": "@jupyter-widgets/controls",
          "model_name": "CheckboxModel",
          "model_module_version": "1.5.0",
          "state": {
            "_dom_classes": [],
            "_model_module": "@jupyter-widgets/controls",
            "_model_module_version": "1.5.0",
            "_model_name": "CheckboxModel",
            "_view_count": null,
            "_view_module": "@jupyter-widgets/controls",
            "_view_module_version": "1.5.0",
            "_view_name": "CheckboxView",
            "description": "Show Plot",
            "description_tooltip": null,
            "disabled": false,
            "indent": true,
            "layout": "IPY_MODEL_5969d42a3e7e49f1a45188ee69e8d05c",
            "style": "IPY_MODEL_63865cfba90c45c6ba19e09bf2ac190b",
            "value": false
          }
        },
        "5969d42a3e7e49f1a45188ee69e8d05c": {
          "model_module": "@jupyter-widgets/base",
          "model_name": "LayoutModel",
          "model_module_version": "1.2.0",
          "state": {
            "_model_module": "@jupyter-widgets/base",
            "_model_module_version": "1.2.0",
            "_model_name": "LayoutModel",
            "_view_count": null,
            "_view_module": "@jupyter-widgets/base",
            "_view_module_version": "1.2.0",
            "_view_name": "LayoutView",
            "align_content": null,
            "align_items": null,
            "align_self": null,
            "border": null,
            "bottom": null,
            "display": null,
            "flex": null,
            "flex_flow": null,
            "grid_area": null,
            "grid_auto_columns": null,
            "grid_auto_flow": null,
            "grid_auto_rows": null,
            "grid_column": null,
            "grid_gap": null,
            "grid_row": null,
            "grid_template_areas": null,
            "grid_template_columns": null,
            "grid_template_rows": null,
            "height": null,
            "justify_content": null,
            "justify_items": null,
            "left": null,
            "margin": null,
            "max_height": null,
            "max_width": null,
            "min_height": null,
            "min_width": null,
            "object_fit": null,
            "object_position": null,
            "order": null,
            "overflow": null,
            "overflow_x": null,
            "overflow_y": null,
            "padding": null,
            "right": null,
            "top": null,
            "visibility": null,
            "width": null
          }
        },
        "63865cfba90c45c6ba19e09bf2ac190b": {
          "model_module": "@jupyter-widgets/controls",
          "model_name": "DescriptionStyleModel",
          "model_module_version": "1.5.0",
          "state": {
            "_model_module": "@jupyter-widgets/controls",
            "_model_module_version": "1.5.0",
            "_model_name": "DescriptionStyleModel",
            "_view_count": null,
            "_view_module": "@jupyter-widgets/base",
            "_view_module_version": "1.2.0",
            "_view_name": "StyleView",
            "description_width": ""
          }
        },
        "e56da45093a94a5aa20ec551c0733985": {
          "model_module": "@jupyter-widgets/controls",
          "model_name": "CheckboxModel",
          "model_module_version": "1.5.0",
          "state": {
            "_dom_classes": [],
            "_model_module": "@jupyter-widgets/controls",
            "_model_module_version": "1.5.0",
            "_model_name": "CheckboxModel",
            "_view_count": null,
            "_view_module": "@jupyter-widgets/controls",
            "_view_module_version": "1.5.0",
            "_view_name": "CheckboxView",
            "description": "Show Plot",
            "description_tooltip": null,
            "disabled": false,
            "indent": true,
            "layout": "IPY_MODEL_e1321509e48244c697eca42d5962d583",
            "style": "IPY_MODEL_ac5ab60205d4472daad36eedfc7ee8d6",
            "value": false
          }
        },
        "e1321509e48244c697eca42d5962d583": {
          "model_module": "@jupyter-widgets/base",
          "model_name": "LayoutModel",
          "model_module_version": "1.2.0",
          "state": {
            "_model_module": "@jupyter-widgets/base",
            "_model_module_version": "1.2.0",
            "_model_name": "LayoutModel",
            "_view_count": null,
            "_view_module": "@jupyter-widgets/base",
            "_view_module_version": "1.2.0",
            "_view_name": "LayoutView",
            "align_content": null,
            "align_items": null,
            "align_self": null,
            "border": null,
            "bottom": null,
            "display": null,
            "flex": null,
            "flex_flow": null,
            "grid_area": null,
            "grid_auto_columns": null,
            "grid_auto_flow": null,
            "grid_auto_rows": null,
            "grid_column": null,
            "grid_gap": null,
            "grid_row": null,
            "grid_template_areas": null,
            "grid_template_columns": null,
            "grid_template_rows": null,
            "height": null,
            "justify_content": null,
            "justify_items": null,
            "left": null,
            "margin": null,
            "max_height": null,
            "max_width": null,
            "min_height": null,
            "min_width": null,
            "object_fit": null,
            "object_position": null,
            "order": null,
            "overflow": null,
            "overflow_x": null,
            "overflow_y": null,
            "padding": null,
            "right": null,
            "top": null,
            "visibility": null,
            "width": null
          }
        },
        "ac5ab60205d4472daad36eedfc7ee8d6": {
          "model_module": "@jupyter-widgets/controls",
          "model_name": "DescriptionStyleModel",
          "model_module_version": "1.5.0",
          "state": {
            "_model_module": "@jupyter-widgets/controls",
            "_model_module_version": "1.5.0",
            "_model_name": "DescriptionStyleModel",
            "_view_count": null,
            "_view_module": "@jupyter-widgets/base",
            "_view_module_version": "1.2.0",
            "_view_name": "StyleView",
            "description_width": ""
          }
        },
        "066a78d079944cdc8596f7841bbf566d": {
          "model_module": "@jupyter-widgets/controls",
          "model_name": "HBoxModel",
          "model_module_version": "1.5.0",
          "state": {
            "_dom_classes": [],
            "_model_module": "@jupyter-widgets/controls",
            "_model_module_version": "1.5.0",
            "_model_name": "HBoxModel",
            "_view_count": null,
            "_view_module": "@jupyter-widgets/controls",
            "_view_module_version": "1.5.0",
            "_view_name": "HBoxView",
            "box_style": "",
            "children": [
              "IPY_MODEL_b51cb56a5f3241f796eff0618199a154",
              "IPY_MODEL_b81451309490469788b029693ad3ae70",
              "IPY_MODEL_cd9ecfee1ea14fdeae4a95a99d521fe6",
              "IPY_MODEL_2834a842cb344715bf6b1315494b248b"
            ],
            "layout": "IPY_MODEL_74bd0ec233334ef79731dc3a3e7b83a3"
          }
        },
        "b51cb56a5f3241f796eff0618199a154": {
          "model_module": "@jupyter-widgets/controls",
          "model_name": "VBoxModel",
          "model_module_version": "1.5.0",
          "state": {
            "_dom_classes": [],
            "_model_module": "@jupyter-widgets/controls",
            "_model_module_version": "1.5.0",
            "_model_name": "VBoxModel",
            "_view_count": null,
            "_view_module": "@jupyter-widgets/controls",
            "_view_module_version": "1.5.0",
            "_view_name": "VBoxView",
            "box_style": "",
            "children": [
              "IPY_MODEL_fc3ce147535049f083140f0cdcccc431"
            ],
            "layout": "IPY_MODEL_76820eb21ead4cb3be7df3180cdcc965"
          }
        },
        "b81451309490469788b029693ad3ae70": {
          "model_module": "@jupyter-widgets/controls",
          "model_name": "VBoxModel",
          "model_module_version": "1.5.0",
          "state": {
            "_dom_classes": [],
            "_model_module": "@jupyter-widgets/controls",
            "_model_module_version": "1.5.0",
            "_model_name": "VBoxModel",
            "_view_count": null,
            "_view_module": "@jupyter-widgets/controls",
            "_view_module_version": "1.5.0",
            "_view_name": "VBoxView",
            "box_style": "",
            "children": [
              "IPY_MODEL_ef8d76045e9a41e2abde4907e57a7d7f",
              "IPY_MODEL_430df723fd544c9090a951a12676a6e2"
            ],
            "layout": "IPY_MODEL_27fb6c2ed7a84638836d5e8382585f63"
          }
        },
        "cd9ecfee1ea14fdeae4a95a99d521fe6": {
          "model_module": "@jupyter-widgets/controls",
          "model_name": "VBoxModel",
          "model_module_version": "1.5.0",
          "state": {
            "_dom_classes": [],
            "_model_module": "@jupyter-widgets/controls",
            "_model_module_version": "1.5.0",
            "_model_name": "VBoxModel",
            "_view_count": null,
            "_view_module": "@jupyter-widgets/controls",
            "_view_module_version": "1.5.0",
            "_view_name": "VBoxView",
            "box_style": "",
            "children": [
              "IPY_MODEL_f265d228dea846b88dde1fbb5d77c3e2",
              "IPY_MODEL_7ba881a8a24f439082e084c0792864b3"
            ],
            "layout": "IPY_MODEL_37384eac18104c5d9dfb9848b1c22d97"
          }
        },
        "2834a842cb344715bf6b1315494b248b": {
          "model_module": "@jupyter-widgets/controls",
          "model_name": "VBoxModel",
          "model_module_version": "1.5.0",
          "state": {
            "_dom_classes": [],
            "_model_module": "@jupyter-widgets/controls",
            "_model_module_version": "1.5.0",
            "_model_name": "VBoxModel",
            "_view_count": null,
            "_view_module": "@jupyter-widgets/controls",
            "_view_module_version": "1.5.0",
            "_view_name": "VBoxView",
            "box_style": "",
            "children": [
              "IPY_MODEL_fb60bc546d6a47f095a66ca9937369b9"
            ],
            "layout": "IPY_MODEL_14858334b71743759add6e915ea2561d"
          }
        },
        "74bd0ec233334ef79731dc3a3e7b83a3": {
          "model_module": "@jupyter-widgets/base",
          "model_name": "LayoutModel",
          "model_module_version": "1.2.0",
          "state": {
            "_model_module": "@jupyter-widgets/base",
            "_model_module_version": "1.2.0",
            "_model_name": "LayoutModel",
            "_view_count": null,
            "_view_module": "@jupyter-widgets/base",
            "_view_module_version": "1.2.0",
            "_view_name": "LayoutView",
            "align_content": null,
            "align_items": null,
            "align_self": null,
            "border": null,
            "bottom": null,
            "display": null,
            "flex": null,
            "flex_flow": null,
            "grid_area": null,
            "grid_auto_columns": null,
            "grid_auto_flow": null,
            "grid_auto_rows": null,
            "grid_column": null,
            "grid_gap": null,
            "grid_row": null,
            "grid_template_areas": null,
            "grid_template_columns": null,
            "grid_template_rows": null,
            "height": null,
            "justify_content": null,
            "justify_items": null,
            "left": null,
            "margin": null,
            "max_height": null,
            "max_width": null,
            "min_height": null,
            "min_width": null,
            "object_fit": null,
            "object_position": null,
            "order": null,
            "overflow": null,
            "overflow_x": null,
            "overflow_y": null,
            "padding": null,
            "right": null,
            "top": null,
            "visibility": null,
            "width": null
          }
        },
        "fc3ce147535049f083140f0cdcccc431": {
          "model_module": "@jupyter-widgets/controls",
          "model_name": "FloatSliderModel",
          "model_module_version": "1.5.0",
          "state": {
            "_dom_classes": [],
            "_model_module": "@jupyter-widgets/controls",
            "_model_module_version": "1.5.0",
            "_model_name": "FloatSliderModel",
            "_view_count": null,
            "_view_module": "@jupyter-widgets/controls",
            "_view_module_version": "1.5.0",
            "_view_name": "FloatSliderView",
            "continuous_update": true,
            "description": "Eta (Const):",
            "description_tooltip": null,
            "disabled": false,
            "layout": "IPY_MODEL_37fe244db4f846038f708ff8c7296b91",
            "max": 0.4,
            "min": 0,
            "orientation": "horizontal",
            "readout": true,
            "readout_format": ".2f",
            "step": 0.01,
            "style": "IPY_MODEL_4ec9986c16894a439bb63f78a6a957af",
            "value": 0.4
          }
        },
        "76820eb21ead4cb3be7df3180cdcc965": {
          "model_module": "@jupyter-widgets/base",
          "model_name": "LayoutModel",
          "model_module_version": "1.2.0",
          "state": {
            "_model_module": "@jupyter-widgets/base",
            "_model_module_version": "1.2.0",
            "_model_name": "LayoutModel",
            "_view_count": null,
            "_view_module": "@jupyter-widgets/base",
            "_view_module_version": "1.2.0",
            "_view_name": "LayoutView",
            "align_content": null,
            "align_items": null,
            "align_self": null,
            "border": null,
            "bottom": null,
            "display": null,
            "flex": null,
            "flex_flow": null,
            "grid_area": null,
            "grid_auto_columns": null,
            "grid_auto_flow": null,
            "grid_auto_rows": null,
            "grid_column": null,
            "grid_gap": null,
            "grid_row": null,
            "grid_template_areas": null,
            "grid_template_columns": null,
            "grid_template_rows": null,
            "height": null,
            "justify_content": null,
            "justify_items": null,
            "left": null,
            "margin": null,
            "max_height": null,
            "max_width": null,
            "min_height": null,
            "min_width": null,
            "object_fit": null,
            "object_position": null,
            "order": null,
            "overflow": null,
            "overflow_x": null,
            "overflow_y": null,
            "padding": null,
            "right": null,
            "top": null,
            "visibility": null,
            "width": null
          }
        },
        "ef8d76045e9a41e2abde4907e57a7d7f": {
          "model_module": "@jupyter-widgets/controls",
          "model_name": "FloatSliderModel",
          "model_module_version": "1.5.0",
          "state": {
            "_dom_classes": [],
            "_model_module": "@jupyter-widgets/controls",
            "_model_module_version": "1.5.0",
            "_model_name": "FloatSliderModel",
            "_view_count": null,
            "_view_module": "@jupyter-widgets/controls",
            "_view_module_version": "1.5.0",
            "_view_name": "FloatSliderView",
            "continuous_update": true,
            "description": "Eta (Inv):",
            "description_tooltip": null,
            "disabled": false,
            "layout": "IPY_MODEL_7f98314ce1d1443b9aee45a6e16c4a74",
            "max": 0.4,
            "min": 0,
            "orientation": "horizontal",
            "readout": true,
            "readout_format": ".2f",
            "step": 0.001,
            "style": "IPY_MODEL_32d2e467c1464faab6e73530aaedfc6c",
            "value": 0.4
          }
        },
        "430df723fd544c9090a951a12676a6e2": {
          "model_module": "@jupyter-widgets/controls",
          "model_name": "FloatSliderModel",
          "model_module_version": "1.5.0",
          "state": {
            "_dom_classes": [],
            "_model_module": "@jupyter-widgets/controls",
            "_model_module_version": "1.5.0",
            "_model_name": "FloatSliderModel",
            "_view_count": null,
            "_view_module": "@jupyter-widgets/controls",
            "_view_module_version": "1.5.0",
            "_view_name": "FloatSliderView",
            "continuous_update": true,
            "description": "Lambda (Inv):",
            "description_tooltip": null,
            "disabled": false,
            "layout": "IPY_MODEL_80397dc5e6e34982ae76b0b143081a09",
            "max": 1,
            "min": 0,
            "orientation": "horizontal",
            "readout": true,
            "readout_format": ".2f",
            "step": 0.001,
            "style": "IPY_MODEL_90f149230dd04ce0b139e41c5004dd51",
            "value": 0.01
          }
        },
        "27fb6c2ed7a84638836d5e8382585f63": {
          "model_module": "@jupyter-widgets/base",
          "model_name": "LayoutModel",
          "model_module_version": "1.2.0",
          "state": {
            "_model_module": "@jupyter-widgets/base",
            "_model_module_version": "1.2.0",
            "_model_name": "LayoutModel",
            "_view_count": null,
            "_view_module": "@jupyter-widgets/base",
            "_view_module_version": "1.2.0",
            "_view_name": "LayoutView",
            "align_content": null,
            "align_items": null,
            "align_self": null,
            "border": null,
            "bottom": null,
            "display": null,
            "flex": null,
            "flex_flow": null,
            "grid_area": null,
            "grid_auto_columns": null,
            "grid_auto_flow": null,
            "grid_auto_rows": null,
            "grid_column": null,
            "grid_gap": null,
            "grid_row": null,
            "grid_template_areas": null,
            "grid_template_columns": null,
            "grid_template_rows": null,
            "height": null,
            "justify_content": null,
            "justify_items": null,
            "left": null,
            "margin": null,
            "max_height": null,
            "max_width": null,
            "min_height": null,
            "min_width": null,
            "object_fit": null,
            "object_position": null,
            "order": null,
            "overflow": null,
            "overflow_x": null,
            "overflow_y": null,
            "padding": null,
            "right": null,
            "top": null,
            "visibility": null,
            "width": null
          }
        },
        "f265d228dea846b88dde1fbb5d77c3e2": {
          "model_module": "@jupyter-widgets/controls",
          "model_name": "FloatSliderModel",
          "model_module_version": "1.5.0",
          "state": {
            "_dom_classes": [],
            "_model_module": "@jupyter-widgets/controls",
            "_model_module_version": "1.5.0",
            "_model_name": "FloatSliderModel",
            "_view_count": null,
            "_view_module": "@jupyter-widgets/controls",
            "_view_module_version": "1.5.0",
            "_view_name": "FloatSliderView",
            "continuous_update": true,
            "description": "Eta (Exp):",
            "description_tooltip": null,
            "disabled": false,
            "layout": "IPY_MODEL_10f997c5468940e0bc5bad3c3587f0f2",
            "max": 0.4,
            "min": 0,
            "orientation": "horizontal",
            "readout": true,
            "readout_format": ".2f",
            "step": 0.001,
            "style": "IPY_MODEL_1044f8f780494fe9b265aa06d7a0276c",
            "value": 0.247
          }
        },
        "7ba881a8a24f439082e084c0792864b3": {
          "model_module": "@jupyter-widgets/controls",
          "model_name": "FloatSliderModel",
          "model_module_version": "1.5.0",
          "state": {
            "_dom_classes": [],
            "_model_module": "@jupyter-widgets/controls",
            "_model_module_version": "1.5.0",
            "_model_name": "FloatSliderModel",
            "_view_count": null,
            "_view_module": "@jupyter-widgets/controls",
            "_view_module_version": "1.5.0",
            "_view_name": "FloatSliderView",
            "continuous_update": true,
            "description": "Lambda (Exp):",
            "description_tooltip": null,
            "disabled": false,
            "layout": "IPY_MODEL_17a8550c752e4c198cc472b42aba9637",
            "max": 1,
            "min": 0,
            "orientation": "horizontal",
            "readout": true,
            "readout_format": ".2f",
            "step": 0.001,
            "style": "IPY_MODEL_2f11d61f34a84bcab595c90ab993c57b",
            "value": 0.01
          }
        },
        "37384eac18104c5d9dfb9848b1c22d97": {
          "model_module": "@jupyter-widgets/base",
          "model_name": "LayoutModel",
          "model_module_version": "1.2.0",
          "state": {
            "_model_module": "@jupyter-widgets/base",
            "_model_module_version": "1.2.0",
            "_model_name": "LayoutModel",
            "_view_count": null,
            "_view_module": "@jupyter-widgets/base",
            "_view_module_version": "1.2.0",
            "_view_name": "LayoutView",
            "align_content": null,
            "align_items": null,
            "align_self": null,
            "border": null,
            "bottom": null,
            "display": null,
            "flex": null,
            "flex_flow": null,
            "grid_area": null,
            "grid_auto_columns": null,
            "grid_auto_flow": null,
            "grid_auto_rows": null,
            "grid_column": null,
            "grid_gap": null,
            "grid_row": null,
            "grid_template_areas": null,
            "grid_template_columns": null,
            "grid_template_rows": null,
            "height": null,
            "justify_content": null,
            "justify_items": null,
            "left": null,
            "margin": null,
            "max_height": null,
            "max_width": null,
            "min_height": null,
            "min_width": null,
            "object_fit": null,
            "object_position": null,
            "order": null,
            "overflow": null,
            "overflow_x": null,
            "overflow_y": null,
            "padding": null,
            "right": null,
            "top": null,
            "visibility": null,
            "width": null
          }
        },
        "fb60bc546d6a47f095a66ca9937369b9": {
          "model_module": "@jupyter-widgets/controls",
          "model_name": "FloatSliderModel",
          "model_module_version": "1.5.0",
          "state": {
            "_dom_classes": [],
            "_model_module": "@jupyter-widgets/controls",
            "_model_module_version": "1.5.0",
            "_model_name": "FloatSliderModel",
            "_view_count": null,
            "_view_module": "@jupyter-widgets/controls",
            "_view_module_version": "1.5.0",
            "_view_name": "FloatSliderView",
            "continuous_update": true,
            "description": "Eta (Norm):",
            "description_tooltip": null,
            "disabled": false,
            "layout": "IPY_MODEL_bdfe51c24d214ca0a7aa66c798fb6cfc",
            "max": 1,
            "min": 0,
            "orientation": "horizontal",
            "readout": true,
            "readout_format": ".2f",
            "step": 0.001,
            "style": "IPY_MODEL_ec8c502980bc4b62a5d01eedf2632146",
            "value": 0.3
          }
        },
        "14858334b71743759add6e915ea2561d": {
          "model_module": "@jupyter-widgets/base",
          "model_name": "LayoutModel",
          "model_module_version": "1.2.0",
          "state": {
            "_model_module": "@jupyter-widgets/base",
            "_model_module_version": "1.2.0",
            "_model_name": "LayoutModel",
            "_view_count": null,
            "_view_module": "@jupyter-widgets/base",
            "_view_module_version": "1.2.0",
            "_view_name": "LayoutView",
            "align_content": null,
            "align_items": null,
            "align_self": null,
            "border": null,
            "bottom": null,
            "display": null,
            "flex": null,
            "flex_flow": null,
            "grid_area": null,
            "grid_auto_columns": null,
            "grid_auto_flow": null,
            "grid_auto_rows": null,
            "grid_column": null,
            "grid_gap": null,
            "grid_row": null,
            "grid_template_areas": null,
            "grid_template_columns": null,
            "grid_template_rows": null,
            "height": null,
            "justify_content": null,
            "justify_items": null,
            "left": null,
            "margin": null,
            "max_height": null,
            "max_width": null,
            "min_height": null,
            "min_width": null,
            "object_fit": null,
            "object_position": null,
            "order": null,
            "overflow": null,
            "overflow_x": null,
            "overflow_y": null,
            "padding": null,
            "right": null,
            "top": null,
            "visibility": null,
            "width": null
          }
        },
        "37fe244db4f846038f708ff8c7296b91": {
          "model_module": "@jupyter-widgets/base",
          "model_name": "LayoutModel",
          "model_module_version": "1.2.0",
          "state": {
            "_model_module": "@jupyter-widgets/base",
            "_model_module_version": "1.2.0",
            "_model_name": "LayoutModel",
            "_view_count": null,
            "_view_module": "@jupyter-widgets/base",
            "_view_module_version": "1.2.0",
            "_view_name": "LayoutView",
            "align_content": null,
            "align_items": null,
            "align_self": null,
            "border": null,
            "bottom": null,
            "display": null,
            "flex": null,
            "flex_flow": null,
            "grid_area": null,
            "grid_auto_columns": null,
            "grid_auto_flow": null,
            "grid_auto_rows": null,
            "grid_column": null,
            "grid_gap": null,
            "grid_row": null,
            "grid_template_areas": null,
            "grid_template_columns": null,
            "grid_template_rows": null,
            "height": null,
            "justify_content": null,
            "justify_items": null,
            "left": null,
            "margin": null,
            "max_height": null,
            "max_width": null,
            "min_height": null,
            "min_width": null,
            "object_fit": null,
            "object_position": null,
            "order": null,
            "overflow": null,
            "overflow_x": null,
            "overflow_y": null,
            "padding": null,
            "right": null,
            "top": null,
            "visibility": null,
            "width": null
          }
        },
        "4ec9986c16894a439bb63f78a6a957af": {
          "model_module": "@jupyter-widgets/controls",
          "model_name": "SliderStyleModel",
          "model_module_version": "1.5.0",
          "state": {
            "_model_module": "@jupyter-widgets/controls",
            "_model_module_version": "1.5.0",
            "_model_name": "SliderStyleModel",
            "_view_count": null,
            "_view_module": "@jupyter-widgets/base",
            "_view_module_version": "1.2.0",
            "_view_name": "StyleView",
            "description_width": "",
            "handle_color": null
          }
        },
        "7f98314ce1d1443b9aee45a6e16c4a74": {
          "model_module": "@jupyter-widgets/base",
          "model_name": "LayoutModel",
          "model_module_version": "1.2.0",
          "state": {
            "_model_module": "@jupyter-widgets/base",
            "_model_module_version": "1.2.0",
            "_model_name": "LayoutModel",
            "_view_count": null,
            "_view_module": "@jupyter-widgets/base",
            "_view_module_version": "1.2.0",
            "_view_name": "LayoutView",
            "align_content": null,
            "align_items": null,
            "align_self": null,
            "border": null,
            "bottom": null,
            "display": null,
            "flex": null,
            "flex_flow": null,
            "grid_area": null,
            "grid_auto_columns": null,
            "grid_auto_flow": null,
            "grid_auto_rows": null,
            "grid_column": null,
            "grid_gap": null,
            "grid_row": null,
            "grid_template_areas": null,
            "grid_template_columns": null,
            "grid_template_rows": null,
            "height": null,
            "justify_content": null,
            "justify_items": null,
            "left": null,
            "margin": null,
            "max_height": null,
            "max_width": null,
            "min_height": null,
            "min_width": null,
            "object_fit": null,
            "object_position": null,
            "order": null,
            "overflow": null,
            "overflow_x": null,
            "overflow_y": null,
            "padding": null,
            "right": null,
            "top": null,
            "visibility": null,
            "width": null
          }
        },
        "32d2e467c1464faab6e73530aaedfc6c": {
          "model_module": "@jupyter-widgets/controls",
          "model_name": "SliderStyleModel",
          "model_module_version": "1.5.0",
          "state": {
            "_model_module": "@jupyter-widgets/controls",
            "_model_module_version": "1.5.0",
            "_model_name": "SliderStyleModel",
            "_view_count": null,
            "_view_module": "@jupyter-widgets/base",
            "_view_module_version": "1.2.0",
            "_view_name": "StyleView",
            "description_width": "",
            "handle_color": null
          }
        },
        "80397dc5e6e34982ae76b0b143081a09": {
          "model_module": "@jupyter-widgets/base",
          "model_name": "LayoutModel",
          "model_module_version": "1.2.0",
          "state": {
            "_model_module": "@jupyter-widgets/base",
            "_model_module_version": "1.2.0",
            "_model_name": "LayoutModel",
            "_view_count": null,
            "_view_module": "@jupyter-widgets/base",
            "_view_module_version": "1.2.0",
            "_view_name": "LayoutView",
            "align_content": null,
            "align_items": null,
            "align_self": null,
            "border": null,
            "bottom": null,
            "display": null,
            "flex": null,
            "flex_flow": null,
            "grid_area": null,
            "grid_auto_columns": null,
            "grid_auto_flow": null,
            "grid_auto_rows": null,
            "grid_column": null,
            "grid_gap": null,
            "grid_row": null,
            "grid_template_areas": null,
            "grid_template_columns": null,
            "grid_template_rows": null,
            "height": null,
            "justify_content": null,
            "justify_items": null,
            "left": null,
            "margin": null,
            "max_height": null,
            "max_width": null,
            "min_height": null,
            "min_width": null,
            "object_fit": null,
            "object_position": null,
            "order": null,
            "overflow": null,
            "overflow_x": null,
            "overflow_y": null,
            "padding": null,
            "right": null,
            "top": null,
            "visibility": null,
            "width": null
          }
        },
        "90f149230dd04ce0b139e41c5004dd51": {
          "model_module": "@jupyter-widgets/controls",
          "model_name": "SliderStyleModel",
          "model_module_version": "1.5.0",
          "state": {
            "_model_module": "@jupyter-widgets/controls",
            "_model_module_version": "1.5.0",
            "_model_name": "SliderStyleModel",
            "_view_count": null,
            "_view_module": "@jupyter-widgets/base",
            "_view_module_version": "1.2.0",
            "_view_name": "StyleView",
            "description_width": "",
            "handle_color": null
          }
        },
        "10f997c5468940e0bc5bad3c3587f0f2": {
          "model_module": "@jupyter-widgets/base",
          "model_name": "LayoutModel",
          "model_module_version": "1.2.0",
          "state": {
            "_model_module": "@jupyter-widgets/base",
            "_model_module_version": "1.2.0",
            "_model_name": "LayoutModel",
            "_view_count": null,
            "_view_module": "@jupyter-widgets/base",
            "_view_module_version": "1.2.0",
            "_view_name": "LayoutView",
            "align_content": null,
            "align_items": null,
            "align_self": null,
            "border": null,
            "bottom": null,
            "display": null,
            "flex": null,
            "flex_flow": null,
            "grid_area": null,
            "grid_auto_columns": null,
            "grid_auto_flow": null,
            "grid_auto_rows": null,
            "grid_column": null,
            "grid_gap": null,
            "grid_row": null,
            "grid_template_areas": null,
            "grid_template_columns": null,
            "grid_template_rows": null,
            "height": null,
            "justify_content": null,
            "justify_items": null,
            "left": null,
            "margin": null,
            "max_height": null,
            "max_width": null,
            "min_height": null,
            "min_width": null,
            "object_fit": null,
            "object_position": null,
            "order": null,
            "overflow": null,
            "overflow_x": null,
            "overflow_y": null,
            "padding": null,
            "right": null,
            "top": null,
            "visibility": null,
            "width": null
          }
        },
        "1044f8f780494fe9b265aa06d7a0276c": {
          "model_module": "@jupyter-widgets/controls",
          "model_name": "SliderStyleModel",
          "model_module_version": "1.5.0",
          "state": {
            "_model_module": "@jupyter-widgets/controls",
            "_model_module_version": "1.5.0",
            "_model_name": "SliderStyleModel",
            "_view_count": null,
            "_view_module": "@jupyter-widgets/base",
            "_view_module_version": "1.2.0",
            "_view_name": "StyleView",
            "description_width": "",
            "handle_color": null
          }
        },
        "17a8550c752e4c198cc472b42aba9637": {
          "model_module": "@jupyter-widgets/base",
          "model_name": "LayoutModel",
          "model_module_version": "1.2.0",
          "state": {
            "_model_module": "@jupyter-widgets/base",
            "_model_module_version": "1.2.0",
            "_model_name": "LayoutModel",
            "_view_count": null,
            "_view_module": "@jupyter-widgets/base",
            "_view_module_version": "1.2.0",
            "_view_name": "LayoutView",
            "align_content": null,
            "align_items": null,
            "align_self": null,
            "border": null,
            "bottom": null,
            "display": null,
            "flex": null,
            "flex_flow": null,
            "grid_area": null,
            "grid_auto_columns": null,
            "grid_auto_flow": null,
            "grid_auto_rows": null,
            "grid_column": null,
            "grid_gap": null,
            "grid_row": null,
            "grid_template_areas": null,
            "grid_template_columns": null,
            "grid_template_rows": null,
            "height": null,
            "justify_content": null,
            "justify_items": null,
            "left": null,
            "margin": null,
            "max_height": null,
            "max_width": null,
            "min_height": null,
            "min_width": null,
            "object_fit": null,
            "object_position": null,
            "order": null,
            "overflow": null,
            "overflow_x": null,
            "overflow_y": null,
            "padding": null,
            "right": null,
            "top": null,
            "visibility": null,
            "width": null
          }
        },
        "2f11d61f34a84bcab595c90ab993c57b": {
          "model_module": "@jupyter-widgets/controls",
          "model_name": "SliderStyleModel",
          "model_module_version": "1.5.0",
          "state": {
            "_model_module": "@jupyter-widgets/controls",
            "_model_module_version": "1.5.0",
            "_model_name": "SliderStyleModel",
            "_view_count": null,
            "_view_module": "@jupyter-widgets/base",
            "_view_module_version": "1.2.0",
            "_view_name": "StyleView",
            "description_width": "",
            "handle_color": null
          }
        },
        "bdfe51c24d214ca0a7aa66c798fb6cfc": {
          "model_module": "@jupyter-widgets/base",
          "model_name": "LayoutModel",
          "model_module_version": "1.2.0",
          "state": {
            "_model_module": "@jupyter-widgets/base",
            "_model_module_version": "1.2.0",
            "_model_name": "LayoutModel",
            "_view_count": null,
            "_view_module": "@jupyter-widgets/base",
            "_view_module_version": "1.2.0",
            "_view_name": "LayoutView",
            "align_content": null,
            "align_items": null,
            "align_self": null,
            "border": null,
            "bottom": null,
            "display": null,
            "flex": null,
            "flex_flow": null,
            "grid_area": null,
            "grid_auto_columns": null,
            "grid_auto_flow": null,
            "grid_auto_rows": null,
            "grid_column": null,
            "grid_gap": null,
            "grid_row": null,
            "grid_template_areas": null,
            "grid_template_columns": null,
            "grid_template_rows": null,
            "height": null,
            "justify_content": null,
            "justify_items": null,
            "left": null,
            "margin": null,
            "max_height": null,
            "max_width": null,
            "min_height": null,
            "min_width": null,
            "object_fit": null,
            "object_position": null,
            "order": null,
            "overflow": null,
            "overflow_x": null,
            "overflow_y": null,
            "padding": null,
            "right": null,
            "top": null,
            "visibility": null,
            "width": null
          }
        },
        "ec8c502980bc4b62a5d01eedf2632146": {
          "model_module": "@jupyter-widgets/controls",
          "model_name": "SliderStyleModel",
          "model_module_version": "1.5.0",
          "state": {
            "_model_module": "@jupyter-widgets/controls",
            "_model_module_version": "1.5.0",
            "_model_name": "SliderStyleModel",
            "_view_count": null,
            "_view_module": "@jupyter-widgets/base",
            "_view_module_version": "1.2.0",
            "_view_name": "StyleView",
            "description_width": "",
            "handle_color": null
          }
        },
        "d67a672e0dff4b99b2950b71d327443a": {
          "model_module": "@jupyter-widgets/controls",
          "model_name": "CheckboxModel",
          "model_module_version": "1.5.0",
          "state": {
            "_dom_classes": [],
            "_model_module": "@jupyter-widgets/controls",
            "_model_module_version": "1.5.0",
            "_model_name": "CheckboxModel",
            "_view_count": null,
            "_view_module": "@jupyter-widgets/controls",
            "_view_module_version": "1.5.0",
            "_view_name": "CheckboxView",
            "description": "Show Plot",
            "description_tooltip": null,
            "disabled": false,
            "indent": true,
            "layout": "IPY_MODEL_b657d151b8c8472f8d388562b57f08a2",
            "style": "IPY_MODEL_3bed834116f841bfaf1d05ed842e5bef",
            "value": true
          }
        },
        "b657d151b8c8472f8d388562b57f08a2": {
          "model_module": "@jupyter-widgets/base",
          "model_name": "LayoutModel",
          "model_module_version": "1.2.0",
          "state": {
            "_model_module": "@jupyter-widgets/base",
            "_model_module_version": "1.2.0",
            "_model_name": "LayoutModel",
            "_view_count": null,
            "_view_module": "@jupyter-widgets/base",
            "_view_module_version": "1.2.0",
            "_view_name": "LayoutView",
            "align_content": null,
            "align_items": null,
            "align_self": null,
            "border": null,
            "bottom": null,
            "display": null,
            "flex": null,
            "flex_flow": null,
            "grid_area": null,
            "grid_auto_columns": null,
            "grid_auto_flow": null,
            "grid_auto_rows": null,
            "grid_column": null,
            "grid_gap": null,
            "grid_row": null,
            "grid_template_areas": null,
            "grid_template_columns": null,
            "grid_template_rows": null,
            "height": null,
            "justify_content": null,
            "justify_items": null,
            "left": null,
            "margin": null,
            "max_height": null,
            "max_width": null,
            "min_height": null,
            "min_width": null,
            "object_fit": null,
            "object_position": null,
            "order": null,
            "overflow": null,
            "overflow_x": null,
            "overflow_y": null,
            "padding": null,
            "right": null,
            "top": null,
            "visibility": null,
            "width": null
          }
        },
        "3bed834116f841bfaf1d05ed842e5bef": {
          "model_module": "@jupyter-widgets/controls",
          "model_name": "DescriptionStyleModel",
          "model_module_version": "1.5.0",
          "state": {
            "_model_module": "@jupyter-widgets/controls",
            "_model_module_version": "1.5.0",
            "_model_name": "DescriptionStyleModel",
            "_view_count": null,
            "_view_module": "@jupyter-widgets/base",
            "_view_module_version": "1.2.0",
            "_view_name": "StyleView",
            "description_width": ""
          }
        },
        "db59a4a09b374512a95b47467d61cfb7": {
          "model_module": "@jupyter-widgets/output",
          "model_name": "OutputModel",
          "model_module_version": "1.0.0",
          "state": {
            "_dom_classes": [],
            "_model_module": "@jupyter-widgets/output",
            "_model_module_version": "1.0.0",
            "_model_name": "OutputModel",
            "_view_count": null,
            "_view_module": "@jupyter-widgets/output",
            "_view_module_version": "1.0.0",
            "_view_name": "OutputView",
            "layout": "IPY_MODEL_ec5b41d278d247b4ab9be98fa4262cfc",
            "msg_id": "f9bba7aa-00a0-47a5-e1ae-81106b48c6c5",
            "outputs": [
              {
                "output_type": "display_data",
                "data": {
                  "text/plain": "<Figure size 1000x500 with 1 Axes>",
                  "image/png": "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\n"
                },
                "metadata": {}
              }
            ]
          }
        },
        "ec5b41d278d247b4ab9be98fa4262cfc": {
          "model_module": "@jupyter-widgets/base",
          "model_name": "LayoutModel",
          "model_module_version": "1.2.0",
          "state": {
            "_model_module": "@jupyter-widgets/base",
            "_model_module_version": "1.2.0",
            "_model_name": "LayoutModel",
            "_view_count": null,
            "_view_module": "@jupyter-widgets/base",
            "_view_module_version": "1.2.0",
            "_view_name": "LayoutView",
            "align_content": null,
            "align_items": null,
            "align_self": null,
            "border": null,
            "bottom": null,
            "display": null,
            "flex": null,
            "flex_flow": null,
            "grid_area": null,
            "grid_auto_columns": null,
            "grid_auto_flow": null,
            "grid_auto_rows": null,
            "grid_column": null,
            "grid_gap": null,
            "grid_row": null,
            "grid_template_areas": null,
            "grid_template_columns": null,
            "grid_template_rows": null,
            "height": null,
            "justify_content": null,
            "justify_items": null,
            "left": null,
            "margin": null,
            "max_height": null,
            "max_width": null,
            "min_height": null,
            "min_width": null,
            "object_fit": null,
            "object_position": null,
            "order": null,
            "overflow": null,
            "overflow_x": null,
            "overflow_y": null,
            "padding": null,
            "right": null,
            "top": null,
            "visibility": null,
            "width": null
          }
        }
      }
    }
  },
  "nbformat": 4,
  "nbformat_minor": 0
}