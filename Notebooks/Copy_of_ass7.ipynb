{
  "cells": [
    {
      "cell_type": "markdown",
      "metadata": {
        "id": "view-in-github",
        "colab_type": "text"
      },
      "source": [
        "<a href=\"https://colab.research.google.com/github/AhmedZ04/MachineLearning-Demos/blob/main/Copy_of_ass7.ipynb\" target=\"_parent\"><img src=\"https://colab.research.google.com/assets/colab-badge.svg\" alt=\"Open In Colab\"/></a>"
      ]
    },
    {
      "cell_type": "code",
      "execution_count": null,
      "metadata": {
        "id": "gz4oYaG0n0PZ"
      },
      "outputs": [],
      "source": [
        "# Enable widgets\n",
        "from google.colab import output\n",
        "output.enable_custom_widget_manager()\n",
        "import ipywidgets as widgets\n",
        "\n",
        "# Install otter-grader\n",
        "%pip install -q otter-grader\n",
        "\n",
        "# Download the tests directory from the course website (this will be used by otter-grader)\n",
        "!wget -q https://vladtkachuk4.github.io/machinelearning1/assignments/Fall2024/ass7/tests.zip -O tests.zip\n",
        "\n",
        "# Unzip the tests directory, forcing overwriting of existing files\n",
        "!unzip -qo tests.zip -d ."
      ]
    },
    {
      "cell_type": "code",
      "execution_count": null,
      "metadata": {
        "id": "oNp5b3qMn0Pb"
      },
      "outputs": [],
      "source": [
        "# Initialize Otter\n",
        "import otter\n",
        "grader = otter.Notebook()"
      ]
    },
    {
      "cell_type": "markdown",
      "metadata": {
        "id": "FCvrTovRn0Pc"
      },
      "source": [
        "# CMPUT 267 - Machine Learning I\n",
        "# Assignment 7 - Classification"
      ]
    },
    {
      "cell_type": "markdown",
      "metadata": {
        "id": "OGsI6DqVn0Pc"
      },
      "source": [
        "## Assignment Instructions and Information\n",
        "For this assignment, we will be using Google Colab. If you are new to Google Colab, you can find a brief introduction at the following link: [Google Colab Introduction](https://colab.research.google.com/notebooks/intro.ipynb).\n",
        "\n",
        "**Important:** Before you start working on this notebook, make sure to save a copy to your own Google Drive. To do this, go to `File` -> `Save a copy in Drive`.\n",
        "\n",
        "If you do not save a copy, you will not be able to save any changes you make.\n"
      ]
    },
    {
      "cell_type": "markdown",
      "metadata": {
        "id": "y6DlyngLn0Pd"
      },
      "source": [
        "### Submitting your assignment\n",
        "Once you have completed the assignment, please submit your work as a `.ipynb` file on eClass in the \"Assignment 7\" section. To download your Colab notebook in the required format, follow these steps:\n",
        "\n",
        "1. Save your notebook to ensure all changes are preserved.\n",
        "2. Navigate to `File` -> `Download` -> `Download .ipynb`.\n",
        "\n",
        "Make sure to save your notebook before downloading it!"
      ]
    },
    {
      "cell_type": "markdown",
      "metadata": {
        "id": "wPhK2ApOn0Pd"
      },
      "source": [
        "### Questions and Autograding\n",
        "\n",
        "Each section contains questions for you to solve, marked with the subsection heading \"Question X.Y\" (ex: the first problem is \"Question 2.1\").\n",
        "\n",
        "For each question your solution must go within the following designated code block:\n",
        "\n",
        "```python\n",
        "### YOUR CODE HERE ###\n",
        "\n",
        "######################\n",
        "```\n",
        "\n",
        "All questions will be autograded using [Otter-Grader](https://otter-grader.readthedocs.io/en/latest/).\n",
        "The first two code cells in this notebook install the Otter-Grader package and download the test cases.\n",
        "You should run these cells, otherwise the autograder will not work.\n",
        "\n",
        "At the end of each question there is code that runs the autograder. For example, in Question 2.1 the code `grader.check(\"q2_1\")` runs the autograder.\n",
        "If you pass all the test cases for a question (ex: Question 2.1), you will see the following output:\n",
        "\n",
        "**q2_1** passed!\n",
        "\n",
        "If you do not pass all the test cases for a question, you will see which test cases you did not pass along with their corresponding error messages.\n",
        "\n",
        "There are both public and private test cases. You only have access to the public test cases. This means that if you pass all the test cases in this notebook, you have passed all the public test cases.\n",
        "\n",
        "After you submit the assignment, we will also run the private test cases. The public test cases account for 50% of the total mark, while the private test cases make up the remaining 50%. Therefore, if you pass all the test cases in the notebook, you are guaranteed a mark of at least 50%.\n",
        "\n",
        "After each question description, the number of points (marks) the question is worth is indicated.\n",
        "This is the total number of points for both the public and private test cases.\n",
        "For each question, the public test cases are worth 50% of the points.\n"
      ]
    },
    {
      "cell_type": "markdown",
      "metadata": {
        "id": "T1KUUwuEn0Pd"
      },
      "source": [
        "## Introduction\n",
        "\n",
        "Welcome to Assignment 7! In this assignment, you will work on a binary and multiclass classification problem.\n",
        "We will be focusing on the methods discussed in Chapter 9 of the [course notes](https://vladtkachuk4.github.io/machinelearning1/notes.pdf).\n",
        "\n",
        "This assignment will guide you through the following sections:\n",
        "\n",
        "1. [Understanding the Dataset](#part-1-understanding-the-dataset)\n",
        "1. [Binary Classification](#part-2-binary-classification)\n",
        "1. [Multiclass Classification](#part-3-multiclass-classification)\n",
        "\n",
        "You can quickly navigate to each section by opening the table of contents on the left side of the screen.\n",
        "\n",
        "Let's get started!\n"
      ]
    },
    {
      "cell_type": "markdown",
      "metadata": {
        "id": "lQo9Uvmtn0Pd"
      },
      "source": [
        "# Part 1: Understanding the Dataset\n",
        "\n",
        "In this assignment, we will use the **UCI Wine dataset**, which is a classic dataset often used for classification tasks.\n",
        "It contains information about various chemical properties of wines derived from three different cultivars in the same region in Italy.\n",
        "The features include alcohol content, malic acid, ash, alcalinity of ash, magnesium, total phenols, flavanoids, nonflavanoid phenols, proanthocyanins, color intensity, hue, OD280/OD315 of diluted wines, and proline,\n",
        "with the labels being the cultivar of the wine (Barolo (0), Grignolino (1), Barbera (2)).\n",
        "The dataset contains 178 data points.\n",
        "\n",
        "The dataset was introduced by Forina et al. (1991) in their paper on chemical analysis.\n",
        "\n",
        "Let's begin by loading the dataset and taking a closer look at what it contains."
      ]
    },
    {
      "cell_type": "markdown",
      "metadata": {
        "id": "AbNVPe1vn0Pe"
      },
      "source": [
        "### Load the Dataset\n",
        "\n",
        "First, lets import all the necessary libraries for this assignment."
      ]
    },
    {
      "cell_type": "code",
      "execution_count": null,
      "metadata": {
        "id": "R7Z931Gyn0Pe"
      },
      "outputs": [],
      "source": [
        "# Import necessary libraries\n",
        "import numpy as np\n",
        "import pandas as pd\n",
        "import matplotlib.pyplot as plt\n",
        "from ipywidgets import interactive_output\n",
        "import ipywidgets as widgets\n",
        "from IPython.display import display, clear_output\n",
        "from sklearn.preprocessing import PolynomialFeatures\n",
        "from sklearn.datasets import load_wine\n",
        "from sklearn.model_selection import train_test_split\n",
        "\n",
        "# Set a fixed random seed for reproducibility\n",
        "random_seed = 42"
      ]
    },
    {
      "cell_type": "markdown",
      "metadata": {
        "id": "b7EHE7QCn0Pe"
      },
      "source": [
        "We will use `load_wine` from the `sklearn.datasets` module to load the dataset.\n",
        "Let's load the dataset and examine the features for the first few datapoints.\n",
        "You should see that the dataset contains 13 features and a label (class)."
      ]
    },
    {
      "cell_type": "code",
      "execution_count": null,
      "metadata": {
        "id": "yXvPCDN-n0Pe",
        "colab": {
          "base_uri": "https://localhost:8080/",
          "height": 226
        },
        "outputId": "d6093049-2fd6-4ae6-dab5-98800eb8e97f"
      },
      "outputs": [
        {
          "output_type": "execute_result",
          "data": {
            "text/plain": [
              "     alcohol  malic_acid   ash  alcalinity_of_ash  magnesium  total_phenols  \\\n",
              "19     13.64        3.10  2.56               15.2      116.0           2.70   \n",
              "45     14.21        4.04  2.44               18.9      111.0           2.85   \n",
              "140    12.93        2.81  2.70               21.0       96.0           1.54   \n",
              "30     13.73        1.50  2.70               22.5      101.0           3.00   \n",
              "67     12.37        1.17  1.92               19.6       78.0           2.11   \n",
              "\n",
              "     flavanoids  nonflavanoid_phenols  proanthocyanins  color_intensity   hue  \\\n",
              "19         3.03                  0.17             1.66             5.10  0.96   \n",
              "45         2.65                  0.30             1.25             5.24  0.87   \n",
              "140        0.50                  0.53             0.75             4.60  0.77   \n",
              "30         3.25                  0.29             2.38             5.70  1.19   \n",
              "67         2.00                  0.27             1.04             4.68  1.12   \n",
              "\n",
              "     od280/od315_of_diluted_wines  proline  Class  \n",
              "19                           3.36    845.0      0  \n",
              "45                           3.33   1080.0      0  \n",
              "140                          2.31    600.0      2  \n",
              "30                           2.71   1285.0      0  \n",
              "67                           3.48    510.0      1  "
            ],
            "text/html": [
              "\n",
              "  <div id=\"df-7ea03f24-4be7-4642-96a4-c3695957ad3f\" class=\"colab-df-container\">\n",
              "    <div>\n",
              "<style scoped>\n",
              "    .dataframe tbody tr th:only-of-type {\n",
              "        vertical-align: middle;\n",
              "    }\n",
              "\n",
              "    .dataframe tbody tr th {\n",
              "        vertical-align: top;\n",
              "    }\n",
              "\n",
              "    .dataframe thead th {\n",
              "        text-align: right;\n",
              "    }\n",
              "</style>\n",
              "<table border=\"1\" class=\"dataframe\">\n",
              "  <thead>\n",
              "    <tr style=\"text-align: right;\">\n",
              "      <th></th>\n",
              "      <th>alcohol</th>\n",
              "      <th>malic_acid</th>\n",
              "      <th>ash</th>\n",
              "      <th>alcalinity_of_ash</th>\n",
              "      <th>magnesium</th>\n",
              "      <th>total_phenols</th>\n",
              "      <th>flavanoids</th>\n",
              "      <th>nonflavanoid_phenols</th>\n",
              "      <th>proanthocyanins</th>\n",
              "      <th>color_intensity</th>\n",
              "      <th>hue</th>\n",
              "      <th>od280/od315_of_diluted_wines</th>\n",
              "      <th>proline</th>\n",
              "      <th>Class</th>\n",
              "    </tr>\n",
              "  </thead>\n",
              "  <tbody>\n",
              "    <tr>\n",
              "      <th>19</th>\n",
              "      <td>13.64</td>\n",
              "      <td>3.10</td>\n",
              "      <td>2.56</td>\n",
              "      <td>15.2</td>\n",
              "      <td>116.0</td>\n",
              "      <td>2.70</td>\n",
              "      <td>3.03</td>\n",
              "      <td>0.17</td>\n",
              "      <td>1.66</td>\n",
              "      <td>5.10</td>\n",
              "      <td>0.96</td>\n",
              "      <td>3.36</td>\n",
              "      <td>845.0</td>\n",
              "      <td>0</td>\n",
              "    </tr>\n",
              "    <tr>\n",
              "      <th>45</th>\n",
              "      <td>14.21</td>\n",
              "      <td>4.04</td>\n",
              "      <td>2.44</td>\n",
              "      <td>18.9</td>\n",
              "      <td>111.0</td>\n",
              "      <td>2.85</td>\n",
              "      <td>2.65</td>\n",
              "      <td>0.30</td>\n",
              "      <td>1.25</td>\n",
              "      <td>5.24</td>\n",
              "      <td>0.87</td>\n",
              "      <td>3.33</td>\n",
              "      <td>1080.0</td>\n",
              "      <td>0</td>\n",
              "    </tr>\n",
              "    <tr>\n",
              "      <th>140</th>\n",
              "      <td>12.93</td>\n",
              "      <td>2.81</td>\n",
              "      <td>2.70</td>\n",
              "      <td>21.0</td>\n",
              "      <td>96.0</td>\n",
              "      <td>1.54</td>\n",
              "      <td>0.50</td>\n",
              "      <td>0.53</td>\n",
              "      <td>0.75</td>\n",
              "      <td>4.60</td>\n",
              "      <td>0.77</td>\n",
              "      <td>2.31</td>\n",
              "      <td>600.0</td>\n",
              "      <td>2</td>\n",
              "    </tr>\n",
              "    <tr>\n",
              "      <th>30</th>\n",
              "      <td>13.73</td>\n",
              "      <td>1.50</td>\n",
              "      <td>2.70</td>\n",
              "      <td>22.5</td>\n",
              "      <td>101.0</td>\n",
              "      <td>3.00</td>\n",
              "      <td>3.25</td>\n",
              "      <td>0.29</td>\n",
              "      <td>2.38</td>\n",
              "      <td>5.70</td>\n",
              "      <td>1.19</td>\n",
              "      <td>2.71</td>\n",
              "      <td>1285.0</td>\n",
              "      <td>0</td>\n",
              "    </tr>\n",
              "    <tr>\n",
              "      <th>67</th>\n",
              "      <td>12.37</td>\n",
              "      <td>1.17</td>\n",
              "      <td>1.92</td>\n",
              "      <td>19.6</td>\n",
              "      <td>78.0</td>\n",
              "      <td>2.11</td>\n",
              "      <td>2.00</td>\n",
              "      <td>0.27</td>\n",
              "      <td>1.04</td>\n",
              "      <td>4.68</td>\n",
              "      <td>1.12</td>\n",
              "      <td>3.48</td>\n",
              "      <td>510.0</td>\n",
              "      <td>1</td>\n",
              "    </tr>\n",
              "  </tbody>\n",
              "</table>\n",
              "</div>\n",
              "    <div class=\"colab-df-buttons\">\n",
              "\n",
              "  <div class=\"colab-df-container\">\n",
              "    <button class=\"colab-df-convert\" onclick=\"convertToInteractive('df-7ea03f24-4be7-4642-96a4-c3695957ad3f')\"\n",
              "            title=\"Convert this dataframe to an interactive table.\"\n",
              "            style=\"display:none;\">\n",
              "\n",
              "  <svg xmlns=\"http://www.w3.org/2000/svg\" height=\"24px\" viewBox=\"0 -960 960 960\">\n",
              "    <path d=\"M120-120v-720h720v720H120Zm60-500h600v-160H180v160Zm220 220h160v-160H400v160Zm0 220h160v-160H400v160ZM180-400h160v-160H180v160Zm440 0h160v-160H620v160ZM180-180h160v-160H180v160Zm440 0h160v-160H620v160Z\"/>\n",
              "  </svg>\n",
              "    </button>\n",
              "\n",
              "  <style>\n",
              "    .colab-df-container {\n",
              "      display:flex;\n",
              "      gap: 12px;\n",
              "    }\n",
              "\n",
              "    .colab-df-convert {\n",
              "      background-color: #E8F0FE;\n",
              "      border: none;\n",
              "      border-radius: 50%;\n",
              "      cursor: pointer;\n",
              "      display: none;\n",
              "      fill: #1967D2;\n",
              "      height: 32px;\n",
              "      padding: 0 0 0 0;\n",
              "      width: 32px;\n",
              "    }\n",
              "\n",
              "    .colab-df-convert:hover {\n",
              "      background-color: #E2EBFA;\n",
              "      box-shadow: 0px 1px 2px rgba(60, 64, 67, 0.3), 0px 1px 3px 1px rgba(60, 64, 67, 0.15);\n",
              "      fill: #174EA6;\n",
              "    }\n",
              "\n",
              "    .colab-df-buttons div {\n",
              "      margin-bottom: 4px;\n",
              "    }\n",
              "\n",
              "    [theme=dark] .colab-df-convert {\n",
              "      background-color: #3B4455;\n",
              "      fill: #D2E3FC;\n",
              "    }\n",
              "\n",
              "    [theme=dark] .colab-df-convert:hover {\n",
              "      background-color: #434B5C;\n",
              "      box-shadow: 0px 1px 3px 1px rgba(0, 0, 0, 0.15);\n",
              "      filter: drop-shadow(0px 1px 2px rgba(0, 0, 0, 0.3));\n",
              "      fill: #FFFFFF;\n",
              "    }\n",
              "  </style>\n",
              "\n",
              "    <script>\n",
              "      const buttonEl =\n",
              "        document.querySelector('#df-7ea03f24-4be7-4642-96a4-c3695957ad3f button.colab-df-convert');\n",
              "      buttonEl.style.display =\n",
              "        google.colab.kernel.accessAllowed ? 'block' : 'none';\n",
              "\n",
              "      async function convertToInteractive(key) {\n",
              "        const element = document.querySelector('#df-7ea03f24-4be7-4642-96a4-c3695957ad3f');\n",
              "        const dataTable =\n",
              "          await google.colab.kernel.invokeFunction('convertToInteractive',\n",
              "                                                    [key], {});\n",
              "        if (!dataTable) return;\n",
              "\n",
              "        const docLinkHtml = 'Like what you see? Visit the ' +\n",
              "          '<a target=\"_blank\" href=https://colab.research.google.com/notebooks/data_table.ipynb>data table notebook</a>'\n",
              "          + ' to learn more about interactive tables.';\n",
              "        element.innerHTML = '';\n",
              "        dataTable['output_type'] = 'display_data';\n",
              "        await google.colab.output.renderOutput(dataTable, element);\n",
              "        const docLink = document.createElement('div');\n",
              "        docLink.innerHTML = docLinkHtml;\n",
              "        element.appendChild(docLink);\n",
              "      }\n",
              "    </script>\n",
              "  </div>\n",
              "\n",
              "\n",
              "<div id=\"df-a1942fff-e2f1-4461-9330-9c344de6387d\">\n",
              "  <button class=\"colab-df-quickchart\" onclick=\"quickchart('df-a1942fff-e2f1-4461-9330-9c344de6387d')\"\n",
              "            title=\"Suggest charts\"\n",
              "            style=\"display:none;\">\n",
              "\n",
              "<svg xmlns=\"http://www.w3.org/2000/svg\" height=\"24px\"viewBox=\"0 0 24 24\"\n",
              "     width=\"24px\">\n",
              "    <g>\n",
              "        <path d=\"M19 3H5c-1.1 0-2 .9-2 2v14c0 1.1.9 2 2 2h14c1.1 0 2-.9 2-2V5c0-1.1-.9-2-2-2zM9 17H7v-7h2v7zm4 0h-2V7h2v10zm4 0h-2v-4h2v4z\"/>\n",
              "    </g>\n",
              "</svg>\n",
              "  </button>\n",
              "\n",
              "<style>\n",
              "  .colab-df-quickchart {\n",
              "      --bg-color: #E8F0FE;\n",
              "      --fill-color: #1967D2;\n",
              "      --hover-bg-color: #E2EBFA;\n",
              "      --hover-fill-color: #174EA6;\n",
              "      --disabled-fill-color: #AAA;\n",
              "      --disabled-bg-color: #DDD;\n",
              "  }\n",
              "\n",
              "  [theme=dark] .colab-df-quickchart {\n",
              "      --bg-color: #3B4455;\n",
              "      --fill-color: #D2E3FC;\n",
              "      --hover-bg-color: #434B5C;\n",
              "      --hover-fill-color: #FFFFFF;\n",
              "      --disabled-bg-color: #3B4455;\n",
              "      --disabled-fill-color: #666;\n",
              "  }\n",
              "\n",
              "  .colab-df-quickchart {\n",
              "    background-color: var(--bg-color);\n",
              "    border: none;\n",
              "    border-radius: 50%;\n",
              "    cursor: pointer;\n",
              "    display: none;\n",
              "    fill: var(--fill-color);\n",
              "    height: 32px;\n",
              "    padding: 0;\n",
              "    width: 32px;\n",
              "  }\n",
              "\n",
              "  .colab-df-quickchart:hover {\n",
              "    background-color: var(--hover-bg-color);\n",
              "    box-shadow: 0 1px 2px rgba(60, 64, 67, 0.3), 0 1px 3px 1px rgba(60, 64, 67, 0.15);\n",
              "    fill: var(--button-hover-fill-color);\n",
              "  }\n",
              "\n",
              "  .colab-df-quickchart-complete:disabled,\n",
              "  .colab-df-quickchart-complete:disabled:hover {\n",
              "    background-color: var(--disabled-bg-color);\n",
              "    fill: var(--disabled-fill-color);\n",
              "    box-shadow: none;\n",
              "  }\n",
              "\n",
              "  .colab-df-spinner {\n",
              "    border: 2px solid var(--fill-color);\n",
              "    border-color: transparent;\n",
              "    border-bottom-color: var(--fill-color);\n",
              "    animation:\n",
              "      spin 1s steps(1) infinite;\n",
              "  }\n",
              "\n",
              "  @keyframes spin {\n",
              "    0% {\n",
              "      border-color: transparent;\n",
              "      border-bottom-color: var(--fill-color);\n",
              "      border-left-color: var(--fill-color);\n",
              "    }\n",
              "    20% {\n",
              "      border-color: transparent;\n",
              "      border-left-color: var(--fill-color);\n",
              "      border-top-color: var(--fill-color);\n",
              "    }\n",
              "    30% {\n",
              "      border-color: transparent;\n",
              "      border-left-color: var(--fill-color);\n",
              "      border-top-color: var(--fill-color);\n",
              "      border-right-color: var(--fill-color);\n",
              "    }\n",
              "    40% {\n",
              "      border-color: transparent;\n",
              "      border-right-color: var(--fill-color);\n",
              "      border-top-color: var(--fill-color);\n",
              "    }\n",
              "    60% {\n",
              "      border-color: transparent;\n",
              "      border-right-color: var(--fill-color);\n",
              "    }\n",
              "    80% {\n",
              "      border-color: transparent;\n",
              "      border-right-color: var(--fill-color);\n",
              "      border-bottom-color: var(--fill-color);\n",
              "    }\n",
              "    90% {\n",
              "      border-color: transparent;\n",
              "      border-bottom-color: var(--fill-color);\n",
              "    }\n",
              "  }\n",
              "</style>\n",
              "\n",
              "  <script>\n",
              "    async function quickchart(key) {\n",
              "      const quickchartButtonEl =\n",
              "        document.querySelector('#' + key + ' button');\n",
              "      quickchartButtonEl.disabled = true;  // To prevent multiple clicks.\n",
              "      quickchartButtonEl.classList.add('colab-df-spinner');\n",
              "      try {\n",
              "        const charts = await google.colab.kernel.invokeFunction(\n",
              "            'suggestCharts', [key], {});\n",
              "      } catch (error) {\n",
              "        console.error('Error during call to suggestCharts:', error);\n",
              "      }\n",
              "      quickchartButtonEl.classList.remove('colab-df-spinner');\n",
              "      quickchartButtonEl.classList.add('colab-df-quickchart-complete');\n",
              "    }\n",
              "    (() => {\n",
              "      let quickchartButtonEl =\n",
              "        document.querySelector('#df-a1942fff-e2f1-4461-9330-9c344de6387d button');\n",
              "      quickchartButtonEl.style.display =\n",
              "        google.colab.kernel.accessAllowed ? 'block' : 'none';\n",
              "    })();\n",
              "  </script>\n",
              "</div>\n",
              "\n",
              "    </div>\n",
              "  </div>\n"
            ],
            "application/vnd.google.colaboratory.intrinsic+json": {
              "type": "dataframe",
              "summary": "{\n  \"name\": \"df\",\n  \"rows\": 5,\n  \"fields\": [\n    {\n      \"column\": \"alcohol\",\n      \"properties\": {\n        \"dtype\": \"number\",\n        \"std\": 0.7248310147889651,\n        \"min\": 12.37,\n        \"max\": 14.21,\n        \"num_unique_values\": 5,\n        \"samples\": [\n          14.21,\n          12.37,\n          12.93\n        ],\n        \"semantic_type\": \"\",\n        \"description\": \"\"\n      }\n    },\n    {\n      \"column\": \"malic_acid\",\n      \"properties\": {\n        \"dtype\": \"number\",\n        \"std\": 1.1825523244237441,\n        \"min\": 1.17,\n        \"max\": 4.04,\n        \"num_unique_values\": 5,\n        \"samples\": [\n          4.04,\n          1.17,\n          2.81\n        ],\n        \"semantic_type\": \"\",\n        \"description\": \"\"\n      }\n    },\n    {\n      \"column\": \"ash\",\n      \"properties\": {\n        \"dtype\": \"number\",\n        \"std\": 0.3229241396984748,\n        \"min\": 1.92,\n        \"max\": 2.7,\n        \"num_unique_values\": 4,\n        \"samples\": [\n          2.44,\n          1.92,\n          2.56\n        ],\n        \"semantic_type\": \"\",\n        \"description\": \"\"\n      }\n    },\n    {\n      \"column\": \"alcalinity_of_ash\",\n      \"properties\": {\n        \"dtype\": \"number\",\n        \"std\": 2.7428087793355194,\n        \"min\": 15.2,\n        \"max\": 22.5,\n        \"num_unique_values\": 5,\n        \"samples\": [\n          18.9,\n          19.6,\n          21.0\n        ],\n        \"semantic_type\": \"\",\n        \"description\": \"\"\n      }\n    },\n    {\n      \"column\": \"magnesium\",\n      \"properties\": {\n        \"dtype\": \"number\",\n        \"std\": 14.808781178746615,\n        \"min\": 78.0,\n        \"max\": 116.0,\n        \"num_unique_values\": 5,\n        \"samples\": [\n          111.0,\n          78.0,\n          96.0\n        ],\n        \"semantic_type\": \"\",\n        \"description\": \"\"\n      }\n    },\n    {\n      \"column\": \"total_phenols\",\n      \"properties\": {\n        \"dtype\": \"number\",\n        \"std\": 0.6058465152165192,\n        \"min\": 1.54,\n        \"max\": 3.0,\n        \"num_unique_values\": 5,\n        \"samples\": [\n          2.85,\n          2.11,\n          1.54\n        ],\n        \"semantic_type\": \"\",\n        \"description\": \"\"\n      }\n    },\n    {\n      \"column\": \"flavanoids\",\n      \"properties\": {\n        \"dtype\": \"number\",\n        \"std\": 1.1053189584911678,\n        \"min\": 0.5,\n        \"max\": 3.25,\n        \"num_unique_values\": 5,\n        \"samples\": [\n          2.65,\n          2.0,\n          0.5\n        ],\n        \"semantic_type\": \"\",\n        \"description\": \"\"\n      }\n    },\n    {\n      \"column\": \"nonflavanoid_phenols\",\n      \"properties\": {\n        \"dtype\": \"number\",\n        \"std\": 0.1323631368621944,\n        \"min\": 0.17,\n        \"max\": 0.53,\n        \"num_unique_values\": 5,\n        \"samples\": [\n          0.3,\n          0.27,\n          0.53\n        ],\n        \"semantic_type\": \"\",\n        \"description\": \"\"\n      }\n    },\n    {\n      \"column\": \"proanthocyanins\",\n      \"properties\": {\n        \"dtype\": \"number\",\n        \"std\": 0.6327163661546933,\n        \"min\": 0.75,\n        \"max\": 2.38,\n        \"num_unique_values\": 5,\n        \"samples\": [\n          1.25,\n          1.04,\n          0.75\n        ],\n        \"semantic_type\": \"\",\n        \"description\": \"\"\n      }\n    },\n    {\n      \"column\": \"color_intensity\",\n      \"properties\": {\n        \"dtype\": \"number\",\n        \"std\": 0.4470794112906567,\n        \"min\": 4.6,\n        \"max\": 5.7,\n        \"num_unique_values\": 5,\n        \"samples\": [\n          5.24,\n          4.68,\n          4.6\n        ],\n        \"semantic_type\": \"\",\n        \"description\": \"\"\n      }\n    },\n    {\n      \"column\": \"hue\",\n      \"properties\": {\n        \"dtype\": \"number\",\n        \"std\": 0.17340703561274554,\n        \"min\": 0.77,\n        \"max\": 1.19,\n        \"num_unique_values\": 5,\n        \"samples\": [\n          0.87,\n          1.12,\n          0.77\n        ],\n        \"semantic_type\": \"\",\n        \"description\": \"\"\n      }\n    },\n    {\n      \"column\": \"od280/od315_of_diluted_wines\",\n      \"properties\": {\n        \"dtype\": \"number\",\n        \"std\": 0.5054404020257977,\n        \"min\": 2.31,\n        \"max\": 3.48,\n        \"num_unique_values\": 5,\n        \"samples\": [\n          3.33,\n          3.48,\n          2.31\n        ],\n        \"semantic_type\": \"\",\n        \"description\": \"\"\n      }\n    },\n    {\n      \"column\": \"proline\",\n      \"properties\": {\n        \"dtype\": \"number\",\n        \"std\": 323.75530883678186,\n        \"min\": 510.0,\n        \"max\": 1285.0,\n        \"num_unique_values\": 5,\n        \"samples\": [\n          1080.0,\n          510.0,\n          600.0\n        ],\n        \"semantic_type\": \"\",\n        \"description\": \"\"\n      }\n    },\n    {\n      \"column\": \"Class\",\n      \"properties\": {\n        \"dtype\": \"number\",\n        \"std\": 0,\n        \"min\": 0,\n        \"max\": 2,\n        \"num_unique_values\": 3,\n        \"samples\": [\n          0,\n          2,\n          1\n        ],\n        \"semantic_type\": \"\",\n        \"description\": \"\"\n      }\n    }\n  ]\n}"
            }
          },
          "metadata": {},
          "execution_count": 121
        }
      ],
      "source": [
        "# Load the Wine dataset\n",
        "wine = load_wine()\n",
        "\n",
        "# Convert to a DataFrame\n",
        "df = pd.DataFrame(wine.data, columns=wine.feature_names)\n",
        "df['Class'] = wine.target\n",
        "\n",
        "# Display some random rows of the dataset\n",
        "df.sample(n=5, random_state=random_seed)"
      ]
    },
    {
      "cell_type": "markdown",
      "metadata": {
        "id": "1UMCjD7Pn0Pe"
      },
      "source": [
        "Now that we have loaded the dataset, we need to prepare it for use in our classification learners.\n",
        "\n",
        "For better visualization of decision boundaries, we will only use 2 features in this assignment: alcohol and malic acid. We will store these features in a matrix $\\mathbf{X}$ where each row represents a data point and each column represents a feature.\n",
        "Additionally, we will store the labels (class) in a vector $\\mathbf{Y}$.\n",
        "\n",
        "For multiclass classification, we will use all the labels.\n",
        "However, for binary classification, we will treat the first class as representing Barolo and group the other two classes together to represent Non-Barolo. We will call these labels $\\mathbf{Y}_{\\text{bin}}$."
      ]
    },
    {
      "cell_type": "code",
      "execution_count": null,
      "metadata": {
        "id": "jhwMv5E4n0Pe"
      },
      "outputs": [],
      "source": [
        "# Select only the alcohol and malic acid features for simplicity\n",
        "X = df[['alcohol', 'malic_acid']].values\n",
        "Y = df['Class'].values\n",
        "\n",
        "# For binary classification, select class 0 (Barolo) and group the other two classes together to represent 1 (Not-Barolo)\n",
        "binary_mask = Y == 0\n",
        "Y_bin = np.where(binary_mask, 0, 1)"
      ]
    },
    {
      "cell_type": "markdown",
      "metadata": {
        "id": "mApvBidCn0Pe"
      },
      "source": [
        "Next, we will split the data into training and testing sets. We will use 65% of the data for training and 35% for testing."
      ]
    },
    {
      "cell_type": "code",
      "execution_count": null,
      "metadata": {
        "id": "L9XdFGLEn0Pe"
      },
      "outputs": [],
      "source": [
        "# Split the data into training and testing sets\n",
        "test_size = 0.35\n",
        "X_train_bin, X_test_bin, Y_train_bin, Y_test_bin = train_test_split(X, Y_bin, test_size=test_size, random_state=random_seed)\n",
        "X_train_mul, X_test_mul, Y_train_mul, Y_test_mul = train_test_split(X, Y, test_size=test_size, random_state=random_seed)"
      ]
    },
    {
      "cell_type": "markdown",
      "metadata": {
        "id": "lp-_116En0Pe"
      },
      "source": [
        "For the final step of preprocessing, we will normalize the data and add a column of ones to the feature matrix to account for the bias term. For an explanation of the normalization step see Assignment 4."
      ]
    },
    {
      "cell_type": "code",
      "execution_count": null,
      "metadata": {
        "id": "w3eh7pv6n0Pe"
      },
      "outputs": [],
      "source": [
        "# Normalize the features\n",
        "X_mean_bin = X_train_bin.mean(axis=0)\n",
        "X_std_bin = X_train_bin.std(axis=0) + 1e-8\n",
        "X_train_norm_bin = (X_train_bin - X_mean_bin) / X_std_bin\n",
        "X_test_norm_bin = (X_test_bin - X_mean_bin) / X_std_bin\n",
        "\n",
        "X_mean_mul = X_train_mul.mean(axis=0)\n",
        "X_std_mul = X_train_mul.std(axis=0) + 1e-8\n",
        "X_train_norm_mul = (X_train_mul - X_mean_mul) / X_std_mul\n",
        "X_test_norm_mul = (X_test_bin - X_mean_mul) / X_std_mul\n",
        "\n",
        "# Append a column of 1s to the features for the bias term\n",
        "X_train_norm_bin = np.hstack([np.ones((X_train_norm_bin.shape[0], 1)), X_train_norm_bin])\n",
        "X_test_norm_bin = np.hstack([np.ones((X_test_norm_bin.shape[0], 1)), X_test_norm_bin])\n",
        "X_train_norm_mul = np.hstack([np.ones((X_train_norm_mul.shape[0], 1)), X_train_norm_mul])\n",
        "X_test_norm_mul = np.hstack([np.ones((X_test_norm_mul.shape[0], 1)), X_test_norm_mul])"
      ]
    },
    {
      "cell_type": "markdown",
      "metadata": {
        "id": "p_mLq1e-n0Pe"
      },
      "source": [
        "### Plotting the Binary Dataset\n",
        "\n",
        "The plot below visualizes the training and test sets for the binary classification dataset, which uses the Barolo and Not-Barolo classes.\n",
        "\n",
        "In both plots, you should see two distinct clusters of points representing the two classes. Each cluster corresponds to one of the classes (Barolo or Not-Barolo), and the separation between the clusters indicates the differences in the features of the two classes."
      ]
    },
    {
      "cell_type": "code",
      "execution_count": null,
      "metadata": {
        "cellView": "form",
        "id": "x486qmIfn0Pf",
        "colab": {
          "base_uri": "https://localhost:8080/",
          "height": 49,
          "referenced_widgets": [
            "c3dc9aa7ff0940f49617cbefef3f4588",
            "d902b1abe12c4ae284b888291e607ee8",
            "8ace206468b748bdb335d571d27e6e26",
            "f3d15792068546a48ad06f866e40009e",
            "b5f6f9528bf84960aacfd355a5eb49cf"
          ]
        },
        "outputId": "bc084736-df09-46fa-a156-ecb02a2380d0"
      },
      "outputs": [
        {
          "output_type": "display_data",
          "data": {
            "text/plain": [
              "Checkbox(value=False, description='Show Plot')"
            ],
            "application/vnd.jupyter.widget-view+json": {
              "version_major": 2,
              "version_minor": 0,
              "model_id": "c3dc9aa7ff0940f49617cbefef3f4588"
            }
          },
          "metadata": {
            "application/vnd.jupyter.widget-view+json": {
              "colab": {
                "custom_widget_manager": {
                  "url": "https://ssl.gstatic.com/colaboratory-static/widgets/colab-cdn-widget-manager/2b70e893a8ba7c0f/manager.min.js"
                }
              }
            }
          }
        },
        {
          "output_type": "display_data",
          "data": {
            "text/plain": [
              "Output()"
            ],
            "application/vnd.jupyter.widget-view+json": {
              "version_major": 2,
              "version_minor": 0,
              "model_id": "f3d15792068546a48ad06f866e40009e"
            }
          },
          "metadata": {
            "application/vnd.jupyter.widget-view+json": {
              "colab": {
                "custom_widget_manager": {
                  "url": "https://ssl.gstatic.com/colaboratory-static/widgets/colab-cdn-widget-manager/2b70e893a8ba7c0f/manager.min.js"
                }
              }
            }
          }
        }
      ],
      "source": [
        "# @title Plot\n",
        "\n",
        "# Function to plot the binary dataset without jitter\n",
        "def plot_binary_dataset(show_plot):\n",
        "    if show_plot:\n",
        "        fig, axes = plt.subplots(1, 2, figsize=(15, 6))\n",
        "\n",
        "        # Plot training data\n",
        "        axes[0].scatter(X_train_norm_bin[Y_train_bin == 0][:, 1], X_train_norm_bin[Y_train_bin == 0][:, 2], color='red', label='Barolo', s=50)\n",
        "        axes[0].scatter(X_train_norm_bin[Y_train_bin == 1][:, 1], X_train_norm_bin[Y_train_bin == 1][:, 2], color='blue', label='Not-Barolo', s=50)\n",
        "        axes[0].set_xlabel('Alcohol (normalized)')\n",
        "        axes[0].set_ylabel('Malic Acid (normalized)')\n",
        "        axes[0].set_title('Training Set')\n",
        "        axes[0].set_ylim(-2.2, 3.8)\n",
        "        axes[0].set_xlim(-2.8, 2.8)\n",
        "        axes[0].legend()\n",
        "\n",
        "        # Plot testing data\n",
        "        axes[1].scatter(X_test_norm_bin[Y_test_bin == 0][:, 1], X_test_norm_bin[Y_test_bin == 0][:, 2], color='red', label='Barolo', s=50)\n",
        "        axes[1].scatter(X_test_norm_bin[Y_test_bin == 1][:, 1], X_test_norm_bin[Y_test_bin == 1][:, 2], color='blue', label='Not-Barolo', s=50)\n",
        "        axes[1].set_xlabel('Alcohol (normalized)')\n",
        "        axes[1].set_ylabel('Malic Acid (normalized)')\n",
        "        axes[1].set_title('Test Set')\n",
        "        axes[1].set_ylim(-2.2, 3.8)\n",
        "        axes[1].set_xlim(-2.8, 2.8)\n",
        "        axes[1].legend()\n",
        "\n",
        "        plt.show()\n",
        "    else:\n",
        "        clear_output()\n",
        "\n",
        "# Create a checkbox widget\n",
        "show_plot_checkbox_binary_dataset = widgets.Checkbox(value=False, description='Show Plot')\n",
        "\n",
        "# Use interactive_output to link the function with the checkbox\n",
        "interactive_plot_binary_dataset = interactive_output(plot_binary_dataset, {'show_plot': show_plot_checkbox_binary_dataset})\n",
        "\n",
        "# Display the checkbox and the plot\n",
        "display(show_plot_checkbox_binary_dataset, interactive_plot_binary_dataset)\n"
      ]
    },
    {
      "cell_type": "markdown",
      "metadata": {
        "id": "98XWIwJ1n0Pf"
      },
      "source": [
        "### Plotting the Multiclass Dataset\n",
        "\n",
        "The plot below visualizes the training and test sets for the multiclass classification dataset, which includes the Barolo, Grignolino, and Barbera classes.\n",
        "\n",
        "In both plots you should see three distinct clusters of points representing the three classes."
      ]
    },
    {
      "cell_type": "code",
      "execution_count": null,
      "metadata": {
        "cellView": "form",
        "id": "D4FTW8Xpn0Pf",
        "colab": {
          "base_uri": "https://localhost:8080/",
          "height": 49,
          "referenced_widgets": [
            "6a083dafa7664460a67daede2702c549",
            "44cb20c93534413db17c5acdd51370e8",
            "5239dc4ecb174208b06c34ef2d7b6655",
            "9c1ca5a65a4348728735091baf77a96d",
            "b7fa396d287847bbaa2664459fd9eff4"
          ]
        },
        "outputId": "18bb34ed-a1e3-42e0-92d8-ed9f53c32677"
      },
      "outputs": [
        {
          "output_type": "display_data",
          "data": {
            "text/plain": [
              "Checkbox(value=False, description='Show Plot')"
            ],
            "application/vnd.jupyter.widget-view+json": {
              "version_major": 2,
              "version_minor": 0,
              "model_id": "6a083dafa7664460a67daede2702c549"
            }
          },
          "metadata": {
            "application/vnd.jupyter.widget-view+json": {
              "colab": {
                "custom_widget_manager": {
                  "url": "https://ssl.gstatic.com/colaboratory-static/widgets/colab-cdn-widget-manager/2b70e893a8ba7c0f/manager.min.js"
                }
              }
            }
          }
        },
        {
          "output_type": "display_data",
          "data": {
            "text/plain": [
              "Output()"
            ],
            "application/vnd.jupyter.widget-view+json": {
              "version_major": 2,
              "version_minor": 0,
              "model_id": "9c1ca5a65a4348728735091baf77a96d"
            }
          },
          "metadata": {
            "application/vnd.jupyter.widget-view+json": {
              "colab": {
                "custom_widget_manager": {
                  "url": "https://ssl.gstatic.com/colaboratory-static/widgets/colab-cdn-widget-manager/2b70e893a8ba7c0f/manager.min.js"
                }
              }
            }
          }
        }
      ],
      "source": [
        "# @title Plot\n",
        "\n",
        "# Function to plot the training and testing sets for multiclass classification\n",
        "def plot_multiclass_train_test(show_plot):\n",
        "    if show_plot:\n",
        "        fig, axes = plt.subplots(1, 2, figsize=(15, 6))\n",
        "\n",
        "        # Plot training data\n",
        "        axes[0].scatter(X_train_norm_mul[Y_train_mul == 0][:, 1], X_train_norm_mul[Y_train_mul == 0][:, 2], color='red', label='Barolo', s=50)\n",
        "        axes[0].scatter(X_train_norm_mul[Y_train_mul == 1][:, 1], X_train_norm_mul[Y_train_mul == 1][:, 2], color='blue', label='Grignolino', s=50)\n",
        "        axes[0].scatter(X_train_norm_mul[Y_train_mul == 2][:, 1], X_train_norm_mul[Y_train_mul == 2][:, 2], color='green', label='Barbera', s=50)\n",
        "        axes[0].set_xlabel('Alcohol (normalized)')\n",
        "        axes[0].set_ylabel('Malic Acid (normalized)')\n",
        "        axes[0].set_title('Training Set')\n",
        "        axes[0].set_ylim(-2.2, 3.8)\n",
        "        axes[0].set_xlim(-2.8, 2.8)\n",
        "        axes[0].legend()\n",
        "\n",
        "        # Plot testing data\n",
        "        axes[1].scatter(X_test_norm_mul[Y_test_mul == 0][:, 1], X_test_norm_mul[Y_test_mul == 0][:, 2], color='red', label='Barolo', s=50)\n",
        "        axes[1].scatter(X_test_norm_mul[Y_test_mul == 1][:, 1], X_test_norm_mul[Y_test_mul == 1][:, 2], color='blue', label='Grignolino', s=50)\n",
        "        axes[1].scatter(X_test_norm_mul[Y_test_mul == 2][:, 1], X_test_norm_mul[Y_test_mul == 2][:, 2], color='green', label='Barbera', s=50)\n",
        "        axes[1].set_xlabel('Alcohol (normalized)')\n",
        "        axes[1].set_ylabel('Malic Acid (normalized)')\n",
        "        axes[1].set_title('Test Set')\n",
        "        axes[1].set_ylim(-2.2, 3.8)\n",
        "        axes[1].set_xlim(-2.8, 2.8)\n",
        "        axes[1].legend()\n",
        "\n",
        "        plt.show()\n",
        "    else:\n",
        "        clear_output()\n",
        "\n",
        "# Create a checkbox widget\n",
        "show_plot_checkbox_multiclass_train_test = widgets.Checkbox(value=False, description='Show Plot')\n",
        "\n",
        "# Use interactive_output to link the function with the checkbox\n",
        "interactive_plot_multiclass_train_test = interactive_output(plot_multiclass_train_test, {'show_plot': show_plot_checkbox_multiclass_train_test})\n",
        "\n",
        "# Display the checkbox and the plot\n",
        "display(show_plot_checkbox_multiclass_train_test, interactive_plot_multiclass_train_test)"
      ]
    },
    {
      "cell_type": "markdown",
      "metadata": {
        "id": "-icTeWndn0Pf"
      },
      "source": [
        "# Part 2: Binary Classification\n",
        "\n",
        "In this section we are interested in defining a learner for the binary classification problem.\n",
        "As discussed in [Part 1](#part-1-understanding-the-dataset), we will treat the first class as Barolo (represented as the label $0$) and group the other two classes together to represent Non-Barolo (represented as the label $1$).\n",
        "Thus, the set of labels is $\\mathcal{Y} = \\{0, 1\\}$.\n",
        "Our goal will be to implement the binary classification learner we learned in class.\n",
        "\n",
        "We will first need to implement a logistic regression learner that uses batch gradient descent to optimize the weights.\n",
        "To do this, lets implement the sigmoid (or logistic) function used as the predictor function by the logistic regression learner"
      ]
    },
    {
      "cell_type": "markdown",
      "metadata": {
        "id": "9lDTDCiCn0Pf"
      },
      "source": [
        "### Question 2.1\n",
        "\n",
        "In class we learned that the sigmoid function is defined as:\n",
        "$$\\sigma(z) = \\frac{1}{1 + e^{-z}}$$\n",
        "However, if $z$ is a large negative number, $e^{-z}$ will be a very large positive number and can cause an overflow error.\n",
        "To avoid this, we can rewrite the sigmoid function as:\n",
        "$$\\sigma(z) = \\frac{1}{1 + e^{-z}} = \\frac{1}{1 + e^{-z}} \\cdot \\frac{e^z}{e^z} = \\frac{e^z}{e^z + 1}$$\n",
        "Notice that this form of the sigmoid function will not overflow for large negative values of $z$; however, it may overflow for large positive values of $z$.\n",
        "\n",
        "Thus, the solution is to check if the value of $z$ is negative or positive and use the appropriate form of the sigmoid function.\n",
        "In particular, if $z$ is positive you should use the first form of the sigmoid function, and if $z$ is negative you should use the second form of the sigmoid function.\n",
        "\n",
        "For your implementation of the sigmoid function you should assume the input is a vector represented as a numpy arrary.\n",
        "You should then return a vector of the same shape where each element is the sigmoid function applied to the corresponding element of the input vector.\n",
        "Using vectors as input and output is often preferred in practice since it allows for a more efficient implementation.\n",
        "In particular, you can avoid for loops in your implementation by noting that `numpy` will apply its functions elementwise to numpy arrays (ex: `np.exp(Z)` will apply the exponential function to each element of the array `Z`).\n",
        "Similarly, arithmetic operations are also applied elementwise (ex: `1 + Z` will add 1 to each element of the array `Z`).\n",
        "It turns out that this is much faster than using for loops in Python.\n",
        "\n",
        "We have already started the implementation by initializing the output array `result` to an array (vector) of the same shape as the input `Z`.\n",
        "\n",
        "Complete the implemention of `sigmoid`.\n",
        "\n",
        "_Points:_ 8"
      ]
    },
    {
      "cell_type": "code",
      "execution_count": null,
      "metadata": {
        "id": "-T6x89G7n0Pf"
      },
      "outputs": [],
      "source": [
        "def sigmoid(Z):\n",
        "    '''\n",
        "    Compute the sigmoid function for the input array Z.\n",
        "    This implementation uses conditional logic to avoid overflow issues for large positive and negative values of Z.\n",
        "\n",
        "    Parameters:\n",
        "    Z (numpy array): Input array of shape (n,) for which to compute the sigmoid function.\n",
        "\n",
        "    Returns:\n",
        "    result (numpy array): An array with the same shape as Z, containing the sigmoid function values for each element of Z.\n",
        "    '''\n",
        "    result = np.zeros(Z.shape)  # Initialize result array with the same shape as Z\n",
        "\n",
        "    ### YOUR CODE HERE ###\n",
        "    positive_mask = Z >= 0\n",
        "    negative_mask = Z < 0\n",
        "\n",
        "    result[positive_mask] = 1 / (1 + np.exp(-Z[positive_mask]))\n",
        "\n",
        "    result[negative_mask] = np.exp(Z[negative_mask]) / (1 + np.exp(Z[negative_mask]))\n",
        "\n",
        "\n",
        "    ######################\n",
        "\n",
        "    return result"
      ]
    },
    {
      "cell_type": "code",
      "execution_count": null,
      "metadata": {
        "id": "AMYKHiO6n0Pf",
        "colab": {
          "base_uri": "https://localhost:8080/",
          "height": 47
        },
        "outputId": "ee13d0f8-2cfd-4975-a3e6-5a8e136d3a00"
      },
      "outputs": [
        {
          "output_type": "execute_result",
          "data": {
            "text/plain": [
              "q2_1 results: All test cases passed!"
            ],
            "text/html": [
              "<p><strong><pre style='display: inline;'>q2_1</pre></strong> passed! 🌈</p>"
            ]
          },
          "metadata": {},
          "execution_count": 128
        }
      ],
      "source": [
        "grader.check(\"q2_1\")"
      ]
    },
    {
      "cell_type": "markdown",
      "metadata": {
        "id": "7v38xMD9n0Pf"
      },
      "source": [
        "### Question 2.2\n",
        "\n",
        "Now we are ready to implement the logistic regression learner using batch gradient descent.\n",
        "That is, you need to finish the implementation of the `bgd_logistic_regression_learner` function by adding the batch gradient descent update rule with a constant step size $\\eta^{(t)} = \\eta$.\n",
        "Recall that the update rule for batch gradient descent is:\n",
        "$$\\mathbf{w}^{(t+1)} = \\mathbf{w}^{(t)} - \\eta^{(t)} \\nabla \\hat L(\\mathbf{w}^{(t)}) \\quad \\text{where} \\quad \\hat L(\\mathbf{w}) = \\frac{1}{n} \\sum_{i=1}^{n} \\ell(\\sigma(\\mathbf{x}_i^\\top \\mathbf{w}), y_i),$$\n",
        "and $\\ell$ is the binary cross-entropy loss function:\n",
        "$$\\ell(\\hat y, y) = -y \\log(\\hat y) - (1 - y) \\log(1 - \\hat y).$$\n",
        "\n",
        "Complete the implementation of `bgd_logistic_regression_learner`.\n",
        "\n",
        "_Points:_ 8"
      ]
    },
    {
      "cell_type": "code",
      "execution_count": null,
      "metadata": {
        "id": "c9lO830An0Pf"
      },
      "outputs": [],
      "source": [
        "def bgd_logistic_regression_learner(X, Y, step_size=0.01, epochs=10, random_seed=42):\n",
        "    '''\n",
        "    Solves logistic regression using batch gradient descent.\n",
        "\n",
        "    Parameters:\n",
        "    X (numpy array): Feature matrix of size (n, d+1), where n is the number of samples\n",
        "                     and d is the number of features. The first column should be all 1s.\n",
        "    Y (numpy array): Target vector of size (n,).\n",
        "    step_size (float): The step size for gradient descent.\n",
        "    epochs (int): The number of iterations to run gradient descent.\n",
        "    random_seed (int, optional): The seed for the random number generator.\n",
        "\n",
        "    Returns:\n",
        "    predictor (function): A function that takes a feature vector or matrix and returns a predicted value.\n",
        "    w (numpy array): The final weights after applying gradient descent for the specified epochs.\n",
        "    '''\n",
        "    n, d = X[:,1:].shape\n",
        "    np.random.seed(random_seed)\n",
        "    w = np.random.randn(d+1) # initialize the weights randomly\n",
        "\n",
        "    ### YOUR CODE HERE ###\n",
        "\n",
        "    for epoch in range(epochs):\n",
        "\n",
        "        preds = sigmoid(X @ w)\n",
        "        gradient = (1 / n) * (X.T @ (preds - Y))\n",
        "        w = w - step_size * gradient\n",
        "\n",
        "\n",
        "    ######################\n",
        "\n",
        "    def predictor(x):\n",
        "        return sigmoid(x @ w)\n",
        "\n",
        "    return predictor, w\n"
      ]
    },
    {
      "cell_type": "code",
      "execution_count": null,
      "metadata": {
        "id": "QrUBQqdJn0Pf",
        "colab": {
          "base_uri": "https://localhost:8080/",
          "height": 47
        },
        "outputId": "4858384d-a2d5-4ed2-f911-8262608e1fe8"
      },
      "outputs": [
        {
          "output_type": "execute_result",
          "data": {
            "text/plain": [
              "q2_2 results: All test cases passed!"
            ],
            "text/html": [
              "<p><strong><pre style='display: inline;'>q2_2</pre></strong> passed! 🙌</p>"
            ]
          },
          "metadata": {},
          "execution_count": 130
        }
      ],
      "source": [
        "grader.check(\"q2_2\")"
      ]
    },
    {
      "cell_type": "markdown",
      "metadata": {
        "id": "ZO5JOozzn0Pf"
      },
      "source": [
        "### Question 2.3\n",
        "\n",
        "To make sure the implementation of `bgd_logistic_regression_learner` is correct we would like to plot the estimated loss of the predictor output by the learner as a function of the number of epochs.\n",
        "To do this you will need to implement the `estimated_loss`.\n",
        "The estimated loss of a predictor $f$, and loss function $\\ell$ is defined as:\n",
        "$$\\hat L(f) = \\frac{1}{n} \\sum_{i=1}^{n} \\ell(f(\\mathbf{x}_i), y_i).$$\n",
        "\n",
        "You can assume that the predictor `f` and loss function `loss_function` are implemented as functions that take a vector of inputs and return a vector of outputs.\n",
        "You may find the function `np.mean` useful for this implementation.\n",
        "\n",
        "Complete the implemention of `estimated_loss`.\n",
        "\n",
        "_Points:_ 4"
      ]
    },
    {
      "cell_type": "code",
      "execution_count": null,
      "metadata": {
        "id": "Pv5hm8Kln0Pf"
      },
      "outputs": [],
      "source": [
        "def estimated_loss(f, X, Y, loss_function):\n",
        "    \"\"\"\n",
        "    Compute the estimated loss using the input loss function for a given predictor over a dataset.\n",
        "\n",
        "    Parameters:\n",
        "    f (function): A function that takes a feature vector or matrix and returns a predicted value.\n",
        "    X (numpy array): Feature matrix of size (n, d+1), where n is the number of samples\n",
        "                     and d is the number of features. The first column should be all 1s.\n",
        "    Y (numpy array): Target vector of size (n,).\n",
        "    loss_function (function): A function that takes true labels and predicted values and returns the loss.\n",
        "\n",
        "    Returns:\n",
        "    loss (float): The estimated loss.\n",
        "    \"\"\"\n",
        "\n",
        "    ### YOUR CODE HERE ###\n",
        "\n",
        "\n",
        "    predicted_values = f(X)\n",
        "    loss = np.mean(loss_function(predicted_values, Y))\n",
        "\n",
        "\n",
        "\n",
        "    ######################\n",
        "\n",
        "    return loss\n"
      ]
    },
    {
      "cell_type": "code",
      "execution_count": null,
      "metadata": {
        "id": "Fi-egoiWn0Pg",
        "colab": {
          "base_uri": "https://localhost:8080/",
          "height": 47
        },
        "outputId": "4ed01396-f0b1-4230-c27e-9a5c995a0a89"
      },
      "outputs": [
        {
          "output_type": "execute_result",
          "data": {
            "text/plain": [
              "q2_3 results: All test cases passed!"
            ],
            "text/html": [
              "<p><strong><pre style='display: inline;'>q2_3</pre></strong> passed! 🙌</p>"
            ]
          },
          "metadata": {},
          "execution_count": 132
        }
      ],
      "source": [
        "grader.check(\"q2_3\")"
      ]
    },
    {
      "cell_type": "markdown",
      "metadata": {
        "id": "BVKRN1BSn0Pg"
      },
      "source": [
        "### Question 2.4\n",
        "\n",
        "To plot the `estimated_loss` you implemented in [Question 2.3](#question-2.3), we need to pick a specific loss function.\n",
        "We mentioned in [Question 2.2](#question-2.2) that the `bgd_logistic_regression_learner` is using the binary cross-entropy loss function.\n",
        "Thus, you should implement the binary cross-entropy loss function, which is defined as:\n",
        "$$\\ell(\\hat y, y) = -y \\log(\\hat y) - (1 - y) \\log(1 - \\hat y).$$\n",
        "\n",
        "Similar to the `sigmoid` function, you should assume the input is a vector represented as a numpy arrary.\n",
        "You should then return a vector of the same shape where each element is the binary cross-entropy loss applied to the corresponding elements of the input vectors.\n",
        "You may find the function `np.log` useful for this implementation.\n",
        "\n",
        "Complete the implemention of `binary_cross_entropy_loss`.\n",
        "\n",
        "_Points:_ 4"
      ]
    },
    {
      "cell_type": "code",
      "execution_count": null,
      "metadata": {
        "id": "7ydxvGSQn0Pg"
      },
      "outputs": [],
      "source": [
        "def binary_cross_entropy_loss(Y_pred, Y):\n",
        "    \"\"\"\n",
        "    Compute the cross-entropy loss for binary classification.\n",
        "\n",
        "    Parameters:\n",
        "    Y_pred (numpy array): Predicted probabilities of shape (n,).\n",
        "    Y (numpy array): True labels (0 or 1) of shape (n,).\n",
        "\n",
        "    Returns:\n",
        "    loss (numpy array): Cross-entropy loss of shape (n,).\n",
        "    \"\"\"\n",
        "\n",
        "    # Clip predictions to avoid log(0)\n",
        "    Y_pred = np.clip(Y_pred, 1e-15, 1 - 1e-15)\n",
        "\n",
        "    ### YOUR CODE HERE ###\n",
        "\n",
        "    loss = -Y * np.log(Y_pred) - (1-Y) * np.log(1-Y_pred)\n",
        "\n",
        "    ######################\n",
        "\n",
        "    return loss"
      ]
    },
    {
      "cell_type": "code",
      "execution_count": null,
      "metadata": {
        "id": "Wf5EvEGTn0Pg",
        "colab": {
          "base_uri": "https://localhost:8080/",
          "height": 47
        },
        "outputId": "ca89ae5a-0a75-40bb-b5f7-9c7b286b6e67"
      },
      "outputs": [
        {
          "output_type": "execute_result",
          "data": {
            "text/plain": [
              "q2_4 results: All test cases passed!"
            ],
            "text/html": [
              "<p><strong><pre style='display: inline;'>q2_4</pre></strong> passed! 🚀</p>"
            ]
          },
          "metadata": {},
          "execution_count": 134
        }
      ],
      "source": [
        "grader.check(\"q2_4\")"
      ]
    },
    {
      "cell_type": "markdown",
      "metadata": {
        "id": "lrMJpYPDn0Pg"
      },
      "source": [
        "### Plotting the Estimated Cross-Entropy Loss\n",
        "\n",
        "Below is a plot of the estimated loss (using the cross-entropy loss function) for the predictor output by the `bgd_logistic_regression_learner` as a function of the number of epochs.\n",
        "If your implementation of `bgd_logistic_regression_learner` is correct, you should see the loss decrease as the number of epochs increases."
      ]
    },
    {
      "cell_type": "code",
      "execution_count": null,
      "metadata": {
        "cellView": "form",
        "id": "a5e8wM7Ln0Pg",
        "colab": {
          "base_uri": "https://localhost:8080/",
          "height": 49,
          "referenced_widgets": [
            "9d649ad9779640488e87bde12b1e257c",
            "9abe4fa518ba4324af1ef40463b06573",
            "7d0e914f467249a4beee5e155377e2d2",
            "93461ecc71a84b999190637f5c2af7d1",
            "5cc960e5a4894b2e87e20af792eea3fc"
          ]
        },
        "outputId": "728cedf7-0b61-4e72-d77f-2745272fdb0a"
      },
      "outputs": [
        {
          "output_type": "display_data",
          "data": {
            "text/plain": [
              "Checkbox(value=False, description='Show Plot')"
            ],
            "application/vnd.jupyter.widget-view+json": {
              "version_major": 2,
              "version_minor": 0,
              "model_id": "9d649ad9779640488e87bde12b1e257c"
            }
          },
          "metadata": {
            "application/vnd.jupyter.widget-view+json": {
              "colab": {
                "custom_widget_manager": {
                  "url": "https://ssl.gstatic.com/colaboratory-static/widgets/colab-cdn-widget-manager/2b70e893a8ba7c0f/manager.min.js"
                }
              }
            }
          }
        },
        {
          "output_type": "display_data",
          "data": {
            "text/plain": [
              "Output()"
            ],
            "application/vnd.jupyter.widget-view+json": {
              "version_major": 2,
              "version_minor": 0,
              "model_id": "93461ecc71a84b999190637f5c2af7d1"
            }
          },
          "metadata": {
            "application/vnd.jupyter.widget-view+json": {
              "colab": {
                "custom_widget_manager": {
                  "url": "https://ssl.gstatic.com/colaboratory-static/widgets/colab-cdn-widget-manager/2b70e893a8ba7c0f/manager.min.js"
                }
              }
            }
          }
        }
      ],
      "source": [
        "# @title Plot\n",
        "\n",
        "# Function to plot the loss values\n",
        "def plot_ce_loss_binary(show_plot):\n",
        "    # Define the number of epochs\n",
        "    epochs = 200\n",
        "\n",
        "    # Initialize lists to store the loss values\n",
        "    loss_values = []\n",
        "\n",
        "    # Train the model and compute the loss for each epoch\n",
        "    for epoch in range(1, epochs + 1):\n",
        "        predictor, w = bgd_logistic_regression_learner(X_train_norm_bin, Y_train_bin, step_size=0.2, epochs=epoch, random_seed=random_seed)\n",
        "        loss = estimated_loss(predictor, X_train_norm_bin, Y_train_bin, binary_cross_entropy_loss)\n",
        "        loss_values.append(loss)\n",
        "    if show_plot:\n",
        "        plt.figure(figsize=(10, 6))\n",
        "        plt.plot(range(1, epochs + 1), loss_values, linewidth=3)  # Set linewidth to 2\n",
        "        plt.xlabel('Epochs')\n",
        "        plt.ylabel('Estimated Cross-Entropy Loss')\n",
        "        plt.grid(True)\n",
        "        plt.show()\n",
        "    else:\n",
        "        clear_output()\n",
        "\n",
        "# Create a checkbox widget\n",
        "show_plot_checkbox_ce_loss_binary = widgets.Checkbox(value=False, description='Show Plot')\n",
        "\n",
        "# Use interactive_output to link the function with the checkbox\n",
        "interactive_plot_ce_loss_binary = interactive_output(plot_ce_loss_binary, {'show_plot': show_plot_checkbox_ce_loss_binary})\n",
        "\n",
        "# Display the checkbox and the plot\n",
        "display(show_plot_checkbox_ce_loss_binary, interactive_plot_ce_loss_binary)"
      ]
    },
    {
      "cell_type": "markdown",
      "metadata": {
        "id": "jkmH6rzin0Pg"
      },
      "source": [
        "### Binary Classification Learner\n",
        "\n",
        "Recall that our objective in binary classification is to predict the class of a data point as either Barolo (0) or Not-Barolo (1).\n",
        "So far we have implemented the logistic regression learner, which returns a predictor that outputs a proability of the data point being Not-Barolo.\n",
        "To make a prediction, we need to convert this probability to a class label.\n",
        "We can do this by thresholding the probability at 0.5, such that if the probability is greater than 0.5 we predict Not-Barolo, otherwise we predict Barolo.\n",
        "This is implemented for you as `binary_classification_learner` below."
      ]
    },
    {
      "cell_type": "code",
      "execution_count": null,
      "metadata": {
        "id": "Jvv4OemYn0Pg"
      },
      "outputs": [],
      "source": [
        "def binary_classification_learner(X, Y, step_size=0.01, epochs=10, random_seed=42):\n",
        "    \"\"\"\n",
        "    Trains a binary classification model using batch gradient descent and returns a predictor function.\n",
        "\n",
        "    Parameters:\n",
        "    X (numpy array): Feature matrix of size (n, d+1), where n is the number of samples\n",
        "                     and d is the number of features. The first column should be all 1s.\n",
        "    Y (numpy array): Target vector of size (n,).\n",
        "    step_size (float): The step size for gradient descent.\n",
        "    epochs (int): The number of iterations to run gradient descent.\n",
        "    decision_boundary (float): The decision boundary for classification.\n",
        "    random_seed (int, optional): The seed for the random number generator.\n",
        "\n",
        "    Returns:\n",
        "    predictor (function): A function that takes a feature vector or matrix and returns a predicted class (0 or 1).\n",
        "    w (numpy array): The final weights after applying gradient descent for the specified epochs.\n",
        "    \"\"\"\n",
        "    # Use the bgd_logistic_regression_learner to train the model\n",
        "    predictor, w = bgd_logistic_regression_learner(X, Y, step_size, epochs, random_seed)\n",
        "\n",
        "    # Define a new predictor function that uses the decision boundary\n",
        "    def binary_predictor(x):\n",
        "        return (predictor(x) >= 0.5).astype(int)\n",
        "\n",
        "    return binary_predictor, w"
      ]
    },
    {
      "cell_type": "markdown",
      "metadata": {
        "id": "1f-7R8ejn0Pg"
      },
      "source": [
        "### Question 2.5\n",
        "\n",
        "To evaluate the performance of the binary classification learner, we should use the zero-one loss function, since it measures the number of misclassifications.\n",
        "This is in contrast to the cross-entropy loss function, which measures the difference between the predicted probability and the true label.\n",
        "Since our objective is to predict class labels correctly, the zero-one loss is more appropriate for evaluating the performance of a binary classification learner.\n",
        "\n",
        "Recall however that the `binary_classification_learner` makes use of the `bgd_logistic_regression_learner`, which is actually minimizing the cross-entropy loss instead of the zero-one loss.\n",
        "Intuitively, we might expect that if we predict the probability of a data point being Not-Barolo correctly, we should also predict the class label correctly.\n",
        "To confirm this intuition, we would like to plot the estimated loss of the predictor output by the `binary_classification_learner` as a function of the number of epochs using the zero-one loss function.\n",
        "\n",
        "To do this you first need to implement the zero-one loss function, which is defined as:\n",
        "$$\\ell(\\hat y, y) = \\begin{cases} 0 & \\text{if } \\hat y = y \\\\ 1 & \\text{if } \\hat y \\neq y \\end{cases}$$\n",
        "\n",
        "As before, you should assume the inputs are vectors represented as numpy arrarys.\n",
        "\n",
        "Complete the implemention of `zero_one_loss`.\n",
        "\n",
        "\n",
        "_Points:_ 4"
      ]
    },
    {
      "cell_type": "code",
      "execution_count": null,
      "metadata": {
        "id": "lTFr4mmln0Ph"
      },
      "outputs": [],
      "source": [
        "def zero_one_loss(Y_pred, Y):\n",
        "    \"\"\"\n",
        "    Compute the 0-1 loss for binary classification.\n",
        "\n",
        "    Parameters:\n",
        "    Y_pred (numpy array): Predicted labels of shape (n,).\n",
        "    Y (numpy array): True labels of shape (n,).\n",
        "\n",
        "    Returns:\n",
        "    loss (numpy array): 0-1 loss of shape (n,).\n",
        "    \"\"\"\n",
        "\n",
        "    ### YOUR CODE HERE ###\n",
        "\n",
        "    loss = (Y_pred != Y).astype(int)\n",
        "\n",
        "\n",
        "    ######################\n",
        "\n",
        "    return loss"
      ]
    },
    {
      "cell_type": "code",
      "execution_count": null,
      "metadata": {
        "id": "dLhP_wFUn0Ph",
        "colab": {
          "base_uri": "https://localhost:8080/",
          "height": 47
        },
        "outputId": "bb593b4e-ba95-4766-ad88-5002a7dc3e35"
      },
      "outputs": [
        {
          "output_type": "execute_result",
          "data": {
            "text/plain": [
              "q2_5 results: All test cases passed!"
            ],
            "text/html": [
              "<p><strong><pre style='display: inline;'>q2_5</pre></strong> passed! 🎉</p>"
            ]
          },
          "metadata": {},
          "execution_count": 138
        }
      ],
      "source": [
        "grader.check(\"q2_5\")"
      ]
    },
    {
      "cell_type": "markdown",
      "metadata": {
        "id": "vP00mxSbn0Ph"
      },
      "source": [
        "### Plotting the Estimated Zero-One Loss\n",
        "\n",
        "Below is a plot of the estimated loss (using the zero-one loss function) for the predictor output by the `binary_classification_learner` as a function of the number of epochs.\n",
        "We also plot the estimated loss using the cross-entropy loss function for comparison.\n",
        "\n",
        "If your implementation of `zero_one_loss` is correct, you should see the zero-one loss decrease as the number of epochs increases.\n",
        "However, it likely will not decrease as smoothly as the cross-entropy loss, since the `bgd_logistic_regression_learner` is not directly minimizing the zero-one loss."
      ]
    },
    {
      "cell_type": "code",
      "execution_count": null,
      "metadata": {
        "cellView": "form",
        "id": "05M9gbbun0Ph",
        "colab": {
          "base_uri": "https://localhost:8080/",
          "height": 49,
          "referenced_widgets": [
            "ece33a6efd764c19b09bc171b7c75b0e",
            "8247030982974daa9e6f534c88e685a0",
            "2b6135701e594eb28b0e070965f5da68",
            "e1fb56b23c874c90afb0dfd57414b5c4",
            "b96b217e8d8b4894b94ce1fa54c21cbd"
          ]
        },
        "outputId": "5baf3226-2ccf-462f-abfb-c52c0655c5c0"
      },
      "outputs": [
        {
          "output_type": "display_data",
          "data": {
            "text/plain": [
              "Checkbox(value=False, description='Show Plot')"
            ],
            "application/vnd.jupyter.widget-view+json": {
              "version_major": 2,
              "version_minor": 0,
              "model_id": "ece33a6efd764c19b09bc171b7c75b0e"
            }
          },
          "metadata": {
            "application/vnd.jupyter.widget-view+json": {
              "colab": {
                "custom_widget_manager": {
                  "url": "https://ssl.gstatic.com/colaboratory-static/widgets/colab-cdn-widget-manager/2b70e893a8ba7c0f/manager.min.js"
                }
              }
            }
          }
        },
        {
          "output_type": "display_data",
          "data": {
            "text/plain": [
              "Output()"
            ],
            "application/vnd.jupyter.widget-view+json": {
              "version_major": 2,
              "version_minor": 0,
              "model_id": "e1fb56b23c874c90afb0dfd57414b5c4"
            }
          },
          "metadata": {
            "application/vnd.jupyter.widget-view+json": {
              "colab": {
                "custom_widget_manager": {
                  "url": "https://ssl.gstatic.com/colaboratory-static/widgets/colab-cdn-widget-manager/2b70e893a8ba7c0f/manager.min.js"
                }
              }
            }
          }
        }
      ],
      "source": [
        "# @title Plot\n",
        "\n",
        "# Function to plot the loss values\n",
        "def plot_ce_zo_loss_bin(show_plot):\n",
        "    # Define the number of epochs\n",
        "    epochs = 200\n",
        "\n",
        "    # Initialize lists to store the loss values\n",
        "    binary_cross_entropy_loss_values = []\n",
        "    zero_one_loss_values = []\n",
        "\n",
        "    # Train the model and compute the loss for each epoch\n",
        "    for epoch in range(1, epochs + 1):\n",
        "        predictor_log, w = bgd_logistic_regression_learner(X_train_norm_bin, Y_train_bin, step_size=0.2, epochs=epoch, random_seed=random_seed)\n",
        "        predictor_bin, w = binary_classification_learner(X_train_norm_bin, Y_train_bin, step_size=0.2, epochs=epoch, random_seed=random_seed)\n",
        "        binary_cross_entropy_loss_value = estimated_loss(predictor_log, X_train_norm_bin, Y_train_bin, binary_cross_entropy_loss)\n",
        "        zero_one_loss_value = estimated_loss(predictor_bin, X_train_norm_bin, Y_train_bin, zero_one_loss)\n",
        "        binary_cross_entropy_loss_values.append(binary_cross_entropy_loss_value)\n",
        "        zero_one_loss_values.append(zero_one_loss_value)\n",
        "\n",
        "    if show_plot:\n",
        "        plt.figure(figsize=(10, 6))\n",
        "        plt.plot(range(1, epochs + 1), binary_cross_entropy_loss_values, label='Cross-Entropy Loss', linewidth=3)\n",
        "        plt.plot(range(1, epochs + 1), zero_one_loss_values, label='Zero-One Loss', linewidth=3)\n",
        "        plt.xlabel('Epochs')\n",
        "        plt.ylabel('Estimated Loss')\n",
        "        plt.legend()\n",
        "        plt.grid(True)\n",
        "        plt.show()\n",
        "    else:\n",
        "        clear_output()\n",
        "\n",
        "# Create a checkbox widget\n",
        "show_plot_checkbox_ce_zo_loss_binary = widgets.Checkbox(value=False, description='Show Plot')\n",
        "\n",
        "# Use interactive_output to link the function with the checkbox\n",
        "interactive_plot_loss_ce_zo_loss_binary = interactive_output(plot_ce_zo_loss_bin, {'show_plot': show_plot_checkbox_ce_zo_loss_binary})\n",
        "\n",
        "# Display the checkbox and the plot\n",
        "display(show_plot_checkbox_ce_zo_loss_binary, interactive_plot_loss_ce_zo_loss_binary)"
      ]
    },
    {
      "cell_type": "markdown",
      "metadata": {
        "id": "Hgybv91Xn0Ph"
      },
      "source": [
        "### Plotting a Linear Decision Boundary\n",
        "\n",
        "The binary classification predictor outputs the class 1 if the logistic regression predictor outputs a probability greater than 0.5.\n",
        "Since the logistic regression predictor is given by $\\sigma(\\mathbf{x}^\\top \\mathbf{w})$, it implies that $\\mathbf{x}^\\top \\mathbf{w} \\ge 0$ when $\\sigma(\\mathbf{x}^\\top \\mathbf{w}) \\ge 0.5$.\n",
        "Thus, to visualize when the binary classification predictor decides to output the class 0, or 1, we can plot the line $\\mathbf{x}^\\top \\mathbf{w} = 0$, which is called the *decision boundary*.\n",
        "\n",
        "The decision boundary is learned based on the training dataset shown on the left.\n",
        "We plot the same decision boundary on the right to show how well it does on the test set."
      ]
    },
    {
      "cell_type": "code",
      "execution_count": null,
      "metadata": {
        "cellView": "form",
        "id": "QwvUKbeqn0Ph",
        "colab": {
          "base_uri": "https://localhost:8080/",
          "height": 49,
          "referenced_widgets": [
            "d26b7bc4c0e14363b49de44a98fc3b5b",
            "941d2dbba8144f95a94ab5c27bee4e10",
            "10f4db1e41a84e95931e7cc3b7358365",
            "9363950a7a934625b9faed4b7ccc0809",
            "0351ff8b849f4bbf8f04749834776b6d"
          ]
        },
        "outputId": "beb3077a-136c-4af8-f51e-519e188ce8fe"
      },
      "outputs": [
        {
          "output_type": "display_data",
          "data": {
            "text/plain": [
              "Checkbox(value=False, description='Show Plot')"
            ],
            "application/vnd.jupyter.widget-view+json": {
              "version_major": 2,
              "version_minor": 0,
              "model_id": "d26b7bc4c0e14363b49de44a98fc3b5b"
            }
          },
          "metadata": {
            "application/vnd.jupyter.widget-view+json": {
              "colab": {
                "custom_widget_manager": {
                  "url": "https://ssl.gstatic.com/colaboratory-static/widgets/colab-cdn-widget-manager/2b70e893a8ba7c0f/manager.min.js"
                }
              }
            }
          }
        },
        {
          "output_type": "display_data",
          "data": {
            "text/plain": [
              "Output()"
            ],
            "application/vnd.jupyter.widget-view+json": {
              "version_major": 2,
              "version_minor": 0,
              "model_id": "9363950a7a934625b9faed4b7ccc0809"
            }
          },
          "metadata": {
            "application/vnd.jupyter.widget-view+json": {
              "colab": {
                "custom_widget_manager": {
                  "url": "https://ssl.gstatic.com/colaboratory-static/widgets/colab-cdn-widget-manager/2b70e893a8ba7c0f/manager.min.js"
                }
              }
            }
          }
        }
      ],
      "source": [
        "# @title Plot\n",
        "\n",
        "# Function to show/hide the plot\n",
        "def plot_db_binary(show_plot):\n",
        "    # Define the decision boundary function\n",
        "    def plot_decision_boundary(X, Y, f, title, ax):\n",
        "        # Create a mesh grid\n",
        "        x_min, x_max = -2.8, 2.8  # Hardcoded x-limits\n",
        "        y_min, y_max = -2.2, 3.8  # Hardcoded y-limits\n",
        "        xx, yy = np.meshgrid(np.arange(x_min, x_max, 0.01),\n",
        "                            np.arange(y_min, y_max, 0.01))\n",
        "\n",
        "        # Compute the decision boundary\n",
        "        Z = f(np.c_[np.ones((xx.ravel().shape[0], 1)), xx.ravel(), yy.ravel()])\n",
        "        Z = Z.reshape(xx.shape)\n",
        "\n",
        "        # Plot the decision boundary\n",
        "        ax.contourf(xx, yy, Z, alpha=0.8, levels=[0, 0.5, 1], colors=['#FFAAAA', '#AAAAFF'])\n",
        "        ax.scatter(X[Y == 0][:, 1], X[Y == 0][:, 2], color='red', label='Barolo', s=50)\n",
        "        ax.scatter(X[Y == 1][:, 1], X[Y == 1][:, 2], color='blue', label='Not-Barolo', s=50)\n",
        "        ax.set_xlabel('Alcohol (normalized)')\n",
        "        ax.set_ylabel('Malic Acid (normalized)')\n",
        "        ax.set_title(title)\n",
        "\n",
        "        # Hardcoded limits to ensure consistency across both plots\n",
        "        ax.set_xlim(x_min, x_max)\n",
        "        ax.set_ylim(y_min, y_max)\n",
        "        ax.legend()\n",
        "\n",
        "    epochs = 10000\n",
        "\n",
        "    if show_plot:\n",
        "        # Create subplots\n",
        "        fig, axes = plt.subplots(1, 2, figsize=(15, 6))\n",
        "\n",
        "        predictor, w = binary_classification_learner(X_train_norm_bin, Y_train_bin, step_size=0.2, epochs=epochs, random_seed=random_seed)\n",
        "        # Plot the decision boundary on the training set\n",
        "        plot_decision_boundary(X_train_norm_bin, Y_train_bin, predictor, 'Training Set', axes[0])\n",
        "\n",
        "        # Plot the decision boundary on the test set\n",
        "        plot_decision_boundary(X_test_norm_bin, Y_test_bin, predictor, 'Test Set', axes[1])\n",
        "\n",
        "        plt.show()\n",
        "    else:\n",
        "        clear_output()\n",
        "\n",
        "# Create a checkbox widget\n",
        "show_plot_checkbox_db_binary = widgets.Checkbox(value=False, description='Show Plot')\n",
        "\n",
        "# Use interactive_output to link the function with the checkbox\n",
        "interactive_plot_db_binary = interactive_output(plot_db_binary, {'show_plot': show_plot_checkbox_db_binary})\n",
        "\n",
        "# Display the checkbox and the plot\n",
        "display(show_plot_checkbox_db_binary, interactive_plot_db_binary)"
      ]
    },
    {
      "cell_type": "markdown",
      "metadata": {
        "id": "P0ePs0vOn0Ph"
      },
      "source": [
        "From the above plot we might notice that if the decision boundary did not have to be a straight line, we could have achieved a better separation between the two classes.\n",
        "To achieve this, we can change the function class used by the logistic regression learner.\n",
        "So far the logistic regression learner has been using the following logistic function class:\n",
        "$$\\bar{\\mathcal{F}}_1 = \\{ f | f: \\mathbb{R}^{d+1} \\to \\{0, 1\\}, \\text{ where } f(\\mathbf{x}) = \\sigma(\\mathbf{x}^\\top \\mathbf{w}), \\text { and } \\mathbf{w} \\in \\mathbb{R}^{d+1}\\}.$$\n",
        "The reason the decision boundary was a straight line is because the input to the sigmoid function was a linear function of the features.\n",
        "To allow for more complex decision boundaries, we can change the features to be polynomial features of the original features.\n",
        "For a degree $p$, the polynomial logistic function class is defined as:\n",
        "$$\\bar{\\mathcal{F}_p} = \\{ f | f: \\mathbb{R}^{d+1} \\to \\{0, 1\\}, \\text{ where } f(\\mathbf{x}) = \\sigma(\\phi_p(\\mathbf{x})^\\top \\mathbf{w}), \\text { and } \\mathbf{w} \\in \\mathbb{R}^{\\bar{p}+1}\\}.$$\n",
        "where $\\phi_p$ is the polynomial feature function that takes a feature vector $\\mathbf{x}$ and a degree $p$ and returns a feature vector of all polynomial features up to degree $p$.\n",
        "\n",
        "The function `phi_p` below is an implementation of the polynomial feature function $\\phi_p$ for a feature matrix `X` and a degree `p`.\n"
      ]
    },
    {
      "cell_type": "code",
      "execution_count": null,
      "metadata": {
        "id": "UFw7EczZn0Ph"
      },
      "outputs": [],
      "source": [
        "def phi_p(X, p):\n",
        "    \"\"\"\n",
        "    Transforms the input feature matrix X into polynomial features of degree p and normalizes them.\n",
        "\n",
        "    Parameters:\n",
        "    X (numpy.ndarray): Input feature matrix where each row is a feature vector.\n",
        "    p (int): Degree of the polynomial features.\n",
        "\n",
        "    Returns:\n",
        "    poly_features (numpy.ndarray): Transformed and normalized polynomial features.\n",
        "    mean (numpy.ndarray): Mean of the polynomial features used for normalization.\n",
        "    std (numpy.ndarray): Standard deviation of the polynomial features used for normalization.\n",
        "    \"\"\"\n",
        "    # Create PolynomialFeatures instance with the desired degree\n",
        "    poly = PolynomialFeatures(degree=p, include_bias=False)\n",
        "\n",
        "    # Transform the feature matrix to polynomial features\n",
        "    poly_features = poly.fit_transform(X)\n",
        "\n",
        "    return poly_features"
      ]
    },
    {
      "cell_type": "markdown",
      "metadata": {
        "id": "C-5LtpJcn0Ph"
      },
      "source": [
        "### Plotting Polynomial Decision Boundaries\n",
        "\n",
        "Below is a plot of the decision boundary for different polynomial degrees $p$.\n",
        "You should see that as $p$ increases the decision boundary becomes more complex and can better separate the two classes in the training set.\n",
        "However, as $p$ increases the decision boundary may become too complex and overfit the training data, leading to poor performance on the test set."
      ]
    },
    {
      "cell_type": "code",
      "execution_count": null,
      "metadata": {
        "cellView": "form",
        "id": "XNzSeYivn0Ph",
        "colab": {
          "base_uri": "https://localhost:8080/",
          "height": 79,
          "referenced_widgets": [
            "db034d2311b34eb798ad95110a35d726",
            "b815cefeb06f4fd19272002ae8096b11",
            "9961777d882745ed9efc9d692079d04e",
            "03a28a50982a4afb94174e79e8ab86f3",
            "def47e76220b464abfd462e59c5a7493",
            "7010c36bfec34132bd6f87df3f8e8cde",
            "5d8bfb9a7a7a4b5088b50a8af13df515",
            "15abffe9b1114dccaab93b9b2ee95a69"
          ]
        },
        "outputId": "9acdee43-d62d-45d8-93d4-a823aa74a58e"
      },
      "outputs": [
        {
          "output_type": "display_data",
          "data": {
            "text/plain": [
              "Checkbox(value=False, description='Show Plot')"
            ],
            "application/vnd.jupyter.widget-view+json": {
              "version_major": 2,
              "version_minor": 0,
              "model_id": "db034d2311b34eb798ad95110a35d726"
            }
          },
          "metadata": {
            "application/vnd.jupyter.widget-view+json": {
              "colab": {
                "custom_widget_manager": {
                  "url": "https://ssl.gstatic.com/colaboratory-static/widgets/colab-cdn-widget-manager/2b70e893a8ba7c0f/manager.min.js"
                }
              }
            }
          }
        },
        {
          "output_type": "display_data",
          "data": {
            "text/plain": [
              "IntSlider(value=1, description='Degree', max=10, min=1, step=0)"
            ],
            "application/vnd.jupyter.widget-view+json": {
              "version_major": 2,
              "version_minor": 0,
              "model_id": "03a28a50982a4afb94174e79e8ab86f3"
            }
          },
          "metadata": {
            "application/vnd.jupyter.widget-view+json": {
              "colab": {
                "custom_widget_manager": {
                  "url": "https://ssl.gstatic.com/colaboratory-static/widgets/colab-cdn-widget-manager/2b70e893a8ba7c0f/manager.min.js"
                }
              }
            }
          }
        },
        {
          "output_type": "display_data",
          "data": {
            "text/plain": [
              "Output()"
            ],
            "application/vnd.jupyter.widget-view+json": {
              "version_major": 2,
              "version_minor": 0,
              "model_id": "5d8bfb9a7a7a4b5088b50a8af13df515"
            }
          },
          "metadata": {
            "application/vnd.jupyter.widget-view+json": {
              "colab": {
                "custom_widget_manager": {
                  "url": "https://ssl.gstatic.com/colaboratory-static/widgets/colab-cdn-widget-manager/2b70e893a8ba7c0f/manager.min.js"
                }
              }
            }
          }
        }
      ],
      "source": [
        "# @title Plot\n",
        "\n",
        "# Function to show/hide the plot and update the polynomial degree\n",
        "def update_plot_db_binary_poly(show_plot, degree):\n",
        "\n",
        "    # Define the number of epochs and polynomial degree\n",
        "    epochs = 10000\n",
        "\n",
        "    # Define the decision boundary function for polynomial features\n",
        "    def plot_decision_boundary_poly(X, Y, f, degree, title, X_poly_mean=None, X_poly_std=None, ax=None):\n",
        "        # Create a mesh grid\n",
        "        x_min, x_max = -2.8, 2.8  # Hardcoded x-limits\n",
        "        y_min, y_max = -2.2, 3.8  # Hardcoded y-limits\n",
        "        xx, yy = np.meshgrid(np.arange(x_min, x_max, 0.01),\n",
        "                            np.arange(y_min, y_max, 0.01))\n",
        "\n",
        "        # Transform the mesh grid to polynomial features\n",
        "        poly_features = phi_p(np.c_[xx.ravel(), yy.ravel()], degree)\n",
        "\n",
        "        # Normalize the polynomial features using the same mean and std as the training set\n",
        "        poly_features = (poly_features - X_poly_mean) / X_poly_std\n",
        "\n",
        "        # Append a column of 1s to the features for the bias term\n",
        "        poly_features = np.hstack([np.ones((poly_features.shape[0], 1)), poly_features])\n",
        "\n",
        "        # Compute the decision boundary\n",
        "        Z = f(poly_features)\n",
        "        Z = Z.reshape(xx.shape)\n",
        "\n",
        "        # Plot the decision boundary\n",
        "        ax.contourf(xx, yy, Z, alpha=0.8, levels=[0, 0.5, 1], colors=['#FFAAAA', '#AAAAFF'])\n",
        "        ax.scatter(X[Y == 0][:, 1], X[Y == 0][:, 2], color='red', label='Barolo', s=50)\n",
        "        ax.scatter(X[Y == 1][:, 1], X[Y == 1][:, 2], color='blue', label='Not-Barolo', s=50)\n",
        "        ax.set_xlabel('Alcohol (normalized)')\n",
        "        ax.set_ylabel('Malic Acid (normalized)')\n",
        "        ax.set_ylim(y_min, y_max)\n",
        "        ax.set_xlim(x_min, x_max)\n",
        "        ax.set_title(title)\n",
        "        ax.legend()\n",
        "\n",
        "    if show_plot:\n",
        "        # Transform the input features to polynomial features of the selected degree\n",
        "        X_poly_train = phi_p(X_train_norm_bin[:, 1:], degree)\n",
        "        X_poly_test = phi_p(X_test_norm_bin[:, 1:], degree)\n",
        "\n",
        "        # Normalize the polynomial features\n",
        "        X_poly_mean = X_poly_train.mean(axis=0)\n",
        "        X_poly_std = X_poly_train.std(axis=0) + 1e-8\n",
        "        X_poly_train = (X_poly_train - X_poly_mean) / X_poly_std\n",
        "        X_poly_test = (X_poly_test - X_poly_mean) / X_poly_std\n",
        "\n",
        "        # Append a column of 1s to the features for the bias term\n",
        "        X_poly_train = np.hstack([np.ones((X_poly_train.shape[0], 1)), X_poly_train])\n",
        "        X_poly_test = np.hstack([np.ones((X_poly_test.shape[0], 1)), X_poly_test])\n",
        "\n",
        "        # Train the model using polynomial features\n",
        "        predictor_poly, w_poly = binary_classification_learner(X_poly_train, Y_train_bin, step_size=0.2, epochs=epochs, random_seed=random_seed)\n",
        "\n",
        "        # Create subplots\n",
        "        fig, axes = plt.subplots(1, 2, figsize=(15, 6))\n",
        "\n",
        "        # Plot the decision boundary on the training set\n",
        "        plot_decision_boundary_poly(X_poly_train, Y_train_bin, predictor_poly, degree, f'Training Set (Polynomial Degree {degree})', X_poly_mean, X_poly_std, ax=axes[0])\n",
        "\n",
        "        # Plot the decision boundary on the test set\n",
        "        plot_decision_boundary_poly(X_poly_test, Y_test_bin, predictor_poly, degree, f'Test Set (Polynomial Degree {degree})', X_poly_mean, X_poly_std, ax=axes[1])\n",
        "\n",
        "        plt.show()\n",
        "    else:\n",
        "        clear_output()\n",
        "\n",
        "# Create a checkbox widget\n",
        "show_plot_checkbox_db_binary_poly = widgets.Checkbox(value=False, description='Show Plot')\n",
        "\n",
        "# Create a slider widget for selecting the polynomial degree\n",
        "degree_slider_db_binary_poly = widgets.IntSlider(value=1, min=1, max=10, step=0.5, description='Degree')\n",
        "\n",
        "# Use interactive_output to link the function with the checkbox and slider\n",
        "interactive_plot_db_binary_poly = interactive_output(update_plot_db_binary_poly, {'show_plot': show_plot_checkbox_db_binary_poly, 'degree': degree_slider_db_binary_poly})\n",
        "\n",
        "# Display the checkbox, slider, and the plot\n",
        "display(show_plot_checkbox_db_binary_poly, degree_slider_db_binary_poly, interactive_plot_db_binary_poly)"
      ]
    },
    {
      "cell_type": "markdown",
      "metadata": {
        "id": "iiMS8naen0Ph"
      },
      "source": [
        "To see which polynomial degree $p$ performs best on the test set, we will plot the estimated zero-one loss of the predictor output by the `binary_classification_learner` as a function of the polynomial degree $p$.\n",
        "We also plot the estimated zero-one loss on the training set for comparison.\n",
        "\n",
        "You should see that on the training set the zero-one loss decreases as $p$ increases, since the decision boundary can better separate the two classes.\n",
        "You should also see that on the test set the zero-one loss decreases as $p$ increases up to a certain point, after which the zero-one loss increases.\n",
        "If we were trying to select the best predictor, we would select the predictor with the lowest zero-one loss on the test set, which should be at $p=4$ in the plot below."
      ]
    },
    {
      "cell_type": "code",
      "execution_count": null,
      "metadata": {
        "cellView": "form",
        "colab": {
          "base_uri": "https://localhost:8080/",
          "height": 49,
          "referenced_widgets": [
            "28c35759f777442eab09a4dd23c4361f",
            "d2b6541c5b3448a9bc5e292e47376a2e",
            "c4c50aa660eb429090f6f07c9bbe0a3d",
            "061493ba2d3046a7b53db2846bffc06f",
            "d25a3bab809c413a824e5c8719f43244"
          ]
        },
        "id": "Go1VUNwOn0Ph",
        "outputId": "cd214bf6-368f-45db-b309-38de99e2effa"
      },
      "outputs": [
        {
          "output_type": "display_data",
          "data": {
            "text/plain": [
              "Checkbox(value=False, description='Show Plot')"
            ],
            "application/vnd.jupyter.widget-view+json": {
              "version_major": 2,
              "version_minor": 0,
              "model_id": "28c35759f777442eab09a4dd23c4361f"
            }
          },
          "metadata": {
            "application/vnd.jupyter.widget-view+json": {
              "colab": {
                "custom_widget_manager": {
                  "url": "https://ssl.gstatic.com/colaboratory-static/widgets/colab-cdn-widget-manager/2b70e893a8ba7c0f/manager.min.js"
                }
              }
            }
          }
        },
        {
          "output_type": "display_data",
          "data": {
            "text/plain": [
              "Output()"
            ],
            "application/vnd.jupyter.widget-view+json": {
              "version_major": 2,
              "version_minor": 0,
              "model_id": "061493ba2d3046a7b53db2846bffc06f"
            }
          },
          "metadata": {
            "application/vnd.jupyter.widget-view+json": {
              "colab": {
                "custom_widget_manager": {
                  "url": "https://ssl.gstatic.com/colaboratory-static/widgets/colab-cdn-widget-manager/2b70e893a8ba7c0f/manager.min.js"
                }
              }
            }
          }
        }
      ],
      "source": [
        "# @title Plot\n",
        "\n",
        "# Function to show/hide the plot\n",
        "def plot_loss_vs_deg_bin(show_plot):\n",
        "    epochs = 10000\n",
        "    # Define the range of polynomial degrees\n",
        "    degrees_binary = range(1, 11)\n",
        "\n",
        "    # Initialize lists to store the loss values\n",
        "    train_zero_one_loss_values_by_degree = []\n",
        "    test_zero_one_loss_values_by_degree = []\n",
        "\n",
        "    # Train the model and compute the loss for each polynomial degree\n",
        "    for degree in degrees_binary:\n",
        "        # Transform the input features to polynomial features of the selected degree\n",
        "        X_poly_train = phi_p(X_train_norm_bin[:, 1:], degree)\n",
        "        X_poly_test = phi_p(X_test_norm_bin[:, 1:], degree)\n",
        "\n",
        "        # Normalize the polynomial features\n",
        "        X_poly_mean = X_poly_train.mean(axis=0)\n",
        "        X_poly_std = X_poly_train.std(axis=0) + 1e-8\n",
        "        X_poly_train = (X_poly_train - X_poly_mean) / X_poly_std\n",
        "        X_poly_test = (X_poly_test - X_poly_mean) / X_poly_std\n",
        "\n",
        "        # Append a column of 1s to the features for the bias term\n",
        "        X_poly_train = np.hstack([np.ones((X_poly_train.shape[0], 1)), X_poly_train])\n",
        "        X_poly_test = np.hstack([np.ones((X_poly_test.shape[0], 1)), X_poly_test])\n",
        "\n",
        "        # Train the model using polynomial features\n",
        "        predictor_poly, w_poly = binary_classification_learner(X_poly_train, Y_train_bin, step_size=0.2, epochs=epochs, random_seed=random_seed)\n",
        "\n",
        "        # Compute the train and test 0-1 loss\n",
        "        train_zero_one_loss_value = estimated_loss(predictor_poly, X_poly_train, Y_train_bin, zero_one_loss)\n",
        "        test_zero_one_loss_value = estimated_loss(predictor_poly, X_poly_test, Y_test_bin, zero_one_loss)\n",
        "\n",
        "        # Store the loss values\n",
        "        train_zero_one_loss_values_by_degree.append(train_zero_one_loss_value)\n",
        "        test_zero_one_loss_values_by_degree.append(test_zero_one_loss_value)\n",
        "\n",
        "    if show_plot:\n",
        "        plt.figure(figsize=(10, 6))\n",
        "        plt.plot(degrees_binary, train_zero_one_loss_values_by_degree, label='Train Zero-One Loss', linewidth=3)\n",
        "        plt.plot(degrees_binary, test_zero_one_loss_values_by_degree, label='Test Zero-One Loss', linewidth=3)\n",
        "        plt.xlabel('Polynomial Degree')\n",
        "        plt.legend()\n",
        "        plt.grid(True)\n",
        "        plt.show()\n",
        "    else:\n",
        "        clear_output()\n",
        "\n",
        "# Create a checkbox widget\n",
        "show_plot_checkbox_loss_vs_deg_bin = widgets.Checkbox(value=False, description='Show Plot')\n",
        "\n",
        "# Use interactive_output to link the function with the checkbox\n",
        "interactive_plot_loss_vs_deg_bin = interactive_output(plot_loss_vs_deg_bin, {'show_plot': show_plot_checkbox_loss_vs_deg_bin})\n",
        "\n",
        "# Display the checkbox and the plot\n",
        "display(show_plot_checkbox_loss_vs_deg_bin, interactive_plot_loss_vs_deg_bin)"
      ]
    },
    {
      "cell_type": "markdown",
      "metadata": {
        "id": "Ix5JmpPDn0Ph"
      },
      "source": [
        "# Part 3: Multiclass Classification\n",
        "\n",
        "In multiclass classification, the set of labels $\\mathcal{Y}$ contains more than 2 classes.\n",
        "In our particular case, the set of labels $\\mathcal{Y} = \\{0, 1, 2\\}$ represents the cultivar of the wine (Barolo, Grignolino, Barbera).\n",
        "Thus, we will be using all the labels in our dataset from now on, represented as the matrix `Y`.\n",
        "\n",
        "In this section our goal is to implement the multiclass classification learner we learned in class."
      ]
    },
    {
      "cell_type": "markdown",
      "metadata": {
        "id": "xIQNvcI3n0Pi"
      },
      "source": [
        "### Question 3.1\n",
        "\n",
        "We will first need to implement the `softmax` function, which is used as the predictor function by the softmax regression learner.\n",
        "In class we learned that the softmax function is defined as:\n",
        "$$\\sigma_y(\\mathbf{z}) = \\sigma_y(z_0, \\dots, z_{\\mathrm{K-1}}) = \\frac{e^{z_y}}{\\sum_{q=0}^{\\mathrm{K}-1} e^{z_q}}$$\n",
        "where $\\mathbf{z} \\in \\mathbb{R}^{\\mathrm{K}}$, $\\mathrm{K}$ is the number of classes and $y \\in \\cal{Y}$.\n",
        "\n",
        "If for some $y$, $z_y$ is large, then $e^{z_y}$ will be very large and can cause an overflow error.\n",
        "To avoid this, we can rewrite the softmax function as:\n",
        "$$\\sigma_y(\\mathbf{z}) = \\sigma_y(z_0, \\dots, z_{\\mathrm{K}-1}) = \\frac{e^{z_y}}{\\sum_{q=0}^{\\mathrm{K}-1} e^{z_q}} = \\frac{e^{z_y}}{\\sum_{q=0}^{\\mathrm{K}-1} e^{z_q}} \\cdot \\frac{e^{-\\max_{l} z_l}}{e^{-\\max_{l} z_l}} = \\frac{e^{z_y - \\max_{l} z_l}}{\\sum_{q=0}^{\\mathrm{K}-1} e^{z_q - \\max_{l} z_l}}.$$\n",
        "This way the exponential function will never take as input a number larger than 0, which will prevent overflow errors.\n",
        "\n",
        "For similar reasons as we have discussed in [Question 2.1](#question-2.1), it is often preferred to use vectors or matrices as input and output for the softmax function.\n",
        "In particular, we can store all $\\mathrm{K}$ different softmax outputs into a single vector and define a vector softmax function as:\n",
        "$$\\sigma(\\mathbf{z}) = (\\sigma_0(\\mathbf{z}), \\dots, \\sigma_{\\mathrm{K}-1}(\\mathbf{z}))^\\top \\in [0, 1]^{\\mathrm{K}}.$$\n",
        "We would also like to compute the softmax function for multiple data points at once.\n",
        "That means the input to the `softmax` function will be a matrix `Z` with $n$ rows and $\\mathrm{K}$ columns, where each row represents a data point and each column represents a class.\n",
        "\n",
        "In your implementation of the softmax function you should assume the input is a matrix represented as a numpy arrary.\n",
        "You should then return a matrix of the same shape where each row is the vector softmax function $\\sigma$ applied to the corresponding row of the input matrix.\n",
        "\n",
        "You may find the functions: `np.exp`, `np.sum`, and `np.max` useful for this implementation.\n",
        "\n",
        "Complete the implementation of `softmax`.\n",
        "\n",
        "_Points:_ 8"
      ]
    },
    {
      "cell_type": "code",
      "execution_count": null,
      "metadata": {
        "id": "l24z_9Fpn0Pi"
      },
      "outputs": [],
      "source": [
        "def softmax(Z):\n",
        "    \"\"\"\n",
        "    Compute the softmax of each row of the input array.\n",
        "\n",
        "    Parameters:\n",
        "    z (numpy array): Input array of shape (n, K) where n is the number of samples and K is the number of classes.\n",
        "\n",
        "    Returns:\n",
        "    result (numpy array): Softmax probabilities of shape (n, K).\n",
        "    \"\"\"\n",
        "\n",
        "    ### YOUR CODE HERE ###\n",
        "    if Z.ndim == 1:\n",
        "        Z = Z[:, np.newaxis]  # Reshape to (n, 1)\n",
        "\n",
        "    Z_shifted = Z - np.max(Z, axis=1, keepdims=True)  # Prevent overflow\n",
        "    exp_Z = np.exp(Z_shifted)\n",
        "    sum_exp_Z = np.sum(exp_Z, axis=1, keepdims=True)\n",
        "    result = exp_Z / sum_exp_Z\n",
        "\n",
        "    ######################\n",
        "\n",
        "    return result"
      ]
    },
    {
      "cell_type": "code",
      "execution_count": null,
      "metadata": {
        "colab": {
          "base_uri": "https://localhost:8080/",
          "height": 47
        },
        "id": "OEhkWx7dn0Pi",
        "outputId": "97b9e8e0-d52b-4c24-ae2e-17fc15d4d747"
      },
      "outputs": [
        {
          "output_type": "execute_result",
          "data": {
            "text/plain": [
              "q3_1 results: All test cases passed!"
            ],
            "text/html": [
              "<p><strong><pre style='display: inline;'>q3_1</pre></strong> passed! 🌈</p>"
            ]
          },
          "metadata": {},
          "execution_count": 145
        }
      ],
      "source": [
        "grader.check(\"q3_1\")"
      ]
    },
    {
      "cell_type": "markdown",
      "metadata": {
        "id": "QjD7boVbn0Pi"
      },
      "source": [
        "### Question 3.2\n",
        "\n",
        "Now we are ready to implement the softmax regression learner using batch gradient descent.\n",
        "That is, you need to finish the implementation of the `bgd_softmax_regression_learner` function by adding the batch gradient descent update rule with a constant step size $\\eta^{(t)} = \\eta$.\n",
        "Recall that the update rule (for class $y \\in \\cal{Y} = \\{0, \\dots, \\mathrm{K} - 1\\}$) for batch gradient descent is:\n",
        "$$\\mathbf{w}_y^{(t+1)} = \\mathbf{w}_y^{(t)} - \\eta^{(t)} \\nabla_{\\mathbf{w}_y} \\hat L(\\mathbf{w}_0^{(t)}, \\cdots, \\mathbf{w}_{K-1}^{(t)}) \\quad \\text{where} \\quad \\nabla_{\\mathbf{w}_y} \\hat L(\\mathbf{w}_0^{(t)}, \\cdots, \\mathbf{w}_{K-1}^{(t)}) = \\left(\\frac{\\partial \\hat L}{\\partial \\mathbf{w}_{y0}}, \\dots, \\frac{\\partial \\hat L}{\\partial \\mathbf{w}_{yd}}\\right)^\\top,$$\n",
        "$$\\hat L(\\mathbf{w}_0^{(t)}, \\cdots, \\mathbf{w}_{K-1}^{(t)}) = \\frac{1}{n} \\sum_{i=1}^{n} \\ell(\\sigma(\\mathbf{x}_i^\\top \\mathbf{w}_0, \\dots, \\mathbf{x}_i^\\top \\mathbf{w}_{K-1}), y_i),$$\n",
        "The function $\\textbf{I}_{\\{y = q\\}}(y)$ is the indicator function that is 1 if $y = q$ and 0 otherwise, and $\\hat y_q$ is the $q$-th element of the vector $\\hat y$.\n",
        "\n",
        "Notice that $\\hat y \\in [0, 1]^{\\mathrm{K}}$ is the output of the softmax function and $y \\in \\cal{Y}$ is the true label.\n",
        "Importantly, $\\cal{Y} \\neq [0, 1]^{\\mathrm{K}}$.\n",
        "In your implementation of `bgd_softmax_regression_learner` you should assume that `Y` is a vector of labels from the set $\\cal{Y}$.\n",
        "To make the gradient calculation simpler, you may find it useful to convert `Y` into a matrix with $n$ rows and $\\mathrm{K}$ columns by using the following mapping from an element $y \\in \\cal{Y}$ to an element $y' \\in [0, 1]^\\mathrm{K}$ (when $\\mathrm{K} = 3$):\n",
        "$$y' = \\begin{cases} (1, 0, 0)^\\top & \\text{if } y = 0 \\\\ (0, 1, 0)^\\top & \\text{if } y = 1 \\\\ (0, 0, 1)^\\top & \\text{if } y = 2 \\end{cases}.$$\n",
        "\n",
        "Since there are $\\mathrm{K}$ weight vectors $\\mathbf{w}_0, \\dots, \\mathbf{w}_{\\mathrm{K}-1}$, we will store them in a matrix $\\mathbf{W}$ with $d+1$ rows and $\\mathrm{K}$ columns, where each column represents the weights for a class.\n",
        "\n",
        "Complete the implementation of `bgd_softmax_regression_learner`.\n",
        "\n",
        "_Points:_ 12"
      ]
    },
    {
      "cell_type": "code",
      "execution_count": null,
      "metadata": {
        "id": "kUs3ogA-n0Pi"
      },
      "outputs": [],
      "source": [
        "def bgd_softmax_regression_learner(X, Y, step_size=0.01, epochs=10, random_seed=42):\n",
        "    \"\"\"\n",
        "    Trains a softmax regression model using batch gradient descent.\n",
        "\n",
        "    Parameters:\n",
        "    X (numpy array): Feature matrix of size (n, d+1), where n is the number of samples\n",
        "                     and d is the number of features. The first column should be all 1s.\n",
        "    Y (numpy array): Target vector of size (n,) with class labels.\n",
        "    step_size (float): The step size for gradient descent.\n",
        "    epochs (int): The number of iterations to run gradient descent.\n",
        "    random_seed (int, optional): The seed for the random number generator.\n",
        "\n",
        "    Returns:\n",
        "    predictor (function): A function that takes a feature vector or matrix and returns predicted probabilities.\n",
        "    W (numpy array): The final weights after applying gradient descent for the specified epochs.\n",
        "    \"\"\"\n",
        "    np.random.seed(random_seed)\n",
        "    n, d = X[:, 1:].shape\n",
        "    K = len(np.unique(Y))  # Number of classes\n",
        "    W = np.random.randn(d+1, K)  # Initialize the weights randomly\n",
        "\n",
        "    ### YOUR CODE HERE ###\n",
        "\n",
        "    Y_one_hot = np.zeros((n, K))\n",
        "    for i in range(n):\n",
        "        Y_one_hot[i, Y[i]] = 1\n",
        "\n",
        "    for epoch in range(epochs):\n",
        "\n",
        "      gradient = (X.T @ (softmax(X @ W) - Y_one_hot)) / n\n",
        "      W -= step_size * gradient\n",
        "\n",
        "    ######################\n",
        "\n",
        "    def predictor(x):\n",
        "        return softmax(x @ W)\n",
        "\n",
        "    return predictor, W"
      ]
    },
    {
      "cell_type": "code",
      "execution_count": null,
      "metadata": {
        "colab": {
          "base_uri": "https://localhost:8080/",
          "height": 47
        },
        "id": "QCp10CGtn0Pi",
        "outputId": "3073d7d9-a634-491c-b5c2-b385b8ec990b"
      },
      "outputs": [
        {
          "output_type": "execute_result",
          "data": {
            "text/plain": [
              "q3_2 results: All test cases passed!"
            ],
            "text/html": [
              "<p><strong><pre style='display: inline;'>q3_2</pre></strong> passed! ✨</p>"
            ]
          },
          "metadata": {},
          "execution_count": 147
        }
      ],
      "source": [
        "grader.check(\"q3_2\")"
      ]
    },
    {
      "cell_type": "markdown",
      "metadata": {
        "id": "mIcJ5Nq5n0Pi"
      },
      "source": [
        "### Question 3.3\n",
        "\n",
        "We would like to plot the estimated loss of the predictor output by the `bgd_softmax_regression_learner` as a function of the number of epochs.\n",
        "To do this we need to implement the multiclass cross-entropy loss function, which we will use in the `estimated_loss` function.\n",
        "\n",
        "As discussed in [Question 3.2](#question-3.2), the multiclass cross-entropy loss function is defined as:\n",
        "$$\\ell(\\hat y, y) = -\\sum_{q=0}^{\\mathrm{K}-1} \\textbf{I}_{\\{y = q\\}}(y) \\log(\\hat y_q) \\quad \\text{where} \\quad \\hat y \\in [0, 1]^{\\mathrm{K}}, y \\in \\cal{Y}.$$\n",
        "\n",
        "Similar to the previous question you should assume that `Y` contains labels from the set $\\cal{Y}$.\n",
        "However, since `Y_hat` contains outputs of the softmax function, the rows of `Y_hat` will be elements of the set $[0, 1]^K$.\n",
        "You may again find it useful to convert `Y` into a matrix of labels before using it in the loss calculation.\n",
        "The reason for this is that the loss function can be written as:\n",
        "$$\\ell(\\hat y, \\bar{y}) = -\\sum_{q=0}^{\\mathrm{K}-1} \\bar{y}_q \\log(\\hat y_q),$$\n",
        "if both $\\hat y$ and $\\bar{y}$ are elements of $[0, 1]^K$.\n",
        "\n",
        "Complete the implementation of `multiclass_cross_entropy_loss`.\n",
        "\n",
        "_Points:_ 8"
      ]
    },
    {
      "cell_type": "code",
      "execution_count": null,
      "metadata": {
        "id": "_3EXEVPwn0Pi"
      },
      "outputs": [],
      "source": [
        "def multiclass_cross_entropy_loss(Y_pred, Y):\n",
        "    \"\"\"\n",
        "    Compute the cross-entropy loss for multiclass classification.\n",
        "\n",
        "    Parameters:\n",
        "    Y_pred (numpy array): Predicted probabilities of shape (n, K) where n is the number of samples and K is the number of classes.\n",
        "    Y (numpy array): True labels (0, 1, 2) of shape (n,).\n",
        "\n",
        "    Returns:\n",
        "    loss (numpy array): Cross-entropy loss of shape (n,).\n",
        "    \"\"\"\n",
        "    # Clip predictions to avoid log(0)\n",
        "    Y_pred = np.clip(Y_pred, 1e-15, 1 - 1e-15)\n",
        "\n",
        "    ### YOUR CODE HERE ###\n",
        "    if not np.issubdtype(Y.dtype, np.integer):\n",
        "      Y = Y.astype(int)\n",
        "\n",
        "\n",
        "    correct_class_probs = Y_pred[np.arange(Y_pred.shape[0]), Y]\n",
        "    loss = -np.log(correct_class_probs)\n",
        "\n",
        "\n",
        "    ######################\n",
        "\n",
        "    return loss"
      ]
    },
    {
      "cell_type": "code",
      "execution_count": null,
      "metadata": {
        "colab": {
          "base_uri": "https://localhost:8080/",
          "height": 47
        },
        "id": "-XzAJZZOn0Pi",
        "outputId": "68d588b2-2e3c-4005-b5a4-fc6a3101c247"
      },
      "outputs": [
        {
          "output_type": "execute_result",
          "data": {
            "text/plain": [
              "q3_3 results: All test cases passed!"
            ],
            "text/html": [
              "<p><strong><pre style='display: inline;'>q3_3</pre></strong> passed! 🌟</p>"
            ]
          },
          "metadata": {},
          "execution_count": 149
        }
      ],
      "source": [
        "grader.check(\"q3_3\")"
      ]
    },
    {
      "cell_type": "markdown",
      "metadata": {
        "id": "ybVK_Mtun0Pi"
      },
      "source": [
        "### Plotting the Estimated Multiclass Cross-Entropy Loss\n",
        "\n",
        "Below is a plot of the estimated loss (using the multiclass cross-entropy loss function) for the predictor output by the `bgd_softmax_regression_learner` as a function of the number of epochs.\n",
        "\n",
        "If your implementation of `bgd_softmax_regression_learner` is correct, you should see the loss decrease as the number of epochs increases."
      ]
    },
    {
      "cell_type": "code",
      "execution_count": null,
      "metadata": {
        "cellView": "form",
        "colab": {
          "base_uri": "https://localhost:8080/",
          "height": 397,
          "referenced_widgets": [
            "9934477575d54655a3adadcc3c0a1bcd",
            "2dab471350b44b46b47adab71b4d27c1",
            "1d5f3524ed4e4ddca94acdaa0a8795bd",
            "85cf9ca9b4304da99fbfa745d044817c",
            "005cbee7774847e196895423af2b99f7"
          ]
        },
        "id": "9l3wV9LBn0Pi",
        "outputId": "1723e6dd-66a3-4a38-c003-2bb0d826a50c"
      },
      "outputs": [
        {
          "output_type": "display_data",
          "data": {
            "text/plain": [
              "Checkbox(value=False, description='Show Plot')"
            ],
            "application/vnd.jupyter.widget-view+json": {
              "version_major": 2,
              "version_minor": 0,
              "model_id": "9934477575d54655a3adadcc3c0a1bcd"
            }
          },
          "metadata": {
            "application/vnd.jupyter.widget-view+json": {
              "colab": {
                "custom_widget_manager": {
                  "url": "https://ssl.gstatic.com/colaboratory-static/widgets/colab-cdn-widget-manager/2b70e893a8ba7c0f/manager.min.js"
                }
              }
            }
          }
        },
        {
          "output_type": "display_data",
          "data": {
            "text/plain": [
              "Output()"
            ],
            "application/vnd.jupyter.widget-view+json": {
              "version_major": 2,
              "version_minor": 0,
              "model_id": "85cf9ca9b4304da99fbfa745d044817c"
            }
          },
          "metadata": {
            "application/vnd.jupyter.widget-view+json": {
              "colab": {
                "custom_widget_manager": {
                  "url": "https://ssl.gstatic.com/colaboratory-static/widgets/colab-cdn-widget-manager/2b70e893a8ba7c0f/manager.min.js"
                }
              }
            }
          }
        }
      ],
      "source": [
        "# @title Plot\n",
        "\n",
        "# Function to show/hide the plot\n",
        "def plot_ce_loss_multiclass(show_plot):\n",
        "    # Define the number of epochs\n",
        "    epochs = 200\n",
        "\n",
        "    # Initialize lists to store the loss values\n",
        "    cross_entropy_loss_values = []\n",
        "\n",
        "    # Train the model and compute the loss for each epoch\n",
        "    for epoch in range(1, epochs + 1):\n",
        "        predictor, W = bgd_softmax_regression_learner(X_train_norm_mul, Y_train_mul, step_size=0.1, epochs=epoch, random_seed=random_seed)\n",
        "        loss = estimated_loss(predictor, X_train_norm_mul, Y_train_mul, multiclass_cross_entropy_loss)\n",
        "        cross_entropy_loss_values.append(loss)\n",
        "\n",
        "    if show_plot:\n",
        "        # Plot the loss values\n",
        "        plt.figure(figsize=(10, 6))\n",
        "        plt.plot(range(1, epochs + 1), cross_entropy_loss_values, linewidth=3)\n",
        "        plt.xlabel('Epochs')\n",
        "        plt.ylabel('Estimated Cross-Entropy Loss')\n",
        "        plt.grid(True)\n",
        "        plt.show()\n",
        "    else:\n",
        "        clear_output()\n",
        "\n",
        "# Create a checkbox widget\n",
        "show_plot_checkbox_ce_loss_multiclass = widgets.Checkbox(value=False, description='Show Plot')\n",
        "\n",
        "# Use interactive_output to link the function with the checkbox\n",
        "interactive_plot_ce_loss_multiclass = interactive_output(plot_ce_loss_multiclass, {'show_plot': show_plot_checkbox_ce_loss_multiclass})\n",
        "\n",
        "# Display the checkbox and the plot\n",
        "display(show_plot_checkbox_ce_loss_multiclass, interactive_plot_ce_loss_multiclass)"
      ]
    },
    {
      "cell_type": "markdown",
      "metadata": {
        "id": "qETdiM0-n0Pi"
      },
      "source": [
        "### Multiclass Classification Learner\n",
        "\n",
        "Recall that our objective in multiclass classification is to predict the class of a data point as one of the three cultivars.\n",
        "So far we have implemented the softmax regression learner, which returns a predictor that outputs a proability of the data point being in each of the three classes.\n",
        "To make a prediction, we need to convert this probability to a class label.\n",
        "We can do this by selecting the class with the highest probability.\n",
        "This is implemented for you as `multiclass_classification_learner` below."
      ]
    },
    {
      "cell_type": "code",
      "execution_count": null,
      "metadata": {
        "id": "l-qNZc_ln0Pi"
      },
      "outputs": [],
      "source": [
        "def multiclass_classification_learner(X, Y, step_size=0.01, epochs=10, random_seed=42):\n",
        "    \"\"\"\n",
        "    Trains a multiclass classification model using batch gradient descent and returns a predictor function.\n",
        "\n",
        "    Parameters:\n",
        "    X (numpy array): Feature matrix of size (n, d+1), where n is the number of samples\n",
        "                     and d is the number of features. The first column should be all 1s.\n",
        "    Y (numpy array): Target vector of size (n,) with class labels.\n",
        "    step_size (float): The step size for gradient descent.\n",
        "    epochs (int): The number of iterations to run gradient descent.\n",
        "    random_seed (int, optional): The seed for the random number generator.\n",
        "\n",
        "    Returns:\n",
        "    predictor (function): A function that takes a feature vector or matrix and returns predicted class.\n",
        "    W (numpy array): The final weights after applying gradient descent for the specified epochs.\n",
        "    \"\"\"\n",
        "    # Use the bgd_softmax_regression_learner to train the model\n",
        "    predictor, W = bgd_softmax_regression_learner(X, Y, step_size, epochs, random_seed)\n",
        "\n",
        "    # Define a new predictor function that returns the class with the highest probability\n",
        "    def multiclass_predictor(x):\n",
        "        probabilities = predictor(x)\n",
        "        return np.argmax(probabilities, axis=1)\n",
        "\n",
        "    return multiclass_predictor, W"
      ]
    },
    {
      "cell_type": "markdown",
      "metadata": {
        "id": "9xtJNlV5n0Pi"
      },
      "source": [
        "### Plotting the Estimated Zero-One Loss\n",
        "\n",
        "Similar to the binary classification problem, we would like to evaluate the performance of the multiclass classification learner using the zero-one loss function.\n",
        "\n",
        "If your implementation of `multiclass_cross_entropy_loss` is correct, you should see the zero-one loss decrease as the number of epochs increases in the plot below.\n",
        "However, it likely will not decrease as smoothly as the cross-entropy loss, since the `bgd_softmax_regression_learner` is not directly minimizing the zero-one loss."
      ]
    },
    {
      "cell_type": "code",
      "execution_count": null,
      "metadata": {
        "cellView": "form",
        "colab": {
          "base_uri": "https://localhost:8080/",
          "height": 397,
          "referenced_widgets": [
            "15a54fe532e848019f290bceb2d6a9e6",
            "cba9128937fb4047af918d5f59081dad",
            "69cc0465a0f84b788ec2198b78b04987",
            "97788280a9a046a88612a67a3f9698dd",
            "afee94d4b3554d3381eca31a00895e1e"
          ]
        },
        "id": "u0Hrg6VVn0Pj",
        "outputId": "046a8a4f-c373-427e-b2c2-96c3730cad6e"
      },
      "outputs": [
        {
          "output_type": "display_data",
          "data": {
            "text/plain": [
              "Checkbox(value=False, description='Show Plot')"
            ],
            "application/vnd.jupyter.widget-view+json": {
              "version_major": 2,
              "version_minor": 0,
              "model_id": "15a54fe532e848019f290bceb2d6a9e6"
            }
          },
          "metadata": {
            "application/vnd.jupyter.widget-view+json": {
              "colab": {
                "custom_widget_manager": {
                  "url": "https://ssl.gstatic.com/colaboratory-static/widgets/colab-cdn-widget-manager/2b70e893a8ba7c0f/manager.min.js"
                }
              }
            }
          }
        },
        {
          "output_type": "display_data",
          "data": {
            "text/plain": [
              "Output()"
            ],
            "application/vnd.jupyter.widget-view+json": {
              "version_major": 2,
              "version_minor": 0,
              "model_id": "97788280a9a046a88612a67a3f9698dd"
            }
          },
          "metadata": {
            "application/vnd.jupyter.widget-view+json": {
              "colab": {
                "custom_widget_manager": {
                  "url": "https://ssl.gstatic.com/colaboratory-static/widgets/colab-cdn-widget-manager/2b70e893a8ba7c0f/manager.min.js"
                }
              }
            }
          }
        }
      ],
      "source": [
        "# @title Plot\n",
        "\n",
        "# Function to show/hide the plot\n",
        "def plot_ce_zo_loss_multi(show_plot):\n",
        "    # Define the number of epochs\n",
        "    epochs = 200\n",
        "\n",
        "    # Initialize lists to store the loss values\n",
        "    cross_entropy_loss_values = []\n",
        "    zero_one_loss_values = []\n",
        "\n",
        "    # Train the model and compute the loss for each epoch\n",
        "    for epoch in range(1, epochs + 1):\n",
        "        predictor, W = bgd_softmax_regression_learner(X_train_norm_mul, Y_train_mul, step_size=0.1, epochs=epoch, random_seed=random_seed)\n",
        "        loss = estimated_loss(predictor, X_train_norm_mul, Y_train_mul, multiclass_cross_entropy_loss)\n",
        "        cross_entropy_loss_values.append(loss)\n",
        "\n",
        "        # Compute 0-1 loss\n",
        "        predictor_class, W = multiclass_classification_learner(X_train_norm_mul, Y_train_mul, step_size=0.1, epochs=epoch, random_seed=random_seed)\n",
        "        zero_one_loss_value = estimated_loss(predictor_class, X_train_norm_mul, Y_train_mul, zero_one_loss)\n",
        "        zero_one_loss_values.append(zero_one_loss_value)\n",
        "\n",
        "    if show_plot:\n",
        "        # Plot the loss values\n",
        "        plt.figure(figsize=(10, 6))\n",
        "        plt.plot(range(1, epochs + 1), cross_entropy_loss_values, label='Cross-Entropy Loss', linewidth=3)\n",
        "        plt.plot(range(1, epochs + 1), zero_one_loss_values, label='Zero-One Loss', linewidth=3)\n",
        "        plt.xlabel('Epochs')\n",
        "        plt.ylabel('Estimated Loss')\n",
        "        plt.legend()\n",
        "        plt.grid(True)\n",
        "        plt.show()\n",
        "    else:\n",
        "        clear_output()\n",
        "\n",
        "# Create a checkbox widget\n",
        "show_plot_checkbox_ce_zo_loss_multi = widgets.Checkbox(value=False, description='Show Plot')\n",
        "\n",
        "# Use interactive_output to link the function with the checkbox\n",
        "interactive_plot_ce_zo_loss_multi = interactive_output(plot_ce_zo_loss_multi, {'show_plot': show_plot_checkbox_ce_zo_loss_multi})\n",
        "\n",
        "# Display the checkbox and the plot\n",
        "display(show_plot_checkbox_ce_zo_loss_multi, interactive_plot_ce_zo_loss_multi)"
      ]
    },
    {
      "cell_type": "markdown",
      "metadata": {
        "id": "8ZdBFjKpn0Pj"
      },
      "source": [
        "### Plotting a Linear Decision Boundary\n",
        "\n",
        "The multiclass classification predictor outputs the class with the highest probability.\n",
        "Since the probability of a class $y \\in \\cal{Y}$ is given by $\\sigma_y(\\mathbf{x}^\\top \\mathbf{w}_y)$, it implies that the class with the highest probability is the class with the highest value of $\\mathbf{x}^\\top \\mathbf{w}_y$.\n",
        "If we have two different classes $y, y' \\in \\cal{Y}$, the decision boundary between these two classes is given by the line $\\mathbf{x}^\\top (\\mathbf{w}_y - \\mathbf{w}_{y'}) = 0$.\n",
        "This line represents when the predicted probability of class $y$ is equal to the predicted probability of class $y'$.\n",
        "Thus, anything to one side of the line will be predicted as class $y$ and anything to the other side will be predicted as class $y'$.\n",
        "\n",
        "Below we plot this decision boundary for all possible pairs of classes."
      ]
    },
    {
      "cell_type": "code",
      "execution_count": null,
      "metadata": {
        "cellView": "form",
        "colab": {
          "base_uri": "https://localhost:8080/",
          "height": 596,
          "referenced_widgets": [
            "869d7d09038348d885dba5bc3677a816",
            "d83a731a3fa740e7adf1a2ca89c07a18",
            "394341a13db14996a483eb03e1efadc4",
            "5c3086ea17044232a9ea77798465117f",
            "26d80b70a86e45289554b259df1c7f4a"
          ]
        },
        "id": "Wc1OM_cCn0Pj",
        "outputId": "9ef235b9-e8fc-4185-c05a-43236389ea20"
      },
      "outputs": [
        {
          "output_type": "display_data",
          "data": {
            "text/plain": [
              "Checkbox(value=False, description='Show Plot')"
            ],
            "application/vnd.jupyter.widget-view+json": {
              "version_major": 2,
              "version_minor": 0,
              "model_id": "869d7d09038348d885dba5bc3677a816"
            }
          },
          "metadata": {
            "application/vnd.jupyter.widget-view+json": {
              "colab": {
                "custom_widget_manager": {
                  "url": "https://ssl.gstatic.com/colaboratory-static/widgets/colab-cdn-widget-manager/2b70e893a8ba7c0f/manager.min.js"
                }
              }
            }
          }
        },
        {
          "output_type": "display_data",
          "data": {
            "text/plain": [
              "Output()"
            ],
            "application/vnd.jupyter.widget-view+json": {
              "version_major": 2,
              "version_minor": 0,
              "model_id": "5c3086ea17044232a9ea77798465117f"
            }
          },
          "metadata": {
            "application/vnd.jupyter.widget-view+json": {
              "colab": {
                "custom_widget_manager": {
                  "url": "https://ssl.gstatic.com/colaboratory-static/widgets/colab-cdn-widget-manager/2b70e893a8ba7c0f/manager.min.js"
                }
              }
            }
          }
        }
      ],
      "source": [
        "# @title Plot\n",
        "\n",
        "# Function to show/hide the plot\n",
        "def plot_db_multi(show_plot):\n",
        "    # Function to plot the multiclass decision boundary\n",
        "    def plot_multiclass_decision_boundary(X, Y, f, title, ax):\n",
        "        # Create a mesh grid\n",
        "        x_min, x_max = -2.8, 2.8  # Hardcoded x-limits\n",
        "        y_min, y_max = -2.2, 3.8  # Hardcoded y-limits\n",
        "        xx, yy = np.meshgrid(np.arange(x_min, x_max, 0.01),\n",
        "                            np.arange(y_min, y_max, 0.01))\n",
        "\n",
        "        # Compute the decision boundary\n",
        "        Z = f(np.c_[np.ones((xx.ravel().shape[0], 1)), xx.ravel(), yy.ravel()])\n",
        "        Z = Z.reshape(xx.shape)\n",
        "\n",
        "        # Plot the decision boundary\n",
        "        ax.contourf(xx, yy, Z, alpha=0.8, levels=[-1, 0, 1, 2], colors=['#FFAAAA', '#AAAAFF', '#AAFFAA'])\n",
        "        ax.scatter(X[Y == 0][:, 1], X[Y == 0][:, 2], color='red', label='Barolo', s=50)\n",
        "        ax.scatter(X[Y == 1][:, 1], X[Y == 1][:, 2], color='blue', label='Grignolino', s=50)\n",
        "        ax.scatter(X[Y == 2][:, 1], X[Y == 2][:, 2], color='green', label='Barbera', s=50)\n",
        "        ax.set_xlabel('Alcohol (normalized)')\n",
        "        ax.set_ylabel('Malic Acid (normalized)')\n",
        "        ax.set_title(title)\n",
        "\n",
        "        # Hardcoded limits to ensure consistency across both plots\n",
        "        ax.set_xlim(x_min, x_max)\n",
        "        ax.set_ylim(y_min, y_max)\n",
        "        ax.legend()\n",
        "\n",
        "    epochs = 10000\n",
        "\n",
        "    if show_plot:\n",
        "        fig, axes = plt.subplots(1, 2, figsize=(15, 6))\n",
        "\n",
        "        predictor, W = multiclass_classification_learner(X_train_norm_mul, Y_train_mul, step_size=0.1, epochs=epochs, random_seed=random_seed)\n",
        "        # Plot the decision boundary on the training set\n",
        "        plot_multiclass_decision_boundary(X_train_norm_mul, Y_train_mul, predictor, 'Training Set', axes[0])\n",
        "\n",
        "        # Plot the decision boundary on the test set\n",
        "        plot_multiclass_decision_boundary(X_test_norm_mul, Y_test_mul, predictor, 'Test Set', axes[1])\n",
        "\n",
        "        plt.show()\n",
        "    else:\n",
        "        clear_output()\n",
        "\n",
        "# Create a checkbox widget\n",
        "show_plot_checkbox_db_multi = widgets.Checkbox(value=False, description='Show Plot')\n",
        "\n",
        "# Use interactive_output to link the function with the checkbox\n",
        "interactive_plot_db_multi = interactive_output(plot_db_multi, {'show_plot': show_plot_checkbox_db_multi})\n",
        "\n",
        "# Display the checkbox and the plot\n",
        "display(show_plot_checkbox_db_multi, interactive_plot_db_multi)"
      ]
    },
    {
      "cell_type": "markdown",
      "metadata": {
        "id": "q8D0upY6n0Pj"
      },
      "source": [
        "### Plotting Polynomial Decision Boundaries\n",
        "\n",
        "Similar to the binary classification problem, we can use polynomial features to allow for more complex decision boundaries in the multiclass classification problem.\n",
        "Below is a plot of the decision boundary for different polynomial degrees $p$.\n",
        "You should see that as $p$ increases the decision boundary becomes more complex and can better separate the three classes in the training set.\n",
        "However, if $p$ is too large, then the decision boundary may become too complex and overfit the training data, leading to poor performance on the test set."
      ]
    },
    {
      "cell_type": "code",
      "execution_count": null,
      "metadata": {
        "cellView": "form",
        "colab": {
          "base_uri": "https://localhost:8080/",
          "height": 626,
          "referenced_widgets": [
            "83d5da08c4c1430bb11bff901e817d6a",
            "27bae79cb23742e290e933082352c27c",
            "813ddba40991441e912e3bc5b3f0f21a",
            "55815b5e886047d08b93e5240cef7ee9",
            "48c33ca097b3450c8de539ea46184eba",
            "62e5c8ca2df34bb5a7936e493a9957d7",
            "b16bac0c11c94608afc6236e02eddfb9",
            "f8ba02fe47a44bbbafed7b2f5cd9636b"
          ]
        },
        "id": "nh54zvsOn0Pj",
        "outputId": "5e35c5b4-5e79-4993-f34a-512ed9124c7d"
      },
      "outputs": [
        {
          "output_type": "display_data",
          "data": {
            "text/plain": [
              "Checkbox(value=False, description='Show Plot')"
            ],
            "application/vnd.jupyter.widget-view+json": {
              "version_major": 2,
              "version_minor": 0,
              "model_id": "83d5da08c4c1430bb11bff901e817d6a"
            }
          },
          "metadata": {
            "application/vnd.jupyter.widget-view+json": {
              "colab": {
                "custom_widget_manager": {
                  "url": "https://ssl.gstatic.com/colaboratory-static/widgets/colab-cdn-widget-manager/2b70e893a8ba7c0f/manager.min.js"
                }
              }
            }
          }
        },
        {
          "output_type": "display_data",
          "data": {
            "text/plain": [
              "IntSlider(value=1, description='Degree', max=10, min=1, step=0)"
            ],
            "application/vnd.jupyter.widget-view+json": {
              "version_major": 2,
              "version_minor": 0,
              "model_id": "55815b5e886047d08b93e5240cef7ee9"
            }
          },
          "metadata": {
            "application/vnd.jupyter.widget-view+json": {
              "colab": {
                "custom_widget_manager": {
                  "url": "https://ssl.gstatic.com/colaboratory-static/widgets/colab-cdn-widget-manager/2b70e893a8ba7c0f/manager.min.js"
                }
              }
            }
          }
        },
        {
          "output_type": "display_data",
          "data": {
            "text/plain": [
              "Output()"
            ],
            "application/vnd.jupyter.widget-view+json": {
              "version_major": 2,
              "version_minor": 0,
              "model_id": "b16bac0c11c94608afc6236e02eddfb9"
            }
          },
          "metadata": {
            "application/vnd.jupyter.widget-view+json": {
              "colab": {
                "custom_widget_manager": {
                  "url": "https://ssl.gstatic.com/colaboratory-static/widgets/colab-cdn-widget-manager/2b70e893a8ba7c0f/manager.min.js"
                }
              }
            }
          }
        }
      ],
      "source": [
        "# @title Plot\n",
        "\n",
        "# Function to show/hide the plots and update the polynomial degree\n",
        "def plot_db_multi_poly(show_plot, degree):\n",
        "    # Define the decision boundary function for polynomial features\n",
        "    def plot_multiclass_decision_boundary_poly(X, Y, f, degree, title, X_poly_mean=None, X_poly_std=None, ax=None):\n",
        "        # Create a mesh grid\n",
        "        x_min, x_max = -2.8, 2.8  # Hardcoded x-limits\n",
        "        y_min, y_max = -2.2, 3.8  # Hardcoded y-limits\n",
        "        xx, yy = np.meshgrid(np.arange(x_min, x_max, 0.01),\n",
        "                            np.arange(y_min, y_max, 0.01))\n",
        "\n",
        "        # Transform the mesh grid to polynomial features\n",
        "        poly_features = phi_p(np.c_[xx.ravel(), yy.ravel()], degree)\n",
        "\n",
        "        # Normalize the polynomial features using the same mean and std as the training set\n",
        "        poly_features = (poly_features - X_poly_mean) / X_poly_std\n",
        "\n",
        "        # Append a column of 1s to the features for the bias term\n",
        "        poly_features = np.hstack([np.ones((poly_features.shape[0], 1)), poly_features])\n",
        "\n",
        "        # Compute the decision boundary\n",
        "        # Z = poly_features.dot(W)\n",
        "        # Z = np.argmax(Z, axis=1)\n",
        "        Z = f(poly_features)\n",
        "        Z = Z.reshape(xx.shape)\n",
        "\n",
        "        # Plot the decision boundary\n",
        "        ax.contourf(xx, yy, Z, alpha=0.8, levels=[-1, 0, 1, 2], colors=['#FFAAAA', '#AAAAFF', '#AAFFAA'])\n",
        "        ax.scatter(X[Y == 0][:, 1], X[Y == 0][:, 2], color='red', label='Barolo', s=50)\n",
        "        ax.scatter(X[Y == 1][:, 1], X[Y == 1][:, 2], color='blue', label='Grignolino', s=50)\n",
        "        ax.scatter(X[Y == 2][:, 1], X[Y == 2][:, 2], color='green', label='Barbera', s=50)\n",
        "        ax.set_xlabel('Alcohol (normalized)')\n",
        "        ax.set_ylabel('Malic Acid (normalized)')\n",
        "        ax.set_ylim(y_min, y_max)\n",
        "        ax.set_xlim(x_min, x_max)\n",
        "        ax.set_title(title)\n",
        "        ax.legend()\n",
        "\n",
        "    epochs = 10000\n",
        "\n",
        "    if show_plot:\n",
        "        # Transform the input features to polynomial features of the selected degree\n",
        "        X_poly_train = phi_p(X_train_norm_mul[:, 1:], degree)\n",
        "        X_poly_test = phi_p(X_test_norm_mul[:, 1:], degree)\n",
        "\n",
        "        # Normalize the polynomial features\n",
        "        X_poly_mean = X_poly_train.mean(axis=0)\n",
        "        X_poly_std = X_poly_train.std(axis=0) + 1e-8\n",
        "        X_poly_train = (X_poly_train - X_poly_mean) / X_poly_std\n",
        "        X_poly_test = (X_poly_test - X_poly_mean) / X_poly_std\n",
        "\n",
        "        # Append a column of 1s to the features for the bias term\n",
        "        X_poly_train = np.hstack([np.ones((X_poly_train.shape[0], 1)), X_poly_train])\n",
        "        X_poly_test = np.hstack([np.ones((X_poly_test.shape[0], 1)), X_poly_test])\n",
        "\n",
        "        # Train the model using polynomial features\n",
        "        predictor_poly, w_poly = multiclass_classification_learner(X_poly_train, Y_train_mul, step_size=0.1, epochs=epochs, random_seed=random_seed)\n",
        "\n",
        "        fig, axes = plt.subplots(1, 2, figsize=(15, 6))\n",
        "\n",
        "        # Plot the decision boundary on the training set\n",
        "        plot_multiclass_decision_boundary_poly(X_poly_train, Y_train_mul, predictor_poly, degree, f'Training Set (Polynomial Degree {degree})', X_poly_mean, X_poly_std, axes[0])\n",
        "\n",
        "        # Plot the decision boundary on the test set\n",
        "        plot_multiclass_decision_boundary_poly(X_poly_test, Y_test_mul, predictor_poly, degree, f'Test Set (Polynomial Degree {degree})', X_poly_mean, X_poly_std, axes[1])\n",
        "\n",
        "        plt.show()\n",
        "    else:\n",
        "        clear_output()\n",
        "\n",
        "# Create a checkbox widget\n",
        "show_plot_checkbox_db_multi_poly = widgets.Checkbox(value=False, description='Show Plot')\n",
        "\n",
        "# Create a slider widget for selecting the polynomial degree\n",
        "degree_slider_db_multi_poly = widgets.IntSlider(value=1, min=1, max=10, step=0.5, description='Degree')\n",
        "\n",
        "# Use interactive_output to link the function with the checkbox and slider\n",
        "interactive_plot_db_multi_poly = interactive_output(plot_db_multi_poly, {'show_plot': show_plot_checkbox_db_multi_poly, 'degree': degree_slider_db_multi_poly})\n",
        "\n",
        "# Display the checkbox, slider, and the plot\n",
        "display(show_plot_checkbox_db_multi_poly, degree_slider_db_multi_poly, interactive_plot_db_multi_poly)"
      ]
    },
    {
      "cell_type": "markdown",
      "metadata": {
        "id": "g88kU2VGn0Pj"
      },
      "source": [
        "To select the best predictor we should plot the estimated zero-one loss on the test set as a function of the polynomial degree $p$.\n",
        "The value of $p$ with the lowest zero-one loss on the test set is the best predictor.\n",
        "\n",
        "In the plot below you should see that values of $p=7, 8$ have the lowest estimated zero-one loss on the test set."
      ]
    },
    {
      "cell_type": "code",
      "execution_count": null,
      "metadata": {
        "cellView": "form",
        "id": "q5u29twnn0Pj",
        "colab": {
          "base_uri": "https://localhost:8080/",
          "height": 49,
          "referenced_widgets": [
            "b4a61c634472464eb59bc68df4b50ff3",
            "12a8dac914564895987aa2c911b0da68",
            "5d0be183364a452e9114b0497b2eb25a",
            "38d683b658344863b71eaef522394b56",
            "027caed7c9864d43906ec5578a21e583"
          ]
        },
        "outputId": "7a96cb06-6ea7-46b2-8945-9e725b842e1b"
      },
      "outputs": [
        {
          "output_type": "display_data",
          "data": {
            "text/plain": [
              "Checkbox(value=False, description='Show Plot')"
            ],
            "application/vnd.jupyter.widget-view+json": {
              "version_major": 2,
              "version_minor": 0,
              "model_id": "b4a61c634472464eb59bc68df4b50ff3"
            }
          },
          "metadata": {
            "application/vnd.jupyter.widget-view+json": {
              "colab": {
                "custom_widget_manager": {
                  "url": "https://ssl.gstatic.com/colaboratory-static/widgets/colab-cdn-widget-manager/2b70e893a8ba7c0f/manager.min.js"
                }
              }
            }
          }
        },
        {
          "output_type": "display_data",
          "data": {
            "text/plain": [
              "Output()"
            ],
            "application/vnd.jupyter.widget-view+json": {
              "version_major": 2,
              "version_minor": 0,
              "model_id": "38d683b658344863b71eaef522394b56"
            }
          },
          "metadata": {
            "application/vnd.jupyter.widget-view+json": {
              "colab": {
                "custom_widget_manager": {
                  "url": "https://ssl.gstatic.com/colaboratory-static/widgets/colab-cdn-widget-manager/2b70e893a8ba7c0f/manager.min.js"
                }
              }
            }
          }
        }
      ],
      "source": [
        "# @title Plot\n",
        "\n",
        "# Function to show/hide the plot\n",
        "def plot_loss_vs_deg_multi(show_plot):\n",
        "    epochs = 10000\n",
        "    # Define the range of polynomial degrees\n",
        "    degrees = range(1, 11)\n",
        "\n",
        "    # Initialize lists to store the loss values\n",
        "    train_zero_one_loss_values_by_degree = []\n",
        "    test_zero_one_loss_values_by_degree = []\n",
        "\n",
        "    # Train the model and compute the loss for each polynomial degree\n",
        "    for degree in degrees:\n",
        "        # Transform the input features to polynomial features of the selected degree\n",
        "        X_poly_train = phi_p(X_train_norm_mul[:, 1:], degree)\n",
        "        X_poly_test = phi_p(X_test_norm_mul[:, 1:], degree)\n",
        "\n",
        "        # Normalize the polynomial features\n",
        "        X_poly_mean = X_poly_train.mean(axis=0)\n",
        "        X_poly_std = X_poly_train.std(axis=0) + 1e-8\n",
        "        X_poly_train = (X_poly_train - X_poly_mean) / X_poly_std\n",
        "        X_poly_test = (X_poly_test - X_poly_mean) / X_poly_std\n",
        "\n",
        "        # Append a column of 1s to the features for the bias term\n",
        "        X_poly_train = np.hstack([np.ones((X_poly_train.shape[0], 1)), X_poly_train])\n",
        "        X_poly_test = np.hstack([np.ones((X_poly_test.shape[0], 1)), X_poly_test])\n",
        "\n",
        "        # Train the model using polynomial features\n",
        "        predictor_poly, w_poly = multiclass_classification_learner(X_poly_train, Y_train_mul, step_size=0.1, epochs=epochs, random_seed=random_seed)\n",
        "\n",
        "        # Compute the train and test 0-1 loss\n",
        "        train_zero_one_loss_value = estimated_loss(predictor_poly, X_poly_train, Y_train_mul, zero_one_loss)\n",
        "        test_zero_one_loss_value = estimated_loss(predictor_poly, X_poly_test, Y_test_mul, zero_one_loss)\n",
        "\n",
        "        # Store the loss values\n",
        "        train_zero_one_loss_values_by_degree.append(train_zero_one_loss_value)\n",
        "        test_zero_one_loss_values_by_degree.append(test_zero_one_loss_value)\n",
        "\n",
        "    if show_plot:\n",
        "        plt.figure(figsize=(10, 6))\n",
        "        plt.plot(degrees, train_zero_one_loss_values_by_degree, label='Train Zero-One Loss', linewidth=3)\n",
        "        plt.plot(degrees, test_zero_one_loss_values_by_degree, label='Test Zero-One Loss', linewidth=3)\n",
        "        plt.xlabel('Polynomial Degree')\n",
        "        plt.legend()\n",
        "        plt.grid(True)\n",
        "        plt.show()\n",
        "    else:\n",
        "        clear_output()\n",
        "\n",
        "# Create a checkbox widget\n",
        "show_plot_checkbox_loss_vs_deg_multi = widgets.Checkbox(value=False, description='Show Plot')\n",
        "\n",
        "# Use interactive_output to link the function with the checkbox\n",
        "interactive_plot_loss_vs_deg_multi = interactive_output(plot_loss_vs_deg_multi, {'show_plot': show_plot_checkbox_loss_vs_deg_multi})\n",
        "\n",
        "# Display the checkbox and the plot\n",
        "display(show_plot_checkbox_loss_vs_deg_multi, interactive_plot_loss_vs_deg_multi)"
      ]
    },
    {
      "cell_type": "markdown",
      "metadata": {
        "id": "jU98ZL_sn0Pj"
      },
      "source": [
        "# The End :)"
      ]
    },
    {
      "cell_type": "markdown",
      "metadata": {
        "id": "pVyw1kbZn0Pj"
      },
      "source": [
        "---\n",
        "\n",
        "To double-check your work, the cell below will rerun all of the autograder tests."
      ]
    },
    {
      "cell_type": "code",
      "execution_count": null,
      "metadata": {
        "id": "gbXEFUIEn0Pj",
        "colab": {
          "base_uri": "https://localhost:8080/"
        },
        "outputId": "2c2af004-4228-4076-ff30-d217da5c7427"
      },
      "outputs": [
        {
          "output_type": "execute_result",
          "data": {
            "text/plain": [
              "q2_1 results: All test cases passed!\n",
              "\n",
              "q2_2 results: All test cases passed!\n",
              "\n",
              "q2_3 results: All test cases passed!\n",
              "\n",
              "q2_4 results: All test cases passed!\n",
              "\n",
              "q2_5 results: All test cases passed!\n",
              "\n",
              "q3_1 results: All test cases passed!\n",
              "\n",
              "q3_2 results: All test cases passed!\n",
              "\n",
              "q3_3 results: All test cases passed!"
            ]
          },
          "metadata": {},
          "execution_count": 156
        }
      ],
      "source": [
        "grader.check_all()"
      ]
    }
  ],
  "metadata": {
    "colab": {
      "provenance": [],
      "include_colab_link": true
    },
    "kernelspec": {
      "display_name": "ml1",
      "language": "python",
      "name": "python3"
    },
    "language_info": {
      "codemirror_mode": {
        "name": "ipython",
        "version": 3
      },
      "file_extension": ".py",
      "mimetype": "text/x-python",
      "name": "python",
      "nbconvert_exporter": "python",
      "pygments_lexer": "ipython3",
      "version": "3.12.7"
    },
    "widgets": {
      "application/vnd.jupyter.widget-state+json": {
        "c3dc9aa7ff0940f49617cbefef3f4588": {
          "model_module": "@jupyter-widgets/controls",
          "model_name": "CheckboxModel",
          "model_module_version": "1.5.0",
          "state": {
            "_dom_classes": [],
            "_model_module": "@jupyter-widgets/controls",
            "_model_module_version": "1.5.0",
            "_model_name": "CheckboxModel",
            "_view_count": null,
            "_view_module": "@jupyter-widgets/controls",
            "_view_module_version": "1.5.0",
            "_view_name": "CheckboxView",
            "description": "Show Plot",
            "description_tooltip": null,
            "disabled": false,
            "indent": true,
            "layout": "IPY_MODEL_d902b1abe12c4ae284b888291e607ee8",
            "style": "IPY_MODEL_8ace206468b748bdb335d571d27e6e26",
            "value": false
          }
        },
        "d902b1abe12c4ae284b888291e607ee8": {
          "model_module": "@jupyter-widgets/base",
          "model_name": "LayoutModel",
          "model_module_version": "1.2.0",
          "state": {
            "_model_module": "@jupyter-widgets/base",
            "_model_module_version": "1.2.0",
            "_model_name": "LayoutModel",
            "_view_count": null,
            "_view_module": "@jupyter-widgets/base",
            "_view_module_version": "1.2.0",
            "_view_name": "LayoutView",
            "align_content": null,
            "align_items": null,
            "align_self": null,
            "border": null,
            "bottom": null,
            "display": null,
            "flex": null,
            "flex_flow": null,
            "grid_area": null,
            "grid_auto_columns": null,
            "grid_auto_flow": null,
            "grid_auto_rows": null,
            "grid_column": null,
            "grid_gap": null,
            "grid_row": null,
            "grid_template_areas": null,
            "grid_template_columns": null,
            "grid_template_rows": null,
            "height": null,
            "justify_content": null,
            "justify_items": null,
            "left": null,
            "margin": null,
            "max_height": null,
            "max_width": null,
            "min_height": null,
            "min_width": null,
            "object_fit": null,
            "object_position": null,
            "order": null,
            "overflow": null,
            "overflow_x": null,
            "overflow_y": null,
            "padding": null,
            "right": null,
            "top": null,
            "visibility": null,
            "width": null
          }
        },
        "8ace206468b748bdb335d571d27e6e26": {
          "model_module": "@jupyter-widgets/controls",
          "model_name": "DescriptionStyleModel",
          "model_module_version": "1.5.0",
          "state": {
            "_model_module": "@jupyter-widgets/controls",
            "_model_module_version": "1.5.0",
            "_model_name": "DescriptionStyleModel",
            "_view_count": null,
            "_view_module": "@jupyter-widgets/base",
            "_view_module_version": "1.2.0",
            "_view_name": "StyleView",
            "description_width": ""
          }
        },
        "f3d15792068546a48ad06f866e40009e": {
          "model_module": "@jupyter-widgets/output",
          "model_name": "OutputModel",
          "model_module_version": "1.0.0",
          "state": {
            "_dom_classes": [],
            "_model_module": "@jupyter-widgets/output",
            "_model_module_version": "1.0.0",
            "_model_name": "OutputModel",
            "_view_count": null,
            "_view_module": "@jupyter-widgets/output",
            "_view_module_version": "1.0.0",
            "_view_name": "OutputView",
            "layout": "IPY_MODEL_b5f6f9528bf84960aacfd355a5eb49cf",
            "msg_id": "",
            "outputs": []
          }
        },
        "b5f6f9528bf84960aacfd355a5eb49cf": {
          "model_module": "@jupyter-widgets/base",
          "model_name": "LayoutModel",
          "model_module_version": "1.2.0",
          "state": {
            "_model_module": "@jupyter-widgets/base",
            "_model_module_version": "1.2.0",
            "_model_name": "LayoutModel",
            "_view_count": null,
            "_view_module": "@jupyter-widgets/base",
            "_view_module_version": "1.2.0",
            "_view_name": "LayoutView",
            "align_content": null,
            "align_items": null,
            "align_self": null,
            "border": null,
            "bottom": null,
            "display": null,
            "flex": null,
            "flex_flow": null,
            "grid_area": null,
            "grid_auto_columns": null,
            "grid_auto_flow": null,
            "grid_auto_rows": null,
            "grid_column": null,
            "grid_gap": null,
            "grid_row": null,
            "grid_template_areas": null,
            "grid_template_columns": null,
            "grid_template_rows": null,
            "height": null,
            "justify_content": null,
            "justify_items": null,
            "left": null,
            "margin": null,
            "max_height": null,
            "max_width": null,
            "min_height": null,
            "min_width": null,
            "object_fit": null,
            "object_position": null,
            "order": null,
            "overflow": null,
            "overflow_x": null,
            "overflow_y": null,
            "padding": null,
            "right": null,
            "top": null,
            "visibility": null,
            "width": null
          }
        },
        "6a083dafa7664460a67daede2702c549": {
          "model_module": "@jupyter-widgets/controls",
          "model_name": "CheckboxModel",
          "model_module_version": "1.5.0",
          "state": {
            "_dom_classes": [],
            "_model_module": "@jupyter-widgets/controls",
            "_model_module_version": "1.5.0",
            "_model_name": "CheckboxModel",
            "_view_count": null,
            "_view_module": "@jupyter-widgets/controls",
            "_view_module_version": "1.5.0",
            "_view_name": "CheckboxView",
            "description": "Show Plot",
            "description_tooltip": null,
            "disabled": false,
            "indent": true,
            "layout": "IPY_MODEL_44cb20c93534413db17c5acdd51370e8",
            "style": "IPY_MODEL_5239dc4ecb174208b06c34ef2d7b6655",
            "value": false
          }
        },
        "44cb20c93534413db17c5acdd51370e8": {
          "model_module": "@jupyter-widgets/base",
          "model_name": "LayoutModel",
          "model_module_version": "1.2.0",
          "state": {
            "_model_module": "@jupyter-widgets/base",
            "_model_module_version": "1.2.0",
            "_model_name": "LayoutModel",
            "_view_count": null,
            "_view_module": "@jupyter-widgets/base",
            "_view_module_version": "1.2.0",
            "_view_name": "LayoutView",
            "align_content": null,
            "align_items": null,
            "align_self": null,
            "border": null,
            "bottom": null,
            "display": null,
            "flex": null,
            "flex_flow": null,
            "grid_area": null,
            "grid_auto_columns": null,
            "grid_auto_flow": null,
            "grid_auto_rows": null,
            "grid_column": null,
            "grid_gap": null,
            "grid_row": null,
            "grid_template_areas": null,
            "grid_template_columns": null,
            "grid_template_rows": null,
            "height": null,
            "justify_content": null,
            "justify_items": null,
            "left": null,
            "margin": null,
            "max_height": null,
            "max_width": null,
            "min_height": null,
            "min_width": null,
            "object_fit": null,
            "object_position": null,
            "order": null,
            "overflow": null,
            "overflow_x": null,
            "overflow_y": null,
            "padding": null,
            "right": null,
            "top": null,
            "visibility": null,
            "width": null
          }
        },
        "5239dc4ecb174208b06c34ef2d7b6655": {
          "model_module": "@jupyter-widgets/controls",
          "model_name": "DescriptionStyleModel",
          "model_module_version": "1.5.0",
          "state": {
            "_model_module": "@jupyter-widgets/controls",
            "_model_module_version": "1.5.0",
            "_model_name": "DescriptionStyleModel",
            "_view_count": null,
            "_view_module": "@jupyter-widgets/base",
            "_view_module_version": "1.2.0",
            "_view_name": "StyleView",
            "description_width": ""
          }
        },
        "9c1ca5a65a4348728735091baf77a96d": {
          "model_module": "@jupyter-widgets/output",
          "model_name": "OutputModel",
          "model_module_version": "1.0.0",
          "state": {
            "_dom_classes": [],
            "_model_module": "@jupyter-widgets/output",
            "_model_module_version": "1.0.0",
            "_model_name": "OutputModel",
            "_view_count": null,
            "_view_module": "@jupyter-widgets/output",
            "_view_module_version": "1.0.0",
            "_view_name": "OutputView",
            "layout": "IPY_MODEL_b7fa396d287847bbaa2664459fd9eff4",
            "msg_id": "",
            "outputs": []
          }
        },
        "b7fa396d287847bbaa2664459fd9eff4": {
          "model_module": "@jupyter-widgets/base",
          "model_name": "LayoutModel",
          "model_module_version": "1.2.0",
          "state": {
            "_model_module": "@jupyter-widgets/base",
            "_model_module_version": "1.2.0",
            "_model_name": "LayoutModel",
            "_view_count": null,
            "_view_module": "@jupyter-widgets/base",
            "_view_module_version": "1.2.0",
            "_view_name": "LayoutView",
            "align_content": null,
            "align_items": null,
            "align_self": null,
            "border": null,
            "bottom": null,
            "display": null,
            "flex": null,
            "flex_flow": null,
            "grid_area": null,
            "grid_auto_columns": null,
            "grid_auto_flow": null,
            "grid_auto_rows": null,
            "grid_column": null,
            "grid_gap": null,
            "grid_row": null,
            "grid_template_areas": null,
            "grid_template_columns": null,
            "grid_template_rows": null,
            "height": null,
            "justify_content": null,
            "justify_items": null,
            "left": null,
            "margin": null,
            "max_height": null,
            "max_width": null,
            "min_height": null,
            "min_width": null,
            "object_fit": null,
            "object_position": null,
            "order": null,
            "overflow": null,
            "overflow_x": null,
            "overflow_y": null,
            "padding": null,
            "right": null,
            "top": null,
            "visibility": null,
            "width": null
          }
        },
        "9d649ad9779640488e87bde12b1e257c": {
          "model_module": "@jupyter-widgets/controls",
          "model_name": "CheckboxModel",
          "model_module_version": "1.5.0",
          "state": {
            "_dom_classes": [],
            "_model_module": "@jupyter-widgets/controls",
            "_model_module_version": "1.5.0",
            "_model_name": "CheckboxModel",
            "_view_count": null,
            "_view_module": "@jupyter-widgets/controls",
            "_view_module_version": "1.5.0",
            "_view_name": "CheckboxView",
            "description": "Show Plot",
            "description_tooltip": null,
            "disabled": false,
            "indent": true,
            "layout": "IPY_MODEL_9abe4fa518ba4324af1ef40463b06573",
            "style": "IPY_MODEL_7d0e914f467249a4beee5e155377e2d2",
            "value": false
          }
        },
        "9abe4fa518ba4324af1ef40463b06573": {
          "model_module": "@jupyter-widgets/base",
          "model_name": "LayoutModel",
          "model_module_version": "1.2.0",
          "state": {
            "_model_module": "@jupyter-widgets/base",
            "_model_module_version": "1.2.0",
            "_model_name": "LayoutModel",
            "_view_count": null,
            "_view_module": "@jupyter-widgets/base",
            "_view_module_version": "1.2.0",
            "_view_name": "LayoutView",
            "align_content": null,
            "align_items": null,
            "align_self": null,
            "border": null,
            "bottom": null,
            "display": null,
            "flex": null,
            "flex_flow": null,
            "grid_area": null,
            "grid_auto_columns": null,
            "grid_auto_flow": null,
            "grid_auto_rows": null,
            "grid_column": null,
            "grid_gap": null,
            "grid_row": null,
            "grid_template_areas": null,
            "grid_template_columns": null,
            "grid_template_rows": null,
            "height": null,
            "justify_content": null,
            "justify_items": null,
            "left": null,
            "margin": null,
            "max_height": null,
            "max_width": null,
            "min_height": null,
            "min_width": null,
            "object_fit": null,
            "object_position": null,
            "order": null,
            "overflow": null,
            "overflow_x": null,
            "overflow_y": null,
            "padding": null,
            "right": null,
            "top": null,
            "visibility": null,
            "width": null
          }
        },
        "7d0e914f467249a4beee5e155377e2d2": {
          "model_module": "@jupyter-widgets/controls",
          "model_name": "DescriptionStyleModel",
          "model_module_version": "1.5.0",
          "state": {
            "_model_module": "@jupyter-widgets/controls",
            "_model_module_version": "1.5.0",
            "_model_name": "DescriptionStyleModel",
            "_view_count": null,
            "_view_module": "@jupyter-widgets/base",
            "_view_module_version": "1.2.0",
            "_view_name": "StyleView",
            "description_width": ""
          }
        },
        "93461ecc71a84b999190637f5c2af7d1": {
          "model_module": "@jupyter-widgets/output",
          "model_name": "OutputModel",
          "model_module_version": "1.0.0",
          "state": {
            "_dom_classes": [],
            "_model_module": "@jupyter-widgets/output",
            "_model_module_version": "1.0.0",
            "_model_name": "OutputModel",
            "_view_count": null,
            "_view_module": "@jupyter-widgets/output",
            "_view_module_version": "1.0.0",
            "_view_name": "OutputView",
            "layout": "IPY_MODEL_5cc960e5a4894b2e87e20af792eea3fc",
            "msg_id": "",
            "outputs": []
          }
        },
        "5cc960e5a4894b2e87e20af792eea3fc": {
          "model_module": "@jupyter-widgets/base",
          "model_name": "LayoutModel",
          "model_module_version": "1.2.0",
          "state": {
            "_model_module": "@jupyter-widgets/base",
            "_model_module_version": "1.2.0",
            "_model_name": "LayoutModel",
            "_view_count": null,
            "_view_module": "@jupyter-widgets/base",
            "_view_module_version": "1.2.0",
            "_view_name": "LayoutView",
            "align_content": null,
            "align_items": null,
            "align_self": null,
            "border": null,
            "bottom": null,
            "display": null,
            "flex": null,
            "flex_flow": null,
            "grid_area": null,
            "grid_auto_columns": null,
            "grid_auto_flow": null,
            "grid_auto_rows": null,
            "grid_column": null,
            "grid_gap": null,
            "grid_row": null,
            "grid_template_areas": null,
            "grid_template_columns": null,
            "grid_template_rows": null,
            "height": null,
            "justify_content": null,
            "justify_items": null,
            "left": null,
            "margin": null,
            "max_height": null,
            "max_width": null,
            "min_height": null,
            "min_width": null,
            "object_fit": null,
            "object_position": null,
            "order": null,
            "overflow": null,
            "overflow_x": null,
            "overflow_y": null,
            "padding": null,
            "right": null,
            "top": null,
            "visibility": null,
            "width": null
          }
        },
        "ece33a6efd764c19b09bc171b7c75b0e": {
          "model_module": "@jupyter-widgets/controls",
          "model_name": "CheckboxModel",
          "model_module_version": "1.5.0",
          "state": {
            "_dom_classes": [],
            "_model_module": "@jupyter-widgets/controls",
            "_model_module_version": "1.5.0",
            "_model_name": "CheckboxModel",
            "_view_count": null,
            "_view_module": "@jupyter-widgets/controls",
            "_view_module_version": "1.5.0",
            "_view_name": "CheckboxView",
            "description": "Show Plot",
            "description_tooltip": null,
            "disabled": false,
            "indent": true,
            "layout": "IPY_MODEL_8247030982974daa9e6f534c88e685a0",
            "style": "IPY_MODEL_2b6135701e594eb28b0e070965f5da68",
            "value": false
          }
        },
        "8247030982974daa9e6f534c88e685a0": {
          "model_module": "@jupyter-widgets/base",
          "model_name": "LayoutModel",
          "model_module_version": "1.2.0",
          "state": {
            "_model_module": "@jupyter-widgets/base",
            "_model_module_version": "1.2.0",
            "_model_name": "LayoutModel",
            "_view_count": null,
            "_view_module": "@jupyter-widgets/base",
            "_view_module_version": "1.2.0",
            "_view_name": "LayoutView",
            "align_content": null,
            "align_items": null,
            "align_self": null,
            "border": null,
            "bottom": null,
            "display": null,
            "flex": null,
            "flex_flow": null,
            "grid_area": null,
            "grid_auto_columns": null,
            "grid_auto_flow": null,
            "grid_auto_rows": null,
            "grid_column": null,
            "grid_gap": null,
            "grid_row": null,
            "grid_template_areas": null,
            "grid_template_columns": null,
            "grid_template_rows": null,
            "height": null,
            "justify_content": null,
            "justify_items": null,
            "left": null,
            "margin": null,
            "max_height": null,
            "max_width": null,
            "min_height": null,
            "min_width": null,
            "object_fit": null,
            "object_position": null,
            "order": null,
            "overflow": null,
            "overflow_x": null,
            "overflow_y": null,
            "padding": null,
            "right": null,
            "top": null,
            "visibility": null,
            "width": null
          }
        },
        "2b6135701e594eb28b0e070965f5da68": {
          "model_module": "@jupyter-widgets/controls",
          "model_name": "DescriptionStyleModel",
          "model_module_version": "1.5.0",
          "state": {
            "_model_module": "@jupyter-widgets/controls",
            "_model_module_version": "1.5.0",
            "_model_name": "DescriptionStyleModel",
            "_view_count": null,
            "_view_module": "@jupyter-widgets/base",
            "_view_module_version": "1.2.0",
            "_view_name": "StyleView",
            "description_width": ""
          }
        },
        "e1fb56b23c874c90afb0dfd57414b5c4": {
          "model_module": "@jupyter-widgets/output",
          "model_name": "OutputModel",
          "model_module_version": "1.0.0",
          "state": {
            "_dom_classes": [],
            "_model_module": "@jupyter-widgets/output",
            "_model_module_version": "1.0.0",
            "_model_name": "OutputModel",
            "_view_count": null,
            "_view_module": "@jupyter-widgets/output",
            "_view_module_version": "1.0.0",
            "_view_name": "OutputView",
            "layout": "IPY_MODEL_b96b217e8d8b4894b94ce1fa54c21cbd",
            "msg_id": "",
            "outputs": []
          }
        },
        "b96b217e8d8b4894b94ce1fa54c21cbd": {
          "model_module": "@jupyter-widgets/base",
          "model_name": "LayoutModel",
          "model_module_version": "1.2.0",
          "state": {
            "_model_module": "@jupyter-widgets/base",
            "_model_module_version": "1.2.0",
            "_model_name": "LayoutModel",
            "_view_count": null,
            "_view_module": "@jupyter-widgets/base",
            "_view_module_version": "1.2.0",
            "_view_name": "LayoutView",
            "align_content": null,
            "align_items": null,
            "align_self": null,
            "border": null,
            "bottom": null,
            "display": null,
            "flex": null,
            "flex_flow": null,
            "grid_area": null,
            "grid_auto_columns": null,
            "grid_auto_flow": null,
            "grid_auto_rows": null,
            "grid_column": null,
            "grid_gap": null,
            "grid_row": null,
            "grid_template_areas": null,
            "grid_template_columns": null,
            "grid_template_rows": null,
            "height": null,
            "justify_content": null,
            "justify_items": null,
            "left": null,
            "margin": null,
            "max_height": null,
            "max_width": null,
            "min_height": null,
            "min_width": null,
            "object_fit": null,
            "object_position": null,
            "order": null,
            "overflow": null,
            "overflow_x": null,
            "overflow_y": null,
            "padding": null,
            "right": null,
            "top": null,
            "visibility": null,
            "width": null
          }
        },
        "d26b7bc4c0e14363b49de44a98fc3b5b": {
          "model_module": "@jupyter-widgets/controls",
          "model_name": "CheckboxModel",
          "model_module_version": "1.5.0",
          "state": {
            "_dom_classes": [],
            "_model_module": "@jupyter-widgets/controls",
            "_model_module_version": "1.5.0",
            "_model_name": "CheckboxModel",
            "_view_count": null,
            "_view_module": "@jupyter-widgets/controls",
            "_view_module_version": "1.5.0",
            "_view_name": "CheckboxView",
            "description": "Show Plot",
            "description_tooltip": null,
            "disabled": false,
            "indent": true,
            "layout": "IPY_MODEL_941d2dbba8144f95a94ab5c27bee4e10",
            "style": "IPY_MODEL_10f4db1e41a84e95931e7cc3b7358365",
            "value": false
          }
        },
        "941d2dbba8144f95a94ab5c27bee4e10": {
          "model_module": "@jupyter-widgets/base",
          "model_name": "LayoutModel",
          "model_module_version": "1.2.0",
          "state": {
            "_model_module": "@jupyter-widgets/base",
            "_model_module_version": "1.2.0",
            "_model_name": "LayoutModel",
            "_view_count": null,
            "_view_module": "@jupyter-widgets/base",
            "_view_module_version": "1.2.0",
            "_view_name": "LayoutView",
            "align_content": null,
            "align_items": null,
            "align_self": null,
            "border": null,
            "bottom": null,
            "display": null,
            "flex": null,
            "flex_flow": null,
            "grid_area": null,
            "grid_auto_columns": null,
            "grid_auto_flow": null,
            "grid_auto_rows": null,
            "grid_column": null,
            "grid_gap": null,
            "grid_row": null,
            "grid_template_areas": null,
            "grid_template_columns": null,
            "grid_template_rows": null,
            "height": null,
            "justify_content": null,
            "justify_items": null,
            "left": null,
            "margin": null,
            "max_height": null,
            "max_width": null,
            "min_height": null,
            "min_width": null,
            "object_fit": null,
            "object_position": null,
            "order": null,
            "overflow": null,
            "overflow_x": null,
            "overflow_y": null,
            "padding": null,
            "right": null,
            "top": null,
            "visibility": null,
            "width": null
          }
        },
        "10f4db1e41a84e95931e7cc3b7358365": {
          "model_module": "@jupyter-widgets/controls",
          "model_name": "DescriptionStyleModel",
          "model_module_version": "1.5.0",
          "state": {
            "_model_module": "@jupyter-widgets/controls",
            "_model_module_version": "1.5.0",
            "_model_name": "DescriptionStyleModel",
            "_view_count": null,
            "_view_module": "@jupyter-widgets/base",
            "_view_module_version": "1.2.0",
            "_view_name": "StyleView",
            "description_width": ""
          }
        },
        "9363950a7a934625b9faed4b7ccc0809": {
          "model_module": "@jupyter-widgets/output",
          "model_name": "OutputModel",
          "model_module_version": "1.0.0",
          "state": {
            "_dom_classes": [],
            "_model_module": "@jupyter-widgets/output",
            "_model_module_version": "1.0.0",
            "_model_name": "OutputModel",
            "_view_count": null,
            "_view_module": "@jupyter-widgets/output",
            "_view_module_version": "1.0.0",
            "_view_name": "OutputView",
            "layout": "IPY_MODEL_0351ff8b849f4bbf8f04749834776b6d",
            "msg_id": "",
            "outputs": []
          }
        },
        "0351ff8b849f4bbf8f04749834776b6d": {
          "model_module": "@jupyter-widgets/base",
          "model_name": "LayoutModel",
          "model_module_version": "1.2.0",
          "state": {
            "_model_module": "@jupyter-widgets/base",
            "_model_module_version": "1.2.0",
            "_model_name": "LayoutModel",
            "_view_count": null,
            "_view_module": "@jupyter-widgets/base",
            "_view_module_version": "1.2.0",
            "_view_name": "LayoutView",
            "align_content": null,
            "align_items": null,
            "align_self": null,
            "border": null,
            "bottom": null,
            "display": null,
            "flex": null,
            "flex_flow": null,
            "grid_area": null,
            "grid_auto_columns": null,
            "grid_auto_flow": null,
            "grid_auto_rows": null,
            "grid_column": null,
            "grid_gap": null,
            "grid_row": null,
            "grid_template_areas": null,
            "grid_template_columns": null,
            "grid_template_rows": null,
            "height": null,
            "justify_content": null,
            "justify_items": null,
            "left": null,
            "margin": null,
            "max_height": null,
            "max_width": null,
            "min_height": null,
            "min_width": null,
            "object_fit": null,
            "object_position": null,
            "order": null,
            "overflow": null,
            "overflow_x": null,
            "overflow_y": null,
            "padding": null,
            "right": null,
            "top": null,
            "visibility": null,
            "width": null
          }
        },
        "db034d2311b34eb798ad95110a35d726": {
          "model_module": "@jupyter-widgets/controls",
          "model_name": "CheckboxModel",
          "model_module_version": "1.5.0",
          "state": {
            "_dom_classes": [],
            "_model_module": "@jupyter-widgets/controls",
            "_model_module_version": "1.5.0",
            "_model_name": "CheckboxModel",
            "_view_count": null,
            "_view_module": "@jupyter-widgets/controls",
            "_view_module_version": "1.5.0",
            "_view_name": "CheckboxView",
            "description": "Show Plot",
            "description_tooltip": null,
            "disabled": false,
            "indent": true,
            "layout": "IPY_MODEL_b815cefeb06f4fd19272002ae8096b11",
            "style": "IPY_MODEL_9961777d882745ed9efc9d692079d04e",
            "value": false
          }
        },
        "b815cefeb06f4fd19272002ae8096b11": {
          "model_module": "@jupyter-widgets/base",
          "model_name": "LayoutModel",
          "model_module_version": "1.2.0",
          "state": {
            "_model_module": "@jupyter-widgets/base",
            "_model_module_version": "1.2.0",
            "_model_name": "LayoutModel",
            "_view_count": null,
            "_view_module": "@jupyter-widgets/base",
            "_view_module_version": "1.2.0",
            "_view_name": "LayoutView",
            "align_content": null,
            "align_items": null,
            "align_self": null,
            "border": null,
            "bottom": null,
            "display": null,
            "flex": null,
            "flex_flow": null,
            "grid_area": null,
            "grid_auto_columns": null,
            "grid_auto_flow": null,
            "grid_auto_rows": null,
            "grid_column": null,
            "grid_gap": null,
            "grid_row": null,
            "grid_template_areas": null,
            "grid_template_columns": null,
            "grid_template_rows": null,
            "height": null,
            "justify_content": null,
            "justify_items": null,
            "left": null,
            "margin": null,
            "max_height": null,
            "max_width": null,
            "min_height": null,
            "min_width": null,
            "object_fit": null,
            "object_position": null,
            "order": null,
            "overflow": null,
            "overflow_x": null,
            "overflow_y": null,
            "padding": null,
            "right": null,
            "top": null,
            "visibility": null,
            "width": null
          }
        },
        "9961777d882745ed9efc9d692079d04e": {
          "model_module": "@jupyter-widgets/controls",
          "model_name": "DescriptionStyleModel",
          "model_module_version": "1.5.0",
          "state": {
            "_model_module": "@jupyter-widgets/controls",
            "_model_module_version": "1.5.0",
            "_model_name": "DescriptionStyleModel",
            "_view_count": null,
            "_view_module": "@jupyter-widgets/base",
            "_view_module_version": "1.2.0",
            "_view_name": "StyleView",
            "description_width": ""
          }
        },
        "03a28a50982a4afb94174e79e8ab86f3": {
          "model_module": "@jupyter-widgets/controls",
          "model_name": "IntSliderModel",
          "model_module_version": "1.5.0",
          "state": {
            "_dom_classes": [],
            "_model_module": "@jupyter-widgets/controls",
            "_model_module_version": "1.5.0",
            "_model_name": "IntSliderModel",
            "_view_count": null,
            "_view_module": "@jupyter-widgets/controls",
            "_view_module_version": "1.5.0",
            "_view_name": "IntSliderView",
            "continuous_update": true,
            "description": "Degree",
            "description_tooltip": null,
            "disabled": false,
            "layout": "IPY_MODEL_def47e76220b464abfd462e59c5a7493",
            "max": 10,
            "min": 1,
            "orientation": "horizontal",
            "readout": true,
            "readout_format": "d",
            "step": 0,
            "style": "IPY_MODEL_7010c36bfec34132bd6f87df3f8e8cde",
            "value": 1
          }
        },
        "def47e76220b464abfd462e59c5a7493": {
          "model_module": "@jupyter-widgets/base",
          "model_name": "LayoutModel",
          "model_module_version": "1.2.0",
          "state": {
            "_model_module": "@jupyter-widgets/base",
            "_model_module_version": "1.2.0",
            "_model_name": "LayoutModel",
            "_view_count": null,
            "_view_module": "@jupyter-widgets/base",
            "_view_module_version": "1.2.0",
            "_view_name": "LayoutView",
            "align_content": null,
            "align_items": null,
            "align_self": null,
            "border": null,
            "bottom": null,
            "display": null,
            "flex": null,
            "flex_flow": null,
            "grid_area": null,
            "grid_auto_columns": null,
            "grid_auto_flow": null,
            "grid_auto_rows": null,
            "grid_column": null,
            "grid_gap": null,
            "grid_row": null,
            "grid_template_areas": null,
            "grid_template_columns": null,
            "grid_template_rows": null,
            "height": null,
            "justify_content": null,
            "justify_items": null,
            "left": null,
            "margin": null,
            "max_height": null,
            "max_width": null,
            "min_height": null,
            "min_width": null,
            "object_fit": null,
            "object_position": null,
            "order": null,
            "overflow": null,
            "overflow_x": null,
            "overflow_y": null,
            "padding": null,
            "right": null,
            "top": null,
            "visibility": null,
            "width": null
          }
        },
        "7010c36bfec34132bd6f87df3f8e8cde": {
          "model_module": "@jupyter-widgets/controls",
          "model_name": "SliderStyleModel",
          "model_module_version": "1.5.0",
          "state": {
            "_model_module": "@jupyter-widgets/controls",
            "_model_module_version": "1.5.0",
            "_model_name": "SliderStyleModel",
            "_view_count": null,
            "_view_module": "@jupyter-widgets/base",
            "_view_module_version": "1.2.0",
            "_view_name": "StyleView",
            "description_width": "",
            "handle_color": null
          }
        },
        "5d8bfb9a7a7a4b5088b50a8af13df515": {
          "model_module": "@jupyter-widgets/output",
          "model_name": "OutputModel",
          "model_module_version": "1.0.0",
          "state": {
            "_dom_classes": [],
            "_model_module": "@jupyter-widgets/output",
            "_model_module_version": "1.0.0",
            "_model_name": "OutputModel",
            "_view_count": null,
            "_view_module": "@jupyter-widgets/output",
            "_view_module_version": "1.0.0",
            "_view_name": "OutputView",
            "layout": "IPY_MODEL_15abffe9b1114dccaab93b9b2ee95a69",
            "msg_id": "",
            "outputs": []
          }
        },
        "15abffe9b1114dccaab93b9b2ee95a69": {
          "model_module": "@jupyter-widgets/base",
          "model_name": "LayoutModel",
          "model_module_version": "1.2.0",
          "state": {
            "_model_module": "@jupyter-widgets/base",
            "_model_module_version": "1.2.0",
            "_model_name": "LayoutModel",
            "_view_count": null,
            "_view_module": "@jupyter-widgets/base",
            "_view_module_version": "1.2.0",
            "_view_name": "LayoutView",
            "align_content": null,
            "align_items": null,
            "align_self": null,
            "border": null,
            "bottom": null,
            "display": null,
            "flex": null,
            "flex_flow": null,
            "grid_area": null,
            "grid_auto_columns": null,
            "grid_auto_flow": null,
            "grid_auto_rows": null,
            "grid_column": null,
            "grid_gap": null,
            "grid_row": null,
            "grid_template_areas": null,
            "grid_template_columns": null,
            "grid_template_rows": null,
            "height": null,
            "justify_content": null,
            "justify_items": null,
            "left": null,
            "margin": null,
            "max_height": null,
            "max_width": null,
            "min_height": null,
            "min_width": null,
            "object_fit": null,
            "object_position": null,
            "order": null,
            "overflow": null,
            "overflow_x": null,
            "overflow_y": null,
            "padding": null,
            "right": null,
            "top": null,
            "visibility": null,
            "width": null
          }
        },
        "28c35759f777442eab09a4dd23c4361f": {
          "model_module": "@jupyter-widgets/controls",
          "model_name": "CheckboxModel",
          "model_module_version": "1.5.0",
          "state": {
            "_dom_classes": [],
            "_model_module": "@jupyter-widgets/controls",
            "_model_module_version": "1.5.0",
            "_model_name": "CheckboxModel",
            "_view_count": null,
            "_view_module": "@jupyter-widgets/controls",
            "_view_module_version": "1.5.0",
            "_view_name": "CheckboxView",
            "description": "Show Plot",
            "description_tooltip": null,
            "disabled": false,
            "indent": true,
            "layout": "IPY_MODEL_d2b6541c5b3448a9bc5e292e47376a2e",
            "style": "IPY_MODEL_c4c50aa660eb429090f6f07c9bbe0a3d",
            "value": false
          }
        },
        "d2b6541c5b3448a9bc5e292e47376a2e": {
          "model_module": "@jupyter-widgets/base",
          "model_name": "LayoutModel",
          "model_module_version": "1.2.0",
          "state": {
            "_model_module": "@jupyter-widgets/base",
            "_model_module_version": "1.2.0",
            "_model_name": "LayoutModel",
            "_view_count": null,
            "_view_module": "@jupyter-widgets/base",
            "_view_module_version": "1.2.0",
            "_view_name": "LayoutView",
            "align_content": null,
            "align_items": null,
            "align_self": null,
            "border": null,
            "bottom": null,
            "display": null,
            "flex": null,
            "flex_flow": null,
            "grid_area": null,
            "grid_auto_columns": null,
            "grid_auto_flow": null,
            "grid_auto_rows": null,
            "grid_column": null,
            "grid_gap": null,
            "grid_row": null,
            "grid_template_areas": null,
            "grid_template_columns": null,
            "grid_template_rows": null,
            "height": null,
            "justify_content": null,
            "justify_items": null,
            "left": null,
            "margin": null,
            "max_height": null,
            "max_width": null,
            "min_height": null,
            "min_width": null,
            "object_fit": null,
            "object_position": null,
            "order": null,
            "overflow": null,
            "overflow_x": null,
            "overflow_y": null,
            "padding": null,
            "right": null,
            "top": null,
            "visibility": null,
            "width": null
          }
        },
        "c4c50aa660eb429090f6f07c9bbe0a3d": {
          "model_module": "@jupyter-widgets/controls",
          "model_name": "DescriptionStyleModel",
          "model_module_version": "1.5.0",
          "state": {
            "_model_module": "@jupyter-widgets/controls",
            "_model_module_version": "1.5.0",
            "_model_name": "DescriptionStyleModel",
            "_view_count": null,
            "_view_module": "@jupyter-widgets/base",
            "_view_module_version": "1.2.0",
            "_view_name": "StyleView",
            "description_width": ""
          }
        },
        "061493ba2d3046a7b53db2846bffc06f": {
          "model_module": "@jupyter-widgets/output",
          "model_name": "OutputModel",
          "model_module_version": "1.0.0",
          "state": {
            "_dom_classes": [],
            "_model_module": "@jupyter-widgets/output",
            "_model_module_version": "1.0.0",
            "_model_name": "OutputModel",
            "_view_count": null,
            "_view_module": "@jupyter-widgets/output",
            "_view_module_version": "1.0.0",
            "_view_name": "OutputView",
            "layout": "IPY_MODEL_d25a3bab809c413a824e5c8719f43244",
            "msg_id": "",
            "outputs": []
          }
        },
        "d25a3bab809c413a824e5c8719f43244": {
          "model_module": "@jupyter-widgets/base",
          "model_name": "LayoutModel",
          "model_module_version": "1.2.0",
          "state": {
            "_model_module": "@jupyter-widgets/base",
            "_model_module_version": "1.2.0",
            "_model_name": "LayoutModel",
            "_view_count": null,
            "_view_module": "@jupyter-widgets/base",
            "_view_module_version": "1.2.0",
            "_view_name": "LayoutView",
            "align_content": null,
            "align_items": null,
            "align_self": null,
            "border": null,
            "bottom": null,
            "display": null,
            "flex": null,
            "flex_flow": null,
            "grid_area": null,
            "grid_auto_columns": null,
            "grid_auto_flow": null,
            "grid_auto_rows": null,
            "grid_column": null,
            "grid_gap": null,
            "grid_row": null,
            "grid_template_areas": null,
            "grid_template_columns": null,
            "grid_template_rows": null,
            "height": null,
            "justify_content": null,
            "justify_items": null,
            "left": null,
            "margin": null,
            "max_height": null,
            "max_width": null,
            "min_height": null,
            "min_width": null,
            "object_fit": null,
            "object_position": null,
            "order": null,
            "overflow": null,
            "overflow_x": null,
            "overflow_y": null,
            "padding": null,
            "right": null,
            "top": null,
            "visibility": null,
            "width": null
          }
        },
        "9934477575d54655a3adadcc3c0a1bcd": {
          "model_module": "@jupyter-widgets/controls",
          "model_name": "CheckboxModel",
          "model_module_version": "1.5.0",
          "state": {
            "_dom_classes": [],
            "_model_module": "@jupyter-widgets/controls",
            "_model_module_version": "1.5.0",
            "_model_name": "CheckboxModel",
            "_view_count": null,
            "_view_module": "@jupyter-widgets/controls",
            "_view_module_version": "1.5.0",
            "_view_name": "CheckboxView",
            "description": "Show Plot",
            "description_tooltip": null,
            "disabled": false,
            "indent": true,
            "layout": "IPY_MODEL_2dab471350b44b46b47adab71b4d27c1",
            "style": "IPY_MODEL_1d5f3524ed4e4ddca94acdaa0a8795bd",
            "value": false
          }
        },
        "2dab471350b44b46b47adab71b4d27c1": {
          "model_module": "@jupyter-widgets/base",
          "model_name": "LayoutModel",
          "model_module_version": "1.2.0",
          "state": {
            "_model_module": "@jupyter-widgets/base",
            "_model_module_version": "1.2.0",
            "_model_name": "LayoutModel",
            "_view_count": null,
            "_view_module": "@jupyter-widgets/base",
            "_view_module_version": "1.2.0",
            "_view_name": "LayoutView",
            "align_content": null,
            "align_items": null,
            "align_self": null,
            "border": null,
            "bottom": null,
            "display": null,
            "flex": null,
            "flex_flow": null,
            "grid_area": null,
            "grid_auto_columns": null,
            "grid_auto_flow": null,
            "grid_auto_rows": null,
            "grid_column": null,
            "grid_gap": null,
            "grid_row": null,
            "grid_template_areas": null,
            "grid_template_columns": null,
            "grid_template_rows": null,
            "height": null,
            "justify_content": null,
            "justify_items": null,
            "left": null,
            "margin": null,
            "max_height": null,
            "max_width": null,
            "min_height": null,
            "min_width": null,
            "object_fit": null,
            "object_position": null,
            "order": null,
            "overflow": null,
            "overflow_x": null,
            "overflow_y": null,
            "padding": null,
            "right": null,
            "top": null,
            "visibility": null,
            "width": null
          }
        },
        "1d5f3524ed4e4ddca94acdaa0a8795bd": {
          "model_module": "@jupyter-widgets/controls",
          "model_name": "DescriptionStyleModel",
          "model_module_version": "1.5.0",
          "state": {
            "_model_module": "@jupyter-widgets/controls",
            "_model_module_version": "1.5.0",
            "_model_name": "DescriptionStyleModel",
            "_view_count": null,
            "_view_module": "@jupyter-widgets/base",
            "_view_module_version": "1.2.0",
            "_view_name": "StyleView",
            "description_width": ""
          }
        },
        "85cf9ca9b4304da99fbfa745d044817c": {
          "model_module": "@jupyter-widgets/output",
          "model_name": "OutputModel",
          "model_module_version": "1.0.0",
          "state": {
            "_dom_classes": [],
            "_model_module": "@jupyter-widgets/output",
            "_model_module_version": "1.0.0",
            "_model_name": "OutputModel",
            "_view_count": null,
            "_view_module": "@jupyter-widgets/output",
            "_view_module_version": "1.0.0",
            "_view_name": "OutputView",
            "layout": "IPY_MODEL_005cbee7774847e196895423af2b99f7",
            "msg_id": "",
            "outputs": [
              {
                "output_type": "error",
                "ename": "IndexError",
                "evalue": "too many indices for array: array is 1-dimensional, but 2 were indexed",
                "traceback": [
                  "\u001b[0;31m---------------------------------------------------------------------------\u001b[0m",
                  "\u001b[0;31mIndexError\u001b[0m                                Traceback (most recent call last)",
                  "\u001b[0;32m/usr/local/lib/python3.10/dist-packages/ipywidgets/widgets/interaction.py\u001b[0m in \u001b[0;36mobserver\u001b[0;34m(change)\u001b[0m\n\u001b[1;32m     78\u001b[0m     \u001b[0;32mif\u001b[0m \u001b[0;32mnot\u001b[0m \u001b[0mlen\u001b[0m\u001b[0;34m(\u001b[0m\u001b[0mo\u001b[0m\u001b[0;34m)\u001b[0m \u001b[0;34m==\u001b[0m \u001b[0mlen\u001b[0m\u001b[0;34m(\u001b[0m\u001b[0mpattern\u001b[0m\u001b[0;34m)\u001b[0m\u001b[0;34m:\u001b[0m\u001b[0;34m\u001b[0m\u001b[0;34m\u001b[0m\u001b[0m\n\u001b[1;32m     79\u001b[0m         \u001b[0;32mreturn\u001b[0m \u001b[0;32mFalse\u001b[0m\u001b[0;34m\u001b[0m\u001b[0;34m\u001b[0m\u001b[0m\n\u001b[0;32m---> 80\u001b[0;31m     \u001b[0mcomps\u001b[0m \u001b[0;34m=\u001b[0m \u001b[0mzip\u001b[0m\u001b[0;34m(\u001b[0m\u001b[0mo\u001b[0m\u001b[0;34m,\u001b[0m\u001b[0mpattern\u001b[0m\u001b[0;34m)\u001b[0m\u001b[0;34m\u001b[0m\u001b[0;34m\u001b[0m\u001b[0m\n\u001b[0m\u001b[1;32m     81\u001b[0m     \u001b[0;32mreturn\u001b[0m \u001b[0mall\u001b[0m\u001b[0;34m(\u001b[0m\u001b[0misinstance\u001b[0m\u001b[0;34m(\u001b[0m\u001b[0mobj\u001b[0m\u001b[0;34m,\u001b[0m\u001b[0mkind\u001b[0m\u001b[0;34m)\u001b[0m \u001b[0;32mfor\u001b[0m \u001b[0mobj\u001b[0m\u001b[0;34m,\u001b[0m\u001b[0mkind\u001b[0m \u001b[0;32min\u001b[0m \u001b[0mcomps\u001b[0m\u001b[0;34m)\u001b[0m\u001b[0;34m\u001b[0m\u001b[0;34m\u001b[0m\u001b[0m\n\u001b[1;32m     82\u001b[0m \u001b[0;34m\u001b[0m\u001b[0m\n",
                  "\u001b[0;32m<ipython-input-150-cf4ce373470e>\u001b[0m in \u001b[0;36mplot_ce_loss_multiclass\u001b[0;34m(show_plot)\u001b[0m\n\u001b[1;32m     12\u001b[0m     \u001b[0;32mfor\u001b[0m \u001b[0mepoch\u001b[0m \u001b[0;32min\u001b[0m \u001b[0mrange\u001b[0m\u001b[0;34m(\u001b[0m\u001b[0;36m1\u001b[0m\u001b[0;34m,\u001b[0m \u001b[0mepochs\u001b[0m \u001b[0;34m+\u001b[0m \u001b[0;36m1\u001b[0m\u001b[0;34m)\u001b[0m\u001b[0;34m:\u001b[0m\u001b[0;34m\u001b[0m\u001b[0;34m\u001b[0m\u001b[0m\n\u001b[1;32m     13\u001b[0m         \u001b[0mpredictor\u001b[0m\u001b[0;34m,\u001b[0m \u001b[0mW\u001b[0m \u001b[0;34m=\u001b[0m \u001b[0mbgd_softmax_regression_learner\u001b[0m\u001b[0;34m(\u001b[0m\u001b[0mX_train_norm_mul\u001b[0m\u001b[0;34m,\u001b[0m \u001b[0mY_train_mul\u001b[0m\u001b[0;34m,\u001b[0m \u001b[0mstep_size\u001b[0m\u001b[0;34m=\u001b[0m\u001b[0;36m0.1\u001b[0m\u001b[0;34m,\u001b[0m \u001b[0mepochs\u001b[0m\u001b[0;34m=\u001b[0m\u001b[0mepoch\u001b[0m\u001b[0;34m,\u001b[0m \u001b[0mrandom_seed\u001b[0m\u001b[0;34m=\u001b[0m\u001b[0mrandom_seed\u001b[0m\u001b[0;34m)\u001b[0m\u001b[0;34m\u001b[0m\u001b[0;34m\u001b[0m\u001b[0m\n\u001b[0;32m---> 14\u001b[0;31m         \u001b[0mloss\u001b[0m \u001b[0;34m=\u001b[0m \u001b[0mestimated_loss\u001b[0m\u001b[0;34m(\u001b[0m\u001b[0mpredictor\u001b[0m\u001b[0;34m,\u001b[0m \u001b[0mX_train_norm_mul\u001b[0m\u001b[0;34m,\u001b[0m \u001b[0mY_train_mul\u001b[0m\u001b[0;34m,\u001b[0m \u001b[0mmulticlass_cross_entropy_loss\u001b[0m\u001b[0;34m)\u001b[0m\u001b[0;34m\u001b[0m\u001b[0;34m\u001b[0m\u001b[0m\n\u001b[0m\u001b[1;32m     15\u001b[0m         \u001b[0mcross_entropy_loss_values\u001b[0m\u001b[0;34m.\u001b[0m\u001b[0mappend\u001b[0m\u001b[0;34m(\u001b[0m\u001b[0mloss\u001b[0m\u001b[0;34m)\u001b[0m\u001b[0;34m\u001b[0m\u001b[0;34m\u001b[0m\u001b[0m\n\u001b[1;32m     16\u001b[0m \u001b[0;34m\u001b[0m\u001b[0m\n",
                  "\u001b[0;32m<ipython-input-131-de0f6810f572>\u001b[0m in \u001b[0;36mestimated_loss\u001b[0;34m(f, X, Y, loss_function)\u001b[0m\n\u001b[1;32m     18\u001b[0m \u001b[0;34m\u001b[0m\u001b[0m\n\u001b[1;32m     19\u001b[0m     \u001b[0mpredicted_values\u001b[0m \u001b[0;34m=\u001b[0m \u001b[0mf\u001b[0m\u001b[0;34m(\u001b[0m\u001b[0mX\u001b[0m\u001b[0;34m)\u001b[0m\u001b[0;34m\u001b[0m\u001b[0;34m\u001b[0m\u001b[0m\n\u001b[0;32m---> 20\u001b[0;31m     \u001b[0mloss\u001b[0m \u001b[0;34m=\u001b[0m \u001b[0mnp\u001b[0m\u001b[0;34m.\u001b[0m\u001b[0mmean\u001b[0m\u001b[0;34m(\u001b[0m\u001b[0mloss_function\u001b[0m\u001b[0;34m(\u001b[0m\u001b[0mY\u001b[0m\u001b[0;34m,\u001b[0m \u001b[0mpredicted_values\u001b[0m\u001b[0;34m)\u001b[0m\u001b[0;34m)\u001b[0m\u001b[0;34m\u001b[0m\u001b[0;34m\u001b[0m\u001b[0m\n\u001b[0m\u001b[1;32m     21\u001b[0m \u001b[0;34m\u001b[0m\u001b[0m\n\u001b[1;32m     22\u001b[0m \u001b[0;34m\u001b[0m\u001b[0m\n",
                  "\u001b[0;32m<ipython-input-148-8f980f565b21>\u001b[0m in \u001b[0;36mmulticlass_cross_entropy_loss\u001b[0;34m(Y_pred, Y)\u001b[0m\n\u001b[1;32m     15\u001b[0m     \u001b[0;31m### YOUR CODE HERE ###\u001b[0m\u001b[0;34m\u001b[0m\u001b[0;34m\u001b[0m\u001b[0m\n\u001b[1;32m     16\u001b[0m     \u001b[0mY\u001b[0m \u001b[0;34m=\u001b[0m \u001b[0mY\u001b[0m\u001b[0;34m.\u001b[0m\u001b[0mastype\u001b[0m\u001b[0;34m(\u001b[0m\u001b[0mint\u001b[0m\u001b[0;34m)\u001b[0m\u001b[0;34m\u001b[0m\u001b[0;34m\u001b[0m\u001b[0m\n\u001b[0;32m---> 17\u001b[0;31m     \u001b[0mloss\u001b[0m \u001b[0;34m=\u001b[0m \u001b[0;34m-\u001b[0m\u001b[0;34m(\u001b[0m\u001b[0mnp\u001b[0m\u001b[0;34m.\u001b[0m\u001b[0mlog\u001b[0m\u001b[0;34m(\u001b[0m\u001b[0mY_pred\u001b[0m\u001b[0;34m[\u001b[0m\u001b[0mnp\u001b[0m\u001b[0;34m.\u001b[0m\u001b[0marange\u001b[0m\u001b[0;34m(\u001b[0m\u001b[0mlen\u001b[0m\u001b[0;34m(\u001b[0m\u001b[0mY\u001b[0m\u001b[0;34m)\u001b[0m\u001b[0;34m)\u001b[0m\u001b[0;34m,\u001b[0m \u001b[0mY\u001b[0m\u001b[0;34m]\u001b[0m\u001b[0;34m)\u001b[0m\u001b[0;34m)\u001b[0m\u001b[0;34m\u001b[0m\u001b[0;34m\u001b[0m\u001b[0m\n\u001b[0m\u001b[1;32m     18\u001b[0m \u001b[0;34m\u001b[0m\u001b[0m\n\u001b[1;32m     19\u001b[0m \u001b[0;34m\u001b[0m\u001b[0m\n",
                  "\u001b[0;31mIndexError\u001b[0m: too many indices for array: array is 1-dimensional, but 2 were indexed"
                ]
              }
            ]
          }
        },
        "005cbee7774847e196895423af2b99f7": {
          "model_module": "@jupyter-widgets/base",
          "model_name": "LayoutModel",
          "model_module_version": "1.2.0",
          "state": {
            "_model_module": "@jupyter-widgets/base",
            "_model_module_version": "1.2.0",
            "_model_name": "LayoutModel",
            "_view_count": null,
            "_view_module": "@jupyter-widgets/base",
            "_view_module_version": "1.2.0",
            "_view_name": "LayoutView",
            "align_content": null,
            "align_items": null,
            "align_self": null,
            "border": null,
            "bottom": null,
            "display": null,
            "flex": null,
            "flex_flow": null,
            "grid_area": null,
            "grid_auto_columns": null,
            "grid_auto_flow": null,
            "grid_auto_rows": null,
            "grid_column": null,
            "grid_gap": null,
            "grid_row": null,
            "grid_template_areas": null,
            "grid_template_columns": null,
            "grid_template_rows": null,
            "height": null,
            "justify_content": null,
            "justify_items": null,
            "left": null,
            "margin": null,
            "max_height": null,
            "max_width": null,
            "min_height": null,
            "min_width": null,
            "object_fit": null,
            "object_position": null,
            "order": null,
            "overflow": null,
            "overflow_x": null,
            "overflow_y": null,
            "padding": null,
            "right": null,
            "top": null,
            "visibility": null,
            "width": null
          }
        },
        "15a54fe532e848019f290bceb2d6a9e6": {
          "model_module": "@jupyter-widgets/controls",
          "model_name": "CheckboxModel",
          "model_module_version": "1.5.0",
          "state": {
            "_dom_classes": [],
            "_model_module": "@jupyter-widgets/controls",
            "_model_module_version": "1.5.0",
            "_model_name": "CheckboxModel",
            "_view_count": null,
            "_view_module": "@jupyter-widgets/controls",
            "_view_module_version": "1.5.0",
            "_view_name": "CheckboxView",
            "description": "Show Plot",
            "description_tooltip": null,
            "disabled": false,
            "indent": true,
            "layout": "IPY_MODEL_cba9128937fb4047af918d5f59081dad",
            "style": "IPY_MODEL_69cc0465a0f84b788ec2198b78b04987",
            "value": true
          }
        },
        "cba9128937fb4047af918d5f59081dad": {
          "model_module": "@jupyter-widgets/base",
          "model_name": "LayoutModel",
          "model_module_version": "1.2.0",
          "state": {
            "_model_module": "@jupyter-widgets/base",
            "_model_module_version": "1.2.0",
            "_model_name": "LayoutModel",
            "_view_count": null,
            "_view_module": "@jupyter-widgets/base",
            "_view_module_version": "1.2.0",
            "_view_name": "LayoutView",
            "align_content": null,
            "align_items": null,
            "align_self": null,
            "border": null,
            "bottom": null,
            "display": null,
            "flex": null,
            "flex_flow": null,
            "grid_area": null,
            "grid_auto_columns": null,
            "grid_auto_flow": null,
            "grid_auto_rows": null,
            "grid_column": null,
            "grid_gap": null,
            "grid_row": null,
            "grid_template_areas": null,
            "grid_template_columns": null,
            "grid_template_rows": null,
            "height": null,
            "justify_content": null,
            "justify_items": null,
            "left": null,
            "margin": null,
            "max_height": null,
            "max_width": null,
            "min_height": null,
            "min_width": null,
            "object_fit": null,
            "object_position": null,
            "order": null,
            "overflow": null,
            "overflow_x": null,
            "overflow_y": null,
            "padding": null,
            "right": null,
            "top": null,
            "visibility": null,
            "width": null
          }
        },
        "69cc0465a0f84b788ec2198b78b04987": {
          "model_module": "@jupyter-widgets/controls",
          "model_name": "DescriptionStyleModel",
          "model_module_version": "1.5.0",
          "state": {
            "_model_module": "@jupyter-widgets/controls",
            "_model_module_version": "1.5.0",
            "_model_name": "DescriptionStyleModel",
            "_view_count": null,
            "_view_module": "@jupyter-widgets/base",
            "_view_module_version": "1.2.0",
            "_view_name": "StyleView",
            "description_width": ""
          }
        },
        "97788280a9a046a88612a67a3f9698dd": {
          "model_module": "@jupyter-widgets/output",
          "model_name": "OutputModel",
          "model_module_version": "1.0.0",
          "state": {
            "_dom_classes": [],
            "_model_module": "@jupyter-widgets/output",
            "_model_module_version": "1.0.0",
            "_model_name": "OutputModel",
            "_view_count": null,
            "_view_module": "@jupyter-widgets/output",
            "_view_module_version": "1.0.0",
            "_view_name": "OutputView",
            "layout": "IPY_MODEL_afee94d4b3554d3381eca31a00895e1e",
            "msg_id": "",
            "outputs": [
              {
                "output_type": "error",
                "ename": "IndexError",
                "evalue": "too many indices for array: array is 1-dimensional, but 2 were indexed",
                "traceback": [
                  "\u001b[0;31m---------------------------------------------------------------------------\u001b[0m",
                  "\u001b[0;31mIndexError\u001b[0m                                Traceback (most recent call last)",
                  "\u001b[0;32m/usr/local/lib/python3.10/dist-packages/ipywidgets/widgets/interaction.py\u001b[0m in \u001b[0;36mobserver\u001b[0;34m(change)\u001b[0m\n\u001b[1;32m     78\u001b[0m     \u001b[0;32mif\u001b[0m \u001b[0;32mnot\u001b[0m \u001b[0mlen\u001b[0m\u001b[0;34m(\u001b[0m\u001b[0mo\u001b[0m\u001b[0;34m)\u001b[0m \u001b[0;34m==\u001b[0m \u001b[0mlen\u001b[0m\u001b[0;34m(\u001b[0m\u001b[0mpattern\u001b[0m\u001b[0;34m)\u001b[0m\u001b[0;34m:\u001b[0m\u001b[0;34m\u001b[0m\u001b[0;34m\u001b[0m\u001b[0m\n\u001b[1;32m     79\u001b[0m         \u001b[0;32mreturn\u001b[0m \u001b[0;32mFalse\u001b[0m\u001b[0;34m\u001b[0m\u001b[0;34m\u001b[0m\u001b[0m\n\u001b[0;32m---> 80\u001b[0;31m     \u001b[0mcomps\u001b[0m \u001b[0;34m=\u001b[0m \u001b[0mzip\u001b[0m\u001b[0;34m(\u001b[0m\u001b[0mo\u001b[0m\u001b[0;34m,\u001b[0m\u001b[0mpattern\u001b[0m\u001b[0;34m)\u001b[0m\u001b[0;34m\u001b[0m\u001b[0;34m\u001b[0m\u001b[0m\n\u001b[0m\u001b[1;32m     81\u001b[0m     \u001b[0;32mreturn\u001b[0m \u001b[0mall\u001b[0m\u001b[0;34m(\u001b[0m\u001b[0misinstance\u001b[0m\u001b[0;34m(\u001b[0m\u001b[0mobj\u001b[0m\u001b[0;34m,\u001b[0m\u001b[0mkind\u001b[0m\u001b[0;34m)\u001b[0m \u001b[0;32mfor\u001b[0m \u001b[0mobj\u001b[0m\u001b[0;34m,\u001b[0m\u001b[0mkind\u001b[0m \u001b[0;32min\u001b[0m \u001b[0mcomps\u001b[0m\u001b[0;34m)\u001b[0m\u001b[0;34m\u001b[0m\u001b[0;34m\u001b[0m\u001b[0m\n\u001b[1;32m     82\u001b[0m \u001b[0;34m\u001b[0m\u001b[0m\n",
                  "\u001b[0;32m<ipython-input-152-c8555af03360>\u001b[0m in \u001b[0;36mplot_ce_zo_loss_multi\u001b[0;34m(show_plot)\u001b[0m\n\u001b[1;32m     13\u001b[0m     \u001b[0;32mfor\u001b[0m \u001b[0mepoch\u001b[0m \u001b[0;32min\u001b[0m \u001b[0mrange\u001b[0m\u001b[0;34m(\u001b[0m\u001b[0;36m1\u001b[0m\u001b[0;34m,\u001b[0m \u001b[0mepochs\u001b[0m \u001b[0;34m+\u001b[0m \u001b[0;36m1\u001b[0m\u001b[0;34m)\u001b[0m\u001b[0;34m:\u001b[0m\u001b[0;34m\u001b[0m\u001b[0;34m\u001b[0m\u001b[0m\n\u001b[1;32m     14\u001b[0m         \u001b[0mpredictor\u001b[0m\u001b[0;34m,\u001b[0m \u001b[0mW\u001b[0m \u001b[0;34m=\u001b[0m \u001b[0mbgd_softmax_regression_learner\u001b[0m\u001b[0;34m(\u001b[0m\u001b[0mX_train_norm_mul\u001b[0m\u001b[0;34m,\u001b[0m \u001b[0mY_train_mul\u001b[0m\u001b[0;34m,\u001b[0m \u001b[0mstep_size\u001b[0m\u001b[0;34m=\u001b[0m\u001b[0;36m0.1\u001b[0m\u001b[0;34m,\u001b[0m \u001b[0mepochs\u001b[0m\u001b[0;34m=\u001b[0m\u001b[0mepoch\u001b[0m\u001b[0;34m,\u001b[0m \u001b[0mrandom_seed\u001b[0m\u001b[0;34m=\u001b[0m\u001b[0mrandom_seed\u001b[0m\u001b[0;34m)\u001b[0m\u001b[0;34m\u001b[0m\u001b[0;34m\u001b[0m\u001b[0m\n\u001b[0;32m---> 15\u001b[0;31m         \u001b[0mloss\u001b[0m \u001b[0;34m=\u001b[0m \u001b[0mestimated_loss\u001b[0m\u001b[0;34m(\u001b[0m\u001b[0mpredictor\u001b[0m\u001b[0;34m,\u001b[0m \u001b[0mX_train_norm_mul\u001b[0m\u001b[0;34m,\u001b[0m \u001b[0mY_train_mul\u001b[0m\u001b[0;34m,\u001b[0m \u001b[0mmulticlass_cross_entropy_loss\u001b[0m\u001b[0;34m)\u001b[0m\u001b[0;34m\u001b[0m\u001b[0;34m\u001b[0m\u001b[0m\n\u001b[0m\u001b[1;32m     16\u001b[0m         \u001b[0mcross_entropy_loss_values\u001b[0m\u001b[0;34m.\u001b[0m\u001b[0mappend\u001b[0m\u001b[0;34m(\u001b[0m\u001b[0mloss\u001b[0m\u001b[0;34m)\u001b[0m\u001b[0;34m\u001b[0m\u001b[0;34m\u001b[0m\u001b[0m\n\u001b[1;32m     17\u001b[0m \u001b[0;34m\u001b[0m\u001b[0m\n",
                  "\u001b[0;32m<ipython-input-131-de0f6810f572>\u001b[0m in \u001b[0;36mestimated_loss\u001b[0;34m(f, X, Y, loss_function)\u001b[0m\n\u001b[1;32m     18\u001b[0m \u001b[0;34m\u001b[0m\u001b[0m\n\u001b[1;32m     19\u001b[0m     \u001b[0mpredicted_values\u001b[0m \u001b[0;34m=\u001b[0m \u001b[0mf\u001b[0m\u001b[0;34m(\u001b[0m\u001b[0mX\u001b[0m\u001b[0;34m)\u001b[0m\u001b[0;34m\u001b[0m\u001b[0;34m\u001b[0m\u001b[0m\n\u001b[0;32m---> 20\u001b[0;31m     \u001b[0mloss\u001b[0m \u001b[0;34m=\u001b[0m \u001b[0mnp\u001b[0m\u001b[0;34m.\u001b[0m\u001b[0mmean\u001b[0m\u001b[0;34m(\u001b[0m\u001b[0mloss_function\u001b[0m\u001b[0;34m(\u001b[0m\u001b[0mY\u001b[0m\u001b[0;34m,\u001b[0m \u001b[0mpredicted_values\u001b[0m\u001b[0;34m)\u001b[0m\u001b[0;34m)\u001b[0m\u001b[0;34m\u001b[0m\u001b[0;34m\u001b[0m\u001b[0m\n\u001b[0m\u001b[1;32m     21\u001b[0m \u001b[0;34m\u001b[0m\u001b[0m\n\u001b[1;32m     22\u001b[0m \u001b[0;34m\u001b[0m\u001b[0m\n",
                  "\u001b[0;32m<ipython-input-148-8f980f565b21>\u001b[0m in \u001b[0;36mmulticlass_cross_entropy_loss\u001b[0;34m(Y_pred, Y)\u001b[0m\n\u001b[1;32m     15\u001b[0m     \u001b[0;31m### YOUR CODE HERE ###\u001b[0m\u001b[0;34m\u001b[0m\u001b[0;34m\u001b[0m\u001b[0m\n\u001b[1;32m     16\u001b[0m     \u001b[0mY\u001b[0m \u001b[0;34m=\u001b[0m \u001b[0mY\u001b[0m\u001b[0;34m.\u001b[0m\u001b[0mastype\u001b[0m\u001b[0;34m(\u001b[0m\u001b[0mint\u001b[0m\u001b[0;34m)\u001b[0m\u001b[0;34m\u001b[0m\u001b[0;34m\u001b[0m\u001b[0m\n\u001b[0;32m---> 17\u001b[0;31m     \u001b[0mloss\u001b[0m \u001b[0;34m=\u001b[0m \u001b[0;34m-\u001b[0m\u001b[0;34m(\u001b[0m\u001b[0mnp\u001b[0m\u001b[0;34m.\u001b[0m\u001b[0mlog\u001b[0m\u001b[0;34m(\u001b[0m\u001b[0mY_pred\u001b[0m\u001b[0;34m[\u001b[0m\u001b[0mnp\u001b[0m\u001b[0;34m.\u001b[0m\u001b[0marange\u001b[0m\u001b[0;34m(\u001b[0m\u001b[0mlen\u001b[0m\u001b[0;34m(\u001b[0m\u001b[0mY\u001b[0m\u001b[0;34m)\u001b[0m\u001b[0;34m)\u001b[0m\u001b[0;34m,\u001b[0m \u001b[0mY\u001b[0m\u001b[0;34m]\u001b[0m\u001b[0;34m)\u001b[0m\u001b[0;34m)\u001b[0m\u001b[0;34m\u001b[0m\u001b[0;34m\u001b[0m\u001b[0m\n\u001b[0m\u001b[1;32m     18\u001b[0m \u001b[0;34m\u001b[0m\u001b[0m\n\u001b[1;32m     19\u001b[0m \u001b[0;34m\u001b[0m\u001b[0m\n",
                  "\u001b[0;31mIndexError\u001b[0m: too many indices for array: array is 1-dimensional, but 2 were indexed"
                ]
              }
            ]
          }
        },
        "afee94d4b3554d3381eca31a00895e1e": {
          "model_module": "@jupyter-widgets/base",
          "model_name": "LayoutModel",
          "model_module_version": "1.2.0",
          "state": {
            "_model_module": "@jupyter-widgets/base",
            "_model_module_version": "1.2.0",
            "_model_name": "LayoutModel",
            "_view_count": null,
            "_view_module": "@jupyter-widgets/base",
            "_view_module_version": "1.2.0",
            "_view_name": "LayoutView",
            "align_content": null,
            "align_items": null,
            "align_self": null,
            "border": null,
            "bottom": null,
            "display": null,
            "flex": null,
            "flex_flow": null,
            "grid_area": null,
            "grid_auto_columns": null,
            "grid_auto_flow": null,
            "grid_auto_rows": null,
            "grid_column": null,
            "grid_gap": null,
            "grid_row": null,
            "grid_template_areas": null,
            "grid_template_columns": null,
            "grid_template_rows": null,
            "height": null,
            "justify_content": null,
            "justify_items": null,
            "left": null,
            "margin": null,
            "max_height": null,
            "max_width": null,
            "min_height": null,
            "min_width": null,
            "object_fit": null,
            "object_position": null,
            "order": null,
            "overflow": null,
            "overflow_x": null,
            "overflow_y": null,
            "padding": null,
            "right": null,
            "top": null,
            "visibility": null,
            "width": null
          }
        },
        "869d7d09038348d885dba5bc3677a816": {
          "model_module": "@jupyter-widgets/controls",
          "model_name": "CheckboxModel",
          "model_module_version": "1.5.0",
          "state": {
            "_dom_classes": [],
            "_model_module": "@jupyter-widgets/controls",
            "_model_module_version": "1.5.0",
            "_model_name": "CheckboxModel",
            "_view_count": null,
            "_view_module": "@jupyter-widgets/controls",
            "_view_module_version": "1.5.0",
            "_view_name": "CheckboxView",
            "description": "Show Plot",
            "description_tooltip": null,
            "disabled": false,
            "indent": true,
            "layout": "IPY_MODEL_d83a731a3fa740e7adf1a2ca89c07a18",
            "style": "IPY_MODEL_394341a13db14996a483eb03e1efadc4",
            "value": true
          }
        },
        "d83a731a3fa740e7adf1a2ca89c07a18": {
          "model_module": "@jupyter-widgets/base",
          "model_name": "LayoutModel",
          "model_module_version": "1.2.0",
          "state": {
            "_model_module": "@jupyter-widgets/base",
            "_model_module_version": "1.2.0",
            "_model_name": "LayoutModel",
            "_view_count": null,
            "_view_module": "@jupyter-widgets/base",
            "_view_module_version": "1.2.0",
            "_view_name": "LayoutView",
            "align_content": null,
            "align_items": null,
            "align_self": null,
            "border": null,
            "bottom": null,
            "display": null,
            "flex": null,
            "flex_flow": null,
            "grid_area": null,
            "grid_auto_columns": null,
            "grid_auto_flow": null,
            "grid_auto_rows": null,
            "grid_column": null,
            "grid_gap": null,
            "grid_row": null,
            "grid_template_areas": null,
            "grid_template_columns": null,
            "grid_template_rows": null,
            "height": null,
            "justify_content": null,
            "justify_items": null,
            "left": null,
            "margin": null,
            "max_height": null,
            "max_width": null,
            "min_height": null,
            "min_width": null,
            "object_fit": null,
            "object_position": null,
            "order": null,
            "overflow": null,
            "overflow_x": null,
            "overflow_y": null,
            "padding": null,
            "right": null,
            "top": null,
            "visibility": null,
            "width": null
          }
        },
        "394341a13db14996a483eb03e1efadc4": {
          "model_module": "@jupyter-widgets/controls",
          "model_name": "DescriptionStyleModel",
          "model_module_version": "1.5.0",
          "state": {
            "_model_module": "@jupyter-widgets/controls",
            "_model_module_version": "1.5.0",
            "_model_name": "DescriptionStyleModel",
            "_view_count": null,
            "_view_module": "@jupyter-widgets/base",
            "_view_module_version": "1.2.0",
            "_view_name": "StyleView",
            "description_width": ""
          }
        },
        "5c3086ea17044232a9ea77798465117f": {
          "model_module": "@jupyter-widgets/output",
          "model_name": "OutputModel",
          "model_module_version": "1.0.0",
          "state": {
            "_dom_classes": [],
            "_model_module": "@jupyter-widgets/output",
            "_model_module_version": "1.0.0",
            "_model_name": "OutputModel",
            "_view_count": null,
            "_view_module": "@jupyter-widgets/output",
            "_view_module_version": "1.0.0",
            "_view_name": "OutputView",
            "layout": "IPY_MODEL_26d80b70a86e45289554b259df1c7f4a",
            "msg_id": "",
            "outputs": [
              {
                "output_type": "display_data",
                "data": {
                  "text/plain": "<Figure size 1500x600 with 2 Axes>",
                  "image/png": "iVBORw0KGgoAAAANSUhEUgAABNAAAAIjCAYAAADC5OZoAAAAOXRFWHRTb2Z0d2FyZQBNYXRwbG90bGliIHZlcnNpb24zLjguMCwgaHR0cHM6Ly9tYXRwbG90bGliLm9yZy81sbWrAAAACXBIWXMAAA9hAAAPYQGoP6dpAADIX0lEQVR4nOzde3xT9fkH8E/OaQkNkApCRZBiQQU1MFREQsUrXvkVkHZeNjfFTUXQuOJtbk5wc2NuSmdUwDmnzunUtXKJeMULg7YBxBtRCyjMMkRFKQ2Qemhz8vvjcEKvyUma5FzyefviJUnT5Esp7afP93uexxaJRCIgIiIiIiIiIiKiTgl6L4CIiIiIiIiIiMjIWEAjIiIiIiIiIiKKgQU0IiIiIiIiIiKiGFhAIyIiIiIiIiIiioEFNCIiIiIiIiIiohhYQCMiIiIiIiIiIoqBBTQiIiIiIiIiIqIYWEAjIiIiIiIiIiKKgQU0IiIiIiIiIiKiGFhAIyJTufrqq3H00Ucn9b7z5s2DzWZL7YKIiIiIiIjI8lhAI6KUsNlsmn698847ei9VNz6fD2eeeSYKCgrgcDgwbNgwXHrppXj11VeTer4//OEPWLp0aWoXSURERJRimcyJoVAI8+bNS+i5/vvf/2LGjBkYPnw4evbsiYEDB+KMM87A3Llzk1rDyy+/jHnz5iX1vkRkXLZIJBLRexFEZH7//Oc/29z+xz/+gTfeeANPP/10m/vPO+88HHHEEUm/TnNzM2RZht1uT/h9W1pa0NLSgp49eyb9+sm6//77cdttt+HMM8/E1KlT4XA48Nlnn2HlypX4wQ9+gCeffDLh5+zduzfKysqSel8iIiKiTMlUTgSAb7/9FgMGDMDcuXM1FbE+++wznHrqqcjLy8M111yDo48+Gjt37sR7772HV155Bd9//33Ca7jxxhvxyCOPgD9qE1lLjt4LICJruPLKK9vc9vv9eOONNzrc314oFILD4dD8Orm5uUmtDwBycnKQk5P5L3stLS343e9+h/POOw+vv/56h7d/8803GV8TERERUaYkmxMzoaKiAvv27cMHH3yAoUOHtnkbMxoRtcZLOIkoY8466yy4XC5s2LABZ5xxBhwOB371q18BAJYtW4bJkydj0KBBsNvtGD58OH73u98hHA63eY72PdD++9//wmaz4f7778df//pXDB8+HHa7HaeeeirWr1/f5n0764Fms9lw4403YunSpXC5XLDb7TjxxBM7vazynXfewdixY9GzZ08MHz4cjz76qKa+at9++y2CwSCKi4s7fXtBQUGb25IkYe7cuTjmmGNgt9sxZMgQ3H777ZAkqc269+/fj6eeeip62cPVV18dcx1ERERERiXLMv7yl7/gxBNPRM+ePXHEEUfg+uuvR0NDQ5vHvfvuu7jgggvQv39/5OXloaioCNdccw0AJRcOGDAAAHDPPfdEM1Ksk2iff/45jjrqqA7FM6BjRgOAV155BRMnTkSvXr3Qp08fTJ48GR9//HH07VdffTUeeeQRAG0vXSUi8+MJNCLKqO+++w4XXXQRLr/8clx55ZXRY/pPPvkkevfujTlz5qB379546623cPfddyMYDOLPf/5z3Od99tlnsXfvXlx//fWw2Wz405/+hOnTp2Pr1q1xT62tWbMGL774ImbNmoU+ffrA6/WitLQU9fX1OPzwwwEA77//Pi688EIceeSRuOeeexAOh/Hb3/42GtJiKSgoQF5eHnw+H2666Sb069evy8fKsowpU6ZgzZo1uO6663D88cdj48aNqKiowObNm6M9z55++mn8/Oc/x7hx43DdddcBAIYPHx53LURERERGdP311+PJJ5/EjBkz4PF4sG3bNjz88MN4//33UV1djdzcXHzzzTc4//zzMWDAAPzyl7/EYYcdhv/+97948cUXAQADBgzAokWLcMMNN+CSSy7B9OnTAQCjR4/u8nWHDh2KlStX4q233sI555wTc41PP/00rrrqKlxwwQW47777EAqFsGjRIpx++ul4//33cfTRR+P666/Hl19+2eklqkRkchEiojSYPXt2pP2XmDPPPDMCILJ48eIOjw+FQh3uu/766yMOhyPy/fffR++76qqrIkOHDo3e3rZtWwRA5PDDD4/s3r07ev+yZcsiACI+ny9639y5czusCUCkR48ekc8++yx634cffhgBEHnooYei95WUlEQcDkdkx44d0fu2bNkSycnJ6fCcnbn77rsjACK9evWKXHTRRZHf//73kQ0bNnR43NNPPx0RBCGyevXqNvcvXrw4AiBSXV0dva9Xr16Rq666Ku5rExERERlJ+5y4evXqCIDIM8880+Zxr776apv7lyxZEgEQWb9+fZfPvWvXrgiAyNy5czWtJRAIRPLy8iIAImPGjIncfPPNkaVLl0b279/f5nF79+6NHHbYYZFrr722zf1fffVVJD8/v839neVgIjI/XsJJRBllt9sxY8aMDvfn5eVFf7937158++23mDhxIkKhEOrq6uI+72WXXYa+fftGb0+cOBEAsHXr1rjvO2nSpDant0aPHg2n0xl933A4jJUrV2LatGkYNGhQ9HHHHHMMLrroorjPDyiXETz77LM46aST8Nprr+HXv/41TjnlFJx88sn49NNPo4/797//jeOPPx4jR47Et99+G/2l7oi+/fbbml6PiIiIyCz+/e9/Iz8/H+edd16b/HPKKaegd+/e0fxz2GGHAQBeeuklNDc3p+S1TzzxRHzwwQe48sor8d///hcPPvggpk2bhiOOOAKPPfZY9HFvvPEG9uzZgyuuuKLNGkVRxGmnncaMRpQFeAknEWXU4MGD0aNHjw73f/zxx7jrrrvw1ltvIRgMtnlbY2Nj3OctLCxsc1stprXvm6HlfdX3V9/3m2++QVNTE4455pgOj+vsvq5cccUVuOKKKxAMBrF27Vo8+eSTePbZZ1FSUoJAIICePXtiy5Yt+PTTT7u8NJTNbImIiMhqtmzZgsbGxk57jgGH8s+ZZ56J0tJS3HPPPaioqMBZZ52FadOm4Uc/+lFSE9pVxx13HJ5++mmEw2F88skneOmll/CnP/0J1113HYqKijBp0iRs2bIFALq8zNPpdCb9+kRkDiygEVFGtT5pptqzZw/OPPNMOJ1O/Pa3v8Xw4cPRs2dPvPfee7jjjjsgy3Lc5xVFsdP7IxrGh3fnfZPhdDpx3nnn4bzzzkNubi6eeuoprF27FmeeeSZkWcaoUaOwYMGCTt93yJAhaVkTERERkV5kWUZBQQGeeeaZTt+ubizabDZUVlbC7/fD5/PhtddewzXXXIMHHngAfr8fvXv37tY6RFHEqFGjMGrUKLjdbpx99tl45plnMGnSpGgeffrppzFw4MAO76vHpHciyiz+Kyci3b3zzjv47rvv8OKLL+KMM86I3r9t2zYdV3VIQUEBevbsic8++6zD2zq7LxFjx47FU089hZ07dwJQBgF8+OGHOPfcc+NObOJEJyIiIrKC4cOHY+XKlSguLu50s7W98ePHY/z48fj973+PZ599Fj/+8Y/x3HPP4ec//3nK8tHYsWMBoE1GA5RcOGnSpJjvy4xGZE3sgUZEulNPgLU+8XXgwAEsXLhQryW1IYoiJk2ahKVLl+LLL7+M3v/ZZ5/hlVdeifv+oVAItbW1nb5Nff8RI0YAAC699FLs2LGjTc8NVVNTE/bv3x+93atXL+zZsyeRPwoRERGR4Vx66aUIh8P43e9+1+FtLS0t0bzT0NDQ4QqBMWPGAAAkSQIAOBwOANCckVavXt1pP7WXX34ZwKGMdsEFF8DpdOIPf/hDp4/ftWtX9Pe9evVKaA1EZA48gUZEupswYQL69u2Lq666Ch6PBzabDU8//XTaLqFMxrx58/D666+juLgYN9xwA8LhMB5++GG4XC588MEHMd83FAphwoQJGD9+PC688EIMGTIEe/bswdKlS7F69WpMmzYNJ510EgDgJz/5CV544QXMnDkTb7/9NoqLixEOh1FXV4cXXngBr732WnRH9JRTTsHKlSuxYMECDBo0CEVFRTjttNPS/aEgIiIiSqkzzzwT119/PebPn48PPvgA559/PnJzc7Flyxb8+9//xoMPPoiysjI89dRTWLhwIS655BIMHz4ce/fuxWOPPQan04mLL74YgNIu5IQTTsDzzz+P4447Dv369YPL5YLL5er0te+77z5s2LAB06dPx+jRowEA7733Hv7xj3+gX79++MUvfgFAacGxaNEi/OQnP8HJJ5+Myy+/HAMGDEB9fT1WrFiB4uJiPPzwwwCUjAYAHo8HF1xwAURRxOWXX57mjyIRpRsLaESku8MPPxwvvfQSbrnlFtx1113o27cvrrzySpx77rm44IIL9F4eACUIvfLKK7j11lvxm9/8BkOGDMFvf/tbfPrpp3GnhB522GF47LHHsGLFCjzxxBP46quvIIoiRowYgT//+c/weDzRxwqCgKVLl6KiogL/+Mc/sGTJEjgcDgwbNgw333wzjjvuuOhjFyxYgOuuuw533XUXmpqacNVVV7GARkRERKa0ePFinHLKKXj00Ufxq1/9Cjk5OTj66KNx5ZVXori4GIBSaFu3bh2ee+45fP3118jPz8e4cePwzDPPoKioKPpcf/vb33DTTTehvLwcBw4cwNy5c7ssoP3qV7/Cs88+i1WrVuGZZ55BKBTCkUceicsvvxy/+c1v2jzvj370IwwaNAh//OMf8ec//xmSJGHw4MGYOHFimynz06dPx0033YTnnnsO//znPxGJRFhAI7IAW8RIRzyIiExm2rRp+Pjjj6OTmYiIiIiIiMh62AONiEijpqamNre3bNmCl19+GWeddZY+CyIiIiIiIqKM4Ak0IiKNjjzySFx99dUYNmwYvvjiCyxatAiSJOH999/Hscceq/fyiIiIiIiIKE3YA42ISKMLL7wQ//rXv/DVV1/BbrfD7XbjD3/4A4tnREREREREFscTaERERERERERERDGwBxoREREREREREVEMLKARERERERERERHFkFU90GRZxpdffok+ffrAZrPpvRwiIiIygUgkgr1792LQoEEQBO49GhVzHhERESUqkZyXVQW0L7/8EkOGDNF7GURERGRC27dvx1FHHaX3MqgLzHlERESULC05L6sKaH369AEAPPvsdjgcTp1Xk1p7T3kbfaz1RyIiIjKEUDCEHw35UTRHkDEx5xEREVGiEsl5WVVAU4/zOxxO9OplrRQSdvZCGIDTWn8sIiIiw+BlgcbGnEdERETJ0pLz2MjDIpzrJgEAgkGdF0JEREREKcWcR0REpD8W0CyE4YqIiIjImpjziIiI9MUCmsWo4YqIiIiIrIU5j4iISD9Z1QMtmwSD7JNBRJRyEcDWYoMtzF5YVhIRI4jkRAD+tZJJMOcREaUBc55lybkyIHb/eVhAsyDnukkIjlup9zKIiCzFdsAGx04HeoR6wHbwPzK/yMH/JIeEpiObEOkR0XtJRDEx5xERpR5znnVFEEHYFsa+o/Yh3DvcrediAc2i1HDF3UkiohSQAec2J3qJvdB3UF/k9MjhREaLiEQiaDnQgoZdDcjdlovGYxvZ4IIMjzmPiCiFmPMsLRKJoHFXI/A/KDmvGyfRWECzOB7xJyLqPuGAAFEWMWDIANgddr2XQylmz7MjJzcH33/xPYQDAuSest5LItKEOY+IqPuY86wvf0A+gv8NQmgWIIvJ5zzusVoYpzUREaWODTbYBO5GWpVN4OUaZC7MeUREqcOcZ202W2pyHgtoFsdpTURERETWxJxHRESUOSygZQHnukncnSQiIiKyIOY8IiKizGABjYiIiNJi/rz5OH3M6XovgygrsIhGRESZlI05jwW0LMHdSSIig2hqgu3rb4Cmpoy83A1X34B8W37019GHH43pF05H4KNARl6fiNKPl3ISERkEc56lsYBGRESUAeKaWuRNvxJ9eg9Cn4HHok/vQcibfiXEan/aX3vShZOweedmbN65GcvfXI6cnBxc9n+XJf18Bw4cSOHqiChVuFlKRKQP5rzswAJaFlFPoTFcERFlVu6iv8FxxkXI8b0Cm6yMzrbJMnJ8r8Ax8ULkLn48ra9vt9txxMAjcMTAIzB6zGiU/7Ic/9v+P3y761sAwN133I2TjzsZAx0DMXrYaNz7m3vR3NwcfX/1iP5Tf3sKo4pGoaBnAQBge/12XDH1CgzqPQhHOY/CVZdehW++/qbLdciyjPt+ex+OP+p4DLAPwOljTsfKV1em9c9OlC04lZOISB/MeYpsyHksoGUZHvEnIsoscU0tes6+FbZIBLaWljZvs7W0wBaJoOesWzKyQwkA+/btw/P/fB7DjhmGfof3AwD06dMHi55chLWfrMV9D96Hpx57Co9UPNLm/bZ+thXLq5bjny/+E2s+WANZlnHF1CvQsLsBK1atwNI3luK/W/+LGZfN6PK1Fz24CA8/8DB+d//vUPNRDc654BxcPuVyfL7l87T+mYmyBXMeEVFmMecdkg05L0fvBZA+gkHA6dR7FURE1tdjwSOAKALtQlUboogeFY+gqXh8Wtbw6kuvYlDvQQCA/fv3Y+CRA/H8S89DEJR9tNvuui362KFHD8VNt96Equeq8IvbfxG9/8CBA3j0H4+i/4D+AIC33ngLn2z8BB9t+whHDTkKAPDoPx7FaSeehg3rN+CUU0/psI6H7n8IN99xM8ouLwMA/Pa+32L126ux8C8L8cAjD6Tlz06UjZjziIgygznvkGzIeTyBloW4O0lElCFNTchZtqLDjmR7tpYW5Cx5KW0NZyeePRGrP1iN1R+sxlvr3sK5F5yLsovKUP9FPQCg6vkqnF98Po4deCwG9R6Ee++6F/+r/1+b5xgydEg0VAHA5k83Y/CQwdFQBQAjTxiJ/MPysfnTzR3WEAwGsfPLnRjfLjyOLx6PTZ9uSuUflyir8VJOIqIMYc6LypacxwJaluJUTiKi9LMF90Z7YcR9rCzDFtyblnX06tULw48ZjuHHDMcpp56Ch/72EEL7Q3jqsaewrnYdrv3xtTjv4vPw/EvPY/X7q3Hrr29F84HmDs9BRObAzVIiovRjzss+LKBlORbRiIjSJ+Lsg4ig7VttRBAQcfZJ84oUNpsNgiDg+6bvsbZmLYYMHYLbfn0bTh57MoYfOzy6YxnLcccfhx3bd+B/2w/tYNZ9UofGPY0YccKIDo93Op04ctCR8LfrAeKv9mPkCSO7/4ciog6Y84iI0oc575BsyXnsgZbFnOsmIThuJftkEBGlS14eWqZOVqYyxTjeH8nJQcvUi4G8vLQsQ5IkfP3V1wCAPQ178NeH/4p9+/bhwpILsTe4F/+r/x8qn6vEyaeejNdXvI6XlrwU9znPnnQ2Thh1Aq798bWY/5f5CLeEMWfWHJx+5uk4eezJnb6P5zYP5s+dj6LhRRg9ZjT++cQ/sfGDjfjbM39L6Z+XiJjziIjSjjmvjWzIeSygZTmGKyKi9DowZzZylsYJKuEwDpTPTtsaVr66EscdeRwAZRLTsSOPxVP/fgoTz5oIAJhVPgu33XgbDkgHcP7k83H7b27HH+f9MeZz2mw2/GvZv3D7Tbfj4jMuhiAIOPfCc/Hnh/7c5fvM9MxEsDGIu265C7u+2YWRJ4zEc8ufw/Bjh6fuD0tEUcx5RETpxZx3SDbkPFskEonovYhMCQaDyM/Px9KljejViymiteC4lQxWRERdEL4X0HdbXwwpGoIePXsk/P65ix9Hz1m3AKLYZocykpMDhMP4fuEDaJ75s1QumRJ04PsD2L5tOxqKGiD3bNvPZH9wP6blT0NjYyOc/GZpWMx5XWPOIyLqGnOe9aUq57EHGkWxTwYRUXo0z/wZQqtfRcvUi6O9MiKCgJapFyO0+lWGKiJKO+Y8IqL0YM7LHryEkwAcOuJPRETpES4ej6bi8UBTE2zBvUoj2TT1wiAiao05j4govZjzsgNPoFEb3J0kIkqzvDxEjihgqCKijHKum8ScR0SUbsx5lsYCGkU5100CwCIaERERkVUx5xERESWHBTRqg0U0IiIiImtiziMiIkoeC2jUgRquiIiIiMhamPOIiIiSwwIadYp9MoiIiIisiTmPiIgocSygUUwMV0RERETWxJxHRESkHQto1CUe8SciIiKyJuY8IiKixLCARnFxd5KIKDutfmc18m352LNnj66v+8yTz6DwsMKMroEoWzDnERFlJ+a8xLGARjE5101inwwiohRqagK++dqGpqbMvebXX32NO26+A2OOGYOCngU45ohjcH7x+fjbor8hFAp1+X6nTTgNm3duRn5+fuYW24npl03Hhs0bdF0DkRUx5xERpRZzXuLMlPNy9F4AmUcwCDideq+CiMicateIeGRBD6xYlgNZtkEQIpg8tQU33nIA44vDaXvdbVu34YLiC5B/WD7u/sPdOHHUiehh74FPNn6CJ//6JAYNHoSLp1zc4f2am5vRo0cPHDHwiLStTau8vDzk5eXpvQwiS2POIyJKHnNe8syU83gCjTRhnwwiouT9bVEuLjrDgVd8SqgCAFm24RVfDi6c6MDji3PT9tq3zLoFOTk5eOfddzD90ukYcfwIFA0rwuSpk/HvFf/GRSUXAQDybfn426K/4fIpl+PIXkfi/t/f3+nR/icfexInDDkBAx0D8eNLfoyHFzzc5tj9/HnzcfqY0/Hc089h1NGjMCR/CGZcPgN79+6NPkaSJNzuuR3DC4ajoGcBLjj9AmxY3/XOY/uj/el4DaJsxpxHRJQ85rzsyXksoBEREaVR7RoRt87uiUjEhpYWW5u3tbTYEInYcMusnvBXiyl/7d3f7cZbr7+Fn8/+OXr16tXpY2y2Q2v647w/4v8u+T/UbKzBlddc2eGx/mo/ymeWY+bNM7HmgzU467yzcP/v7+/wuG2fb8NLS1/C8y89j+dfeh7Vq6pR8ceK6Nvvvv1uLK9ajsVPLcZ/3vsPhh0zDNMvmI7du3dr/rNl4jWIsg0v5SQiSgxzXnblPBbQSDP2yCAiStwjC3pAjJOZRBF4pKJHyl9762dbEYlEcOyIY9vcX9S/CIN6D8Kg3oNw9x13R+//4Y9+iCtnXImiYUUYUjikw/M9+tCjOO+i8+C51YNjjjsG1866FudddF6Hx8myjEVPLsIJrhMwYeIEXPaTy7DqzVUAgP379+PxRY/jd3/+Hc676DyMPGEkvI95kZeXh6cff1rzny0Tr0GUTXgKjYgoccx52ZXzWECjhLGIRkSkTVMTsGJZTocdyfZaWmx4aUlOxhrOvrXuLaz+YDVGnjgSB6QD0ftPGntSzPfbsmkLThl3Spv72t8GgMKjC9GnT5/o7YFHDsSub3YBUHYUm5ubcVrxadG35+bm4pRxp2Dzp5s1/xky8RpE2YabpURE2jHnKbIp57GARglRdycZroiI4tsbtEV7YcQjyzbsDWp7rFbDjhkGm82GLZu2tLm/aFgRhh8zvEPDVkcvR0peNze3ba8Pm82GiBxJyXNn8jWIshVzHhFRfMx5imzKeSygUcJ4xJ+ISJs+zggEQds3e0GIoI8ztcGg3+H9cPZ5Z+Oxhx/D/v37u/18x444Fu+tf6/Nfe1vx1M0vAg9evTA2uq10fuam5vx3vr3MOKEEd1eY6Zeg8iqmPOIiLRhzuvI6jmPBTRKCo/4ExHFl5cHTJ7agpyc2IEpJyeC/7ukBemY4P3AwgfQ0tKCs8aeharnq7Dp003YsmkLnv/n89hctxlivMYdrVx/0/V4/eXX8fCCh/H5ls/x90f/jjdeeQNIYEO1V69e+NkNP8NvbvsNVr66EnWf1MFzrQehUAg/+dlPkvgT6vMaRFbGnEdEFB9zXkdWz3k5aX12srxgEHA69V4FEZFxzZ5zAC8tjf3tNhwGZpcfiPmYZA0bPgyr31+NB/7wAO658x58+b8vYbfbMeKEEbjp1pvw81k/1/xc44vHo2JxBe675z7ce9e9OPeCczGrfBYee/ixhNY074/zIMsyrvvJddi3dx9OGnsSXnztRfTt2zfRP56ur0Fkdcx5RESxMed1ZOWcZ4tEIvpfSJohwWAQ+fn5WLq0Eb16MQ2kQnDcSgYrIrI84XsBfbf1xZCiIejRM/EpSo8vzsUts3pCFNGm0WxOTgThMPDAwu/xs5nNqVxyxtx07U3YUrcFr65+Ve+ldMuB7w9g+7btaChqgNxTbvO2/cH9mJY/DY2NjXDym55hMeelHnMeEWUD5ryuMee1xUs4qdt4xJ+yhdQkoOHrHpCa+KWTEvOzmc14dXUIF09tifbKEIQILp7agldXh0wVqrz3e7Hxw434/LPP8ehDj+JfT/0LV1x1hd7LIqI0Yc4jIoqNOS978BJO6hbnukkIjlvJI/5kaYE1+ahcMBS1ywZAlm0QhAjcU3eh7JYv4Cpu1Ht5ZBLji8MYX9yEpiZlalMfZyQtvTDSbcO6DXjwTw9i3959OHrY0bjPex+u+vlVei+LiNKAOY+ISBvmvOzAAhp1G8MVWZlv0WB4Z4+EKEaiY6pl2Qa/rz+qlw6AZ2EdSmbu0HmVZCZ5eUBennm7Jzz1wlN6L4GIMog5j4hIO+Y8a+N1SJQSHHlOVhRYkw/v7JFAxIZwS9svl+EWAYjY4J01EoHqfJ1WSERElH7MeURERCygUYqxTwZZSeWCoRDF2DtIohhBVUVhhlZERESkH+Y8IiLKZiygUcqou5MMV2QFUpOA2mUDOpw8ay/cIqBmSQEHCxARkaUx5xERUbbjT3yUUjziT1YRCuZEe57FI8s2hIJsKUlERNbGnEdERNmMBTRKC+5Oktk5nIfGUMcjCBE4nC1pXhER6SHYEMbehrDeyyAyFOY8IiKygkRzHgtolHI84k9WYM+T4Z66C2KOHPNxYo6MCZd8A3te7McRkfkEDwaqKR+IOq+EyDic6yYpkzmZ84iIyMSSyXksoFFasIhGVlA25wuEw7Ev4wyHbSgtr8/QisgKmpqb8M2+b9DU3KT3Urpt8lmT8ctf/FLvZaRFMAg433Zj+gYWz4i6wpxHRNQWc545qN+/Es15LKBR2rBPBpmd6/RGeBbWAbZIh5NoYo4M2CLwLKyDq7hRpxUaj9QsoWFfA6RmSe+lGE5tfS2ufP5KDJo/CMc+cCwGzR+EK5+/Ev56f1pf94arb0C+LT/66+jDj8b0C6cj8FEgra9rZsEggDAv2ySKhTmPiOgQ5jzzUHOe8213wu9rmgLaokWLMHr0aDidTjidTrjdbrzyyit6L4s04O4kmVnJzB2oWP0u3FN3RXuiCUIE7qm7ULH6XZTM3KHzCo0hUB/AvOfnYcr8Kbj0gUsxZf4UzHt+HgL1/OYNAH9b/zdc9MRFeGXzK5AjSjFWjsh4ZfMruPCJC/H4u4+n9fUnXTgJm3duxuadm7H8zeXIycnBZf93WdLPd+DAgRSurq1wOAxZ1u+S6H2NMhAOY/oGEZOc63RbR7ZhzjMv5jwiynbMedrpnvP2IVo8SybnmaaAdtRRR+GPf/wjNmzYgHfffRfnnHMOpk6dio8//ljvpVEMvJSTrMBV3Ii5lRuxfN/beOGr/2D5vrcxt3IjT54d5FvvQ/kT5fBv9rcJDf7NfpQ/UQ7fuz6dV6iv2vpa3PryrYgggha57bCJFrkFEURwy4pb0rpDabfbccTAI3DEwCMwesxolP+yHP/b/j98u+tbAMDdd9yNk487GQMdAzF62Gjc+5t70dzcHH3/+fPm4/Qxp+Opvz2FUUWjUNCz4NCfoaUFt954K4bkD0FR/yLc+5t7EYkcGsAhSRJ+feuvMXLwSBzZ60icc9o5WP3O6ujbn3nyGRQeVoiXl7+McSeMwwD7AGyv344N6zdg6nlTUdS/CEPyh+DiMy/GB+99kLaPEQDIsrJuXraZecx55sScR0TZjjnPZDkvLHdrk9Q0BbSSkhJcfPHFOPbYY3Hcccfh97//PXr37g2/P71HIqn7eMSfrMKeJ6PvEQc4MKCVQH0A3pe9AICw3PaSN/W2d4U3q0+iPVL7CEQhdkFGFEQ84n8kI+vZt28fnv/n8xh2zDD0O7wfAKBPnz5Y9OQirP1kLe578D489dhTeKSi7Xq2frYVy6uW458v/hNrPlgTvf9fT/0LOTk5eGvdW7jvwfvwyIJH8NTfnoq+/dYbb8X62vX4+3N/R/VH1Zj2w2kovbAUn2/5PPqYUCiEv9z3Fzz0t4ew9uO1GFAwAPv27sOPrvoRXlvzGlb6V2LYscPww4t/iL1796bl46JesXn+x6aJRpbCnGdezHlElM2Y88yR81TdzXk5KVpHRoXDYfz73//G/v374XZ3fd2qJEmQpEN9eILcHtNVMAg4nXqvgohSqbK2EqIgdiietSYKIqr8VXAVujK4MmNoam7Cik0roifzutIit+ClupfQ1NyEvNy8lK/j1ZdexaDegwAA+/fvx8AjB+L5l56HICgh4ra7bos+dujRQ3HTrTeh6rkq/OL2X0TvP3DgAB79x6PoP6B/m+cePGQw5lfMh81mw7EjjsXHGz/GwoqFuPraq7G9fjueeeIZfFz/MY4cdCQAwHOrBytfXYl/PvFPzP3DXABAc3MzHlj4AEb9YFT0ec8858w2r+P9qxeFhxWielU1Lvy/C1P3wcHB4lkkAuF7e0qfl5LDnGdOzHlElG2Y88yT88Itqcl5piqgbdy4EW63G99//z169+6NJUuW4IQTTujy8fPnz8c999yTwRVSV5zrJiE4biXDFZGFSM0SajfVxg0NYTmMmroaSM0S7LnZVaDYK+2N+/FRyREZe6W9aQlWE8+eiAWLFgAA9jTsweMLH0fZRWV4a91bKBxaiKrnq/Co91Fs+3wb9u/bj5aWFvRx9mnzHEOGDukQqgDg1PGnwmY7NK12nHscHn7gYYTDYXyy8ROEw2Gcctwpbd5HkqTorigA9OjRA67RbQus33z9DX531++w5p01+PabbxEOhxEKhbC9fnu3Px6thVuUyxDyv7dht5C+nh8UH3OeeTHnEVE2Ys4zQc47uEkq7negZwpynqkKaCNGjMAHH3yAxsZGVFZW4qqrrsKqVau6DFd33nkn5syZE70dDAYxZMiQTC2X2lHDFRFZQ0gKJRQaQlIo6wpofex9INgETR8nwSagj71P3Mclo1evXhh+zPDo7TF/G4Mh+UPw1GNP4YLJF+DaH1+LO++5E+decC7y8/NR9VwVHn7g4Q7Pkah9+/ZBFEWs2rAKgtj2yHzv3r2jv8/Ly2sTzgBg5lUzsfu73bjvwfswZOgQ9LD3wHnu89B8oBmpohbP+oZs+D5lz0rJYs4zNxbRiCjbMOeZKOeJTdiVguc0VQGtR48eOOaYYwAAp5xyCtavX48HH3wQjz76aKePt9vtsNuz64c1M2CwIrIGh92RUGhw2B0ZWJWx5OXmYfKIyXhl8ysdGsu2liPk4OIRF6dlV7IzNpsNgiDg+6bvsbZmLYYMHYLbfn3oeH/9F/Wan+vdte+2ub3evx7Djx0OURTxg5N+gHA4jF3f7MKEiRMSWuPa6rV4YOEDOP/i8wEA/9v+P3z37XcJPUcsas+zviFb7AdSxjDnmR83S4komzDnGTfnqVKd80zdKVeW5Ta9L8j42GiWyDrsuXa4R7g1NU6dMHJC1p0+U812z47ZIw5QLnOdPX522tYgSRK+/uprfP3V19j06SbcdtNt2LdvHy4suRDDjx2O/9X/D5XPVWLr51ux2LsYLy15SfNz/6/+f/jVnF9hy6YtqPxXJf760F8x8+aZAIBjjjsGl/74Ulz/0+ux/MXl+O+2/2LDug14YP4DeG3FazGfd9ixw/Dc089h06eb8O7ad3Htj69FXl5qgmf0OP/e3nEfS/phziMiIqNjzjNmzgu3pCfnmaaAduedd+I///kP/vvf/2Ljxo2488478c477+DHP/6x3kujJLDPL5E1lLnLNIWG0vGlGVqR8bgL3Xhg8gOwwYYcoe3B7xwhBzbY8MDkBzC+cHza1rDy1ZU47sjjcNyRx+Hc087Fe+vfw1P/fgoTz5qIi6dcjFnls3Dbjbdh4piJWFuzFrf/5nbNz335Ty9HU1MTzhl3Dm6ZfQtm3jwTM66bEX37wicW4oqfXoFf3/JrjB0xFj+a9iO8t/49HFV4VMznffjxh7GnYQ/OOPkMXPeT63C953oMKBiQ9MdA1bp45hT3d/v5KDWY86zDuW4Scx4RZQ3mvOzKebZIJBJJ+bOmwc9+9jO8+eab2LlzJ/Lz8zF69GjccccdOO+88zQ/RzAYRH5+PpYubUSvXryGUG/BcSt5KSeRBfje9cG7wtthGqd62zPZg5KxJTqusPuE7wX03dYXQ4qGoEfPHkk9h7/ej0f8j+ClupcgR2QINgH/N/L/MHv87LSGKjpEDVWdHef//sABbNu+HUUNDegpt70sObh/P/KnTUNjYyOc/MaVFsx51sOcZx1Ss4SQFILD7sja0+Rkbcx51pCJnGeaHmiPP/643kugNGA/NCLzKxlbgqKCIlT5q1BTVxMNDe4RbpSOL4Wr0BX/SbLA+MLxGF84Hk3NTdgr7UUfe5+M9cKgg9TLNnnyzHCY86yJOc/cAvUBVNZWRiduq9/by9xl/N5O1A5zngFkIOeZpoBG1sNGs0TW4Sp0wVXo4i61Bnm5eQxUGcbLNokyjznP3HzrffC+rJwuV4cFyREZ/s1+VNdVW+J0OVE6MOdlXiZznml6oJF1sU8GkXXYc+3o27svi2dkGCyeEemLOc98AvUBeF/2AkCHPqfqbe8KLwL1gYyvjYiotUznPBbQSFfqVE6GKyIiSrXWvTBYPCPKPOY8c6qsrdQ0YbvKX5WhFRERdaRHzmMBjXSnhisiIiOLIAKTzN0hVUT7CPNIJALw75co5ZjzzEVqllC7qVbThO2auhpIzVKGVkaUXsx5JqRDzmMBjQyDu5NEZFRyrowIIpBC/EHBDMJhINyS2HH+kCQBkQhy201mIqLUYM4zh5AUivY8i0eOyAhJoTSviCj9mPPMJZmcd6ClRSm4dbOIxiECZAhqo1lOayIiQxKBpsOa8O033wIA7A47bLaOI7JJf9FeGPsdyBMb8H3sQxSIRCIISRK++fZbHNbUhNgXLRFRMpjzzMNhd0CwCZqKaIJNgMPuyMCqiNKMOc80Es15ACBHIti1ezcckoQcFtDIKhiuiMjIvh/4PQAg/E0YtoP/kfHIcgSOA8rfzS4t73DwSP9hTU0Y+P33aV0bUTZjzjMHe64d7hFu+Df7Y17GKQoi3CPcHBpElsGcZw4J5zwAiEQghMMobGrq9t8qC2hkKBx5TkSGZQO+P/J7fF/wPYRmdkAwon2NMnqvHYMTe3+U0PvlyjJPnhFlAHOeOZS5y1BdVx3zMWE5jNLxpRlaEVEGMOcZ3r5G5WTs+R8n/vfTQ5ZT0r+MBTQyJO5OEpFhiYAssk+WkQSDAMJhOKvdOMe5DuBfD5GhMecZm6vQBc9kD7wrvBAFsc1JNPW2Z7IHrkKXjqskShPmPMNRcx56ANM3iNAz6LG0SobDaU1ERKRVtHj2thuTnOv0Xg4RxaHmPA4VMLaSsSWomFEB9wg3BJvyI6NgE+Ae4UbFjAqUjC3ReYVElA1a5zyleKYvnkAjQ1KP+HN3koiIYgqHlUDF4hmRafBSTnNwFbrgKnRBapYQkkJw2B3seUZEmWWwTVKeQCND4+4kERF1JdigYfQSERkWc5452HPt6Nu7L4tnRJRRas4zSvEMYAGNDIxH/ImIqDPBoBKqjHKcn4gSx5xHRERdUYtnRst5LKCRobEfGhERtcaeZ0TWwSIaERG1ZvRNUhbQyPCc6yYxWBERkeJgzzMWz4isgZulREQUZfBNUhbQyDRYRCMiym7seUZkXcx5RETZzYg9z9pjAY1MgbuTRETZy+jH+Ymoe5jziIiym1F7nrXHAhqZCncniYiyC3ueEWUHtWUHsx4RUfYw2yYpC2hkGs51k9gPjYgo27B4RpQ1eBKNiCj7mCnnsYBGREREhmSGXhhElHrcLCUisr5gQxgIh02V81hAI1NisCIisjaz9MIgotTiKTQiIusza85jAY1MRw1WLKKRGUjNEhr2NUBqlvReCpEpmK0XBhGlB3MeEZE1mTnn5ei9AKJkONdNQnDcSr2XQdSlQH0AlbWVqN1UCzkiQ7AJcI9wo8xdBlehS+/lERkXe54RZT3mPCIia1I3R8ya83gCjUyNu5NkRL71PpQ/UQ7/Zj/kiAwAkCMy/Jv9KH+iHL53fTqvkMiY2POMiFpjziMisg6155kZT56pWEAj0+KlnGREgfoAvC97AQBhOdzmbept7wovAvWBjK+NyMjM2guDiNKDOY+IyDqskvNYQCNTY7gio6msrYQoxP7GIAoiqvxVGVoRkfGpX8PNHqqIKLWY84iIzM9KOY8FNDI9Tmsio5CaJdRuqu1w8qy9sBxGTV0NBwsQ4WCoOtj3jIioPeY8IiLzslrO4xABsoxgEHA69V4FZbOQFIr2PItHjsgISSHYc+1pXhWRcbU5zs++Z0QUA3MeEZG5WDHn8QQaWQJ3J8kIHHYHBJu2L6uCTYDD7kjzioiMyyq9MIgo/ZjziIjMxao5jwU0sgznukkIBtkng/Rjz7XDPcKtqQfahJETePqMspaVemEQUWYw5xERmYOVcx4LaGQp3KEkvZW5yzT1QCsdX5qhFREZi9V6YRBR5jDnEREZm9VzHgtoZEncnSS9uApd8Ez2AECHk2jqbc9kD1yFroyvjUhvwYYwEA5j+gYRkyzSC4OIMo85j4jIeLIh57GARpbD3UnSW8nYElTMqIB7hDvaE02wCXCPcKNiRgVKxpbovEKizLPycX4iyhzmPCJrkJolNOxr4FR6i8iWnMcpnGRJznWTEBy3ktOaSDeuQhdchS5IzRJCUggOu4M9zyhrqcf5rR6qiCgzmPOIzCtQH0BlbSVqN9VCjsjRTeYydxmv0DCpNpdtWvTkmYon0MjSeMSf9GbPtaNv774snlHWsnovDCLSD3Mekbn41vtQ/kQ5/Jv9kCMyAECOyPBv9qP8iXL43vXpvEJKVOucZ9XLNltjAY0si0f8iYj0lQ29MIhIH8x5ROYSqA/A+7IXADoM3FJve1d4EagPZHxtlJxszHksoJHlcXeSiCjzsqUXBhHpizmPyBwqays7DNhqTxREVPmrMrQi6o5szXksoJGlOddNUvpkMFwREWUML9skokxgziMyB6lZQu2m2g4nz9oLy2HU1NVwsIDBZXPOYwGNsgbDFRFR+mVbLwwiMgbmPKLkpXsiZkgKRXuexSNHZISkUFrWQd2X7TmPUzgpK6jTmoiIKH2CDcrO8vQNouWnMBGRcTDnESUnUxMxHXYHBJugqYgm2AQ47I6UvTalTrYXzwCeQKMsw91JIqL0yNZeGERkHMx5RNplciKmPdcO9wi3ph5oE0ZO4PR6o8qygQGdYQGNsoY6rYnhiogotbK5FwYRGQNzHpF2ekzELHOXaeqBVjq+NGWvSamjXmWQ7VhAo6zCkedERKnF4/xEZBTMeUTa6DER01XogmeyJ/rc7V8LADyTPSm9dJS6LxhUimfOt928ygDsgUZZKhgEnE69V0FEZG7seUZERsScR9Q1dSJmvH5krSdipuqSypKxJSgqKEKVvwo1dTVt+q6Vji9l8cxguEnaEQtolHXYaJaIKHW4G0lERqLmPBbRiDqXzETMVPYkcxW64Cp0QWqWEJJCcNgd7HlmVAd7nnGT9BBewklZybluEntkEBElST3OT0RkRLyUk6hr6kRMLdI5EdOea0ff3n1ZPDMo5rzOsYBGWY1FNCKixLQ+zs/TZ0RkZMx5RB1xIibFwp5nsbGARlmLu5NERIkJNoTZC4OITIE5j6hrnIhJnWHPs/hYQKOsx91JIiLtpm8QGaqIyBTUlh3MekRtcSImdepgzzPmvK5xiABlNXV3MjhuJRvNEhHFwF4YRGRGHB5F1DlOxKTWmPO0YQGN6CBOayIi6ojH+YnICpjziDriRExizksML+EkAvtkEBF1hqGKiKyAOY8oNk7EzE7MeYljAY2oFfbIICJqhaGKiCxC7YdGREQHMecljAU0ooOi/dAYroiIor0wGKqIyEqY84iImPOSxQIaUSs84k9E2S4YVEKV8203pm8Q478DEZFJMOcRUbZjzuseFtCIOmHG3UmpWULDvgZIzZLeSyEik2IvDCLKBmbMeURE3cWc132cwknUjjru3CzTmgL1AVTWVqJ2U22b8dNl7jKOnyaixDBUEZHFRVt2jFtpipxHRJQyzHndxhNoRJ0wSz8033ofyp8oh3+zH3JEBgDIERn+zX6UP1EO37s+nVdIRGbBXhhElG2MnvOIiFKFOS81WEAj6oLR+2QE6gPwvuwFAITlcJu3qbe9K7wI1AcyvjYiMg/2wiCibGT0nEdElArMeanFAhpRHEbdnaysrYQoxP4iKAoiqvxVGVoREZkSj/MTURYzas4jIkoJ5ryUYgGNKAajXsopNUuo3VTb4eRZe2E5jJq6Gg4WIKJO8Tg/EWUzo+Y8IqJUYM5LPRbQiOIwYrgKSaFoz7N45IiMkBRK84qIyGzUUMXj/ESUzYyY84iIuos5Lz1YQCPSwGh9Mhx2BwSbtn++gk2Aw+5I84qMSWqW0LCvgSfwiFphLwwioraMlvOIiLqDxbP0ydF7AURmEgzCECPP7bl2uEe44d/sj3kZpyiIcI9ww55rz+Dq9BeoD6CythK1m2ohR2QINgHuEW6UucvgKnTpvTwifbEXBhFRp4yS84jak5olhKQQHHZH1uV6Soy6Scqclx4soBFp5Fw3CcFxKw0TrsrcZaiuq475mLAcRun40gytyBh8633wvuyFKIjRy1zliAz/Zj+q66rhmexBydgSnVdJpA/2wiAi6pzRch4RwE1hSgxzXvrxEk6iBBjpiL+r0AXPZA8AdJjGqd72TPZk1TfXQH0A3pe9ANDhZJ5627vCi0B9IONrI9Ibj/MTEcVmpJxH5FvvQ/kT5fBv9nfYFC5/ohy+d306r5CMhDkvM0xTQJs/fz5OPfVU9OnTBwUFBZg2bRo2bdqk97IoSxml0WzJ2BJUzKiAe4Q72hNN3ZmqmFGRdSetKmsrOxQT2xMFEVX+qgytiEh/7HlGZsCcR0ZilJxH2YubwpQIFs8yxzSXcK5atQqzZ8/GqaeeipaWFvzqV7/C+eefj08++QS9evXSe3mURdQj/kbhKnTBVejK+t4IUrMUPd4eS1gOo6auBlKzlJUfJ8pO7IVBRsecR0ZhtJxH2UndFI7X67jKX5VVV5tQR8Egc14mmaaA9uqrr7a5/eSTT6KgoAAbNmzAGWecodOqKFup4cpIPTLsufasLgiFpFDc4plKjsgISaGs/nhRdmAvDDIL5jwyEiPmPMoe3BQmrYJBAOGui6yUeqYpoLXX2NgIAOjXr1+Xj5EkCZIkRW8HeR6bUoyNZo3DYXdAsAmaimiCTYDD7sjAqoj0w+P8ZGbMeaQ3FtFIL9wUJi3a5DxulGaMaXqgtSbLMn7xi1+guLgYLlfXR1bnz5+P/Pz86K8hQ4ZkcJVkdWw0ayz2XDvcI9yaeqBNGDmBQYMsjcUzMjPmPCLKZuqmsBbcFM5OzHn6MWUBbfbs2QgEAnjuuediPu7OO+9EY2Nj9Nf27dsztELKJtzwNo4yd1nMXhGActy9dHxphlZElHlqLwyGKjIr5jwyEuY8yjRuClMszHn6Ml0B7cYbb8RLL72Et99+G0cddVTMx9rtdjidzja/iFJJPYXGcGUMrkIXPJM9ANAhdKi3PZM9bLZKlhVsCAPhMHuekWkx55GRMOeRXrgpTJ1hzzP9maaAFolEcOONN2LJkiV46623UFRUpPeSiADwUk6jKRlbgooZFXCPcEePvws2Ae4RblTMqEDJ2BKdV0iUHjzOT2bGnEdGxZxHeuCmMLWnbpJO3yByo1RHphkiMHv2bDz77LNYtmwZ+vTpg6+++goAkJ+fj7y8PJ1XR8SBAkbiKnTBVeiC1CwhJIXgsDt4vJ0sjcUzMjvmPDI65jzKtJKxJSgqKEKVvwo1dTWQI3J0U7h0fCmLZ1mEOc84bJFIJKL3IrSw2Wyd3v/EE0/g6quv1vQcwWAQ+fn5WLq0Eb168TsgpVZw3EoADFdElFnqcX6GqvQJ7t+P/GnT0NjYyMsE04Q5j4zOSjlPahIQCubA4WyBPU/btEfSFzeFsxdzXvolkvNMcwLNJHU+ymLquHPuUBJRpqihyvm2myPMydSY88jorJDzAmvyUblgKGqXDYAs2yAIEbin7kLZLV/AVdyo9/IoBnuunYWzLMScZzym6YFGZAbsk0FEmcJeGEREmWXmnOdbNBjlZ4yF39cfsqyc+JRlG/y+/iifOBa+xYN1XiERtcacZ0wsoBGlAac1EVEm8Dg/EVHmmS3nBdbkwzt7JBCxIdzS9se/cIsARGzwzhqJQHW+Tiskos4w5xkPC2hEKWbm3UkiMr5gUNmVdL7t1nspRERZR815ZiqiVS4YClGMfZm0KEZQVVGYoRURUVeY84yNBTSiNHCum6R88TNRuCJKJalZQsO+BkjNkt5LsZTWvTB4nJ+ISB9mKqJJTQJqlw3ocPKsvXCLgJolBZCa+OMhkV6Y84zPNEMEiMxGbTZLlE0C9QFU1laidlNtm3HrZe4yjlvvpjYjzBmqiIh0ZZacFwrmRHuexSPLNoSCObDnHUjzqoiovTbTNpnzDItbDERpZobdSaJU8K33ofyJcvg3+yFHZACAHJHh3+xH+RPl8L3r03mF5sdeGERExmL0nOdwtkAQtE25FYQIHM6WNK+IiDqlFs/I0FhAI0oj9kOjbBGoD8D7shcAEJbDbd6m3vau8CJQH8j42syOvTCIiIzJDJdy2vNkuKfugpgjx3ycmCNjwiXfwJ4X+3FElFrMeeaS8CWckiRh7dq1+OKLLxAKhTBgwACcdNJJKCoqSsf6iHQnSUAoBDgcgN2e+PurR/ydTqUPRSiYA4ezhQGFLKWythKiIHYonrUmCiKq/FW8lDMB7IVBemDWI9LODJdyls35AtVLB8R8TDhsQ2l5fYZWREQAc54ZaS6gVVdX48EHH4TP50NzczPy8/ORl5eH3bt3Q5IkDBs2DNdddx1mzpyJPn36pHPNRBkRCACVlUBtLSDLgCAAbjdQVga4Evz5/9PafPgeGYr1KwZAlm0QhAjcU3eh7JYv4CpuTM8fgChDpGYp2vMslrAcRk1dDaRmCfbcJKrRWYa9MCjTmPWIkhcMAk6n3qvonOv0RngW1sE7ayREMdJmoICYIyMctsGzsI6ZlCiDmPPMSdMlnFOmTMFll12Go48+Gq+//jr27t2L7777Dv/73/8QCoWwZcsW3HXXXXjzzTdx3HHH4Y033kj3uonSyucDyssBv18pngHK//1+5X5fAq2cfD7grgtPxfpX+kebuMqyDX5ff5RPHAvf4sFp+BOQGZl1cmVICsUtnqnkiIyQFErziiwizOP8lDnMekTJM0PLjpKZO1Cx+l24p+6K9kRTN3QrVr+Lkpk7dF4hUZZhzjMlTSfQJk+ejKqqKuTm5nb69mHDhmHYsGG46qqr8Mknn2Dnzp0pXSRRJgUCgFdp5YRwu6vR1NteL1BUFP8kWuvnktuND1d3/7yzRqJo1D7u+mUxs0+udNgdEGyCpiKaYBPgsDsysCrz4nF+0gOzHlH3tL6U07An0Yob4SreyJYiRDpScx4A5jwT0nQC7frrr+8yULV3wgkn4Nxzz+3Wooj0VFkJiHEGoIgiUFWVqueKoKqiUPsCyVKsMLnSnmuHe4QbohD7k10UREwYOYGXb8bA4hnphVmPqPvMcBINUAYL9D3iAItnRBnWOudx4qY5cQonUSuSpPQ8a3/yrL1wGKipUR7f7edqEVCzpABSE/85ZhsrTa4sc5fFHCAAKH+m0vGlGVqR+bTuhcHiGRGReRl5KicR6YObpNag6RLOvn37wmazaXrC3bt3d2tBRHoKhQ71PItHlpXHdzWZM7HnsiEUzIE974C2dyBLsNLkSlehC57JHnhXeDv8mdTbnskew/85dKX2wmCoIh0w6xGlhhmmchKRDlg8swRNBbS//OUv0d9/9913uPfee3HBBRfA7Vaa3tXW1uK1117Db37zm7QskihTHA5l2qaWwpcgKI9PzXNF4HC2aF8omZ4VJ1eWjC1BUUERqvxVqKmradPPrXR8KYtnXeCOJBkBsx5R6qhFNKP2QiOizAo2sOeZVWgqoF111VXR35eWluK3v/0tbrzxxuh9Ho8HDz/8MFauXIny8vLUr5IoQ+x2wO1Wpm3GuvRSFJXHdXX6LKHnypHhnrqLfSiyTDKTK41eQAOUk2iuQhekZgkhKQSH3WGKdeuFxTMyCmY9otQLBo07UICI0o85z3oSbrr02muv4cILL+xw/4UXXoiVK3lcmcyvrExbD7RSDa2ctD2XDaXl9doXSJagTq7UwoyTK+25dvTt3ZfFs3jY84wMiFmPqPvMMlCAiNKIxTPLSbiAdvjhh2PZsmUd7l+2bBkOP/zwlCyKSE8uF+DxKL9vP0FTve3xKI/r9nPZIrjugTq4ihu7tWYyH06uJPU4P5HRMOsRpYZz3SQOFCDKUrxs05o0XcLZ2j333IOf//zneOedd3DaaacBANauXYtXX30Vjz32WMoXSKSHkhKgqAioqlKmbcqy0s/M7VZOnmkpnml7LhsKr9nBI/5Zqsxdhuq66piP4eRK6+FxfjI6Zj2i1GLOI8ouavFs+obYG+VkPgkX0K6++mocf/zx8Hq9ePHFFwEAxx9/PNasWRMNWURW4HIpvyRJmajpcMTueZb0c3FaU9bi5Mrsw+IZmQGzHlHqcConUfZgzrO+hAtoAHDaaafhmWeeSfVaiAzJbk++cJbIc3F3MjtxcuUhWTF4gKGKTIJZjyi1mPOIsgBznuUlVUD7/PPP8cQTT2Dr1q34y1/+goKCArzyyisoLCzEiSeemOo1ElkedyezW7ZPrgzUB1BZW4naTbVtCohl7jJLFRDZC4PMhFmPKHWY84isjzkvOyQ8RGDVqlUYNWoU1q5di6qqKuzbtw8A8OGHH2Lu3LkpXyBRtlAbzbLZbPbKxsmVvvU+lD9RDv9mP+SIDACQIzL8m/0of6Icvnd9GVuL1CyhYV8DpGYp5c/NXhhkJsx6RKnHnEdkXcx52SPhAtovf/lL3HvvvXjjjTfQo0eP6P3nnHMO/H5/ShdHlG048pyySaA+AO/LXgBo0/+t9W3vCi8C9YG0r2Pe8/MwZf4UXPrApZgyfwrmPT8vJa8bDCqhyvm2m6GKTINZjyg9mPOIrIU5L/skXEDbuHEjLrnkkg73FxQU4Ntvv03JooiyHXcnKRtU1lZCFGKHDVEQUeWvStsa0n4Cjr0wyISY9YjSizmPyDqY87JLwgW0ww47DDt37uxw//vvv4/BgwenZFFE2Yy7k5QNpGYJtZtqO5w8ay8sh1FTV5OWyyrTfQKOvTDIrJj1iNKHOY/IGoINYSAcZs7LMgkX0C6//HLccccd+Oqrr2Cz2SDLMqqrq3Hrrbfipz/9aTrWSJR11D4ZRFYVkkLRE1/xyBEZISmU8jWk8wQce2GQmTHrEaUXcx6RMQlNEnp83QChKfbGLXNe9kp4Cucf/vAHzJ49G0OGDEE4HMYJJ5yAcDiMH/3oR7jrrrvSsUairMWR52RVDrsDgk3QVEQTbAIcdkdKX189ARfv9VufgNMy3CEYBC/bJNNj1iPKDOY8ImPIXxPA0AWVGLCsFjZZRkQQsGuqG1/cUobG4kMT4ZnzKOETaD169MBjjz2GrVu34qWXXsI///lP1NXV4emnn4YosgJLlCo84k9WZs+1wz3CrekE2ISRE1I+mTSdJ+AYqsjsmPWI0o85j8gYBi/yYewZ5ejv88MmK9nQJsvo7/Nj7MRyDF7cth8uc152S/gE2n/+8x+MHDkSQ4YMwZAhQ6L3Nzc3o7a2FmeccUZKF0iU7bg7SVZV5i5DdV11zMeE5TBKx5em/LW7cwJOaJKQEwyhxemAnHeosMeeZ2QVzHpEmcOcR6Sf/DUBjJzthS0C2Fra9sMVDt4eOcuLfaOKsP2E4wEw52W7hE+gnXXWWfjBD37QYYz57t27cfbZZ6dsYUSk7E6yT4a1ae21YEWuQhc8kz0A0OEkmnrbM9kDV6Grw/t2VzIn4PLXBDB6+jyc3XsKzhh4Kc7uPQWjp89DfnWAvTDIUpj1iDKDOY9IX0MXVCIS52R1RBQx6L5KAMx5lEQBDVCay5577rl48skn29wfiURSsSYi6gTDlbXEKsZkk5KxJaiYUQH3CDcEm/ItSbAJcI9wo2JGBUrGlqTttcvcZZqmgJaOL417vP/4X37CUEWWwqxHlFnMeUSZJTRJGLCsNnrSrMvHtYQx6KVaTK9pydDKyMgSvoTTZrPhzjvvxMSJE/HTn/4UH330ER544IHo24go9ZzrJiE4bqXey6AUGbzIh5GzvYiIYodizICl1ahb6MGOmekrHBmNq9AFV6ELUrOEkBSCw+5Iec+zrl7XM9kD7wovREFsU0xTb3sme1Bcj7jH+4//6xzg+ArAlfrTckSZxqxHlFnMeUSZlxMMRXN4PLaIDIRCgD39+ZSMLeETaOrO4/Tp07F69WpUVlbioosuwp49e1K9NiJqh7uT5te610L7HS+hJQxbROm1kG0n0QDlssq+vftmpHim0nICTsvxfogiUFWVgRUTpR+zHpE+mPOIMqfF6UBE0FgOEQTAkdqJ8GROCZ9Aa+2kk07CunXrMG3aNJx77rmpWhMRdULdnWSzWXNTizHtTzK1FhFFFFZUYWMxTzNlQqwTcOrx/rg7lOEwUFMDSBJ3J8lSmPWIMoM5jyiz5Dw7dk11o7/PH/syTlEE3G7mOwKQxAm0q666Cnl5edHbAwcOxKpVq3DuueeisLAwpYsjorbUkefcoTSnRHotFCypycrBAnrq7ARcIsf7IR883k9kcsx6RPpgzqOuSM0SGvY1QGpmNkylL+aUwRaOncsRDgOlqZ8IT+aU8Am0J554osN9drsdTz31VEoWRESxsU+GMSTTryuhXguyjJxgCAfyuNulJ/V4v6a/Nx7vJ4tg1iPSD3MetRaoD6CythK1m2ohR+Rom4kyd1lappRnm8bTXahb6MHIWUpv4jab3KKoFM88Hva4pShNBbSPPvoILpcLgiDgo48+ivnY0aNHp2RhRBRb+yP+mW7Anq26E2QSKcZEBAEtThZj9Mbj/ZQtmPWIjIWXcpJvvQ/el5VBR3JEyY5yRIZ/sx/VddXwTPakdVp5ttgxswT7RhVh0H2VGLTiYNsOQVByXWkpi2fUhqYC2pgxY/DVV1+hoKAAY8aMgc1mazPGXL1ts9kQjncEkoi6rfXupNV2pqQmAaFgDhzOFtjzNF46lyHdDTJaizFyjohdU92QefrMEL6YU4YBS6tjP4jH+8nkmPWIjIP90ChQH4D3ZS8AtJkS3vq2d4UXRQVFpsz7RrP9hOOx/anfYHpNi9KOw+Hgpih1SlMBbdu2bRgwYED090SkP+e6SXjBfjMee8saO1OBNfmoXDAUtcsGQJZtEIQI3FN3oeyWL+AqbtR7eSkLMlqKMbZwGPXlLMYYxfYTj0fvaxfg+L/OOXScX8Xj/WQRzHpExsJLObNbZW0lREHskDlbEwURVf4qFtC6Se05OH2DCNhFFs4oJk0FtKFDh3b6eyLSTyC4Bo9ttMbOlG/RYHhnj4QoRiDLNgCALNvg9/VH9dIB8CysQ8nMHbqtL7AmH7+regPokwOILV0+TkuQidVrQc4RYQuHUbfQg0ZO4DQENVQd/8NRwPEVQFWVMm2Tx/vJYpj1iIyJp9Cyj9QsRa8siSUsh1FTVwOpWWL7liQFgwDCYaV4RqSBpgLa8uXLNT/hlClTkl4MEWlXuWMBBJsIOZLczpRReqYF1uTDO3skELEh3GJr87ZwizIo2DtrJIpG7dPlJJpv0WB4bx4K3PkqIKQmyKi9FgorqlCwpAY2WUZEELBrqhv15aUsnhlEsEH5txUNVS6X8kuSeLyfLIdZj8h4eClndgpJobjFM5UckRGSQiygJUEtnjnfdgPOdXovh0xCUwFt2rRpmp6MfTGIMkMKN6F29zLISLygY7SeaZULhkIUIx2KZ62JYgRVFYVwFW/M4MpaFfcc38Qtnqm0BpnGYhc2FrsgNEnICYbQ4nSw55mBdCietWa3s3BGlsOsR2RMvJQz+zjsDgg2QVMRTYANDjuHTiWqTc5j8YwSIGh5kCzLmn4xUBFlRigcjFs8U6kFHUBpgl/+RDn8m/0deqaVP1EO37u+tK25M1KTgNplA6InzboSbhFQs6QAUpOmL1maCE0SenzdAKFJ6vIxanEPkhOQtb22YBMSCjJynh0HjujL4pmBtOmFQZQlmPWIjE393kTWZ8+1wz3CDdEWO3vmhIFpn0RQsG5LhlZmDcx51B2p+2mUiDLGITohaPznqxZ0tDbBD9QHUrvYGELBnGjPs3hk2YZQUNOh2Zjy1wQwevo8nN17Cs4YeCnO7j0Fo6fPQ3512z93m+JeSx5QNxUIx359URAxYeQEHqM3sTbH+YmIiAzAuW6S3kugDCtzl0GW41xpIgC/WCegsKIqQ6syP+Y86q6kfhrdv38/Vq1ahfr6ehw4cKDN2zweT0oWRkRds4t5cPebCv9uH8KI3dTePcINe67dkNN8HM4WCEJEUxFNECJwOLv+s2oxeJEPI2crzfttB0OJTZbR3+fHgKXVqFvowY6ZytTSDsU9/xzg+KUxnz8sh1E6ntMzzYrH+YkOYdYjMhb1Uk72QssOowcci0detmH2xRGIMtDS6rBUTlgpni1cAUz8r4xIfQ2EJolXM8TRung2iTmPkpRwAe3999/HxRdfjFAohP3796Nfv3749ttv4XA4UFBQwFBFlCFlg+egevfSmI9RCzpGneZjz5PhnroLfl//mJdxijnK4+x52i5b7Uz+mgBGzvbCFgFsLW2LiOokzJGzvNg3qgiNxa6Oxb3604EVC4HJswBZbDuNM6xM5/RM9hh+4il1LmbPM6Isw6xHZFwcKJAdcoIh3LA+gtFfARVuYMlIpZuIIANTNwHltUDxduWxNllGTjCEAyygdYmbpJQqCV/CWV5ejpKSEjQ0NCAvLw9+vx9ffPEFTjnlFNx///3pWCNZiCQBDQ3K/6l7XM7T4Rm2EIANYrtauGBTigBqQSeZaT6ZUjbnC4TDsU+ghcM2lJbXd+t1hi6oRESMXRyJiGL0GLxa3BNzWn3c3p0J/H01sGnqoZ5osoDD912AihkVKBlb0q01kj7YC4OoLWY9ImNSL+VkPzTra3E6EBEEFG8HKl8A9v0B+OrPyv8rXzhUPAOAiCCgxclBAl1hzqNUSriA9sEHH+CWW26BIAgQRRGSJGHIkCH405/+hF/96lfpWCNZQCAAzJsHTJkCXHqp8v9585T7KXklR85ExajVcB8+NdoTTYCAccPdbQo66jQfLRJtgt9drtMb4VlYB9gibYtVUE6ewRaBZ2EdXMWNSb+G0CRhwLLa6EmzLh/XEkbBkproYIFOi3vbi4EXKoE/7AP+/BUwfy/uKp3Lk2cmxV4YRB0x6xEZF/uhZQc5z45dU92Qc5SiT14LcMR+5f9tHpcj4ptLJvDyzS4w51GqJVxAy83NhSAo71ZQUID6euVUSH5+PrZv3x7rXSlL+XxAeTng9wNqL0xZVm6Xlytvp+S5nMWYO7ISy8fvwwunfoXl4/fhtpK5KDzsUEEnOs1HiL3zolcT/JKZO1Cx+l24p+6CIEQAKD3P3FN3oWL1uyiZuaNbz58TDEV7nsWjHoMH4hT3YAdCBfB4v+hWcY/0E2wIsxcGUSeY9YiMzbluEk+hZYEv5pTBFmfysS0cRn05++92hj3PKB0S7oF20kknYf369Tj22GNx5pln4u6778a3336Lp59+Gi4XT2BQW4EA4FUGP6L913/1ttcLFBUB/PTpHruYB7uYp/z+YKPZ1n0yytxlqK6rjvkcejbBdxU3wlW8EVKTgFAwBw5nS7d6nrWmHoPXUkRrfwy+ZOYOFI3ah6qKQtQsKYAs26LFvdLyekMXz6RmCSEpBIfdwcmg7bAXBlHXmPWIzIH90Kyt8XQX6hZ6MHKWMgCr9ZUUco4IWziMuoUeNBbz63J7zHmULgkX0P7whz9g7969AIDf//73+OlPf4obbrgBxx57LP7+97+nfIFkbpWVgCh2LJ61JopAVRULaKmmTmtSuQpd8Ez2wLvC22Eap3rbCE3w7Xky7HkH4j8wAeox+P4+f8zLOOUcUTku3+4YfDqLe+kQqA+gsrYyOjhCsAlwj3CjzF2m+9+vkbAXBlHnmPWIjK99ziNr2jGzBPtGFaGwogoFS2pgk2VEBAG7prpRX17K4lkMzHmUDgkX0MaOHRv9fUFBAV599dWULoisQ5KA2tpDl212JRwGamqUx9t5SCblWu9OlowtQVFBEar8Vaipq2lTXCkdX2rp4soXc8owYGnsE3jxjsGno7iXar71PnhfVoqk6uAIOSLDv9mP6rpqeCZ7snrYQZteGNyRJOoUsx6RefAUmvU1FruwsdgFoUlCTjCEFqeDPc+6wJxH6ZZwAY1Iq1AofvFMJcvK41lASy1nJ5dyugpdcBW6su7yvmw4Bh+oD8D7snLNdOsThq1ve1d4UVRQZOliaVfYC4OIiKyks5xH1iXn2XGAhbMuMedRJiQ8ROC7777D7NmzccIJJ6B///7o169fm19EKocDEDR+hgmC8nhKva5Gnttz7ejbu29WFM9UO2aW4N3VFdg11Y3IwU9O9Rj8u6srsGOmuU9mVdZWahoUUeWvytCKjEMdGDB9g8hQRRQHsx6ReXSV84iyCXMeZUrCJ9B+8pOf4LPPPsPPfvYzHHHEEbDZbOlYF1mA3Q643cq0zXg90Nxunj5LJ/bJOMSqx+ClZina8yyWsBxGTV0NpGYpq4qnAHthEGnFrEdkLsx5RMx5lBkJF9BWr16NNWvW4Ac/+EE61kMWU1YGVMduO4VwGCjl9OWM4BH/Q6x2DD4kheIWz1RyREZICmVFAY29MIgSx6xHZE7MeZRtmPMo0xK+hHPkyJFoampKx1rIglwuwONRfi+22xRQb3s8nMCZCTzib20OuwOCTduXdMEmwGG3/jXT7IVBlBxmPSLzYc6jbMOcR3pIuIC2cOFC/PrXv8aqVavw3XffIRgMtvlF1F5JCVBRoVymqfZEEwTldkWF8nbKDDVckfXYc+1wj3Br6oE2YeSErDh9ZuheGJIENDQo/ycyGGY9InNiziOpWULDvgZIzVmQL1g8Ix0kfAnnYYcdhmAwiHPOOafN/ZFIBDabDeFYza4oa7lcyi9JUqZtOhzseaYnHvG3pjJ3GarrYl8zHZbDKB1v/Wumgw0G/V4UCACVlUBtrTJ+WN1NKCvjUVwyDGY9InNjzssMI020D9QHUFlbGe2HK9gEuEe4UeYus+TkdTXnsXhGmZZwAe3HP/4xcnNz8eyzz7KxLCXMbmfhTG9sNGtdrkIXPJM98K7wQhREhOVDP+Sqtz2TPZYMUipDH+f3+QCvV7l+XT7Yr06WlUkr1dXK9ew8kksGwKxHZF7MeelntGKVb70P3peV7Kf2w5UjMvyb/aiuq4ZnsgclY62RLwyd8ygrJFxACwQCeP/99zFixIh0rIeIMqB1uDLaDqWRdvPMqGRsCYoKilDlr0JNXU2bYFc6vpTFM70EAkrxDOg4lli97fUCRUU8iUa6Y9YjMjcj5zyzM1qxKlAfgPdlJV+03jhtfdu7wouigiLTZ0BD5zzKGgkX0MaOHYvt27czVBGZnNF2KI22m2dmrkIXXIWu7CtGGjlUVVYqJ89iXfomikBVFQtopDtmPSLzM1rOswIjFqsqays7XHXQniiIqPJXmT9PGznnUdZIuIB200034eabb8Ztt92GUaNGITc3t83bR48enbLFEVF2MNpunlXYc+3ZUTiDwXthSNKhnmexhMNATY3yeF7rTjpi1iOyDvZDSx2jFaukZim68RxLWA6jpq4GUrNk2lxo6JxHWSXhAtpll10GALjmmmui99lsNjaWJTIhdXdSz2BlxN08Mg9THOcPheIXz1SyrDyeBTTSEbMekTXwFFrqGLFYFZJCcdejkiMyQlLIlAU0tXg2fUPsSfNEmZBwAW3btm3pWAcR6UjP3Umj7eaReZiieAYoY4cFQVsRTRCUxxPpiFmPyDqMsFlqBUYsVjnsDgg2QdO6BJsAh918+SLYYIKcR1lFSOTBzc3NOOeccxAKhTB06NBOf6XTf/7zH5SUlGDQoEGw2WxYunRpWl+PKBs4100CcLAYkWHqbl6s4hnQdjePKMoMxTNAOU3mdis9zmIRRWDCBJ4+I13pmfWY84jSR4+cZyVqsUqLTBWr7Ll2uEe4IQqx84UoiJgwcoLpTp/xsk0yooQKaLm5ufj+++/TtZa49u/fjx/84Ad45JFHdFsDkRWpRbRMS2Y3jwgwYagqK4s9QABQ3l5ampn1EHVBz6zHnEeUHnrlPCsxarGqzF2maSO6dLy58gUv2ySjSqiABgCzZ8/Gfffdh5aWlnSsJ6aLLroI9957Ly655JKMvzZRNsj07qRRdvOkZgkN+xp4ws0EgsFDx/lNFapcLsDjUX7f/iSaetvj4QROMgS9sh5zHlF68RRa9xixWOUqdMEzWckX7Yt76m3PZI+p2qCweEZGlnAPtPXr1+PNN9/E66+/jlGjRqFXr15t3v7iiy+mbHHdJUkSJOnQD8RBftcg6pLaIyOT/dDU3Tz/Zn/cHmjuEe6U7+YF6gOorK2MNoUVbALcI9woc5eZKmhkFbNcttmZkhKgqAioqlKmbcqy0vPM7VZOnrF4RgZhlqzHnEd6kyRl7ovDYfyr7/XIecmQmgSEgjlwOFtgz9M4gCdD1GKVd4W3Q/9e9bYexaqSsSUoKihClb8KNXU1bTJt6fhSU2Va9jwjo0u4gHbYYYeh1CSXmMyfPx/33HOP3ssgMg09pjWVuctQXVcd8zHp2M3zrffB+7ISgNTLSOWIDP9mP6rrquGZ7EHJ2JKUviZ1j+ku2+yMy6X8MtNPXZR1zJL1mPNIL4EAUFkJ1Na23QspKzP2XoiRp3IG1uSjcsFQ1C4bAFm2QRAicE/dhbJbvoCruFHv5UUZtVjlKnTBVeiC1CwhJIXgsDvM1/Ps4B6IqXMeWZ4tEolE9F5EMmw2G5YsWYJp06Z1+ZjOdiaHDBmCpUsb0auXgbdeiHSkBqtM7k763vXF3c1LZTErUB9A+RPlcR9XMaPCVLt2Vsbj/KSn4P79yJ82DY2NjXAa+eiGhTDnkVH5fIDXq1x937q1pXrb41EOHBuVHjkvHt+iwfDOHglRjCDccqi1h5gjIxy2wbOwDiUzd+i4ws6ZuVhlNMx5pKdEcl7CJ9BUu3btwqZNmwAAI0aMwIABA5J9qrSx2+2wc2efKCF6HPHP9G5eZW1lh2Jde6IgospfxQKaATBUEenD6FmPOY8yLRBQimdAx7kw6m2vV7la36gn0Yx2KWdgTT68s0cCERvCLbY2b1OLad5ZI1E0ap+hTqIBSisSFs66jzmPzCThAtr+/ftx00034R//+AdkWbnsSRRF/PSnP8VDDz0EhyP9I3uJKL30CFfdOXqeyPtIzVK051ksYTmMmroaSM0Sw5GO2AuDKPOY9Yg6V1nZ8eRZe6KotLo0agENMFYRrXLB0IMnz2xdPkYUI6iqKISreGMGV0aZwJxHZpPwFM45c+Zg1apV8Pl82LNnD/bs2YNly5Zh1apVuOWWW9Kxxqh9+/bhgw8+wAcffAAA2LZtGz744APU19en9XWJspFeI8/tuXb07d1XU9EqUB/AvOfnYcr8Kbj0gUsxZf4UzHt+HgL1gS7fJySF4hbPVHJERkgKaV47pZYlep4RmZBeWY85j4xMkpSeZ7GKZ4Dy9poa5fFGplfOa01qElC7bECbyzY7E24RULOkAFJTwj+6koGx5xmZUcIn0KqqqlBZWYmzzjoret/FF1+MvLw8XHrppVi0aFEq19fGu+++i7PPPjt6e86cOQCAq666Ck8++WTaXpcomxlhd7IzyQ4BcNgdEGyCpiKaYBPgsPOkhR54nJ9IP3plPeY8MrJQSBkYoIUsK483wxXGeua8UDAHstz1ybPWZNmGUDAH9rwDaV4VZQJzHplVwgW0UCiEI444osP9BQUFCIXSe1LjrLPOgklnHhCZkpGO+LcWqA/A+7LShKR9HzP1tneFF0UFRR16mNlz7XCPcMO/2R+3B5p7hJuXb+qAoYpIX3plPeY8MjKHQ5m2qaWIJgjK441O75zncLZAECKaimiCEIHD2ZKBVVG6MeeRmSV8DtbtdmPu3Ln4/vvvo/c1NTXhnnvugdvtTuniiEh/Rjji3546BCAWdQhAZ8rcZTGLZ4BSiCsdX5r0Gik5wSDgfNvNUEWkI2Y9oo7sdsDtVnqcxSKKwIQJ5jh9Buib8+x5MtxTd0HMiV2VFHNkTLjkG9jzNB4BJMNiziOzS/gE2oMPPogLLrgARx11FH7wgx8AAD788EP07NkTr732WsoXSETGYJRTaKkYAuAqdMEz2QPvCm+HaZzqbc9kDydwZlgwiPjNZYgo7Zj1iDpXVgZUV8d+TDgMlJpw/02vnFc25wtUL4094TcctqG03Hy9EJMZjGVlzHlkBQkX0FwuF7Zs2YJnnnkGdXV1AIArrrgCP/7xj5GXl5fyBRKR/tQj/kaQzBCAzkJLydgSFBUUocpfhZq6GsgRGYJNgHuEG6XjS1k8y7A2x/nZTJZIV8x6RJ1zuQCPB/B6O07jVG97PMaewNkZPXOe6/RGeBbWwTtr5MFpnIcukBJzZITDNngW1sFV3KjL+pIRqA+gsrYyuuGr5ssyd1nW5kvmPLIKWySLmk0Eg0Hk5+dj6dJG9OplgKM0RCajhis9T6JJzRKmzJ+ieQjA8juXx9314w6hvtgLg4wuuH8/8qdNQ2NjI5xGOIpLnWLOo0wJBICqKmXapiwrPc8mTFBOnpmteNaanjkvUJ2PqopC1CwpgCzbIAgRTLjkG5SW15uqeNZ6yFVXVzh0NuTKypjzyOgSyXkJn0ADgC1btuDtt9/GN998A7ldJ8277747mackIhMwwkk0rUMABJuA0447TVNBzJ5rZ+Gsm5ItQqq9MDjCnMhYmPWIuuZyKb8kSZm26XCYp+dZLLqeRCtuhKt4I6QmAaFgDhzOFtP1POvOkCurYs4jq0m4gPbYY4/hhhtuQP/+/TFw4EDYbIempthsNoYqoiygdz+0MncZqutiNyGRIzL8m/2Y9/y8rD4yn27duUyBvTCIjIlZj0gbu90ahbP29Mx59jwZ9rwD+rx4N6lDruJNea/yV2VFLmXOIytK+BLOoUOHYtasWbjjjjvStaa04dF+otQIjlup+0AB37u+TocAtGeFI/NGvcS0O5cp8Dg/mUm2XcJp1qzHnEeUGkbIeWaTjhYjZsacR2aS1ks4Gxoa8MMf/jDpxRGR+alH/PUMV62HAFR/Wo0IOt8LMPOReSM3oe3OZQoMVUTGxqxHlN2MkPPMJlVDrqyAOY+sTIj/kLZ++MMf4vXXX0/HWojIZIJBfV/fVejC3EvnYvxx4yHYYn85U4/Mm4VvvQ/lT5TDv9kfDWTqZanlT5TD965P1/WplynE0tnHXP2cYagiMi5mPSIC9M95ZuKwO+JmUZVgE+CwO9K8In0w55HVJXwC7ZhjjsFvfvMb+P1+jBo1Crm5uW3e7vF4UrY4IjIudXdS735oUrOEtVvWxt31C8th1NTVQGqWDL/jZ/QmtFKzFD0VF0v7j7naC8P5tpsjzIkMjFmPiIyS88xC65ArURDhHuE2fBZNBnMeZYOEC2h//etf0bt3b6xatQqrVq1q8zabzcZQRZRFjDCV04pH5o3ehDaZj7m0T/l2M32DyFBFZHDMekQEGCPnmYmWIVdhOYzS8aUZWlHmtLlskzmPLCzhAtq2bdvSsQ4iSoNMjVfXc3dSPTKvtWmr0Y/MJ3u6K9nXSmY4QaIf85YmO8QcHucnMgtmPSJSsR+adq5CFzyTPZ0OuWo9YEnvPrapxp5nlE0SLqARkfEFAkBlJVBbC8gyIAiA2w2UlQGuFH/P1nt30mpH5jNxoq67wwkS+ZifOswNe46doYqIiIgsr/WQq5q6mjY5q3R8qfWKZ+x5RllGUwHtj3/8I26++Wbk5eXFfezatWvx7bffYvLkyd1eHBElzucDvF5AFJXiGaD83+8HqqsBjwcoKUn96+p5Cs1KR+bTfaLOt94H78vKzmj74QTVddXwTPagZGz8TxCtH/OSMZewFwaRCTDrEVFXeAotMa5CF1yFrqRP+psFe55RNtI0KuSTTz5BYWEhZs2ahVdeeQW7du2Kvq2lpQUfffQRFi5ciAkTJuCyyy5Dnz590rZgIupaIKAUzwAg3O5gkHrb61Uel0rOdZNS+4QJUo/MA+gwGVK9bZYj8+rpLi0TLieMnJBQINM6nCBQH/8TRMvH/Lqzb8Kvdo7GJIYqIsNj1iMiSi17rh19e/fNePFMapbQsK8BUrOUttdoXTxjzqNsoukE2j/+8Q98+OGHePjhh/GjH/0IwWAQoijCbrcjFAoBAE466ST8/Oc/x9VXX42ePXumddFE1LnKSuXkWfviWWuiCFRVpfdSTj12KK10ZD5dJ+pSPZygq4/5qcPcKBlzCX61c3RC6yMi/TDrEVEseuc8iq+7LTq0UotnHBhA2cgWiUQiibyDLMv46KOP8MUXX6CpqQn9+/fHmDFj0L9//3StMWWCwSDy8/OxdGkjevXiV36yFkkCpkw5dNlmLIIALF+ensECRjjib4Uj8753fXGb0Gq51FIlNUuYMn+K5ktDl9+5PKGPnfoxbznggN2Wwx1JspTg/v3InzYNjY2NcOr9BS4DzJr1mPOI0s8IOY86at2iozu5UWiSkBMMocXpgJzXeQ4MNvDkGVlLIjkv4SECgiBgzJgxGDNmTLLrI6I0CIW0Fc8A5XGhUPomc+rZDw1QjsybtXCmSvWJunQPJ7Dn2iE12SHaGKqIzI5Zj4hi0TvnUVtaW3QUFRR1mR/z1wQwdEElBiyrhU2WEREE7Jrqxhe3lKGxWHkfXrZJxCmcRJbhcCgny7SeQHMk1nteM72nclpJKpvQpns4QZsR5gxVRERElqTmPBbRjKO7LToGL/Jh5GwvIqII28EfJGyyjP4+PwYsrUbdQg8+/VEJi2dE0DhEgIiMz24H3G6lx1ksoghMmJC+02fAwXAVTN/zZ5tUNKFN53ACjjAnIiLKHnoPj6JDpGYJtZtqYxbPAOUkWk1dTYfBAvlrAhg52wtbBBBa2j6H0BKGLQKMnOVFv+qPMH2DyOIZZT0W0IgspKws9gABQHl7aWK955PGIpqxlLnLNAWsRIYTtBlhTkRERFmDOU9/ybToaG3ogkpE4uy+R0QRx/92VdJrJLISFtCITEgKN6HhwNeQwk1t7ne5AI9H+X3774XqbY8nsQmcXb1WPOruJMOVcbgKXfBMVj5B2p9EU297Jns091djLwwiIqLsxJxnDGqLDi3at+gQmiQMWFbb4eRZh/drCeOIdS8pE8uIshx7oBGZSCC4BpU7FqB29zLIkCFAgLvfVJQNvgUuZzEAoKQEKCoCqqqAmhqlJ5ogKJd3lpZqL55pea142A/NeFI1nEDtecbiGRERUXZiPzT9qS06/Jv9cXuguUe427ToyAmGoj3P4kr3BDIik9BUQJs+fbrmJ3zxxReTXgwRdc23cxG8W2dDhAgZyjc7GTL8u32o3r0UnmELUXLkTABKkczlUjaKQiFlYEAi3+8Sea141HClV7BKRQN+q0nVcAIODCCyDmY9IkoGN0v1V+YuQ3VddczHdNaio8XpQEQQtBXR0jmBjMhENBXQ8vPzo7+PRCJYsmQJ8vPzMXbsWADAhg0bsGfPnoTCFxFpFwiugXfrbAARhNHS5m3qbe/WWSjqNarN6TC7PfGNomRfK55M704G6gOorK1E7abaNqesytxlmk9ZWZ09155U4SzYcLDnGYtnRJbBrEdE3cFTaPpRW3R4V3g7TONUb3fWokPOs2PXVDf6+/yxL+MUReVSFp4+I9JWQHviiSeiv7/jjjtw6aWXYvHixRAPNlUKh8OYNWsWnPyqSZQWlTsWQITYoaDVmggRVV9WJFTUytRrZXp30rfeB+/LSohQG6vKERn+zX5U11XDM9mDkrElGVuPVbDnGZF1MesRUbJ4Ck1/ybbo+GJOGQYsjX16LaMTyIgMzhaJRCKJvMOAAQOwZs0ajBgxos39mzZtwoQJE/Ddd9+ldIGpFAwGkZ+fj6VLG9GrFwMgmYMUbsIUf+/opZSxCBCwfPw+2MU8w72WGqzS/bPXe1vfwx1P3xH3cRUzKngSLQEsnlE2C+7fj/xp09DY2JgVBSSzZj3mPCJ96dmygw5JtEXH4MU+jJzlRUQU255EE0WleObxKE2WiSwqkZyX8BTOlpYW1NXVdbi/rq4OstYmhESkWSgc1FTQApQ+ZaFw8uOQ0vla6Z7WFKgPYN7z8zQVz0RBRJW/Kj0LsapwGNM3iCyeEWUBZj0iShancurPnmtH3959Nbfp2DGzBKtWPABhvFvpdQYcmkBWUcHiGVErCU/hnDFjBn72s5/h888/x7hx4wAAa9euxR//+EfMmDEj5QskynYO0QkBguZTYQ4x+a2/dL9WuqY1qZdsah3jHZbDqKmrgdQscbCABurETSLKDsx6RJQMTuU0p2BDGBh/IjB3dPITyIiyRMIFtPvvvx8DBw7EAw88gJ07dwIAjjzySNx222245ZZbUr5AomxnF/Pg7jcV/t2+OH3JcuA+fGrSl29m6rVS3ScjUB+A92UvAET7nWkhR2SEpBALaDHwsk2i7MSsR0TJYj808+g05yUzgYwoiyR8CacgCLj99tuxY8cO7NmzB3v27MGOHTtw++23RxvNElFqlQ2egzBinwIKI4zSQeWmea1UHfGvrK2EKCT+tUewCXDYOY67KyyeEWUvZj0i6g7nukm8lNPgmPOIkpNwAa01p9OZFc10KftIEtDQoPzfCFzO0+EZthCADWK7g6PKbRs8wxZ2ewJnpl4rVf3QpGYJtZtq24zr1kIUREwYOYGnz2JhzzMiArMeESWPRTQDY/GMKCmaLuE8+eST8eabb6Jv37446aSTYLPZunzse++9l7LFEWVaIABUVgK1tYAsH+qfWVYGuHQe2Fhy5EwU9RqFqi8rUPPdEsiQIUCA+/CpKB1UnpLiWSZfKxVH/ENSKKHLNlVhOYzS8RzH3RX2PCPKPsx6RJRKvJTTuNScx+IZUeI0FdCmTp0K+8FroadNm5bO9RDpxucDvF5lYrM6ZEyWAb8fqK42xgRnl7MYLmcxpHATQuEgHKKzWz3PjPBa3Wk067A7INgEzUU0URARlsPwTPbAVahzRdSAeJyfKHsx6xFROnCggHEw5xF1ny0SiUT0XkSmBINB5OfnY+nSRvTqxa/kdEggAJRraOlVUaH/STSrUXcnkw1X856fB/9mv6bLOE8//nSUji9l8awTDFVEXQvu34/8adPQ2NjIyxkNjDmPyHi6m/MoNZjziLqWSM5LuAfa+vXrsXbt2g73r127Fu+++26iT0dkCJWVysmzWEQRqKrKzHqyidoPLVll7jJNxbP7fnIf5l46l8WzrjBUEdFBzHpE5mC0nr2dSVXfW+om5jyilEi4gDZ79mxs3769w/07duzA7NmzU7IookySJKXnWThODSYcBmpqjB1SzCzZYOUqdMEz2QMAHaZxqrc9kz04edjJ3VqflbEXBhG1xqxHZGyBADBvHjBlCnDppcr/581T7jei7m6WJkNqltCwrwFSM4M7cx5R6mjqgdbaJ598gpNP7viD6EknnYRPPvkkJYsiyqRQ6FDPs3hkWXm8ncMbU6q7jWZLxpagqKAIVf4q1NTVQI7IEGwC3CPcvGQzBh7nJ6LOMOsRGZcZevbqKVAfQGVtJWo31bbJg2XusqzMg2rxbPqGOJfaEJEmCRfQ7HY7vv76awwbNqzN/Tt37kROTsJPR6Q7h0OZtqmliCYIyuMp9dQiWrI9MlyFLrgKXZCaJYSkEBx2B+y5rHTGw+IZEbXHrEdkTIGAUjwDOl45od72eoGiIuP17O1uztPCt94H78teiIIYHTAlR2T4N/tRXVcNz2QPSsZmT3UxGGTOI0q1hC/hPP/883HnnXeisbExet+ePXvwq1/9Cuedd15KF0eUCXY74HZr64E2YQJPn6Vbd3tk2HPt6Nu7L4tncQQbwkA4zFBFRB0w6xEZkxV69qarF1qgPgDvy0p1sX1vXPW2d4UXgXqDXueaYmrOI6LUSriAdv/992P79u0YOnQozj77bJx99tkoKirCV199hQceeCAdayRKu7IybT3QSkszs55sxUazmcHj/EQUC7MekfFYoWdvOnNeZW1lh1647YmCiCq/gauLKdI652V6o7QpLOHrAw1oChvwE5AoBRI+hz948GB89NFHeOaZZ/Dhhx8iLy8PM2bMwBVXXIHc3Nx0rJEo7VwupWeE2lOidThRb3s8xjsOb0Xd7YdGsQUb2POMiGJj1iMyHqv07E1HzpOapWjPs1jCchg1dTWQmiXLXqmg1ybpmmAAC3ZUYtnuWsiQIUDA1H5u3DK4DMVO/gBF1pFUI4tevXrhuuuua3Pfp59+iscffxz3339/ShZGlGklJUrPiKoqZedOlpWeZ263cvKMxbPMyUSfjGyk7viyeEZE8TDrERmLlXr2pjrnhaRQ3OKZSo7ICEkhSxbQ1JyX6eLZop0+zN7qhQgRMg72noMM324/lu6uxsJhHsw8Mnt6z5G1JXwJZ2v79+/H448/jgkTJuDEE0/Eq6++mqp1EenC5QLmzgWWLwdeeEH5/9y5LJ7phZdypo7aC4OXbRJRIpj1iIzBij17U5XzHHYHBJu2H2sFmwCH3cDVxSS1nqyeSWuCAcze6kUEQAvaXl/cgjAiAGZt9aI6mB2958j6kiqgVVdX45prrsERRxyB6667DhMmTMAnn3yCQID/MMga7Hagb19zhA+rUvtkUPex5xkRJYpZj8h4rNSzN5U5z55rh3uEW1MPtAkjJ1ju9FnrTdJMX2WwYEclRMT5uENExZfW7z1H2UFzAe2bb77Bn/70J4wcORJlZWU47LDD8M4770AQBFxzzTUYOXJkOtdJlDKSBDQ0GLO5KnXEU2jdw+IZEWnFrEdkbGrPXqDjSTT1ttl69qYq55W5yzpM32wvLIdROt4E1cUE6JnzmsISlu2u7XDyrL0WhLHkuxoOFiBL0NwDbejQoSgrK8ODDz6I8847D4LQras/iTIuEFDGf9fWtu1vVlZmrqCRTdQeGcEgOvTJkJolhKQQHHaH5XYSU0WvXhhEZE7MekTGZ6WevbFyXqJchS54JnvgXeGFKIhtimnqbc9kD1yFJvoAxaF3zguGQ9GeZ/HIkBEMh5AnMrOTuSVUQFuzZg0KCwsxdOhQ7kKSqfh8hyZsqs1XZRnw+4HqamW3roS9LQ2pfbgK1AdQWVsZnbYk2AS4R7hR5i6zVCjqLp48I6JEMesRmYPLpfySJGXapsNh3rYjqSyilYwtQVFBEar8Vaipq2mTE0vHl1oqJ7bpeabTcCin6IAAQVMRTYAAp2i93nOUfTQX0Orq6lBdXY3HH38cp556Ko477jhceeWVAACbzZa2BRJ1VyCgFM+Ajn0j1Nter7KbZ6Zdu2yihivfeh+8Lys7i+q0JTkiw7/Zj+q6angme1AylpVQFs+IKBnMekTmYrebt3DWmprzUsFV6IKr0GXpKxXa5DwdJ6vniXZM7eeGb7c/5mWcORAx9XA3T5+RJSR0Nr+4uBh///vfsXPnTsycORP//ve/EQ6HMWvWLDz22GPYtWtXutZJlLTKSm0Ti6rY29LQPt0RgPdlpRLavseFetu7wotAfXY3uNb7OD8RmRuzHhHpJZV9b+25dvTt3dd6xTOD5bw5g8sQjtMDLYwwygdZq/ccZa+kmlv07t0b1157LWpqavDxxx/jlFNOwV133YVBgwalen1E3SJJSs8zLROLamo4WMDIXln5Hwi2+NOVqvzZWwlVj/MbJVQRkXkx6xFRJqlTOTk8qmttLts0iNOdLiwc5oENykmz1nIgwgZg4TAPip28zIesodvdYY8//njcf//92LFjB55//vlUrIkoZUKhQz3P4pFl5fFkPFK4CbW7l0GOxJ+uVFNXA6k5+yqhRgxVRGQNzHpElAlqEY06ap3zJul42WZnZh5ZgtWjKjD1cDeEg+UFAQKmHu7G6lEVmHkk26uQdWjugRb3iXJyMH369FQ9HVFKOBzKZCItRTRBUB5PxhMKB7VP+YnICEkhwxzZj9eDQ2iSkBMMocXpgJyX3JqN0guDiKyNWY+IMiEVAwWsxAw5r9jpQrHThaawhGA4BKfoYM8zsqSUFdCIjMhuV8Z6+/2xL+MUReVxVmjEakUO0al9yo9NgMOufyU03rTQ/DUBDF1QiQHLamGTZUQEAbumuvHFLWVoLNZ+zD1dvTAYgIiIiCjTUjmV0wqM1vMsnjzRztxIltbtSziJjK6sTFsPtFL2tjQsu5gHd7+pEOPU/EVBxISRE3Q/feZb70P5E+Xwb/Z3mBZa/kQ5Vi/4A8aeUY7+Pj9sB49H2mQZ/X1+jJ1YjsGLfZpeJx2Xba4JBjD903no7Z+CgesvRW//FEz/dB6qg9k9nIGIiIgyI9v7oUnNEhr2NWDXbontOYgMhifQyPJcLsDjAbxe5aRZ62KaetvjUR5HCklS+sE5HMY5lVc2eA6qdy+N+ZiwHEbpeH0roYH6+NNCfxd8G+cfBRRvb/t2oUW5PXKWF/tGFcU8iZaOXhiLdvowe6sXIsToaT8ZMny7/Vi6uxoLh3nYx4KIiIjSTj2Jlk3aX71gswmY0Gcy7hv6KQD+oEJkBAmfQGtsbMTu3bs73L97924Es3WbgAyvpASoqFAu0xQOftYLgnK7okJ5OwGBADBvHjBlCnDppcr/581T7teby3k6PMMWArB1OIkmCsqxds9kD1yF+gaMytrK6Hq6IspARYzNxIgoorCi62miwYZwdNpmqopna4IBzN7qRQRAS7tx5C0IIwJg1lYvT6IRZQFmPSIyimz5ktPZ1QuRiIy1wZcxcWM5Fu/UdnUCEaVXwgW0yy+/HM8991yH+1944QVcfvnlKVkUUTq4XMDcucDy5cALLyj/nzuXJ89UPh9QXq70i1OHLsiycru8XHm73kqOnImKUavhPnxqdMqP7WBvsYoZFSgZq28lVGqWULuptsPJs/ZaRGDJSKCpizPAQksYBUtqIDR1nCaarl4YC3ZUQkScwh9EVHzZdWGPiKyBWY+IjCBbLuWMdfUCNzGJjCXhAtratWtx9tlnd7j/rLPOwtq1a1OyKKJ0stuBvn2Nc2miEQQCyiWuQMd+ceptr9coJ9GKMXdkJZaP34cXTv0KvtP2ofzCubqfPAOAkBSK7hrGIwtAMMbnoE2WkRMMtbkvHT3PAGVgwLLdtR1OnrXXgjCWfFeDpnDHwp7VNIUlfH2gISv+rETtMesRkVGoRTQr03T1AjcxiQwh4R5okiShpaWlw/3Nzc1oampKyaKIKLMqKzv2h2tPFIGqKuOc2LOLebCLeQAACcYYee6wOyDYBE1FNEEGnDFqMxFBQIvz0DTRdPQ8iz53OKRpwimg9EQLhkOWnbC0JhjAgh2VWLa7FjJkCBAwtZ8btwwuQ7HTIJ/8RGnGrEdERmOEnJcO6tUL8bJj601Mq2YwIjNI+ATauHHj8Ne//rXD/YsXL8Ypp5ySkkURUeZIElBbq21SaU2N8nijMcrupD3XDvcId9xdxJwwcEkdkNfx51MAgJwj4ptLJkDOUwJSOnqeteYUHdFLYuMRIMApOuI/0IQW7fThjI3l8O32dxiiwP4jlE2Y9YjISKx8KWdCVy8c3MQkIv0kfALt3nvvxaRJk/Dhhx/i3HPPBQC8+eabWL9+PV5//fWUL5CI0isUOtTzLB5ZVh6f6OWvUrgJoXAQDtEZPTWWDkbYnSxzl6G6rjrmY8ICUF7b9dtt4TDqy9tOE011z7PW8kQ7pvZzw7fbH/MyzhyImHq425I7n/GGKABK/5FRvYp4Eo0sj1mPiIzGqlM5HXYHbDYBES1XL1h4E5PILBI+gVZcXIza2loMGTIEL7zwAnw+H4455hh89NFHmDhxYjrWSEQpJElAQ8Ohk2QOx6HJpPEIgvJ4rQLBNZj36XRM8ffGpesHYoq/N+Z9Oh2BYOwCUzKMsjvpKnTBM9kDAB1Ooqm3f+M8GxP+p5w0a03OERGxAXULPWgsdiEYVE6fpbrnWWfmDC5DOE4PtDDCKB9UGvMxZsUhCkSHMOsRkVHpnfNSKRgEpH05GDdsPHLiZJAciLjk8AmW3MQkMhNbJBKJ6L2ITAkGg8jPz8fSpY3o1cuCF9ETxRAIKL3OamuVk2SCALjdQFmZcr/fH78HmtutTC7VwrdzEbxbZ0OEiDAOXasoIgdhhOEZthAlR87s5p+qo+C4lbqfQgOUiUpV/irU1NVAjsgQbAImjJyA0vGlcBW6kF8dQGFFFQqW1MAmy4gIAr65ZALqy0ujxbN09TzryuKdPsza6oUIsc0prByICCOMhcM8mHmkvpNO06EpLKG3f4qmPnACBOwbv5wBNssE9+9H/rRpaGxshNMIX2CoU8x5RKknScrVBw6HMQZwGSXndVfrnNcTf8cZG8sR64dyG4DVoyp4Cp4oDRLJeZou4QwGg9EnCsYp+zNYEhmPz6dM0RTFQ5dryrJSNKuuVopoWnqglWo8fBQIroF362wAkTbFMwDR296ts1DUaxRczuIE/zTxGeFSTlehC65CF6RmCSEpBIfdAXvuoeTZWOzCxmIXhCYJOcEQWpyOtj3PcPCyzQwVzwBg5pElGNWrCBVfVmHJdzWHmugf7kb5oFLLhjYOUSBi1iOitmJtvOo9UMoIOa87Om6SurBwmCfuJqZVcxiRmWgqoPXt2xc7d+5EQUEBDjvsMNhstg6PiUQisNlsCMf7KZyyktF2r7JJIKAUz4CORTL1dmXloZNo7adxqrc9Hu2BqXLHgg4nz9oTIaLqy4qUF9DUHhlGCVf2XHubwll7cp4dB/I6vj2dPc9iKXa6UOx0oSksIRgOwSk6LF8sUocoaD2Bxv4jZEXMekSkirfx6vEAJTodSDdazkvKwcFQrTdJs3UTk8hsNBXQ3nrrLfTr1w8A8Pbbb6d1QfE88sgj+POf/4yvvvoKP/jBD/DQQw9h3Lhxuq6Jumbk3ats0VlRrD1RBL76CqioAKqqlGmbrf++Sku1/31J4SbU7l4WtxgRRgtqvlsCKdyU8sECZg1XrXckM3nyrDN5ot3yhTMVhygQGSfrMecR6UvLxqvXCxQVpSfLaxk8ZdacBxy6yqAz2biJSWQ2mgpoZ555Zqe/z7Tnn38ec+bMweLFi3HaaafhL3/5Cy644AJs2rQJBQUFuq2LOmfk3atsIUmHipexhMNK0eyXv1R6nHXnxGAoHEzocrhQOJiWyZxmm9akR88zOmTO4DIs3R1neqqFhygQGSHrMecR6U/rxmtVVWoLaIHgGlTuWBDdhBUgwN1vKsoG39Lp1QpWznnZtIlJZDaaCmgfffSR5iccPXp00ouJZ8GCBbj22msxY8YMAMDixYuxYsUK/P3vf8cvf/nLtL0uJU7v3StShELxi2cqWVYeb7cf+pUMh+hM6HI4h5jerUMz7E6qoSrTPc/okNOd7D9C2c0IWY85j0hfiW68SlJqWrO0Hjyl5kcZMvy7fajevTTm4Ck9c15nfWw7w01SIuvQVEAbM2YMbDYb4g3sTGdfjAMHDmDDhg248847o/cJgoBJkyahtra20/eRJAmSJEVvx2uKS6mj1+4VteVwKJdhaimiCYLy+O6yi3lw95sK/25fnB5oOXAfPjUtp89Upjnib5DLNrMd+49QNtM76zHnEekv2Y3X7ujO4Cm9cl7+mgCGLqjEgGW10Unqu6a68cUtZWgs7iQrsHhGZBmaCmjbtm1L9zri+vbbbxEOh3HEEUe0uf+II45AXV1dp+8zf/583HPPPZlYHrWi1+4VdWS3Kz3M/P74xUy3O3V/D2WD56B699KYjwkjjNJB5al5wRiMfMSfO5LGw/4jlK30znrMeUT602PjtbuDpzKd8wYv8mHkbC8iogjbwQ+UTZbR3+fHgKXVqFvowY6Zh3rUqD3PmPOIrEFTAW3o0KHpXkda3HnnnZgzZ070djAYxJAhQ3RcUXbQY/eKulZWpvSciyUcVgYFpIrLeTo8wxbCu3VWh1AkIgdhhOEZtjDlEzhjMdopNBbPjI39RyjbmDHrMecRpVamN15TOXgqEzkvf00AI2d7YYsAtpa2HyDh4O2Rs7zYN6oI20e5mPOILEhTAa0zn3zyCerr63HgwIE290+ZMqXbi+pM//79IYoivv766zb3f/311xg4cGCn72O322FnZSbj9Ni9oq65XMrABnWgQ+tApN72eFJ/KW3JkTNR1GsUqr6sQM13Sw41hD18KkoHlaeseGbGaU0snhGRGWQy6zHnERlDJjdeUzV4KlM5b+iCSuXkWUvX1cWIKGLQn6qw/cnjmfOILCjhAtrWrVtxySWXYOPGjW16ZdhsNgBIWw+0Hj164JRTTsGbb76JadOmAQBkWcabb76JG2+8MS2vScnR67JB6lpJiTKwoapKuWxWlpXipdutBKB09aFzOYvhchZrKnIlKtlpTYYoorF4RkQGpkfWY84jMoZMbrymcvBUunOe0CRFe57FfFxLGINeqsFhr47BOQOY84isRkj0HW6++WYUFRXhm2++gcPhwMcff4z//Oc/GDt2LN555500LPGQOXPm4LHHHsNTTz2FTz/9FDfccAP2798fndZExlFWFrt4BqT+skGKzeUC5s4Fli8HXnhB+f/cuZkZ4mAX89C3xxEpK575di5C+cYz4N/t6zCtqXzjRPh2Lu70/ZzrJqXk9buDvTCIyOj0ynrMeUTGUFICVFQoG63CwZ8W1Y3Xigrl7amgDp4S45zpEJGDCYdfEjdHpjPn5QRDcYtnKpss45yc/6RtLUSkn4RPoNXW1uKtt95C//79IQgCBEHA6aefjvnz58Pj8eD9999PxzoBAJdddhl27dqFu+++G1999RXGjBmDV199tUPDWdKfXpcNUnx2u7lP/XVnWpNKj1NovGyTiMxCr6zHnEdkHC6X8kuSlH7FDkd68mM6Bk+lI+e1OB2ICIK2Ihp71BBZVsIn0MLhMPr06QNA6Vfx5ZdfAlCaz27atCm1q+vEjTfeiC+++AKSJGHt2rU47bTT0v6alJxM7V5RdlGnNcWiTmvqjG6n0Fg8IyKT0DPrMecRGYvdDvTtm77NV3XwFGDrcBJNuW1LaPBUunKenGfHrqluyDmxMyhEEZgwwdy71UTUpYRPoLlcLnz44YcoKirCaaedhj/96U/o0aMH/vrXv2LYsGHpWCOZWKZ2ryg7pGpak9onI1On0HjZJhGZCbMeEWVSqgdPpSvnfTGnDAOWZni0PREZSsIFtLvuugv79+8HAPz2t7/F//3f/2HixIk4/PDD8fzzz6d8gWQNZr9skIwhVdOaVJm4lFMtnk3fEGfHkojIIJj1iCjT0jF4KtU5r/F0F+oWejBylhcRUYTQwh41RNkm4QLaBRdcEP39Mcccg7q6OuzevRt9+/aNTmciIkoHM01rYs8zIjIrZj0i0otdzEvJ0Kl05bwdM0uwb1QRBv2pCoNeqlF6omVitD0RGULCBbTO9OvXLxVPQ0QUkzqtyb/b12GAQGsicuA+fKqmaU3BcStTvUwFi2dEZCHMekRkNunKeY3FLmx/8ngc9uoYZdome9QQZQ3NBbRrrrlG0+P+/ve/J70YIqJ4Uj2tKR19MtjzjIjMiFmPiKwmnTnvnAEbAfRN3RMTkeFpLqA9+eSTGDp0KE466SREIpF0rokoK3CwQnLUaU3erbMgQmxzEk1EDsIIJzStSZWqI/7seWYi/EdI1AazHhFZFXMeEaWC5gLaDTfcgH/961/Ytm0bZsyYgSuvvJLH+YmSEAgAlZVAbS3Qum1CWRnbJmiVrmlN3cGeZyagFsy2bQOWL+c/QqJ2mPWIyIqY84goVWyRBLYYJUnCiy++iL///e+oqanB5MmT8bOf/Qznn3++KZrKBoNB5OfnY+nSRvTqlebRe0Sd8PkAr/fQoB5V68E9JSX6rc+MUjWtSQ1Wye5OBoOAc+U4hiojal+17gz/EVIMwf37kT9tGhobG+FM9+henZk56zHnEVFXmPOIqCuJ5DwhkSe22+244oor8MYbb+CTTz7BiSeeiFmzZuHoo4/Gvn37urVoIj1IEtDQoHxTbGhQbqdLIKAUz4C2xbPWt71e5XGknV3MQ98eR3R7YpNz3SQAB3cYExRsCAPhMEOVEfl8QHk54Pd3XTwD+I+Q6CBmPSKyIue6ScpJNOY8IuqGpKdwCoIAm82GSCSCcPtqAJHBqQdSamqA1mcwbTZgwoT0XMlVWdnx5Fl7oghUVfEqMr0kc8SfvTAMLFbVuiv8R0gUxaxHRNmOOY+IWkvoBJokSfjXv/6F8847D8cddxw2btyIhx9+GPX19ejdu3e61kiUUuqBlPbFM0C5XVOjvN3nS91rSpJy9Vi8nz/CYeX103kSjuLTsjsZDCqhyvm2m6HKqNSqdSL4j5CyHLMeEVldIjkPYPGMiA7RfAJt1qxZeO655zBkyBBcc801+Ne//oX+/func21EKdf6QEpX3f/U+71eoKgoNQdRQqHYV4+1JsvK4zkUUB+JnEJjI1kDU6vWWv/htcZ/hJSlmPWIUovDno1HzXlapnIy5xFRe5oLaIsXL0ZhYSGGDRuGVatWYdWqVZ0+7sUXX0zZ4ohSTctllKpUXsnlcCiD/rT8LC8IyuNJP2q46ipYqTuSDFUGlkjVuj3+I6QsxaxHlBqcuG5s8TZLmfOIqCuaC2g//elPDT99iaxFy65dIjt7iR5IaX0lV3d3De12JTj5/fF7oLnd3KU0iva7k0KThKb6vRD6ODDtExZYDC2RqnVr/EdIWYxZj6j7Wk9cV78FybKSAaurOezZSDo7hcbLNokoFs0FtCeffDKNyyA6RMuuXTI7e8kcSEnllVxlZUpwiiUcBkpLu/9a1H2tj/gP+SiAoQsqMWBZLWzcSjYHrVXr9viPkLIYsx5R92iduJ6qFiGUvM4u5VR7o7F4RkRdSWiIAFG6qQ3+/f6Ou3ZqY38tj+mMeiAlEam8ksvlUnYdgY59zdXbHg8DlZE4101C0d98GHtGOfr7/ErxDND2CUf6KytLbPomwH+ERESUNC2za9QWIaQ/57pJAA4ODAgCCCvDoYiIusICGhmG1l07LY8JBDo+v3ogRetQPlEEJkxI7ZVcJSVARYWyDrWYpx5mqqjgkX6jyQ+swZhbHoItAggtCX7Ckf5iVa3by88HbrqJ/wiJiCgpnLhuTmoRTS2ese8ZEcWi+RJOonRLpMF/LLGa/2u5jFKVriu5XC7lFyczGd/QygWIiCJs4ZauH5TKaROUeiUlyrUyVVXKTyzqKUKbre0o3sZG4KGHlPtZRCMiogRx4rp5OddNAoJBFs+IKC6eQCND0Lprp0Wsnb3WB1K66pOs3p/uK7nsdqBvX4YnoxKkJgyoXQYhVvEM4FayGbhcwNy5wPz5h+5rXTwDeKKQiIi6JZFWIRz2TERkTiygkSEk0+A/FnVnrzPqZZTFxR2LaDabcj8vp6ScUPBQz7N4Yn3CJUuSgIYGFuZSaflyNqchIqK00NoqJB0tQqib1OkBRERx8BJOMgR11y5VRbR4O3vtL6NULx3l5ZSkanE4EREEbUW0VG4lJzNiluJTj7nG+/tsfaIwXV8MeP02EZElceK6efHyTSLSggU0MgR1187vT00PNLdb28+ldjt/fqXOyfY87HJPRX+/L/ZlnIl8wsXj8ymXEIpixxGz1dXKdcU8GpkcIzSnYXGUiMjS1FYh6rfy1plWvc1hz0RE5sVLOMkwyspS1wONO3uUCl+UzYFNyzitVHzCaR1Dy/5cydG7OY3PB5SXK8XQ9sXR8nLl7UREZHqcuE6UBdhqJWvxBBoZRqxdu0RwZ49SpdF1Ouo8CzHSOws2UUjvVrKWMbSc+Jk8rcdcU3miUKW1OFpUxL9bIiIL4MR1Iovi1QRZjyfQyFA627VLxJ/+xJ09Sq0dJTPx7u9fjbuV3BSW8PWBBjSFk9iJ0jqG1uwTPxPZrUvHzp6WY67pOMKqFkdj4fACIiLL4cR1Igvh1QQEnkAjA2q/a7dgAbB+feyfewUBOPVU4IQTMrdOyh6NI8cD4+Z2upW8JhjAgh2VWLa7FjJkCBAwtZ8btwwuQ7FT406UEfpzpVMiu3Xp3NnTozmNkYYXEBERERmFmY5o8moCOogFNDIstcH/ZZcphf1YZBlYuxaYMoWnaCmN2k2dWLTTh9lbvRAhQoZSIJEhw7fbj6W7q7FwmAczj9RwJDKRMbTp6M+VTokMRsjEEIWSEiXcVFUpBavWRbrS0tR/4bB6cZSIiIgoEWa8DJKtVuggFtDI8BLpjcaBhZRywWCnd68JBjB7qxcRAC1o+0mp3p611YtRvYrin0TTsz9XOiWyW6f+XstjU3ESLVPNaRIpjgLAtm3K9T5ERESUfl3kPOpCd7OTGSfO82oCaoU90MgUEumNxoGFlGqTnOs63LdgRyVExO5rJUJExZca+1rp1Z8rnRLp/aVHn7BMNKdRi6Px/myqO+5gDw0iIqIM6iznUTuBADBvnnK5z6WXKv+fNy+xH7bMOnE+masJyLJYQCPTcLmAuXOB5cuVfmfxCmnsyU3p0hSWsGx3bYeTZ+21IIwl39VoGyygHrUEOhZb1NtGHTHbWcP/RAYjVFcrO3ZWHaKgpTjamhHDIxERJSwd83CIMi5VzfPNOlRJvZpAC7O1WqGE8RJOMqUNG3iK1uqM3Fc0GA5Fe57FI0NGMBxCnqjhD5Hu/lyp/qDG6mExeLD23bpIRPtrmrFPmMsFDB8OfP65tsezhwYRkamZscUTWUiyea+z90tV83wzXwZp1VYrlBQW0Mh02JPb2swQOp2iAwIETUU0AQKcYgI7Uenoz9XZB3XcOODii4GTT05PD4tZs7T3/rLZlP9rKaSZcWdPkpTeZloZMTwSEZEmZmzxRBaRbIiO9X6pap5v9h/gysqUf8CxmK3VCiWFBTQyHSsPLMx2ZgmdeaIdU/u54dvtj3kZZw5ETD3c3fb0mdbCWLuJn0mL9UH1+5Xi1YQJiVUotexGLlwIjBoFfPKJtt26SMS6O3uJhEaVEcMjERHFlKrDOkQJSzZEx3s/my3+BqeWjT+z/wAXa6qdetuorVYopdgDjUxHa09uUVTqAvz50xxM0Ve0VTOTOYPLEI7TAy2MMMoHHdyJSkXz1UTF+qCqIhFlxzEdPSxiva5K3a2z4hAFVSK9M1RGDI9ERBSTWVs8kcHFa6aXbIjW8n5a22zEa55vhR/gOptqp57Wq6gwxi4/pR1PoJEp8RSt9aTqhHhadHK0/XS3GwtLyjDre2UaZ+uTaDkQEUYYC4d5UOx06Xe0TssHVV0LkPoeFh9/rFzKuXChtt06I+/sdeeSWq29M1RmPWlHRJTFzNziiQxK6yWZyYZorTlRCy0bf1b4AS4drVbIVFhAI1PiKVprMXLoHPzq34DHbum0+DWzOoxRc8pQUfQVlnxXAxkyBAiYergb5YNKleKZXtdzaP2gtpaOHhZnnQUce2zXgxGOPVbZVXU40j9EIRmpasqnJTSqjB4eiYioA7O3eCKD0br5mmyITiYndkXrxp+VfoBLVasVMh0W0Mi0jPiztp7MvBFi1NCZH1iDkY/dqtzoovhVvKASxRUVaBr/SwTDIThFR9ueZ3odrUum71a6elh0tlu3ZUvXham5c+N/QmfiEz6VJwdbh8au+omo9xslPJr5iwoRUYaZvcVTZ/htQCeJbL4mMvVcloE9e4AePYADB1JTPFPXdP752na4+QMcmRwLaGRqqT5Fa8agYIaplfEYNXQOfe5PsImCpuJX3ty5bQtnQPeP1nXnEzKRD2prsgx8+SUwaFDnr9mdUd7qbp3WwlRnr5+pT3it4fWoo4CTTtL2nK1DY3V12yKazQYUFxsjPFrhiwoRUYZ159uj0WTNt4FgEJOc6/ReRUeJbL7+8peJ5b2f/ETJH+oEdC3UDb72a1Jf12YD7r5b+ycKL4MkE2MBjSyhu6dozRoUzDK1Mh67HTjxRGDjxviPdbky8z1WkJowYN0KINKN60qTPVqXik/IRPtutXbddbFfszs9LLpzSWsmP+G19gW5/Xal8KX176Z9aFRfwyjh0SpfVIiIdGCFFk/8NqCzRDdfAe15r/UJeK3DAdSKb2lp21NjNtuhjJrsJ4pRL4NkYY9i4BROyno+nzKA0O/v+PU/kcGEmWaKqZUmlhMKwhaveKbqavJQItMX1aN1qfyE1DLZsiuxXlO9HBHoOE1Jvd3VZYjJjijL5Ce8Gl61fuwSnWIKKIGsb1/A6VT+b4SAxi8qRETd0p1vj0bAbwMGkMzmq9a8p7Vo1ppa8XW5lBYby5cDv/3toedqv1Yzf6IEAsC8ecCUKcCllyr/nzfPfH8OSisW0Mj04k12jsXMQcFKo9IlSRnYqEUgkNzfdSJraWgA9otOJBQzOruuNNGR3Vu2pPYTsnWS11rI0/qaWkZ5t//HqbUw1fpUn/p+//pX5j7hE+0f13qKqRG/WGhlpS8qREQ60fLt0aj4bcAAktl8PZj3mnKAr50CmlJxjVlXFV+7HXjtNWN8onTnh8D2urmB3RSW8PWBBjSF0/hDChkCL+Ek00rFVW569XfvLiNPrUyGEYYIdPh8svXEVFTiFixAMWqSf+JErudIxydku75bTRE7gnDCiSDy8L225+jqNbvqYaHu4LX/x3nBBYn9Rb/3nhLSamq07Zqm6hM+2f5xRvxioZXVvqgQEenIjC2e+G3AIJJoprcmGMCCYzZg2V02ZSK8DEytA27xA8X1Cby2eolnrKb+RvhESXXvnW60F1kTDGDBjkos212rfOwhYGo/N24ZXIZipwnzIMXFE2hkSqm4yi3ZwzBGkEzByciS2WxLpU4/nyI2+DAFE7Eai3F9/Cfp6oOs9XqOY49N3yeky4U1pQswffwO9Lbtx0B8jd7Yh+moRDUmxH//eK+pXo6oDgjo6h/n3Xdrb1qrNqT1+xO75CAVn/BaTw62Z8QvFlol+0Ullbu/REQW0/rbo9FZLVsaWrzvnVouyTy4+bpopw9nbCyHb7cf8sFrJ2QB8J0gYOI1wOKxCazrH/8AXnhBuUxz7tzOi1F654V09N5J8uhl24+9shYZMny7/Zi4sRyLdxq0DxB1C0+gkel0pwd5a0Y49ZQso06tTJaek6tifT61IBcAMAsLMQobuz6JFu+DrGVkd0ND2j4hF/kGY7Z3JEQxAjmiVCpliPAJl2CpfAkWYhZm4tHuv6aWf5zqzmasP2vrtyfawy3W30UiRwG0nBzsjNG+WGiV6BeVbdvw/+3df3RU9Z3/8dfMRMaEmAgSFBQEZCu1iRZEMcR6YMsRWzdEBNx1z7rFUo8INTW4Wmx7Fvrdw2H9RdqooG6p2N1urZUFNnXbbXVBIYBULdbYxi1aixsqUsEMkJwJmbnfP8YZ8mPmzp2Ze+fOj+fjnByYn/czNzO573nf9+f90Xe/m38rrwBAkbF66Cu02DInWa2cip58ja7m0D8Wil5ubNSu8dLyN1tkSOrTwHip75OEzrLrpZrDUt37Fsa3Z480f775fdyMF+z6EthfmhV1uwLtWv5uon0fubzs3RbVDJ9IJVqBIYGGvGPXLLd8CRTiBT6pJJymp3LmyUVurVxl6f2kkJrVFD+B5vFE+pclS5gkm8/h0BtyV3ullrdMkSGP+kIDq7/6wpFkWtIEodVtWtmZVl7j4FWdrEqUYU2n1N8seDWTr98qUvmjMmGC9PWvs0QbAOQws0PfX/xFZrGl3Sczi0Kqy5taOPm67ner5ZNvSAKnP58hNddaTKCtXx95c5h9gXIzXnCi1UmaFRXrOp9Lvu/lU/OhzSTQCgwJNOQVO6fd53qgkOw7v9WE0yuvRBaRyfXiEIsn2yyN3xvsUUl3QH1lFQr7SxPez+r7qU9naIvmq0dnDu0bZhjS1KnJBxWVaMluh96Q6567UD6fMSR5NuApzRKEVrdpdWdGlz43jMS/6OjS6KmKl2FNNWDtr3/wumtX8u3n+7cKq39U3nnn9P8H3yalfvYXAGCrRIe+PXsif+YHt7pKNba0+2SmKwKB7G0r3copk5OvPaFgrO+WmT6vtGWK1FMilfYlGafV5JMb8YJTvdfSOIFted8rpC0f7VZPKKhSX57GhhiCHmjIK3b3Z0ihxUBWWZneb9Zaa7BMWwNkS6YrV1W279Klq2/U7Hnluuam8zR7XrkuXX2jKtvjH+RTej/Jp4Aqht7g8Ui//rW1J0nG5jdkT9CrbXuq1Bcy/1PfP0GY9jZT2ZmGEVkCPd4vuv/S6FYlWinKjmV2o8u2339/8nHk+7cKK/36Jk3KjZW3AABxmR36oofp6GE2ldgy0aE2n82p2JedDWW6vGmcZnqBUHfSBE5U2CsFrORvrPZytfJGuegie+MFp5r0+f3SjBnJmzH7fLEZJynte4UVCNEwsJBQgYa8YvcsNzurnuySykmqeNXdieRLcUi6K1ed37pBU1qWy/D55PlkR3jCYY3a26qqtq3qaFyvzvqlAx6T0vtJIVUoztlKw7BvlSGb35CB7hKFw9aa9oflU8A7QqXhP6W3zVQ/nNOmRRJm0aayHo909tmnb7caJHk8iVeKsrPUf9q03Ptj4QSzKSPz5kkrV7JEGwDkMCuHvv6sxJZmizIiCYcqpyp8ZfLKaymR45VHFUGLJyet9nI1e6PU10v33Wfva3ai1Ul0uo+VBav6nSRNbd97VeHLw9YeSIgEGvKKE7Pcci1QSPU7f/+E07e/Lb32mvmxJdXWAG5JNNMxnsr2XZrSslweGfKEBtanez+5PKVlmU5MrFFXdd2AbVh5P5XolBq0bej0zSg7G8fb+IasKOuT12tYSqJ5PWFVzPi09Mrh9LaZzocz0Tzlz3xG+u1vk/dSmz49slJnvP3uRMCaa38snJIoi+3gQhcAgMxZPfTFkyi2TOVkJuJwaNWyUp9fDSNr1Xp0r2kfrhL51HD2DJWG90pWqqZS6eWazXjB7i+B/ec5myXP4pwkTWnfn1PL9M0CQwINeceJ/gy5Eihk+p0/WfLM7LH57MLn1kUqzwYlz/ozfD6N39ysN/sl0CSL7yf51KTmxHewu3G8TW/IUn9YDbVH1Lp3lOk0zhJf5H6lq+6TgivS32YqH06z3mRWTpuHw9LNNyceo1PL7ObKH4tsGJzFzpeVVwCgSKVy6BssXnyYyslMJODgsXPF+Qu19ah53BVSSE3jFkm1HucaP2crXrDrS6DZdJ/+TGY5WN73Y/O4tQfiogca8o6T/RnitBjIqkym99vdGiA6sy5ZGwQ7pbNNb7BHVXu2xSrNEt4v1KfRu7fIG+wZcL3Z+6lEffIorPVaZt5g38oqnOmw4Q25YuEfFTJZQECSQiGPmhYczHybVj6cy5ZF/k02T3nw4wZfTvYhjwZvVqST7HH7j4Ubomd/rfQ0ceozAQBIKJVDXzyptI6CRQ4eO6+uqNb6SY3yKFLt1F+JfPJIWj+pMbIKZDYbPzv1mu36EmilJ53XK111VaQPbpznS2nfo6BQgYa8VKgzqTI5YWPXyZ5Ulz23Q7IVR82UdAdiPc+S8YTDKukOqHfQypxx308eQw01f1DTbxYnTp5JOd84/urqLq1v7NCylimfrMZ5OrIu8YUVCnm0vrFDddVd9mwwUWO+aND2+OORXmfJ3qw+X2QqZ0VFeh/yXF9mN18V1RJtAJBfrB76EqF42CEOHjuXjqlXzfCJaj60WVs+2q2wwvLKq4ZzatU0dsHpBE62Gz879Zoz/RKYyqrxr7xiOmXH8r5HQSGBlmeKYdaQVbk+kyqdcWXynd+OfEG6y55nwmwmX1tb5FhutvpmX1mFDK/XUhLN8HrVVxZnJU3FeT/1Hdf1VX+UWqdLLbvzunH80vpO1Uw8oebN47Vl92iFwx55vYYaao+oacFB+5JnUdGduWWLtH79wGRZOCwdPWr68B6dqUCoQhVvHlBp67ORK9P5kJPssV8urrwCAIixcuiLh/NJ/dj95cLhY2ddRbXqKqrVEwoqEOpWha8sft8tOysQku0jJ19zJl8CbW7xYXnfo2CQQMsTmVToFLpc68+Q6e8qk+/8mTw2nWXPrSS4zKSy4miifRf2l+pIbYNG7W01ncYZ9pXoSG2DwoOqzwaLvZ+iC24WSLljXXWX6qrfVE/Qq0B3iSrK+lTqT7NRihXt7ZHkmWQ5UNmlOq1Tk7bpBoXlk9cIqeH//Ul33/yn9JJ8JHucUSCfCQAoRGaHPjOcT5KzX7iycOws9fmTJ28yrUBIZR85/ZrT+RLoUH82S/seBcFjGMnWbC0cgUBAlZWV2rq1S8OHx69CyUX9K3QSff9LN4GBgTI94WTX7yqT50n3satXp1/y39yc3jHQyjajZ0RXrUp8n8r2XZredI08SvznzJBHrzbvHLAKZ0KBgOZU7Bt6fa6WO+aiFN9QG7RUy/WYfAqpT2fEru8/zXRpfWd6Y2lvHxq8zZw5MHjjd5ueItlvgZMnVXnDDerq6lJFRf7ED8UmX+M8wAmDD339ZxH0zx0U5feJeHFeNr9w5euxM5N9lEuv2a4vICgYqcR5VKDlODsqdJCcHSec7PxdZXLCJp3H2rXseSoyXXG0v67qq9XRuF5TWpbJ8PkGVKKFfSXyhELqaFxvLXlmJtfKHXNVim+oXarTcj0mQ171DVrbJtqzbVnLFNVMPJF+JVqis62U92aGzwQA5KR4h77f/57i4biy/YUrH4+dme6jXHrNtPhABkig5bjoIiHJEuTpJDAQkWkPrii7f1f9A59jxyJnDs8+29qxJ9XqbLuXPbfC5hYE6qxfqhMTazR+c7NG794iTzgsw+vVkdoGHVzQlHnyDNal+IZap6ZPKs8SLx3m8xlq3jxeddVvpj+uwcGbXR9+AAByVP9DX673D3YNX7iSK6R9RIsPZIAEWg6zs0IH8dl1wsmp31WmxTFWT/ak0g4gHisJrky2abUFQVd1nd6srpM32KOS7oD6yiqS9jyDA3y+03NFkujRmbGeZ2b6Ql5t2T1aPUGvPb3bKO8FABSpXCoGch1fuJIrxH1EP1ekiQRaDrO7QgdD2XUyxYnfVTaLY9xY9tyOVUMTCftL1UviLPv6Z3yttNf0ehWonKDwMfPkWVQ47FGgu0Sl/t4MB6rCOpMKAADSwxeu5Ap1H1GSiTQkni8D10UrdKxIJ4FR7KInU5IljPqfTEnE7t+V1eKY9nZr27Ri4cL0kmc+X6QfezrHGyvbpAVBnmhtlZqaIhnRFIKsipXL5PVYW8vG6zVUUZZ4pVXL7PzwAwDgkmibDw5TGeALV3KFvo/8fmnECJJnsIQEWg6LVuj4khRnZJLAKGbpnExJxO7fVbQ4Jtlzbd5sfp9URNsBRJ/bqkwSXGbbjF6mBUEeMMv4xtPvl1s67dNqmHlEJT7zD2OJL6z5Mz+0Z/qmnR9+AAAScCrB1d4eWUhw3jzpppsi/65ebe+J1aLBF67k2EdADFM4cxyLhDjH7h5cdv2u3GwzEK8dgJVlzzNJcNGCoABYmQ4ZFeeXu2LhH7W1rcr0YaGQR00LDtoxWmca8AEA8AknF3hm/RsH8IUrOfYRIIkEWs5jkRDn2N2Dy67fldttBrKx7PngVgO0IMhjVjO+UiQb+5OfSBUVA66+urpL6xs7tKxlinw+Q32h08XRJb6wQiGP1jd2qK66y54xO9mADwBQ1JxMcLH+jUP4wpUc+wiQRAItL1Ch4xy7T6bY8bvKleIYJ5Y9T3ZG1s5VoYKhHnWHAirzVcjvS2FBgUDAngEUi1QyvoaRMGG1tL5TNRNPqHnzeG3ZPVrhsEder6GG2iNqWnDQvuRZFGdSASDn5PuJNKcTXKx/Y4NEcR5fuJKzax/l+wcdRY0EWp6gQscZTpxMSeV3Fe8+uVwck26CKxiUtm6Vvvc956cctAd26bnOddpzdJvCCssrr2pHNmjh+XeruqLO0nPMqdiX+UCKhY0Z37rqLtVVv6meoFeB7hJVlPXZ0/MsHs6kAkDOcHLKYzY5meBys8VHoUkY5/GFK7lM9lGhfNBR1Eig5Rk7K3QQ4dQJJ7PfVbLjR6EUx0Rf5+7dkeIjydkpB61/2qCWd5fLJ5/CikSYYYW192ir2o5uVeOk9aofszT9DWAoBzK+pf6wSv29Ng4yAc42A4DrCqWnl9MJLrdbfBQVvnAll+o+KpQPOope3iTQ1qxZo+eff1779+/XsGHD9PHHH7s9JBSQbJ5wsnr8yPfimP6vM5o8M5PplIP2wC61vLtckqGQ+gbcFr3c8u4yTRxeY7kSDRblc8aXs81ATiDOK06F1NPL6QRXrrT4AFJWSB90FD1v8rvkht7eXi1atEh33HGH20NBAfP7pREjnPv+bPX40d4eSaI1N0eKYbyffFKjxTHNzbl9ksbsdSbS/4xsOp7rXCefzJfX9smnzYea09sAEotOh5SGLnEevZzrGV+nP/wATBHnFafolEcz0RNsuS6a4LLCaoIrGJSOHTtdrVZba21/zZyZncNZMNSjY72HFQz1OL8x5K9C+qCj6OVNBdq3v/1tSdKmTZvcHQiQgVR7Y+RrcYyV1xlPulMOgqGeWM8zMyH1afdHWxQM9aS2sACSYzokgAwQ5xWfQuvpZWdHg0StPqZNy42Cbzv6zaJIFNoHHUUvbxJo6QgGgwr2K2cJsLoeXJTJ8SOfWjFYfZ3xpDvloDsUSJo8iworrO5QgASaE/I14wsgLxHn5bdC7OllR0eDZK0+Zs+Wtm93r8UH/WaRkkL8oKOo5c0UznSsXbtWlZWVsZ9x48a5PSQUsXSOH/koldfZXyZTDsp8FfJa/HPmlVdlvorUN4K4eoJeHT42TD3Bfvuf6ZAAsoA4L785MeXRbZl2NLDS6mP7dunOO91p8ZG836yhlneXqT2QJIuI4lGIH3QUNVcTaCtXrpTH4zH96ejoSPv577vvPnV1dcV+3n//fRtHD6SmEI8f8XpfpPI6+8tkyoHfV6rakQ3yJSmq9alEM8+Zn7j6jOoFy3a1V+rG1ZeqfN5snXfTNSqfN1s3rr5Ube2Vbg8NQI4gzoOZXOzpZYdMethabRX1619Lq1ZJ//mf0rPPRv5dtcr5bgn0m0XKCvWDjqLl6hTOu+++W4sXLza9z6RJk9J+fr/fLz8fQuQIO3tjuC1Z7wsrrzPKrikHC89fobajW03vE1JIC8Y2md5nTsW+9AdRJDa0nq/lLVPk8xkKhz2SpHDYo9a9o7S1rUrrGzu0tL7T5VECcBtxHpLJ50WczaTT0SDdVh/Z+gjQbxZpK9QPOoqSqwm0qqoqVVVVuTkEIKsK4fhhpffFwoVLk75OSfJ47OsxX11xtRonrVfLu8vkk2/A1AKfShRSSI2T1tPcNkO72iu1vGWKDHnUF/IMuK0vFDnVvqxlimomnlBddZcbQwSQI4jzkEx0ymO055cbPb2clEqCy6lWUXa1JaXfLNJW6B90FJW8WUTg4MGDOnr0qA4ePKhQKKT9+/dLkiZPnqzy8nJ3BwdYlO/Hj+S9L6SWd5epuaZGjY11pq/zK1+RbrjB3jOn9WOWauLwGm0+1KzdH205XR13ToMWjG0ieWaDdc9dKJ/PGJI868/nM9S8ebzqqt/M4sgA5DPivOLFIs4R0RYYVpJoVlp9JFrJc+HC9PZptN+slSQa/WYxBB90FIi8SaD94z/+o55++unY5alTp0qStm/frlmzZrk0KiB1+Xz8iPa+GJw86y/a+2JVfZ0rr7O6ok7VFXUKhnrUHQqozFfBGVCb9AS92ranKjZtM5G+kFdbdo9WT9CrUn8aK0oAKDrEecWNRZxPt/pINo3TSquPZCt5NjamvthAtN/s3qOtSeLAEtWe00DshaH4oKMA5E0CbdOmTdq0aZPbwwBskY/Hj3R6X1RXl7r2Ov2+UoI3mwW6S5Imz6LCYY8C3SUq9fc6PCoAhYA4D1J2e3rlojFjrPVAM2v1YWUlz5aWyMncVE9m2tVvFkWu2D/oyGuursIJFDu/XxoxIj+OIen0vojKp9eJxCrK+uT1Gpbu6/UaqihLfIYaAACcFp1ymUyyKZhWV/LcvDm18Umn+81KniErn0cue+g3C6CgkUADYEm094UV9L4oTKX+sBpqj6jEZ55ILfGFNX/mh0zfBADAIiuJL69X+uCDxLdHV/JMtgp6/5U8U1U/Zqmaa3aq9pyGWFwY7TfbXLNT9WOWpv6kAJAn8mYKJwBnWJ1eSe8LSNKKhX/U1jbzVfVCIY+aFhzM0ogAAMhNVmOsaOIr2fTNcPh04ive8zm1kudg9JsFUKxIoAFFKp3Vmeh9gauru7S+sUPLWqZ8shrn6arEEl9YoZBH6xs7VFfd5eIoAQBwT6oxll2Jr2Qrc2Z6/8Hyrt9sIJD8PgBggimcgE2CQenYsfTK4bOttVVqaoqsxjR4daampsjt8RR07wuCKsuW1ndqZ/Oraqg9EuuJ5vUaaqg9op3Nr2ppfafLIwQAwB3pxFhlZZEkmxVeb+LEVz7EoG6bU7HP7SEAyGNUoAEZSqeSy02Zrs5UP2apJg6v0eZDzdr90RaFFY71vlgwtik/k2efIKiyrq66S3XVb6on6FWgu0QVZX30PAMAFLV0Yyy/PxI77t1r3r/M54vcb3D1WTQW3b07tfGmO4UTAIoVCTQgA62tkUDI5xt6lrGtTWpslOrr3R3jYNEmtckCtM2bEycA6X2BqFJ/WKX+XreHAQCA6zKJsRYujMSOZkIhacGCgdf1j0UNawtlSzKvZAMAxMcUTiBNVs8ytrdnd1xm7F6dye8r1Yhh55I8AwAARS3TGKu6OnLiVRq6Gmf0cmPjwMSbWSxqxueTZs6k+gwAUkUCDUiTleXGo2cZc0U6TWoBAABgzo4Yq75eam6OTNOM9kSLtgZpbh46q8FKLBpPvEo2AEByTOEE0mB1ufH+Zxlz4SxftEmtlQCP0n4AAABr7IqxqqsjP8FgJMlWVhY/hrQaiwIA7EMFGpCGfK3kijaptVI5R2k/AACANXbHWH6/NGJE4vulEovGG0MuzZDIBz1Brw4fG6aeIF+fgWLGXwAgDXYtN+6GhQut9eegtB8AAMC6bMZYqcSi8cZgpddtQQkE0nrYrvZK3bj6UpXPm63zbrpG5fNm68bVl6qtvdLmAQLIByTQgDTkcyVXOk1qAQAAYC6bMZbVWDSRbM6QCAalY8fcT9jNqdiX0v03tJ6va5qmq3XvKIXDHklSOOxR695R+lzTdD3eer4TwwSQw+iBBqQp3eXGc0F9vTRxYqR8f/fuSBAVbVK7YAHJMwAAgHRkM8ayEosmko0ZEu3tkYUOor3aovth4cLcjzV3tVdqecsUGfKoL+QZcFtfKFKDsqxlimomnlBddZcbQwTgAhJoQJqiZxlbWiJn//qX7Ecv53Ill9UmtQAAALAuWzFWdbU0a5a0Y0dqj/P5IoksJ+O+1tbTMXK0V1s4LO3dG0n6NTYOXVU0l6x77kL5fMaQ5Fl/Pp+h5s3jVVf9ZhZHBsBNJNCADFDJBQAAgHj8fmeTVO3tqSfPJOdnSLS3R5Jn0W0N3rYUuX3ixNyMlXuCXm3bUxWbtplIX8irLbtHqyfoVak/8+VQe4JeBbpLVFHWZ8vzAbAfCTQgQ/layZXPZfUAAADF7rnnhs6CMJOtGRJWxhVdCTQXY85Ad0nS5FlUOOxRoLtEpf7etLe3q71S6567MJa083oNNdQe0d0L/8j0UCDHkEADbDL4LGMuJ9TyvaweAACgmAWDp0+CWuHxZGeGhNVx9V8JNNfi5IqyPnm9hqUkmtdrqKKsL+1tbWg9X8tbpsjnM4YsVLC1rUrrGzu0tL4z7ecHYC8SaIDNcr2yK9/L6gEAAIpdd7f15Jkk/eAH0nnnOTeeqFTGFV0J1O0E2uCpk6X+sBpqj6h176jYggHxlPgi90t3uiULFQD5J/FfBKCIpbvcdmur1NQUqeQaXNnV1BS53W3Rsnoz0bJ6AAAA5J6ysshJWiu8XmnECGfHE5XquJxeCdTMrvZK3bj6UpXPm63zbrpG5fNm68bVl6qtvVIrFv5RIZMFBCQpFPKoacHBtLcfXajATHShAgC5gQQa0E97u7R6tTRvnnTTTZF/V6+OXG/lsVYqu6w8l1OiZfXJemX0L6svCoGA2yMAAACwzO+PzHCwclJ05szsVXnl5LjixHkbWs/XNU3T1bp31JCpk59rmq72P5RrfWOHPDJU4htYYVbiC8sjQ+sbO9KuDIsuVGBW4SYNXKgAgPv4JAKfyLR6LB8qu9Ipqy8Wcyr2uT0EAAAAyxYutHZS1MkVN+PJxXH1j/MGTp0c+HW4L+SVIU9s6uTO5lfVUHtEXm+kUiza4H9n86sZ9SZLZ6ECAO7jkwgo875g+dIwNVpWbyWJ5nZZPQAAABKrro4s/BRdGKp/DJutFTfzaVxR0amTg/uO9RedOvncqjdVV/3mkD5pmcrmQgUA7EMFGqDMq8fypbIrJ8vqAQAAkJb6eqm5ORLfRXuPRRewam52b1X1XB1XulMnS/1hnTui15bkWfT5GmqPDJkeOliJL6z5Mz+0bbsAMkMFGoqeHdVj+VTZtXCh1NZmfh83yv0BAACQuurqyE8wGDlJW1aWGydBc3Fc6UydLPX3OjKWFQv/qK1tVab3yXShAgD2ogINRc+O6rF8quyKltVHx9Nf9LKbZfUAAABInd8fWW3T7STVYLk0rujUSSucnjp5dXWXowsVALAfCTQUPbuW287FhqmJ5GpZPQAAAOCUXJs6ubS+07GFCgDYjymcKHrR6rG9e80TYD5f5H6Jzp7lesPUwXKxrB4AAABwUq5Nnayr7nJkoQIA9qMCDZB91WP5WNmVS2X1AAAAgJNydeqk3QsVALAfFWiA7K0eo7IrzwQCbo8AAIC8QoyDvJEgzlta36maiSfUvHm8tuwerXDYE5s62bTgIH3HAMRFAg34RH29NHGitHlzZLXNcPh09diCBalPvfT7CSrzxZyKfW4PAQCAnNfeLj333OnVy6Nx0sKFudOiAhgsUZzH1EkAqSKBBvRD9RgAAMBQra2nK/Wjq5eHw5Eesm1tkUr9XGxVASRT6g+r1N/r9jAA5AF6oAFx0BcMAAAgor09kjyThvaMjV5uaYncDwCAQkUCDQAAAEBCzz0XqTwz4/NF2mAAAFCoSKABAAAAiCsYjPQ8s7Ja+e7dkfsDAFCISKABAAAAiKu7+3TPs2TC4cj9AQAoRCTQAAAAAMRVVhZZbdMKrzdyfwAAChEJNAAAAABx+f1Sba21HmgzZ7IAEwCgcJFAA1C8AgG3RwAAQM5buNBaD7QFC7IzHsAS4jwANiOBBqCozanY5/YQAADIadXVUmNj5P+DK9GilxsbI/cDcglxHgA7lbg9AAAAAAC5rb5emjhR2rw5stpmOBzpeVZbG6k8I3kGACh0JNAAAAAAJFVdHfkJBiOrbZaV0fMMAFA8SKABAAAAsMzvJ3EGACg+9EADAAAAAAAATJBAAwAAAAAAAEyQQAMAAAAAAABMkEADAAAAAAAATJBAA1CcAgG3RwAAAAAnEOcBcAAJNABFa07FPreHAAAAAAcQ5wGwGwk0AAAAAAAAwAQJNAAAAAAAAMAECTQAAAAAAADABAk0AAAAAAAAwAQJNAAAAAAAAMAECTQAAAAAAADABAk0AMUnEHB7BAAAAACAPEICDUBRmlOxz+0hAAAAwG6BAHEeAEeQQAMAAAAAAABMkEADAAAAAAAATJBAAwAAAAAAAEyQQAMAAAAAAABMkEADAAAAAAAATJBAAwAAAAAAAEyQQAMAAAAAAABMkEADUFwCAbdHAAAAACcQ5wFwEAk0AEVnTsU+t4cAAAAABxDnAXBKXiTQ3nvvPS1ZskQTJ05UaWmpLrroIq1atUq9vb1uDw0AAAAZIM4DAAD5oMTtAVjR0dGhcDisJ554QpMnT1Z7e7tuu+02nTx5Ug899JDbwwMAAECaiPMAAEA+yIsE2nXXXafrrrsudnnSpEl6++23tWHDBgIrAACAPEacBwAA8kFeJNDi6erq0siRI03vEwwGFQwGY5cDNJUEAADIecR5AAAg1+RFD7TBDhw4oEceeUS333676f3Wrl2rysrK2M+4ceOyNEIAAACkgzgPAADkIlcTaCtXrpTH4zH96ejoGPCYzs5OXXfddVq0aJFuu+020+e/77771NXVFft5//33nXw5AAAA+ARxHgAAKCSuTuG8++67tXjxYtP7TJo0Kfb/Q4cOafbs2Zo5c6aefPLJpM/v9/vl9/szHSYAAABSRJwHAAAKiasJtKqqKlVVVVm6b2dnp2bPnq3LL79cTz31lLzevJx9CsBN9McBgKwhzgOQVcR5AByWF4sIdHZ2atasWbrwwgv10EMP6ciRI7HbzjvvPBdHBiDfzKnY5/YQAAD9EOcBsAtxHgAn5UUC7Ze//KUOHDigAwcO6IILLhhwm2EYLo0KAAAAmSLOAwAA+SAv6uMXL14swzDi/gAAACB/EecBAIB8kBcJNAAAAAAAAMAtJNAAAAAAAAAAEyTQAAAAAAAAABMk0AAAAAAAAAATJNAAAAAAAAAAEyTQABSHQMDtEQAAAMAJxHkAsoAEGoCiMadin9tDAAAAgAOI8wA4jQQaAAAAAAAAYKLE7QFkk2EYkqTubkp8gaLTHVDAd9LtUQDIQ4Hubkmn4wjkJuI8oIgR5wFIUypxXlEl0I4fPy5J+tu/HefySAAAQL45fvy4Kisr3R4GEiDOAwAA6bIS53mMIjqdGg6HdejQIZ111lnyeDxuDyenBQIBjRs3Tu+//74qKircHk5RYd+7g/3uDva7e9j31hmGoePHj2vs2LHyeul+kauI86zj8+8e9r072O/uYL+7h31vXSpxXlFVoHm9Xl1wwQVuDyOvVFRU8IFzCfveHex3d7Df3cO+t4bKs9xHnJc6Pv/uYd+7g/3uDva7e9j31liN8ziNCgAAAAAAAJgggQYAAAAAAACYIIGGuPx+v1atWiW/3+/2UIoO+94d7Hd3sN/dw74Hiheff/ew793BfncH+9097HtnFNUiAgAAAAAAAECqqEADAAAAAAAATJBAAwAAAAAAAEyQQAMAAAAAAABMkEADAAAAAAAATJBAQ1LvvfeelixZookTJ6q0tFQXXXSRVq1apd7eXreHVvDWrFmjmTNnqqysTGeffbbbwylYjz32mCZMmKAzzzxTM2bM0L59+9weUsF7+eWXVV9fr7Fjx8rj8Wjr1q1uD6korF27VldccYXOOussjR49WjfccIPefvttt4cFwEXEee4hzsseYr3sI9bLPuI855FAQ1IdHR0Kh8N64okn9NZbb6m5uVmPP/64vvGNb7g9tILX29urRYsW6Y477nB7KAXrxz/+sVasWKFVq1bp9ddf12WXXaa5c+fqww8/dHtoBe3kyZO67LLL9Nhjj7k9lKLy0ksvafny5dq7d69++ctf6tSpU7r22mt18uRJt4cGwCXEee4hzssOYj13EOtlH3Ge8zyGYRhuDwL558EHH9SGDRv07rvvuj2UorBp0ybddddd+vjjj90eSsGZMWOGrrjiCj366KOSpHA4rHHjxunOO+/UypUrXR5dcfB4PNqyZYtuuOEGt4dSdI4cOaLRo0frpZde0jXXXOP2cADkCOK87CLOcxaxnvuI9dxBnGc/KtCQlq6uLo0cOdLtYQAZ6e3t1WuvvaY5c+bErvN6vZozZ4727Nnj4siA7Ojq6pIk/p4DGIA4D4WCWA/FjDjPfiTQkLIDBw7okUce0e233+72UICM/PnPf1YoFNK555474Ppzzz1XH3zwgUujArIjHA7rrrvuUl1dnaqrq90eDoAcQZyHQkKsh2JFnOcMEmhFbOXKlfJ4PKY/HR0dAx7T2dmp6667TosWLdJtt93m0sjzWzr7HQDstnz5crW3t+uZZ55xeygAHECc5w7iPAC5gDjPGSVuDwDuufvuu7V48WLT+0yaNCn2/0OHDmn27NmaOXOmnnzySYdHV7hS3e9wzqhRo+Tz+XT48OEB1x8+fFjnnXeeS6MCnPfVr35VP/3pT/Xyyy/rggsucHs4ABxAnOcO4rzcQqyHYkSc5xwSaEWsqqpKVVVVlu7b2dmp2bNn6/LLL9dTTz0lr5fixXSlst/hrGHDhunyyy/Xiy++GGtqGg6H9eKLL+qrX/2qu4MDHGAYhu68805t2bJFO3bs0MSJE90eEgCHEOe5gzgvtxDroZgQ5zmPBBqS6uzs1KxZs3ThhRfqoYce0pEjR2K3cebGWQcPHtTRo0d18OBBhUIh7d+/X5I0efJklZeXuzu4ArFixQp96Utf0vTp03XllVfqO9/5jk6ePKlbb73V7aEVtBMnTujAgQOxy3/4wx+0f/9+jRw5UuPHj3dxZIVt+fLl+vd//3dt27ZNZ511Vqz/S2VlpUpLS10eHQA3EOe5hzgvO4j13EGsl33Eec7zGIZhuD0I5LZNmzYlPMDw9nHW4sWL9fTTTw+5fvv27Zo1a1b2B1SgHn30UT344IP64IMP9NnPflYtLS2aMWOG28MqaDt27NDs2bOHXP+lL31JmzZtyv6AioTH44l7/VNPPZV0yhGAwkSc5x7ivOwh1ss+Yr3sI85zHgk0AAAAAAAAwAQNDgAAAAAAAAATJNAAAAAAAAAAEyTQAAAAAAAAABMk0AAAAAAAAAATJNAAAAAAAAAAEyTQAAAAAAAAABMk0AAAAAAAAAATJNAAAAAAAAAAEyTQAAyxY8cOeTweffzxxzn1fB6PR1u3bjW9z0cffaTRo0frvffey2hbbtq0aZPOPvvs2OXVq1frs5/9rKPbnDVrlu66667Y5auuukqbN292dJsAACD7iPPcRZwH5C8SaECR2rNnj3w+n66//nq3h2KrNWvWqKGhQRMmTHB7KLb5h3/4B7344otZ3ea3vvUtrVy5UuFwOKvbBQAAmSPOyx/EeUD+IIEGFKmNGzfqzjvv1Msvv6xDhw65PRxbdHd3a+PGjVqyZInj2zp16pTj24gqLy/XOeeck7XtSdIXvvAFHT9+XD/72c+yul0AAJA54rzMEOcBiIcEGlCETpw4oR//+Me64447dP3112vTpk1JH9PW1qZZs2aprKxMI0aM0Ny5c3Xs2DFJUjAYVGNjo0aPHq0zzzxTV199tX71q18NeY7XXntN06dPV1lZmWbOnKm33357wO0bNmzQRRddpGHDhuniiy/Wv/7rv6b0uv7rv/5Lfr9fV111Vey66LSCF198MaNtezwebdiwQfPmzdPw4cO1Zs2aWMn997//fY0fP17l5eVatmyZQqGQHnjgAZ133nkaPXq01qxZM+C51q1bp5qaGg0fPlzjxo3TsmXLdOLEiYSva3Bpv8fjGfLT/0xse3u7vvCFL6i8vFznnnuubrnlFv35z3+O3X7y5En9/d//vcrLyzVmzBg9/PDDQ7bp8/n0xS9+Uc8884zpPgcAALmFOI84jzgPcAYJNKAIPfvss5oyZYouvvhi/d3f/Z2+//3vyzCMhPffv3+/Pv/5z+uSSy7Rnj17tGvXLtXX1ysUCkmS7r33Xm3evFlPP/20Xn/9dU2ePFlz587V0aNHBzzPN7/5TT388MN69dVXVVJSoi9/+cux27Zs2aKvfe1ruvvuu9Xe3q7bb79dt956q7Zv3275de3cuVOXX3553Nvs2Pbq1as1f/58vfnmm7HHv/POO/rZz36mn//85/rRj36kjRs36vrrr9f//d//6aWXXtL999+vb33rW3rllVdiz+P1etXS0qK33npLTz/9tP7nf/5H9957r+XX+ac//Sn2c+DAAU2ePFnXXHONJOnjjz/WX/7lX2rq1Kl69dVX9fOf/1yHDx/WTTfdFHv8Pffco5deeknbtm3TL37xC+3YsUOvv/76kO1ceeWV2rlzp+VxAQAA9xHnEecR5wEOMQAUnZkzZxrf+c53DMMwjFOnThmjRo0ytm/fHrt9+/bthiTj2LFjhmEYxs0332zU1dXFfa4TJ04YZ5xxhvHDH/4wdl1vb68xduxY44EHHhjwfC+88ELsPs8//7whyejp6YmN6bbbbhvw3IsWLTK++MUvxi5LMrZs2ZLwdTU0NBhf/vKXB1xn57bvuuuuAfdZtWqVUVZWZgQCgdh1c+fONSZMmGCEQqHYdRdffLGxdu3ahOP+yU9+Ypxzzjmxy0899ZRRWVk5YDuXXXbZkMeFw2Fj/vz5xuWXX250d3cbhmEY//RP/2Rce+21A+73/vvvG5KMt99+2zh+/LgxbNgw49lnn43d/tFHHxmlpaXG1772tQGP27Ztm+H1ege8FgAAkNuI84jziPMAZ1CBBhSZt99+W/v27dPNN98sSSopKdFf//Vfa+PGjQkfEz0zGc8777yjU6dOqa6uLnbdGWecoSuvvFK/+93vBtz30ksvjf1/zJgxkqQPP/xQkvS73/1uwHNIUl1d3ZDnMNPT06Mzzzwz7m12bHv69OlDnnfChAk666yzYpfPPfdcXXLJJfJ6vQOui25Lkl544QV9/vOf1/nnn6+zzjpLt9xyiz766CN1d3dbfamSpG984xvas2ePtm3bptLSUknSG2+8oe3bt6u8vDz2M2XKFEmR39U777yj3t5ezZgxI/Y8I0eO1MUXXzzk+UtLSxUOhxUMBlMaFwAAcAdxHnEecR7gnBK3BwAguzZu3Ki+vj6NHTs2dp1hGPL7/Xr00UdVWVk55DHRg3amzjjjjNj/PR6PJNm6+s+oUaNi/Tqc2Pbw4cNNnzf63PGui27rvffe01/91V/pjjvu0Jo1azRy5Ejt2rVLS5YsUW9vr8rKyiyN5d/+7d/U3NysHTt26Pzzz49df+LECdXX1+v+++8f8pgxY8bowIEDlp5fko4eParhw4fb9vsHAADOIs4jzrOKOA9IHRVoQBHp6+vTD37wAz388MPav39/7OeNN97Q2LFj9aMf/Sju4y699NKEy2tHG7K2tbXFrjt16pR+9atf6ZJLLrE8tk9/+tMDnkOKNLRN5TmmTp2q3/72t5bvb+e2rXrttdcUDof18MMP66qrrtKnPvWplFfH2rNnj77yla/oiSeeGNBIV5KmTZumt956SxMmTNDkyZMH/AwfPlwXXXSRzjjjjAG9Oo4dO6b//d//HbKd9vZ2TZ06Nb0XCgAAsoo4z7ltW0WcBxQ2KtCAIvLTn/5Ux44d05IlS4acgVywYIE2btyopUuXDnncfffdp5qaGi1btkxLly7VsGHDtH37di1atEijRo3SHXfcoXvuuUcjR47U+PHj9cADD6i7uzulZcbvuece3XTTTZo6darmzJmj1tZW/cd//IdeeOEFy88xd+5c3XfffTp27JhGjBiR1W1bNXnyZJ06dUqPPPKI6uvr1dbWpscff9zy4z/44APNnz9ff/M3f6O5c+fqgw8+kBRZTamqqkrLly/Xv/zLv+jmm2/Wvffeq5EjR+rAgQN65pln9L3vfU/l5eVasmSJ7rnnHp1zzjkaPXq0vvnNbw6YihC1c+dOXXvttba9dgAA4BziPOe2bRVxHlDYqEADisjGjRs1Z86cuOX7CxYs0Kuvvqrf/OY3Q2771Kc+pV/84hd64403dOWVV6q2tlbbtm1TSUkkB//P//zPWrBggW655RZNmzZNBw4c0H//93+nFNzccMMN+u53v6uHHnpIn/nMZ/TEE0/oqaee0qxZsyw/R01NjaZNm6Znn33W8mPs2rZVl112mdatW6f7779f1dXV+uEPf6i1a9dafnxHR4cOHz6sp59+WmPGjIn9XHHFFZKksWPHqq2tTaFQSNdee61qamp011136eyzz44FTw8++KA+97nPqb6+XnPmzNHVV189ZFWrzs5O7d69W7feeqt9Lx4AADiGOM+5bVtFnAcUNo9hmKxpDAB55vnnn9c999yj9vb2uGfbYM3Xv/51HTt2TE8++aTbQwEAAJBEnGcX4jwgPUzhBFBQrr/+ev3+979XZ2enxo0b5/Zw8tbo0aO1YsUKt4cBAAAQQ5xnD+I8ID1UoAEAAAAAAAAmqHsFAAAAAAAATJBAAwAAAAAAAEyQQAMAAAAAAABMkEADAAAAAAAATJBAAwAAAAAAAEyQQAMAAAAAAABMkEADAAAAAAAATJBAAwAAAAAAAEyQQAMAAAAAAABM/H81SwlIJmONuQAAAABJRU5ErkJggg==\n"
                },
                "metadata": {}
              }
            ]
          }
        },
        "26d80b70a86e45289554b259df1c7f4a": {
          "model_module": "@jupyter-widgets/base",
          "model_name": "LayoutModel",
          "model_module_version": "1.2.0",
          "state": {
            "_model_module": "@jupyter-widgets/base",
            "_model_module_version": "1.2.0",
            "_model_name": "LayoutModel",
            "_view_count": null,
            "_view_module": "@jupyter-widgets/base",
            "_view_module_version": "1.2.0",
            "_view_name": "LayoutView",
            "align_content": null,
            "align_items": null,
            "align_self": null,
            "border": null,
            "bottom": null,
            "display": null,
            "flex": null,
            "flex_flow": null,
            "grid_area": null,
            "grid_auto_columns": null,
            "grid_auto_flow": null,
            "grid_auto_rows": null,
            "grid_column": null,
            "grid_gap": null,
            "grid_row": null,
            "grid_template_areas": null,
            "grid_template_columns": null,
            "grid_template_rows": null,
            "height": null,
            "justify_content": null,
            "justify_items": null,
            "left": null,
            "margin": null,
            "max_height": null,
            "max_width": null,
            "min_height": null,
            "min_width": null,
            "object_fit": null,
            "object_position": null,
            "order": null,
            "overflow": null,
            "overflow_x": null,
            "overflow_y": null,
            "padding": null,
            "right": null,
            "top": null,
            "visibility": null,
            "width": null
          }
        },
        "83d5da08c4c1430bb11bff901e817d6a": {
          "model_module": "@jupyter-widgets/controls",
          "model_name": "CheckboxModel",
          "model_module_version": "1.5.0",
          "state": {
            "_dom_classes": [],
            "_model_module": "@jupyter-widgets/controls",
            "_model_module_version": "1.5.0",
            "_model_name": "CheckboxModel",
            "_view_count": null,
            "_view_module": "@jupyter-widgets/controls",
            "_view_module_version": "1.5.0",
            "_view_name": "CheckboxView",
            "description": "Show Plot",
            "description_tooltip": null,
            "disabled": false,
            "indent": true,
            "layout": "IPY_MODEL_27bae79cb23742e290e933082352c27c",
            "style": "IPY_MODEL_813ddba40991441e912e3bc5b3f0f21a",
            "value": true
          }
        },
        "27bae79cb23742e290e933082352c27c": {
          "model_module": "@jupyter-widgets/base",
          "model_name": "LayoutModel",
          "model_module_version": "1.2.0",
          "state": {
            "_model_module": "@jupyter-widgets/base",
            "_model_module_version": "1.2.0",
            "_model_name": "LayoutModel",
            "_view_count": null,
            "_view_module": "@jupyter-widgets/base",
            "_view_module_version": "1.2.0",
            "_view_name": "LayoutView",
            "align_content": null,
            "align_items": null,
            "align_self": null,
            "border": null,
            "bottom": null,
            "display": null,
            "flex": null,
            "flex_flow": null,
            "grid_area": null,
            "grid_auto_columns": null,
            "grid_auto_flow": null,
            "grid_auto_rows": null,
            "grid_column": null,
            "grid_gap": null,
            "grid_row": null,
            "grid_template_areas": null,
            "grid_template_columns": null,
            "grid_template_rows": null,
            "height": null,
            "justify_content": null,
            "justify_items": null,
            "left": null,
            "margin": null,
            "max_height": null,
            "max_width": null,
            "min_height": null,
            "min_width": null,
            "object_fit": null,
            "object_position": null,
            "order": null,
            "overflow": null,
            "overflow_x": null,
            "overflow_y": null,
            "padding": null,
            "right": null,
            "top": null,
            "visibility": null,
            "width": null
          }
        },
        "813ddba40991441e912e3bc5b3f0f21a": {
          "model_module": "@jupyter-widgets/controls",
          "model_name": "DescriptionStyleModel",
          "model_module_version": "1.5.0",
          "state": {
            "_model_module": "@jupyter-widgets/controls",
            "_model_module_version": "1.5.0",
            "_model_name": "DescriptionStyleModel",
            "_view_count": null,
            "_view_module": "@jupyter-widgets/base",
            "_view_module_version": "1.2.0",
            "_view_name": "StyleView",
            "description_width": ""
          }
        },
        "55815b5e886047d08b93e5240cef7ee9": {
          "model_module": "@jupyter-widgets/controls",
          "model_name": "IntSliderModel",
          "model_module_version": "1.5.0",
          "state": {
            "_dom_classes": [],
            "_model_module": "@jupyter-widgets/controls",
            "_model_module_version": "1.5.0",
            "_model_name": "IntSliderModel",
            "_view_count": null,
            "_view_module": "@jupyter-widgets/controls",
            "_view_module_version": "1.5.0",
            "_view_name": "IntSliderView",
            "continuous_update": true,
            "description": "Degree",
            "description_tooltip": null,
            "disabled": false,
            "layout": "IPY_MODEL_48c33ca097b3450c8de539ea46184eba",
            "max": 10,
            "min": 1,
            "orientation": "horizontal",
            "readout": true,
            "readout_format": "d",
            "step": 0,
            "style": "IPY_MODEL_62e5c8ca2df34bb5a7936e493a9957d7",
            "value": 1
          }
        },
        "48c33ca097b3450c8de539ea46184eba": {
          "model_module": "@jupyter-widgets/base",
          "model_name": "LayoutModel",
          "model_module_version": "1.2.0",
          "state": {
            "_model_module": "@jupyter-widgets/base",
            "_model_module_version": "1.2.0",
            "_model_name": "LayoutModel",
            "_view_count": null,
            "_view_module": "@jupyter-widgets/base",
            "_view_module_version": "1.2.0",
            "_view_name": "LayoutView",
            "align_content": null,
            "align_items": null,
            "align_self": null,
            "border": null,
            "bottom": null,
            "display": null,
            "flex": null,
            "flex_flow": null,
            "grid_area": null,
            "grid_auto_columns": null,
            "grid_auto_flow": null,
            "grid_auto_rows": null,
            "grid_column": null,
            "grid_gap": null,
            "grid_row": null,
            "grid_template_areas": null,
            "grid_template_columns": null,
            "grid_template_rows": null,
            "height": null,
            "justify_content": null,
            "justify_items": null,
            "left": null,
            "margin": null,
            "max_height": null,
            "max_width": null,
            "min_height": null,
            "min_width": null,
            "object_fit": null,
            "object_position": null,
            "order": null,
            "overflow": null,
            "overflow_x": null,
            "overflow_y": null,
            "padding": null,
            "right": null,
            "top": null,
            "visibility": null,
            "width": null
          }
        },
        "62e5c8ca2df34bb5a7936e493a9957d7": {
          "model_module": "@jupyter-widgets/controls",
          "model_name": "SliderStyleModel",
          "model_module_version": "1.5.0",
          "state": {
            "_model_module": "@jupyter-widgets/controls",
            "_model_module_version": "1.5.0",
            "_model_name": "SliderStyleModel",
            "_view_count": null,
            "_view_module": "@jupyter-widgets/base",
            "_view_module_version": "1.2.0",
            "_view_name": "StyleView",
            "description_width": "",
            "handle_color": null
          }
        },
        "b16bac0c11c94608afc6236e02eddfb9": {
          "model_module": "@jupyter-widgets/output",
          "model_name": "OutputModel",
          "model_module_version": "1.0.0",
          "state": {
            "_dom_classes": [],
            "_model_module": "@jupyter-widgets/output",
            "_model_module_version": "1.0.0",
            "_model_name": "OutputModel",
            "_view_count": null,
            "_view_module": "@jupyter-widgets/output",
            "_view_module_version": "1.0.0",
            "_view_name": "OutputView",
            "layout": "IPY_MODEL_f8ba02fe47a44bbbafed7b2f5cd9636b",
            "msg_id": "",
            "outputs": [
              {
                "output_type": "display_data",
                "data": {
                  "text/plain": "<Figure size 1500x600 with 2 Axes>",
                  "image/png": "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\n"
                },
                "metadata": {}
              }
            ]
          }
        },
        "f8ba02fe47a44bbbafed7b2f5cd9636b": {
          "model_module": "@jupyter-widgets/base",
          "model_name": "LayoutModel",
          "model_module_version": "1.2.0",
          "state": {
            "_model_module": "@jupyter-widgets/base",
            "_model_module_version": "1.2.0",
            "_model_name": "LayoutModel",
            "_view_count": null,
            "_view_module": "@jupyter-widgets/base",
            "_view_module_version": "1.2.0",
            "_view_name": "LayoutView",
            "align_content": null,
            "align_items": null,
            "align_self": null,
            "border": null,
            "bottom": null,
            "display": null,
            "flex": null,
            "flex_flow": null,
            "grid_area": null,
            "grid_auto_columns": null,
            "grid_auto_flow": null,
            "grid_auto_rows": null,
            "grid_column": null,
            "grid_gap": null,
            "grid_row": null,
            "grid_template_areas": null,
            "grid_template_columns": null,
            "grid_template_rows": null,
            "height": null,
            "justify_content": null,
            "justify_items": null,
            "left": null,
            "margin": null,
            "max_height": null,
            "max_width": null,
            "min_height": null,
            "min_width": null,
            "object_fit": null,
            "object_position": null,
            "order": null,
            "overflow": null,
            "overflow_x": null,
            "overflow_y": null,
            "padding": null,
            "right": null,
            "top": null,
            "visibility": null,
            "width": null
          }
        },
        "b4a61c634472464eb59bc68df4b50ff3": {
          "model_module": "@jupyter-widgets/controls",
          "model_name": "CheckboxModel",
          "model_module_version": "1.5.0",
          "state": {
            "_dom_classes": [],
            "_model_module": "@jupyter-widgets/controls",
            "_model_module_version": "1.5.0",
            "_model_name": "CheckboxModel",
            "_view_count": null,
            "_view_module": "@jupyter-widgets/controls",
            "_view_module_version": "1.5.0",
            "_view_name": "CheckboxView",
            "description": "Show Plot",
            "description_tooltip": null,
            "disabled": false,
            "indent": true,
            "layout": "IPY_MODEL_12a8dac914564895987aa2c911b0da68",
            "style": "IPY_MODEL_5d0be183364a452e9114b0497b2eb25a",
            "value": false
          }
        },
        "12a8dac914564895987aa2c911b0da68": {
          "model_module": "@jupyter-widgets/base",
          "model_name": "LayoutModel",
          "model_module_version": "1.2.0",
          "state": {
            "_model_module": "@jupyter-widgets/base",
            "_model_module_version": "1.2.0",
            "_model_name": "LayoutModel",
            "_view_count": null,
            "_view_module": "@jupyter-widgets/base",
            "_view_module_version": "1.2.0",
            "_view_name": "LayoutView",
            "align_content": null,
            "align_items": null,
            "align_self": null,
            "border": null,
            "bottom": null,
            "display": null,
            "flex": null,
            "flex_flow": null,
            "grid_area": null,
            "grid_auto_columns": null,
            "grid_auto_flow": null,
            "grid_auto_rows": null,
            "grid_column": null,
            "grid_gap": null,
            "grid_row": null,
            "grid_template_areas": null,
            "grid_template_columns": null,
            "grid_template_rows": null,
            "height": null,
            "justify_content": null,
            "justify_items": null,
            "left": null,
            "margin": null,
            "max_height": null,
            "max_width": null,
            "min_height": null,
            "min_width": null,
            "object_fit": null,
            "object_position": null,
            "order": null,
            "overflow": null,
            "overflow_x": null,
            "overflow_y": null,
            "padding": null,
            "right": null,
            "top": null,
            "visibility": null,
            "width": null
          }
        },
        "5d0be183364a452e9114b0497b2eb25a": {
          "model_module": "@jupyter-widgets/controls",
          "model_name": "DescriptionStyleModel",
          "model_module_version": "1.5.0",
          "state": {
            "_model_module": "@jupyter-widgets/controls",
            "_model_module_version": "1.5.0",
            "_model_name": "DescriptionStyleModel",
            "_view_count": null,
            "_view_module": "@jupyter-widgets/base",
            "_view_module_version": "1.2.0",
            "_view_name": "StyleView",
            "description_width": ""
          }
        },
        "38d683b658344863b71eaef522394b56": {
          "model_module": "@jupyter-widgets/output",
          "model_name": "OutputModel",
          "model_module_version": "1.0.0",
          "state": {
            "_dom_classes": [],
            "_model_module": "@jupyter-widgets/output",
            "_model_module_version": "1.0.0",
            "_model_name": "OutputModel",
            "_view_count": null,
            "_view_module": "@jupyter-widgets/output",
            "_view_module_version": "1.0.0",
            "_view_name": "OutputView",
            "layout": "IPY_MODEL_027caed7c9864d43906ec5578a21e583",
            "msg_id": "",
            "outputs": []
          }
        },
        "027caed7c9864d43906ec5578a21e583": {
          "model_module": "@jupyter-widgets/base",
          "model_name": "LayoutModel",
          "model_module_version": "1.2.0",
          "state": {
            "_model_module": "@jupyter-widgets/base",
            "_model_module_version": "1.2.0",
            "_model_name": "LayoutModel",
            "_view_count": null,
            "_view_module": "@jupyter-widgets/base",
            "_view_module_version": "1.2.0",
            "_view_name": "LayoutView",
            "align_content": null,
            "align_items": null,
            "align_self": null,
            "border": null,
            "bottom": null,
            "display": null,
            "flex": null,
            "flex_flow": null,
            "grid_area": null,
            "grid_auto_columns": null,
            "grid_auto_flow": null,
            "grid_auto_rows": null,
            "grid_column": null,
            "grid_gap": null,
            "grid_row": null,
            "grid_template_areas": null,
            "grid_template_columns": null,
            "grid_template_rows": null,
            "height": null,
            "justify_content": null,
            "justify_items": null,
            "left": null,
            "margin": null,
            "max_height": null,
            "max_width": null,
            "min_height": null,
            "min_width": null,
            "object_fit": null,
            "object_position": null,
            "order": null,
            "overflow": null,
            "overflow_x": null,
            "overflow_y": null,
            "padding": null,
            "right": null,
            "top": null,
            "visibility": null,
            "width": null
          }
        }
      }
    }
  },
  "nbformat": 4,
  "nbformat_minor": 0
}